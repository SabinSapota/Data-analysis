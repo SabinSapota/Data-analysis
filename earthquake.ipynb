{
 "cells": [
  {
   "cell_type": "markdown",
   "id": "ee38dd04",
   "metadata": {},
   "source": [
    "# US Geological Survey"
   ]
  },
  {
   "cell_type": "markdown",
   "id": "7d1388d5",
   "metadata": {},
   "source": [
    "Here, motto of my analysis is to find following question ?\n",
    "1)I want to see occurance of the earthquake by timeframe.\n",
    "2)Similarly, cause of earthquake,maximum magnitude and its total count\n",
    "3)count the range of the earthquake for example how many times does magnitude greater than 9 occurs\n",
    "4)I want to analyse by country wise\n",
    "5) maximum occurance of the earthquake in time scale\n"
   ]
  },
  {
   "cell_type": "code",
   "execution_count": 251,
   "id": "6cebb88c",
   "metadata": {},
   "outputs": [],
   "source": [
    "#import necessary library\n",
    "import pandas as pd\n",
    "import plotly.express as px\n",
    "import numpy as np\n",
    "import matplotlib.pyplot as plt\n",
    "%matplotlib inline\n",
    "from simple_colors import*"
   ]
  },
  {
   "cell_type": "code",
   "execution_count": 252,
   "id": "293eeffa",
   "metadata": {},
   "outputs": [
    {
     "data": {
      "text/html": [
       "<div>\n",
       "<style scoped>\n",
       "    .dataframe tbody tr th:only-of-type {\n",
       "        vertical-align: middle;\n",
       "    }\n",
       "\n",
       "    .dataframe tbody tr th {\n",
       "        vertical-align: top;\n",
       "    }\n",
       "\n",
       "    .dataframe thead th {\n",
       "        text-align: right;\n",
       "    }\n",
       "</style>\n",
       "<table border=\"1\" class=\"dataframe\">\n",
       "  <thead>\n",
       "    <tr style=\"text-align: right;\">\n",
       "      <th></th>\n",
       "      <th>earthquake_id</th>\n",
       "      <th>occurred_on</th>\n",
       "      <th>latitude</th>\n",
       "      <th>longitude</th>\n",
       "      <th>depth</th>\n",
       "      <th>magnitude</th>\n",
       "      <th>calculation_method</th>\n",
       "      <th>network_id</th>\n",
       "      <th>place</th>\n",
       "      <th>cause</th>\n",
       "    </tr>\n",
       "  </thead>\n",
       "  <tbody>\n",
       "    <tr>\n",
       "      <th>0</th>\n",
       "      <td>1</td>\n",
       "      <td>1969-01-01 9:07:06</td>\n",
       "      <td>51.096</td>\n",
       "      <td>-179.392</td>\n",
       "      <td>45.0</td>\n",
       "      <td>5.6</td>\n",
       "      <td>mw</td>\n",
       "      <td>iscgem812771</td>\n",
       "      <td>Andreanof Islands, Aleutian Islands, Alaska</td>\n",
       "      <td>earthquake</td>\n",
       "    </tr>\n",
       "    <tr>\n",
       "      <th>1</th>\n",
       "      <td>2</td>\n",
       "      <td>1969-01-02 17:50:48</td>\n",
       "      <td>-56.096</td>\n",
       "      <td>-27.842</td>\n",
       "      <td>80.1</td>\n",
       "      <td>6.0</td>\n",
       "      <td>mw</td>\n",
       "      <td>iscgemsup812819</td>\n",
       "      <td>South Sandwich Islands region</td>\n",
       "      <td>earthquake</td>\n",
       "    </tr>\n",
       "    <tr>\n",
       "      <th>2</th>\n",
       "      <td>3</td>\n",
       "      <td>1969-01-03 3:16:40</td>\n",
       "      <td>37.140</td>\n",
       "      <td>57.899</td>\n",
       "      <td>10.0</td>\n",
       "      <td>5.5</td>\n",
       "      <td>mw</td>\n",
       "      <td>iscgem812826</td>\n",
       "      <td>Turkmenistan-Iran border region</td>\n",
       "      <td>earthquake</td>\n",
       "    </tr>\n",
       "    <tr>\n",
       "      <th>3</th>\n",
       "      <td>4</td>\n",
       "      <td>1969-01-03 13:28:12</td>\n",
       "      <td>51.132</td>\n",
       "      <td>-179.306</td>\n",
       "      <td>15.0</td>\n",
       "      <td>5.9</td>\n",
       "      <td>mw</td>\n",
       "      <td>iscgem812841</td>\n",
       "      <td>Andreanof Islands, Aleutian Islands, Alaska</td>\n",
       "      <td>earthquake</td>\n",
       "    </tr>\n",
       "    <tr>\n",
       "      <th>4</th>\n",
       "      <td>5</td>\n",
       "      <td>1969-01-04 22:36:48</td>\n",
       "      <td>-6.850</td>\n",
       "      <td>129.821</td>\n",
       "      <td>105.0</td>\n",
       "      <td>5.8</td>\n",
       "      <td>mw</td>\n",
       "      <td>iscgem812879</td>\n",
       "      <td>Banda Sea</td>\n",
       "      <td>earthquake</td>\n",
       "    </tr>\n",
       "  </tbody>\n",
       "</table>\n",
       "</div>"
      ],
      "text/plain": [
       "   earthquake_id          occurred_on  latitude  longitude  depth  magnitude  \\\n",
       "0              1   1969-01-01 9:07:06    51.096   -179.392   45.0        5.6   \n",
       "1              2  1969-01-02 17:50:48   -56.096    -27.842   80.1        6.0   \n",
       "2              3   1969-01-03 3:16:40    37.140     57.899   10.0        5.5   \n",
       "3              4  1969-01-03 13:28:12    51.132   -179.306   15.0        5.9   \n",
       "4              5  1969-01-04 22:36:48    -6.850    129.821  105.0        5.8   \n",
       "\n",
       "  calculation_method       network_id  \\\n",
       "0                 mw     iscgem812771   \n",
       "1                 mw  iscgemsup812819   \n",
       "2                 mw     iscgem812826   \n",
       "3                 mw     iscgem812841   \n",
       "4                 mw     iscgem812879   \n",
       "\n",
       "                                         place       cause  \n",
       "0  Andreanof Islands, Aleutian Islands, Alaska  earthquake  \n",
       "1                South Sandwich Islands region  earthquake  \n",
       "2              Turkmenistan-Iran border region  earthquake  \n",
       "3  Andreanof Islands, Aleutian Islands, Alaska  earthquake  \n",
       "4                                    Banda Sea  earthquake  "
      ]
     },
     "execution_count": 252,
     "metadata": {},
     "output_type": "execute_result"
    }
   ],
   "source": [
    "df=pd.read_csv('earthquake1.csv')\n",
    "df.head()"
   ]
  },
  {
   "cell_type": "code",
   "execution_count": 253,
   "id": "ef4cebed",
   "metadata": {},
   "outputs": [
    {
     "data": {
      "text/plain": [
       "(23119, 10)"
      ]
     },
     "execution_count": 253,
     "metadata": {},
     "output_type": "execute_result"
    }
   ],
   "source": [
    "#shape of the data frame\n",
    "df.shape"
   ]
  },
  {
   "cell_type": "code",
   "execution_count": 254,
   "id": "bb095504",
   "metadata": {},
   "outputs": [
    {
     "data": {
      "text/plain": [
       "[]"
      ]
     },
     "execution_count": 254,
     "metadata": {},
     "output_type": "execute_result"
    }
   ],
   "source": [
    "#missing columns\n",
    "[col for col in df.columns if df[col].isnull().any()]"
   ]
  },
  {
   "cell_type": "code",
   "execution_count": 255,
   "id": "99ec4ca4",
   "metadata": {},
   "outputs": [
    {
     "data": {
      "text/plain": [
       "earthquake_id         23119\n",
       "occurred_on           23110\n",
       "latitude              20614\n",
       "longitude             21327\n",
       "depth                  3606\n",
       "magnitude                58\n",
       "calculation_method       11\n",
       "network_id            23119\n",
       "place                  2979\n",
       "cause                     3\n",
       "dtype: int64"
      ]
     },
     "execution_count": 255,
     "metadata": {},
     "output_type": "execute_result"
    }
   ],
   "source": [
    "# unique faeture in eaach columns\n",
    "df.apply(lambda x:len(x.unique()))"
   ]
  },
  {
   "cell_type": "code",
   "execution_count": null,
   "id": "87650d21",
   "metadata": {},
   "outputs": [],
   "source": []
  },
  {
   "cell_type": "code",
   "execution_count": 256,
   "id": "c6ef0fd6",
   "metadata": {},
   "outputs": [
    {
     "data": {
      "text/plain": [
       "earthquake_id           int64\n",
       "occurred_on            object\n",
       "latitude              float64\n",
       "longitude             float64\n",
       "depth                 float64\n",
       "magnitude             float64\n",
       "calculation_method     object\n",
       "network_id             object\n",
       "place                  object\n",
       "cause                  object\n",
       "dtype: object"
      ]
     },
     "execution_count": 256,
     "metadata": {},
     "output_type": "execute_result"
    }
   ],
   "source": [
    "#data types check\n",
    "df.dtypes"
   ]
  },
  {
   "cell_type": "code",
   "execution_count": 257,
   "id": "b82a54b7",
   "metadata": {},
   "outputs": [],
   "source": [
    "#lets converts occurred_on to date time format\n",
    "\n",
    "df['occurred_on']=pd.to_datetime(df.occurred_on,format='%Y-%m-%d %H:%M:%S')"
   ]
  },
  {
   "cell_type": "code",
   "execution_count": 258,
   "id": "3a0edc28",
   "metadata": {},
   "outputs": [
    {
     "data": {
      "text/plain": [
       "earthquake_id                  int64\n",
       "occurred_on           datetime64[ns]\n",
       "latitude                     float64\n",
       "longitude                    float64\n",
       "depth                        float64\n",
       "magnitude                    float64\n",
       "calculation_method            object\n",
       "network_id                    object\n",
       "place                         object\n",
       "cause                         object\n",
       "dtype: object"
      ]
     },
     "execution_count": 258,
     "metadata": {},
     "output_type": "execute_result"
    }
   ],
   "source": [
    "df.dtypes"
   ]
  },
  {
   "cell_type": "code",
   "execution_count": 259,
   "id": "25bd11c0",
   "metadata": {},
   "outputs": [],
   "source": [
    "df['year']=df.occurred_on.dt.year"
   ]
  },
  {
   "cell_type": "code",
   "execution_count": 260,
   "id": "5e55822d",
   "metadata": {},
   "outputs": [
    {
     "data": {
      "text/plain": [
       "Index(['earthquake_id', 'occurred_on', 'latitude', 'longitude', 'depth',\n",
       "       'magnitude', 'calculation_method', 'network_id', 'place', 'cause',\n",
       "       'year'],\n",
       "      dtype='object')"
      ]
     },
     "execution_count": 260,
     "metadata": {},
     "output_type": "execute_result"
    }
   ],
   "source": [
    "df.columns"
   ]
  },
  {
   "cell_type": "markdown",
   "id": "910389d9",
   "metadata": {},
   "source": [
    "# Total occurance of earthquake in Timeframe"
   ]
  },
  {
   "cell_type": "code",
   "execution_count": 261,
   "id": "55c69ae4",
   "metadata": {},
   "outputs": [
    {
     "data": {
      "image/png": "[encoded data removed]",
      "text/plain": [
       "<Figure size 1080x504 with 1 Axes>"
      ]
     },
     "metadata": {
      "needs_background": "light"
     },
     "output_type": "display_data"
    }
   ],
   "source": [
    "df_count=df.year.value_counts().reset_index()\n",
    "df_count.columns=['year','count']\n",
    "\n",
    "df_count=df_count.sort_values(by='year')\n",
    "df_count.columns=['Year','Total_num']\n",
    "plt.figure(figsize=(15,7))\n",
    "plt.plot(df_count.Year,df_count.Total_num,marker='o',markerfacecolor='black',markeredgecolor='black',lw=1,c='black')\n",
    "for x,y in zip(df_count.Year,df_count.Total_num):\n",
    "\n",
    "    label = \"{}\".format(y)\n",
    "\n",
    "    plt.annotate(label, # this is the text\n",
    "                 (x,y), # these are the coordinates to position the label\n",
    "                 textcoords=\"offset points\", # how to position the text\n",
    "                 xytext=(0,5),# distance from text to points (x,y)\n",
    "                 fontweight='bold',\n",
    "                 color='maroon',\n",
    "                 size=12,\n",
    "                 ha='right') # horizontal alignment can be left, right or center\n",
    "plt.title('Occurance of the earthquake in timescale',fontsize=15,fontweight='bold')\n",
    "plt.xlabel('Year',fontweight='bold')\n",
    "plt.ylabel('Total occurance of earthquake',fontweight='bold');"
   ]
  },
  {
   "cell_type": "markdown",
   "id": "4e3f4c53",
   "metadata": {},
   "source": [
    "So, from above figure we can conclude that in 2011,there was maximum(713) occurance of earthquake.also,nowdays, the occurance\n",
    "of earthquake id reduced."
   ]
  },
  {
   "cell_type": "markdown",
   "id": "a5adf03c",
   "metadata": {},
   "source": [
    "# Total occurance by cause and its magitude and its count"
   ]
  },
  {
   "cell_type": "code",
   "execution_count": 262,
   "id": "532a2308",
   "metadata": {},
   "outputs": [
    {
     "data": {
      "text/plain": [
       "array(['earthquake', 'nuclear explosion', 'explosion'], dtype=object)"
      ]
     },
     "execution_count": 262,
     "metadata": {},
     "output_type": "execute_result"
    }
   ],
   "source": [
    "#Now, lets see columns cause\n",
    "df.cause.unique()\n"
   ]
  },
  {
   "cell_type": "markdown",
   "id": "7a3e0568",
   "metadata": {},
   "source": [
    "So, there are three cause of the earthquake.\n",
    "I would like  to know \n",
    "how many earthquake were caused by earthquake,explosion and nuclear explosion along with their maximum magnitude"
   ]
  },
  {
   "cell_type": "code",
   "execution_count": 263,
   "id": "9bce79ac",
   "metadata": {},
   "outputs": [
    {
     "data": {
      "text/html": [
       "<div>\n",
       "<style scoped>\n",
       "    .dataframe tbody tr th:only-of-type {\n",
       "        vertical-align: middle;\n",
       "    }\n",
       "\n",
       "    .dataframe tbody tr th {\n",
       "        vertical-align: top;\n",
       "    }\n",
       "\n",
       "    .dataframe thead th {\n",
       "        text-align: right;\n",
       "    }\n",
       "</style>\n",
       "<table border=\"1\" class=\"dataframe\">\n",
       "  <thead>\n",
       "    <tr style=\"text-align: right;\">\n",
       "      <th></th>\n",
       "      <th>cause</th>\n",
       "      <th>maximum_magnitude</th>\n",
       "      <th>total_count</th>\n",
       "    </tr>\n",
       "  </thead>\n",
       "  <tbody>\n",
       "    <tr>\n",
       "      <th>0</th>\n",
       "      <td>earthquake</td>\n",
       "      <td>9.1</td>\n",
       "      <td>22942</td>\n",
       "    </tr>\n",
       "    <tr>\n",
       "      <th>1</th>\n",
       "      <td>nuclear explosion</td>\n",
       "      <td>6.9</td>\n",
       "      <td>173</td>\n",
       "    </tr>\n",
       "    <tr>\n",
       "      <th>2</th>\n",
       "      <td>explosion</td>\n",
       "      <td>6.4</td>\n",
       "      <td>4</td>\n",
       "    </tr>\n",
       "  </tbody>\n",
       "</table>\n",
       "</div>"
      ],
      "text/plain": [
       "               cause  maximum_magnitude  total_count\n",
       "0         earthquake                9.1        22942\n",
       "1  nuclear explosion                6.9          173\n",
       "2          explosion                6.4            4"
      ]
     },
     "execution_count": 263,
     "metadata": {},
     "output_type": "execute_result"
    }
   ],
   "source": [
    "df2=df.groupby('cause').agg(maximum_magnitude=('magnitude','max'),total_count=('magnitude','count'))\n",
    "df2=df2.sort_values(by='maximum_magnitude',ascending=False).reset_index()\n",
    "df2"
   ]
  },
  {
   "cell_type": "markdown",
   "id": "1224df82",
   "metadata": {},
   "source": []
  },
  {
   "cell_type": "code",
   "execution_count": 264,
   "id": "142bb0ff",
   "metadata": {},
   "outputs": [
    {
     "data": {
      "image/png": "[encoded data removed]",
      "text/plain": [
       "<Figure size 1080x720 with 1 Axes>"
      ]
     },
     "metadata": {},
     "output_type": "display_data"
    }
   ],
   "source": [
    "plt.figure(figsize=(15,10))\n",
    "my_circle = plt.Circle( (0,0), 0.5, color='white')\n",
    "plt.pie(df2.total_count, labels=df2.total_count,wedgeprops = { 'linewidth' : 3, 'edgecolor' : 'white' })\n",
    "p = plt.gcf()\n",
    "p.gca().add_artist(my_circle)\n",
    "plt.legend(df2.cause,\n",
    "          title=\"Total caount by cause\",\n",
    "          loc=\"center left\",\n",
    "         \n",
    "          bbox_to_anchor=(1, 0, 0.5, 1))\n",
    "plt.title('Total earthquake count by causes ',fontsize=15,fontweight='bold');\n",
    "\n"
   ]
  },
  {
   "cell_type": "markdown",
   "id": "14775dda",
   "metadata": {},
   "source": [
    "So, there were 22942  real earthquakes having maximum magnitude 9.1rc,\n",
    "similarly,173 earthquake were by nuclear explosion  having maximum magnitde 6.9rc,\n",
    "and finally, 4 earthquake were caused bo other explosion having  maximum magnitude 6.4 rc."
   ]
  },
  {
   "cell_type": "markdown",
   "id": "6d20fe30",
   "metadata": {},
   "source": [
    "# Top 15 places of occrance of earthquake by magnitude"
   ]
  },
  {
   "cell_type": "code",
   "execution_count": 241,
   "id": "16b4a7ff",
   "metadata": {},
   "outputs": [
    {
     "data": {
      "text/plain": [
       "0        Andreanof Islands, Aleutian Islands, Alaska\n",
       "1                      South Sandwich Islands region\n",
       "2                    Turkmenistan-Iran border region\n",
       "3        Andreanof Islands, Aleutian Islands, Alaska\n",
       "4                                          Banda Sea\n",
       "                            ...                     \n",
       "23114                       149km S of Hihifo, Tonga\n",
       "23115                 64km S of Manokwari, Indonesia\n",
       "23116           96km ESE of Pondaguitan, Philippines\n",
       "23117             89km NW of Lubuklinggau, Indonesia\n",
       "23118                   114km SE of Cold Bay, Alaska\n",
       "Name: place, Length: 23119, dtype: object"
      ]
     },
     "execution_count": 241,
     "metadata": {},
     "output_type": "execute_result"
    }
   ],
   "source": [
    "df.place"
   ]
  },
  {
   "cell_type": "code",
   "execution_count": 242,
   "id": "bbf53edf",
   "metadata": {},
   "outputs": [],
   "source": [
    "#extracting last items only\n",
    "df.place=df.place.apply(lambda x:x.split(',')[-1])"
   ]
  },
  {
   "cell_type": "code",
   "execution_count": null,
   "id": "5df9298a",
   "metadata": {},
   "outputs": [],
   "source": []
  },
  {
   "cell_type": "code",
   "execution_count": 243,
   "id": "4c87cbf5",
   "metadata": {},
   "outputs": [
    {
     "data": {
      "text/html": [
       "<div>\n",
       "<style scoped>\n",
       "    .dataframe tbody tr th:only-of-type {\n",
       "        vertical-align: middle;\n",
       "    }\n",
       "\n",
       "    .dataframe tbody tr th {\n",
       "        vertical-align: top;\n",
       "    }\n",
       "\n",
       "    .dataframe thead th {\n",
       "        text-align: right;\n",
       "    }\n",
       "</style>\n",
       "<table border=\"1\" class=\"dataframe\">\n",
       "  <thead>\n",
       "    <tr style=\"text-align: right;\">\n",
       "      <th></th>\n",
       "      <th>earthquake_id</th>\n",
       "      <th>occurred_on</th>\n",
       "      <th>latitude</th>\n",
       "      <th>longitude</th>\n",
       "      <th>depth</th>\n",
       "      <th>magnitude</th>\n",
       "      <th>calculation_method</th>\n",
       "      <th>network_id</th>\n",
       "      <th>place</th>\n",
       "      <th>cause</th>\n",
       "      <th>year</th>\n",
       "    </tr>\n",
       "  </thead>\n",
       "  <tbody>\n",
       "    <tr>\n",
       "      <th>19327</th>\n",
       "      <td>19328</td>\n",
       "      <td>2011-03-11 05:46:24</td>\n",
       "      <td>38.2970</td>\n",
       "      <td>142.3730</td>\n",
       "      <td>29.00</td>\n",
       "      <td>9.1</td>\n",
       "      <td>mww</td>\n",
       "      <td>official20110311054624120_30</td>\n",
       "      <td>Japan</td>\n",
       "      <td>earthquake</td>\n",
       "      <td>2011</td>\n",
       "    </tr>\n",
       "    <tr>\n",
       "      <th>15908</th>\n",
       "      <td>15909</td>\n",
       "      <td>2004-12-26 00:58:53</td>\n",
       "      <td>3.2950</td>\n",
       "      <td>95.9820</td>\n",
       "      <td>30.00</td>\n",
       "      <td>9.1</td>\n",
       "      <td>mw</td>\n",
       "      <td>official20041226005853450_30</td>\n",
       "      <td>off the west coast of northern Sumatra</td>\n",
       "      <td>earthquake</td>\n",
       "      <td>2004</td>\n",
       "    </tr>\n",
       "    <tr>\n",
       "      <th>18755</th>\n",
       "      <td>18756</td>\n",
       "      <td>2010-02-27 06:34:12</td>\n",
       "      <td>-36.1220</td>\n",
       "      <td>-72.8980</td>\n",
       "      <td>22.90</td>\n",
       "      <td>8.8</td>\n",
       "      <td>mww</td>\n",
       "      <td>official20100227063411530_30</td>\n",
       "      <td>Chile</td>\n",
       "      <td>earthquake</td>\n",
       "      <td>2010</td>\n",
       "    </tr>\n",
       "    <tr>\n",
       "      <th>20043</th>\n",
       "      <td>20044</td>\n",
       "      <td>2012-04-11 08:38:37</td>\n",
       "      <td>2.3270</td>\n",
       "      <td>93.0630</td>\n",
       "      <td>20.00</td>\n",
       "      <td>8.6</td>\n",
       "      <td>mw</td>\n",
       "      <td>official20120411083836720_20</td>\n",
       "      <td>off the west coast of northern Sumatra</td>\n",
       "      <td>earthquake</td>\n",
       "      <td>2012</td>\n",
       "    </tr>\n",
       "    <tr>\n",
       "      <th>16153</th>\n",
       "      <td>16154</td>\n",
       "      <td>2005-03-28 16:09:37</td>\n",
       "      <td>2.0850</td>\n",
       "      <td>97.1080</td>\n",
       "      <td>30.00</td>\n",
       "      <td>8.6</td>\n",
       "      <td>mww</td>\n",
       "      <td>official20050328160936530_30</td>\n",
       "      <td>Indonesia</td>\n",
       "      <td>earthquake</td>\n",
       "      <td>2005</td>\n",
       "    </tr>\n",
       "    <tr>\n",
       "      <th>17439</th>\n",
       "      <td>17440</td>\n",
       "      <td>2007-09-12 11:10:27</td>\n",
       "      <td>-4.4380</td>\n",
       "      <td>101.3670</td>\n",
       "      <td>34.00</td>\n",
       "      <td>8.4</td>\n",
       "      <td>mww</td>\n",
       "      <td>official20070912111026830_34</td>\n",
       "      <td>Indonesia</td>\n",
       "      <td>earthquake</td>\n",
       "      <td>2007</td>\n",
       "    </tr>\n",
       "    <tr>\n",
       "      <th>14263</th>\n",
       "      <td>14264</td>\n",
       "      <td>2001-06-23 20:33:14</td>\n",
       "      <td>-16.2650</td>\n",
       "      <td>-73.6410</td>\n",
       "      <td>33.00</td>\n",
       "      <td>8.4</td>\n",
       "      <td>mww</td>\n",
       "      <td>official20010623203314130_33</td>\n",
       "      <td>near the coast of southern Peru</td>\n",
       "      <td>earthquake</td>\n",
       "      <td>2001</td>\n",
       "    </tr>\n",
       "    <tr>\n",
       "      <th>15272</th>\n",
       "      <td>15273</td>\n",
       "      <td>2003-09-25 19:50:06</td>\n",
       "      <td>41.8150</td>\n",
       "      <td>143.9100</td>\n",
       "      <td>27.00</td>\n",
       "      <td>8.3</td>\n",
       "      <td>mwc</td>\n",
       "      <td>usp000c8kv</td>\n",
       "      <td>Japan region</td>\n",
       "      <td>earthquake</td>\n",
       "      <td>2003</td>\n",
       "    </tr>\n",
       "    <tr>\n",
       "      <th>10949</th>\n",
       "      <td>10950</td>\n",
       "      <td>1994-10-04 13:22:56</td>\n",
       "      <td>43.7730</td>\n",
       "      <td>147.3210</td>\n",
       "      <td>14.00</td>\n",
       "      <td>8.3</td>\n",
       "      <td>mw</td>\n",
       "      <td>usp0006kdp</td>\n",
       "      <td>Kuril Islands</td>\n",
       "      <td>earthquake</td>\n",
       "      <td>1994</td>\n",
       "    </tr>\n",
       "    <tr>\n",
       "      <th>3284</th>\n",
       "      <td>3285</td>\n",
       "      <td>1977-08-19 06:08:55</td>\n",
       "      <td>-11.1640</td>\n",
       "      <td>118.3780</td>\n",
       "      <td>25.00</td>\n",
       "      <td>8.3</td>\n",
       "      <td>mw</td>\n",
       "      <td>iscgem694739</td>\n",
       "      <td>Indonesia</td>\n",
       "      <td>earthquake</td>\n",
       "      <td>1977</td>\n",
       "    </tr>\n",
       "    <tr>\n",
       "      <th>21615</th>\n",
       "      <td>21616</td>\n",
       "      <td>2015-09-16 22:54:33</td>\n",
       "      <td>-31.5729</td>\n",
       "      <td>-71.6744</td>\n",
       "      <td>22.44</td>\n",
       "      <td>8.3</td>\n",
       "      <td>mww</td>\n",
       "      <td>us20003k7a</td>\n",
       "      <td>Chile</td>\n",
       "      <td>earthquake</td>\n",
       "      <td>2015</td>\n",
       "    </tr>\n",
       "    <tr>\n",
       "      <th>20589</th>\n",
       "      <td>20590</td>\n",
       "      <td>2013-05-24 05:44:49</td>\n",
       "      <td>54.8920</td>\n",
       "      <td>153.2210</td>\n",
       "      <td>598.10</td>\n",
       "      <td>8.3</td>\n",
       "      <td>mww</td>\n",
       "      <td>usb000h4jh</td>\n",
       "      <td>Sea of Okhotsk</td>\n",
       "      <td>earthquake</td>\n",
       "      <td>2013</td>\n",
       "    </tr>\n",
       "    <tr>\n",
       "      <th>16935</th>\n",
       "      <td>16936</td>\n",
       "      <td>2006-11-15 11:14:14</td>\n",
       "      <td>46.5920</td>\n",
       "      <td>153.2660</td>\n",
       "      <td>10.00</td>\n",
       "      <td>8.3</td>\n",
       "      <td>mwc</td>\n",
       "      <td>usp000exfn</td>\n",
       "      <td>Kuril Islands</td>\n",
       "      <td>earthquake</td>\n",
       "      <td>2006</td>\n",
       "    </tr>\n",
       "    <tr>\n",
       "      <th>8326</th>\n",
       "      <td>8327</td>\n",
       "      <td>1989-05-23 10:54:46</td>\n",
       "      <td>-52.3410</td>\n",
       "      <td>160.5680</td>\n",
       "      <td>10.00</td>\n",
       "      <td>8.2</td>\n",
       "      <td>mw</td>\n",
       "      <td>usp0003vj7</td>\n",
       "      <td>Macquarie Island region</td>\n",
       "      <td>earthquake</td>\n",
       "      <td>1989</td>\n",
       "    </tr>\n",
       "    <tr>\n",
       "      <th>11719</th>\n",
       "      <td>11720</td>\n",
       "      <td>1996-02-17 05:59:31</td>\n",
       "      <td>-0.8910</td>\n",
       "      <td>136.9520</td>\n",
       "      <td>33.00</td>\n",
       "      <td>8.2</td>\n",
       "      <td>mw</td>\n",
       "      <td>usp0007d1w</td>\n",
       "      <td>Indonesia</td>\n",
       "      <td>earthquake</td>\n",
       "      <td>1996</td>\n",
       "    </tr>\n",
       "  </tbody>\n",
       "</table>\n",
       "</div>"
      ],
      "text/plain": [
       "       earthquake_id         occurred_on  latitude  longitude   depth  \\\n",
       "19327          19328 2011-03-11 05:46:24   38.2970   142.3730   29.00   \n",
       "15908          15909 2004-12-26 00:58:53    3.2950    95.9820   30.00   \n",
       "18755          18756 2010-02-27 06:34:12  -36.1220   -72.8980   22.90   \n",
       "20043          20044 2012-04-11 08:38:37    2.3270    93.0630   20.00   \n",
       "16153          16154 2005-03-28 16:09:37    2.0850    97.1080   30.00   \n",
       "17439          17440 2007-09-12 11:10:27   -4.4380   101.3670   34.00   \n",
       "14263          14264 2001-06-23 20:33:14  -16.2650   -73.6410   33.00   \n",
       "15272          15273 2003-09-25 19:50:06   41.8150   143.9100   27.00   \n",
       "10949          10950 1994-10-04 13:22:56   43.7730   147.3210   14.00   \n",
       "3284            3285 1977-08-19 06:08:55  -11.1640   118.3780   25.00   \n",
       "21615          21616 2015-09-16 22:54:33  -31.5729   -71.6744   22.44   \n",
       "20589          20590 2013-05-24 05:44:49   54.8920   153.2210  598.10   \n",
       "16935          16936 2006-11-15 11:14:14   46.5920   153.2660   10.00   \n",
       "8326            8327 1989-05-23 10:54:46  -52.3410   160.5680   10.00   \n",
       "11719          11720 1996-02-17 05:59:31   -0.8910   136.9520   33.00   \n",
       "\n",
       "       magnitude calculation_method                    network_id  \\\n",
       "19327        9.1                mww  official20110311054624120_30   \n",
       "15908        9.1                 mw  official20041226005853450_30   \n",
       "18755        8.8                mww  official20100227063411530_30   \n",
       "20043        8.6                 mw  official20120411083836720_20   \n",
       "16153        8.6                mww  official20050328160936530_30   \n",
       "17439        8.4                mww  official20070912111026830_34   \n",
       "14263        8.4                mww  official20010623203314130_33   \n",
       "15272        8.3                mwc                    usp000c8kv   \n",
       "10949        8.3                 mw                    usp0006kdp   \n",
       "3284         8.3                 mw                  iscgem694739   \n",
       "21615        8.3                mww                    us20003k7a   \n",
       "20589        8.3                mww                    usb000h4jh   \n",
       "16935        8.3                mwc                    usp000exfn   \n",
       "8326         8.2                 mw                    usp0003vj7   \n",
       "11719        8.2                 mw                    usp0007d1w   \n",
       "\n",
       "                                        place       cause  year  \n",
       "19327                                   Japan  earthquake  2011  \n",
       "15908  off the west coast of northern Sumatra  earthquake  2004  \n",
       "18755                                   Chile  earthquake  2010  \n",
       "20043  off the west coast of northern Sumatra  earthquake  2012  \n",
       "16153                               Indonesia  earthquake  2005  \n",
       "17439                               Indonesia  earthquake  2007  \n",
       "14263         near the coast of southern Peru  earthquake  2001  \n",
       "15272                            Japan region  earthquake  2003  \n",
       "10949                           Kuril Islands  earthquake  1994  \n",
       "3284                                Indonesia  earthquake  1977  \n",
       "21615                                   Chile  earthquake  2015  \n",
       "20589                          Sea of Okhotsk  earthquake  2013  \n",
       "16935                           Kuril Islands  earthquake  2006  \n",
       "8326                  Macquarie Island region  earthquake  1989  \n",
       "11719                               Indonesia  earthquake  1996  "
      ]
     },
     "execution_count": 243,
     "metadata": {},
     "output_type": "execute_result"
    }
   ],
   "source": [
    "final=df.sort_values(by='magnitude',ascending=False)[:15]\n",
    "final"
   ]
  },
  {
   "cell_type": "code",
   "execution_count": 244,
   "id": "5d33c30a",
   "metadata": {},
   "outputs": [
    {
     "data": {
      "image/png": "[encoded data removed]",
      "text/plain": [
       "<Figure size 1080x504 with 1 Axes>"
      ]
     },
     "metadata": {
      "needs_background": "light"
     },
     "output_type": "display_data"
    }
   ],
   "source": [
    "plt.figure(figsize=(15,7))\n",
    "xs=final.year\n",
    "ys=final.magnitude\n",
    "plt.scatter(xs,ys,color='red')\n",
    "for x,y in zip(xs,ys):\n",
    "    label = f\"{y}\"\n",
    "    plt.annotate(label, # this is the text\n",
    "                 (x,y), # these are the coordinates to position the label\n",
    "                 textcoords=\"offset points\", # how to position the text\n",
    "                 xytext=(0,6), # distance from text to points (x,y)\n",
    "                 ha='center', # horizontal alignment can be left, right or center\n",
    "                 fontweight='bold')\n",
    "    \n",
    "plt.title('Top 15 occuarnce by magnitude and year',fontweight='bold',fontsize=15)\n",
    "plt.xlabel('Year',fontweight='bold')\n",
    "plt.xticks(color='blue')\n",
    "plt.yticks(color='maroon')\n",
    "plt.ylabel('magnitude',fontweight='bold');\n"
   ]
  },
  {
   "cell_type": "markdown",
   "id": "2c7d8fa0",
   "metadata": {},
   "source": [
    "# Next thing, i want to know how many earthquake occurs in range of 5-6,6-7,7-8,8-9,9-10"
   ]
  },
  {
   "cell_type": "code",
   "execution_count": 245,
   "id": "6f639d3f",
   "metadata": {},
   "outputs": [],
   "source": [
    "df['bins']=pd.cut(df.magnitude,bins=[5,6,7,8,9,10],right=False)"
   ]
  },
  {
   "cell_type": "code",
   "execution_count": 246,
   "id": "2fd26005",
   "metadata": {},
   "outputs": [
    {
     "data": {
      "text/html": [
       "<div>\n",
       "<style scoped>\n",
       "    .dataframe tbody tr th:only-of-type {\n",
       "        vertical-align: middle;\n",
       "    }\n",
       "\n",
       "    .dataframe tbody tr th {\n",
       "        vertical-align: top;\n",
       "    }\n",
       "\n",
       "    .dataframe thead th {\n",
       "        text-align: right;\n",
       "    }\n",
       "</style>\n",
       "<table border=\"1\" class=\"dataframe\">\n",
       "  <thead>\n",
       "    <tr style=\"text-align: right;\">\n",
       "      <th></th>\n",
       "      <th>bins</th>\n",
       "      <th>count</th>\n",
       "    </tr>\n",
       "  </thead>\n",
       "  <tbody>\n",
       "    <tr>\n",
       "      <th>0</th>\n",
       "      <td>[5, 6)</td>\n",
       "      <td>16057</td>\n",
       "    </tr>\n",
       "    <tr>\n",
       "      <th>1</th>\n",
       "      <td>[6, 7)</td>\n",
       "      <td>6357</td>\n",
       "    </tr>\n",
       "    <tr>\n",
       "      <th>2</th>\n",
       "      <td>[7, 8)</td>\n",
       "      <td>665</td>\n",
       "    </tr>\n",
       "    <tr>\n",
       "      <th>3</th>\n",
       "      <td>[8, 9)</td>\n",
       "      <td>38</td>\n",
       "    </tr>\n",
       "    <tr>\n",
       "      <th>4</th>\n",
       "      <td>[9, 10)</td>\n",
       "      <td>2</td>\n",
       "    </tr>\n",
       "  </tbody>\n",
       "</table>\n",
       "</div>"
      ],
      "text/plain": [
       "      bins  count\n",
       "0   [5, 6)  16057\n",
       "1   [6, 7)   6357\n",
       "2   [7, 8)    665\n",
       "3   [8, 9)     38\n",
       "4  [9, 10)      2"
      ]
     },
     "execution_count": 246,
     "metadata": {},
     "output_type": "execute_result"
    }
   ],
   "source": [
    "df_bar=df.groupby('bins')['bins'].agg({'count'})\n",
    "df_bar=df_bar.reset_index()\n",
    "df_bar"
   ]
  },
  {
   "cell_type": "code",
   "execution_count": 247,
   "id": "e44307b7",
   "metadata": {},
   "outputs": [
    {
     "data": {
      "image/png": "[encoded data removed]",
      "text/plain": [
       "<Figure size 720x504 with 1 Axes>"
      ]
     },
     "metadata": {
      "needs_background": "light"
     },
     "output_type": "display_data"
    }
   ],
   "source": [
    "ax=df.groupby('bins')['bins'].agg({'count'}).plot(kind='bar',\n",
    "                                               alpha=0.5,\n",
    "                                              figsize=(10,7),color='maroon')\n",
    "plt.xlabel(' Magnitude bins',fontweight='bold')\n",
    "plt.title(' varation of earthquake in bins',fontweight='bold',fontsize=15)\n",
    "for p in ax.patches:\n",
    "    ax.annotate(str(p.get_height()), (p.get_x()+.1 * 1.005, p.get_height() * 1.005),fontweight='bold')\n",
    "    \n",
    "\n",
    "plt.ylabel(' Count',fontweight='bold');"
   ]
  },
  {
   "cell_type": "markdown",
   "id": "9d57626e",
   "metadata": {},
   "source": [
    "So, we can see from above figure that, magnitude of range 5-6 occurs maximum and magnitude greater than 9 occurs only two times"
   ]
  },
  {
   "cell_type": "code",
   "execution_count": 248,
   "id": "2bd24bf2",
   "metadata": {},
   "outputs": [],
   "source": [
    "# coutry wise earthquake occurance calculation\n",
    "def earthquake(c,c1):\n",
    "    \"\"\" function that shows occurance of earthquake  with respect to country  \"\"\"\n",
    "    \n",
    "    print(black('earthquake analysis US Geological Survey'.upper().center(100,'*'),'bold'))\n",
    "    print(green('World wide'.center(90,'*')))\n",
    "    print(blue(f' threre were {df.shape[0]} earthquake between {min(df.occurred_on)} and {max(df.occurred_on)}'))\n",
    "    df2=df.groupby('cause').agg({'cause':'count','magnitude':'max'})\n",
    "    print(df2.sort_values(by='magnitude',ascending=False))\n",
    "    print('*'*90)\n",
    "    df2=df[df.place.str.contains(c1)]\n",
    "    df2.sort_values(by='magnitude',ascending=False)[['occurred_on','magnitude']]\n",
    "    print(red(f' there were {df2.shape[0]} earthquake in {c1} between {min(df2.occurred_on)} and {max(df2.occurred_on)}','bold'))\n",
    "    print('*'*90)\n",
    "    print(df2.sort_values(by='magnitude',ascending=False)[['occurred_on','magnitude']])\n",
    "    #return df2.sort_values(by='magnitude',ascending=False)[['occurred_on']].plot()"
   ]
  },
  {
   "cell_type": "code",
   "execution_count": 250,
   "id": "dc537513",
   "metadata": {},
   "outputs": [
    {
     "name": "stdout",
     "output_type": "stream",
     "text": [
      "\u001b[1;30m******************************EARTHQUAKE ANALYSIS US GEOLOGICAL SURVEY******************************\u001b[0m\n",
      "\u001b[32m****************************************World wide****************************************\u001b[0m\n",
      "\u001b[34m threre were 23119 earthquake between 1969-01-01 09:07:06 and 2018-12-31 02:35:38\u001b[0m\n",
      "                   cause  magnitude\n",
      "cause                              \n",
      "earthquake         22942        9.1\n",
      "nuclear explosion    173        6.9\n",
      "explosion              4        6.4\n",
      "******************************************************************************************\n",
      "\u001b[1;31m there were 20 earthquake in Nepal between 1974-03-24 14:16:03 and 2015-05-16 11:34:10\u001b[0m\n",
      "******************************************************************************************\n",
      "              occurred_on  magnitude\n",
      "21432 2015-04-25 06:11:26        7.8\n",
      "21462 2015-05-12 07:05:20        7.3\n",
      "7983  1988-08-20 23:09:10        6.9\n",
      "21438 2015-04-26 07:09:11        6.7\n",
      "21435 2015-04-25 06:45:21        6.6\n",
      "4475  1980-07-29 14:58:41        6.5\n",
      "21464 2015-05-12 07:36:54        6.3\n",
      "21433 2015-04-25 06:15:23        6.1\n",
      "1934  1974-03-24 14:16:03        5.7\n",
      "4474  1980-07-29 12:23:12        5.7\n",
      "12926 1998-09-03 18:15:57        5.6\n",
      "2118  1974-09-27 05:26:39        5.6\n",
      "9529  1991-12-09 01:02:47        5.6\n",
      "7473  1987-08-09 21:15:00        5.6\n",
      "21434 2015-04-25 06:18:11        5.6\n",
      "5889  1984-05-18 04:28:57        5.6\n",
      "12208 1997-01-05 08:47:25        5.6\n",
      "14448 2001-11-27 07:31:52        5.5\n",
      "21436 2015-04-25 06:56:34        5.5\n",
      "21467 2015-05-16 11:34:10        5.5\n"
     ]
    }
   ],
   "source": [
    "earthquake(df,'Nepal')"
   ]
  },
  {
   "cell_type": "code",
   "execution_count": null,
   "id": "2fba9e1a",
   "metadata": {},
   "outputs": [],
   "source": []
  },
  {
   "cell_type": "code",
   "execution_count": null,
   "id": "04813bf5",
   "metadata": {},
   "outputs": [],
   "source": []
  },
  {
   "cell_type": "code",
   "execution_count": null,
   "id": "a67bba98",
   "metadata": {},
   "outputs": [],
   "source": []
  }
 ],
 "metadata": {
  "kernelspec": {
   "display_name": "Python 3",
   "language": "python",
   "name": "python3"
  },
  "language_info": {
   "codemirror_mode": {
    "name": "ipython",
    "version": 3
   },
   "file_extension": ".py",
   "mimetype": "text/x-python",
   "name": "python",
   "nbconvert_exporter": "python",
   "pygments_lexer": "ipython3",
   "version": "3.8.8"
  }
 },
 "nbformat": 4,
 "nbformat_minor": 5
}
