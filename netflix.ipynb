{
  "nbformat": 4,
  "nbformat_minor": 0,
  "metadata": {
    "colab": {
      "name": "netflix",
      "provenance": [],
      "collapsed_sections": [],
      "authorship_tag": "ABX9TyNZjaAEkN19Gym6sgVUnsoy",
      "include_colab_link": true
    },
    "kernelspec": {
      "name": "python3",
      "display_name": "Python 3"
    },
    "language_info": {
      "name": "python"
    }
  },
  "cells": [
    {
      "cell_type": "markdown",
      "metadata": {
        "id": "view-in-github",
        "colab_type": "text"
      },
      "source": [
        "<a href=\"https://colab.research.google.com/github/SabinSapota/SabinSapota/blob/main/netflix.ipynb\" target=\"_parent\"><img src=\"https://colab.research.google.com/assets/colab-badge.svg\" alt=\"Open In Colab\"/></a>"
      ]
    },
    {
      "cell_type": "markdown",
      "metadata": {
        "id": "VUbmPrtfmH4e"
      },
      "source": [
        "**Netflix data set**"
      ]
    },
    {
      "cell_type": "code",
      "metadata": {
        "id": "o5xADRqNmMHm"
      },
      "source": [
        "import pandas as pd\n",
        "import matplotlib.pyplot as plt\n",
        "import numpy as np\n",
        "import plotly.express as px"
      ],
      "execution_count": null,
      "outputs": []
    },
    {
      "cell_type": "code",
      "metadata": {
        "colab": {
          "resources": {
            "http://localhost:8080/nbextensions/google.colab/files.js": {
              "data": "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",
              "ok": true,
              "headers": [
                [
                  "content-type",
                  "application/javascript"
                ]
              ],
              "status": 200,
              "status_text": ""
            }
          },
          "base_uri": "https://localhost:8080/",
          "height": 73
        },
        "id": "MOGx2PrFNgft",
        "outputId": "db69e454-a174-4b55-d5de-df05dc1addc8"
      },
      "source": [
        "from google.colab import files\n",
        "uploaded=files.upload()"
      ],
      "execution_count": null,
      "outputs": [
        {
          "output_type": "display_data",
          "data": {
            "text/html": [
              "\n",
              "     <input type=\"file\" id=\"files-b760c4fc-fd83-444a-ac09-5b29649e1841\" name=\"files[]\" multiple disabled\n",
              "        style=\"border:none\" />\n",
              "     <output id=\"result-b760c4fc-fd83-444a-ac09-5b29649e1841\">\n",
              "      Upload widget is only available when the cell has been executed in the\n",
              "      current browser session. Please rerun this cell to enable.\n",
              "      </output>\n",
              "      <script src=\"/nbextensions/google.colab/files.js\"></script> "
            ],
            "text/plain": [
              "<IPython.core.display.HTML object>"
            ]
          },
          "metadata": {
            "tags": []
          }
        },
        {
          "output_type": "stream",
          "text": [
            "Saving netflix_titles.csv to netflix_titles (1).csv\n"
          ],
          "name": "stdout"
        }
      ]
    },
    {
      "cell_type": "code",
      "metadata": {
        "colab": {
          "base_uri": "https://localhost:8080/",
          "height": 285
        },
        "id": "sS69umZpOSrm",
        "outputId": "ce1f94be-e6f8-490a-e474-9a5b37414406"
      },
      "source": [
        "import io\n",
        "df=pd.read_csv(io.BytesIO(uploaded['netflix_titles.csv']))\n",
        "df.head()"
      ],
      "execution_count": null,
      "outputs": [
        {
          "output_type": "execute_result",
          "data": {
            "text/html": [
              "<div>\n",
              "<style scoped>\n",
              "    .dataframe tbody tr th:only-of-type {\n",
              "        vertical-align: middle;\n",
              "    }\n",
              "\n",
              "    .dataframe tbody tr th {\n",
              "        vertical-align: top;\n",
              "    }\n",
              "\n",
              "    .dataframe thead th {\n",
              "        text-align: right;\n",
              "    }\n",
              "</style>\n",
              "<table border=\"1\" class=\"dataframe\">\n",
              "  <thead>\n",
              "    <tr style=\"text-align: right;\">\n",
              "      <th></th>\n",
              "      <th>show_id</th>\n",
              "      <th>type</th>\n",
              "      <th>title</th>\n",
              "      <th>director</th>\n",
              "      <th>cast</th>\n",
              "      <th>country</th>\n",
              "      <th>date_added</th>\n",
              "      <th>release_year</th>\n",
              "      <th>rating</th>\n",
              "      <th>duration</th>\n",
              "      <th>listed_in</th>\n",
              "      <th>description</th>\n",
              "    </tr>\n",
              "  </thead>\n",
              "  <tbody>\n",
              "    <tr>\n",
              "      <th>0</th>\n",
              "      <td>s1</td>\n",
              "      <td>TV Show</td>\n",
              "      <td>3%</td>\n",
              "      <td>NaN</td>\n",
              "      <td>João Miguel, Bianca Comparato, Michel Gomes, R...</td>\n",
              "      <td>Brazil</td>\n",
              "      <td>August 14, 2020</td>\n",
              "      <td>2020</td>\n",
              "      <td>TV-MA</td>\n",
              "      <td>4 Seasons</td>\n",
              "      <td>International TV Shows, TV Dramas, TV Sci-Fi &amp;...</td>\n",
              "      <td>In a future where the elite inhabit an island ...</td>\n",
              "    </tr>\n",
              "    <tr>\n",
              "      <th>1</th>\n",
              "      <td>s2</td>\n",
              "      <td>Movie</td>\n",
              "      <td>7:19</td>\n",
              "      <td>Jorge Michel Grau</td>\n",
              "      <td>Demián Bichir, Héctor Bonilla, Oscar Serrano, ...</td>\n",
              "      <td>Mexico</td>\n",
              "      <td>December 23, 2016</td>\n",
              "      <td>2016</td>\n",
              "      <td>TV-MA</td>\n",
              "      <td>93 min</td>\n",
              "      <td>Dramas, International Movies</td>\n",
              "      <td>After a devastating earthquake hits Mexico Cit...</td>\n",
              "    </tr>\n",
              "    <tr>\n",
              "      <th>2</th>\n",
              "      <td>s3</td>\n",
              "      <td>Movie</td>\n",
              "      <td>23:59</td>\n",
              "      <td>Gilbert Chan</td>\n",
              "      <td>Tedd Chan, Stella Chung, Henley Hii, Lawrence ...</td>\n",
              "      <td>Singapore</td>\n",
              "      <td>December 20, 2018</td>\n",
              "      <td>2011</td>\n",
              "      <td>R</td>\n",
              "      <td>78 min</td>\n",
              "      <td>Horror Movies, International Movies</td>\n",
              "      <td>When an army recruit is found dead, his fellow...</td>\n",
              "    </tr>\n",
              "    <tr>\n",
              "      <th>3</th>\n",
              "      <td>s4</td>\n",
              "      <td>Movie</td>\n",
              "      <td>9</td>\n",
              "      <td>Shane Acker</td>\n",
              "      <td>Elijah Wood, John C. Reilly, Jennifer Connelly...</td>\n",
              "      <td>United States</td>\n",
              "      <td>November 16, 2017</td>\n",
              "      <td>2009</td>\n",
              "      <td>PG-13</td>\n",
              "      <td>80 min</td>\n",
              "      <td>Action &amp; Adventure, Independent Movies, Sci-Fi...</td>\n",
              "      <td>In a postapocalyptic world, rag-doll robots hi...</td>\n",
              "    </tr>\n",
              "    <tr>\n",
              "      <th>4</th>\n",
              "      <td>s5</td>\n",
              "      <td>Movie</td>\n",
              "      <td>21</td>\n",
              "      <td>Robert Luketic</td>\n",
              "      <td>Jim Sturgess, Kevin Spacey, Kate Bosworth, Aar...</td>\n",
              "      <td>United States</td>\n",
              "      <td>January 1, 2020</td>\n",
              "      <td>2008</td>\n",
              "      <td>PG-13</td>\n",
              "      <td>123 min</td>\n",
              "      <td>Dramas</td>\n",
              "      <td>A brilliant group of students become card-coun...</td>\n",
              "    </tr>\n",
              "  </tbody>\n",
              "</table>\n",
              "</div>"
            ],
            "text/plain": [
              "  show_id  ...                                        description\n",
              "0      s1  ...  In a future where the elite inhabit an island ...\n",
              "1      s2  ...  After a devastating earthquake hits Mexico Cit...\n",
              "2      s3  ...  When an army recruit is found dead, his fellow...\n",
              "3      s4  ...  In a postapocalyptic world, rag-doll robots hi...\n",
              "4      s5  ...  A brilliant group of students become card-coun...\n",
              "\n",
              "[5 rows x 12 columns]"
            ]
          },
          "metadata": {
            "tags": []
          },
          "execution_count": 36
        }
      ]
    },
    {
      "cell_type": "markdown",
      "metadata": {
        "id": "6gI5-sBYmb_a"
      },
      "source": [
        "**Distribution of Content Ratings on netflix**"
      ]
    },
    {
      "cell_type": "code",
      "metadata": {
        "colab": {
          "base_uri": "https://localhost:8080/"
        },
        "id": "QTbY4w_sPQB7",
        "outputId": "364d6bcc-deef-40b8-8748-41eac81efbdf"
      },
      "source": [
        "#making dataset\n",
        "df.rating.value_counts(dropna=False)"
      ],
      "execution_count": null,
      "outputs": [
        {
          "output_type": "execute_result",
          "data": {
            "text/plain": [
              "TV-MA       2863\n",
              "TV-14       1931\n",
              "TV-PG        806\n",
              "R            665\n",
              "PG-13        386\n",
              "TV-Y         280\n",
              "TV-Y7        271\n",
              "PG           247\n",
              "TV-G         194\n",
              "NR            84\n",
              "G             39\n",
              "NaN            7\n",
              "TV-Y7-FV       6\n",
              "UR             5\n",
              "NC-17          3\n",
              "Name: rating, dtype: int64"
            ]
          },
          "metadata": {
            "tags": []
          },
          "execution_count": 37
        }
      ]
    },
    {
      "cell_type": "code",
      "metadata": {
        "id": "2QIgk8tWPQE1"
      },
      "source": [
        "#filling missing value with orthers\n",
        "df.rating=df.rating.fillna('orthers')"
      ],
      "execution_count": null,
      "outputs": []
    },
    {
      "cell_type": "code",
      "metadata": {
        "colab": {
          "base_uri": "https://localhost:8080/",
          "height": 542
        },
        "id": "zCZJYCOuPQHb",
        "outputId": "d45da703-8dfc-4885-b42a-8a421aaf9b6a"
      },
      "source": [
        "px.pie(values=df.rating.value_counts(dropna=False),\n",
        "       names=df.rating.value_counts(dropna=False).index,\n",
        "      title='Distribution of Content Ratings on netflix',hole=0.5)"
      ],
      "execution_count": null,
      "outputs": [
        {
          "output_type": "display_data",
          "data": {
            "text/html": [
              "<html>\n",
              "<head><meta charset=\"utf-8\" /></head>\n",
              "<body>\n",
              "    <div>\n",
              "            <script src=\"https://cdnjs.cloudflare.com/ajax/libs/mathjax/2.7.5/MathJax.js?config=TeX-AMS-MML_SVG\"></script><script type=\"text/javascript\">if (window.MathJax) {MathJax.Hub.Config({SVG: {font: \"STIX-Web\"}});}</script>\n",
              "                <script type=\"text/javascript\">window.PlotlyConfig = {MathJaxConfig: 'local'};</script>\n",
              "        <script src=\"https://cdn.plot.ly/plotly-latest.min.js\"></script>    \n",
              "            <div id=\"88b6fa13-3174-417d-a9c7-6663efbafade\" class=\"plotly-graph-div\" style=\"height:525px; width:100%;\"></div>\n",
              "            <script type=\"text/javascript\">\n",
              "                \n",
              "                    window.PLOTLYENV=window.PLOTLYENV || {};\n",
              "                    \n",
              "                if (document.getElementById(\"88b6fa13-3174-417d-a9c7-6663efbafade\")) {\n",
              "                    Plotly.newPlot(\n",
              "                        '88b6fa13-3174-417d-a9c7-6663efbafade',\n",
              "                        [{\"domain\": {\"x\": [0.0, 1.0], \"y\": [0.0, 1.0]}, \"hole\": 0.5, \"hoverlabel\": {\"namelength\": 0}, \"hovertemplate\": \"label=%{label}<br>value=%{value}\", \"labels\": [\"TV-MA\", \"TV-14\", \"TV-PG\", \"R\", \"PG-13\", \"TV-Y\", \"TV-Y7\", \"PG\", \"TV-G\", \"NR\", \"G\", \"orthers\", \"TV-Y7-FV\", \"UR\", \"NC-17\"], \"legendgroup\": \"\", \"name\": \"\", \"showlegend\": true, \"type\": \"pie\", \"values\": [2863, 1931, 806, 665, 386, 280, 271, 247, 194, 84, 39, 7, 6, 5, 3]}],\n",
              "                        {\"legend\": {\"tracegroupgap\": 0}, \"template\": {\"data\": {\"bar\": [{\"error_x\": {\"color\": \"#2a3f5f\"}, \"error_y\": {\"color\": \"#2a3f5f\"}, \"marker\": {\"line\": {\"color\": \"#E5ECF6\", \"width\": 0.5}}, \"type\": \"bar\"}], \"barpolar\": [{\"marker\": {\"line\": {\"color\": \"#E5ECF6\", \"width\": 0.5}}, \"type\": \"barpolar\"}], \"carpet\": [{\"aaxis\": {\"endlinecolor\": \"#2a3f5f\", \"gridcolor\": \"white\", \"linecolor\": \"white\", \"minorgridcolor\": \"white\", \"startlinecolor\": \"#2a3f5f\"}, \"baxis\": {\"endlinecolor\": \"#2a3f5f\", \"gridcolor\": \"white\", \"linecolor\": \"white\", \"minorgridcolor\": \"white\", \"startlinecolor\": \"#2a3f5f\"}, \"type\": \"carpet\"}], \"choropleth\": [{\"colorbar\": {\"outlinewidth\": 0, \"ticks\": \"\"}, \"type\": \"choropleth\"}], \"contour\": [{\"colorbar\": {\"outlinewidth\": 0, \"ticks\": \"\"}, \"colorscale\": [[0.0, \"#0d0887\"], [0.1111111111111111, \"#46039f\"], [0.2222222222222222, \"#7201a8\"], [0.3333333333333333, \"#9c179e\"], [0.4444444444444444, \"#bd3786\"], [0.5555555555555556, \"#d8576b\"], [0.6666666666666666, \"#ed7953\"], [0.7777777777777778, \"#fb9f3a\"], [0.8888888888888888, \"#fdca26\"], [1.0, \"#f0f921\"]], \"type\": \"contour\"}], \"contourcarpet\": [{\"colorbar\": {\"outlinewidth\": 0, \"ticks\": \"\"}, \"type\": \"contourcarpet\"}], \"heatmap\": [{\"colorbar\": {\"outlinewidth\": 0, \"ticks\": \"\"}, \"colorscale\": [[0.0, \"#0d0887\"], [0.1111111111111111, \"#46039f\"], [0.2222222222222222, \"#7201a8\"], [0.3333333333333333, \"#9c179e\"], [0.4444444444444444, \"#bd3786\"], [0.5555555555555556, \"#d8576b\"], [0.6666666666666666, \"#ed7953\"], [0.7777777777777778, \"#fb9f3a\"], [0.8888888888888888, \"#fdca26\"], [1.0, \"#f0f921\"]], \"type\": \"heatmap\"}], \"heatmapgl\": [{\"colorbar\": {\"outlinewidth\": 0, \"ticks\": \"\"}, \"colorscale\": [[0.0, \"#0d0887\"], [0.1111111111111111, \"#46039f\"], [0.2222222222222222, \"#7201a8\"], [0.3333333333333333, \"#9c179e\"], [0.4444444444444444, \"#bd3786\"], [0.5555555555555556, \"#d8576b\"], [0.6666666666666666, \"#ed7953\"], [0.7777777777777778, \"#fb9f3a\"], [0.8888888888888888, \"#fdca26\"], [1.0, \"#f0f921\"]], \"type\": \"heatmapgl\"}], \"histogram\": [{\"marker\": {\"colorbar\": {\"outlinewidth\": 0, \"ticks\": \"\"}}, \"type\": \"histogram\"}], \"histogram2d\": [{\"colorbar\": {\"outlinewidth\": 0, \"ticks\": \"\"}, \"colorscale\": [[0.0, \"#0d0887\"], [0.1111111111111111, \"#46039f\"], [0.2222222222222222, \"#7201a8\"], [0.3333333333333333, \"#9c179e\"], [0.4444444444444444, \"#bd3786\"], [0.5555555555555556, \"#d8576b\"], [0.6666666666666666, \"#ed7953\"], [0.7777777777777778, \"#fb9f3a\"], [0.8888888888888888, \"#fdca26\"], [1.0, \"#f0f921\"]], \"type\": \"histogram2d\"}], \"histogram2dcontour\": [{\"colorbar\": {\"outlinewidth\": 0, \"ticks\": \"\"}, \"colorscale\": [[0.0, \"#0d0887\"], [0.1111111111111111, \"#46039f\"], [0.2222222222222222, \"#7201a8\"], [0.3333333333333333, \"#9c179e\"], [0.4444444444444444, \"#bd3786\"], [0.5555555555555556, \"#d8576b\"], [0.6666666666666666, \"#ed7953\"], [0.7777777777777778, \"#fb9f3a\"], [0.8888888888888888, \"#fdca26\"], [1.0, \"#f0f921\"]], \"type\": \"histogram2dcontour\"}], \"mesh3d\": [{\"colorbar\": {\"outlinewidth\": 0, \"ticks\": \"\"}, \"type\": \"mesh3d\"}], \"parcoords\": [{\"line\": {\"colorbar\": {\"outlinewidth\": 0, \"ticks\": \"\"}}, \"type\": \"parcoords\"}], \"pie\": [{\"automargin\": true, \"type\": \"pie\"}], \"scatter\": [{\"marker\": {\"colorbar\": {\"outlinewidth\": 0, \"ticks\": \"\"}}, \"type\": \"scatter\"}], \"scatter3d\": [{\"line\": {\"colorbar\": {\"outlinewidth\": 0, \"ticks\": \"\"}}, \"marker\": {\"colorbar\": {\"outlinewidth\": 0, \"ticks\": \"\"}}, \"type\": \"scatter3d\"}], \"scattercarpet\": [{\"marker\": {\"colorbar\": {\"outlinewidth\": 0, \"ticks\": \"\"}}, \"type\": \"scattercarpet\"}], \"scattergeo\": [{\"marker\": {\"colorbar\": {\"outlinewidth\": 0, \"ticks\": \"\"}}, \"type\": \"scattergeo\"}], \"scattergl\": [{\"marker\": {\"colorbar\": {\"outlinewidth\": 0, \"ticks\": \"\"}}, \"type\": \"scattergl\"}], \"scattermapbox\": [{\"marker\": {\"colorbar\": {\"outlinewidth\": 0, \"ticks\": \"\"}}, \"type\": \"scattermapbox\"}], \"scatterpolar\": [{\"marker\": {\"colorbar\": {\"outlinewidth\": 0, \"ticks\": \"\"}}, \"type\": \"scatterpolar\"}], \"scatterpolargl\": [{\"marker\": {\"colorbar\": {\"outlinewidth\": 0, \"ticks\": \"\"}}, \"type\": \"scatterpolargl\"}], \"scatterternary\": [{\"marker\": {\"colorbar\": {\"outlinewidth\": 0, \"ticks\": \"\"}}, \"type\": \"scatterternary\"}], \"surface\": [{\"colorbar\": {\"outlinewidth\": 0, \"ticks\": \"\"}, \"colorscale\": [[0.0, \"#0d0887\"], [0.1111111111111111, \"#46039f\"], [0.2222222222222222, \"#7201a8\"], [0.3333333333333333, \"#9c179e\"], [0.4444444444444444, \"#bd3786\"], [0.5555555555555556, \"#d8576b\"], [0.6666666666666666, \"#ed7953\"], [0.7777777777777778, \"#fb9f3a\"], [0.8888888888888888, \"#fdca26\"], [1.0, \"#f0f921\"]], \"type\": \"surface\"}], \"table\": [{\"cells\": {\"fill\": {\"color\": \"#EBF0F8\"}, \"line\": {\"color\": \"white\"}}, \"header\": {\"fill\": {\"color\": \"#C8D4E3\"}, \"line\": {\"color\": \"white\"}}, \"type\": \"table\"}]}, \"layout\": {\"annotationdefaults\": {\"arrowcolor\": \"#2a3f5f\", \"arrowhead\": 0, \"arrowwidth\": 1}, \"coloraxis\": {\"colorbar\": {\"outlinewidth\": 0, \"ticks\": \"\"}}, \"colorscale\": {\"diverging\": [[0, \"#8e0152\"], [0.1, \"#c51b7d\"], [0.2, \"#de77ae\"], [0.3, \"#f1b6da\"], [0.4, \"#fde0ef\"], [0.5, \"#f7f7f7\"], [0.6, \"#e6f5d0\"], [0.7, \"#b8e186\"], [0.8, \"#7fbc41\"], [0.9, \"#4d9221\"], [1, \"#276419\"]], \"sequential\": [[0.0, \"#0d0887\"], [0.1111111111111111, \"#46039f\"], [0.2222222222222222, \"#7201a8\"], [0.3333333333333333, \"#9c179e\"], [0.4444444444444444, \"#bd3786\"], [0.5555555555555556, \"#d8576b\"], [0.6666666666666666, \"#ed7953\"], [0.7777777777777778, \"#fb9f3a\"], [0.8888888888888888, \"#fdca26\"], [1.0, \"#f0f921\"]], \"sequentialminus\": [[0.0, \"#0d0887\"], [0.1111111111111111, \"#46039f\"], [0.2222222222222222, \"#7201a8\"], [0.3333333333333333, \"#9c179e\"], [0.4444444444444444, \"#bd3786\"], [0.5555555555555556, \"#d8576b\"], [0.6666666666666666, \"#ed7953\"], [0.7777777777777778, \"#fb9f3a\"], [0.8888888888888888, \"#fdca26\"], [1.0, \"#f0f921\"]]}, \"colorway\": [\"#636efa\", \"#EF553B\", \"#00cc96\", \"#ab63fa\", \"#FFA15A\", \"#19d3f3\", \"#FF6692\", \"#B6E880\", \"#FF97FF\", \"#FECB52\"], \"font\": {\"color\": \"#2a3f5f\"}, \"geo\": {\"bgcolor\": \"white\", \"lakecolor\": \"white\", \"landcolor\": \"#E5ECF6\", \"showlakes\": true, \"showland\": true, \"subunitcolor\": \"white\"}, \"hoverlabel\": {\"align\": \"left\"}, \"hovermode\": \"closest\", \"mapbox\": {\"style\": \"light\"}, \"paper_bgcolor\": \"white\", \"plot_bgcolor\": \"#E5ECF6\", \"polar\": {\"angularaxis\": {\"gridcolor\": \"white\", \"linecolor\": \"white\", \"ticks\": \"\"}, \"bgcolor\": \"#E5ECF6\", \"radialaxis\": {\"gridcolor\": \"white\", \"linecolor\": \"white\", \"ticks\": \"\"}}, \"scene\": {\"xaxis\": {\"backgroundcolor\": \"#E5ECF6\", \"gridcolor\": \"white\", \"gridwidth\": 2, \"linecolor\": \"white\", \"showbackground\": true, \"ticks\": \"\", \"zerolinecolor\": \"white\"}, \"yaxis\": {\"backgroundcolor\": \"#E5ECF6\", \"gridcolor\": \"white\", \"gridwidth\": 2, \"linecolor\": \"white\", \"showbackground\": true, \"ticks\": \"\", \"zerolinecolor\": \"white\"}, \"zaxis\": {\"backgroundcolor\": \"#E5ECF6\", \"gridcolor\": \"white\", \"gridwidth\": 2, \"linecolor\": \"white\", \"showbackground\": true, \"ticks\": \"\", \"zerolinecolor\": \"white\"}}, \"shapedefaults\": {\"line\": {\"color\": \"#2a3f5f\"}}, \"ternary\": {\"aaxis\": {\"gridcolor\": \"white\", \"linecolor\": \"white\", \"ticks\": \"\"}, \"baxis\": {\"gridcolor\": \"white\", \"linecolor\": \"white\", \"ticks\": \"\"}, \"bgcolor\": \"#E5ECF6\", \"caxis\": {\"gridcolor\": \"white\", \"linecolor\": \"white\", \"ticks\": \"\"}}, \"title\": {\"x\": 0.05}, \"xaxis\": {\"automargin\": true, \"gridcolor\": \"white\", \"linecolor\": \"white\", \"ticks\": \"\", \"title\": {\"standoff\": 15}, \"zerolinecolor\": \"white\", \"zerolinewidth\": 2}, \"yaxis\": {\"automargin\": true, \"gridcolor\": \"white\", \"linecolor\": \"white\", \"ticks\": \"\", \"title\": {\"standoff\": 15}, \"zerolinecolor\": \"white\", \"zerolinewidth\": 2}}}, \"title\": {\"text\": \"Distribution of Content Ratings on netflix\"}},\n",
              "                        {\"responsive\": true}\n",
              "                    ).then(function(){\n",
              "                            \n",
              "var gd = document.getElementById('88b6fa13-3174-417d-a9c7-6663efbafade');\n",
              "var x = new MutationObserver(function (mutations, observer) {{\n",
              "        var display = window.getComputedStyle(gd).display;\n",
              "        if (!display || display === 'none') {{\n",
              "            console.log([gd, 'removed!']);\n",
              "            Plotly.purge(gd);\n",
              "            observer.disconnect();\n",
              "        }}\n",
              "}});\n",
              "\n",
              "// Listen for the removal of the full notebook cells\n",
              "var notebookContainer = gd.closest('#notebook-container');\n",
              "if (notebookContainer) {{\n",
              "    x.observe(notebookContainer, {childList: true});\n",
              "}}\n",
              "\n",
              "// Listen for the clearing of the current output cell\n",
              "var outputEl = gd.closest('.output');\n",
              "if (outputEl) {{\n",
              "    x.observe(outputEl, {childList: true});\n",
              "}}\n",
              "\n",
              "                        })\n",
              "                };\n",
              "                \n",
              "            </script>\n",
              "        </div>\n",
              "</body>\n",
              "</html>"
            ]
          },
          "metadata": {
            "tags": []
          }
        }
      ]
    },
    {
      "cell_type": "markdown",
      "metadata": {
        "id": "wixGGS-uTpoA"
      },
      "source": [
        "![Screenshot (21).png](data:image/png;base64,iVBORw0KGgoAAAANSUhEUgAABJUAAAHkCAYAAACHch4dAAAAAXNSR0IArs4c6QAAAARnQU1BAACxjwv8YQUAAAAJcEhZcwAADsMAAA7DAcdvqGQAAAAhdEVYdENyZWF0aW9uIFRpbWUAMjAyMTowNzowMiAxMDoxOTo0MFpfztEAAJ3DSURBVHhe7N0JfFTlvf/x72QlIWEJCUvYZBEEBKOiEVGIBq24VYtUKqbF2qvSltpFGq2KFulCaXuvpRbsv73mNtJikdZaW6wQBRQVRI1GNlnDDglrEiDbzH/OzJNkss+EmWQm+bz7Os35PefMkgUz883z/I7N4SQAAAAAAADAB2HmIwAAAAAAAOA1QiUAAAAAAAD4jFAJAAAAAAAAPiNUAgAAAAAAgM8IlQAAAAAAAOAzQiUAAAAAAAD4jFAJAAAAAAAAPiNUAgAAAAAAgM8IlQAAAAAAAOAzQiUAAAAAAAD4jFAJAAAAAAAAPiNUAgAAAAAAgM8IlQAAAAAAAOAzQiUAAAAAAAD4jFAJAAAAAAAAPiNUAgAAAAAAgM8IlQAAAAAAAOAzQqU2tUUL0mZo1OItpoanwhXzNMr6+ri2bOWacQDeqf9viP/mAAAAAPCfdhQqmTdLDW2ZOSo0Z9VSkKOZ1nEf32DlLrbu1/eQw327eVpeYAYCpPHnZ75GjX09goj1ZnjifGnusixtWm1tGUoxx5qUl13zfffYFuSZ4wHTum/W3WGBbz9LtQMGz+18ArvGP++qxwv8177jauq/RV7/G2rhfwcBAAAAoP3NVJqWad5AVW0LNFfZmuh80zRzRYDTHPhJgdas3uH8Xk7RlCQz1KwCLc90vjGelaMZCz2//85tYbqyZvGm2W2oR8hgbc5/H6k5mt4KYSdaU0v+DQEAAACAbzrA8rckTZmfpTWZQ7V2/uzawVJSuhZZb6wfGmEGAivlIetN/BNt+CZvhGZbn+/8dCWakfYid/FszVnvDkxmjzaDVUZnOL/umZphSnhy/vt4JEMTtENzlvs3dEuc/IQruKr3/UBwaeX/DgIAAABoPzpMT6XEyQ9qbqq0dv7rNUtFzLKPujOY3EtKPLea5SXWselLrT1rdkfV8apZHh5LgaqWlFibWW7W1FKVusu26j4n91KiBm7rul3NLBOvn18d9T7neud43LaZ59qcph/LehwrIHLuLp3v3WM4v9bPW59zk7MyRmh2nTfNzX/Ont8z8/lXbbWWEFrH5ivL2vV4zrXPMTOpPO6j3ufk8fNYd6ma5xIy97KmHc69HZozteFzzl+dz7dqq/e9avzzdn8OtWdAeff1rFH36zAqc57P/2abV/9zrfe19PJ705Sar0fdn4XGnmvTz8v6nBv+t27dzod/Q3X+O1j9+dX7nlQ979rfUwAAAAAdmKPd2Oz4xcSvOUYu2mzq+gr+/YxjpPOcX3xqBo6ucjzkrB/691Ez4HB8vMh5HxP/5PjY1M6THC//0Dn2w1WOAjNS/5wq5jlYm8f5VerfzuN8z+fdwPNyP/cGHvPTPznHn3G8XHNq88+v1teo/udXfV5DY3Vv73p8j69pk7x9LHNeE99LT/W+r83y9nlUfS2trYHvW63n19CYYb6fzZ5fdZ5zq/+9r/09bmisOY3epsHvofX86v4M+fZ5N/R43n89q86t83xb+G+2UQ3cX9XXo9aYD9+bxrjPrfs5NfJcm3gOTX/uVRr7N9T4z139z6uhx/LucwUAAADQMXSoq78l9hvo+rhrf2N/Zt+ila4ZL2M9Gtq6l88tSTOlN6y+Tr4sMbPO95xFk5SuB6fVmVUVIIUrnncvG3vE8/mO0OxlGZqwPltP1p3dUPe5jr7JNQMsa139WT51+fxYPhmqwb3NbjN8fx7pWlKryfEI3Zc5VFq60avvT+7ybK1NzdCaWjOlqu5jeb1ZHxMyF2jR5JopV4mTp2iGdmjVxvP5+jRmixbMypGcz+++WsvUnF+Peo2dffu8G+fF19PMPpuxsM5y0aRkDTa7bufzb7ZAy3/p/t484/H1tpZLupfLPh+A7421RNPzc3I+13vTpfXvaU31XTif14vO74nz35rnY7XmfxespYtLXI812z07Ki/bNSuq3vcDAAAAQIfWoUKl5iVqcKrzw9L59ZaKpExu3T5E/QY632QrXzsDkSN42J+/Q0odp4l13yiaN+9r8xtalNSA3QcbXL7kyW+PdZ789zy8+f64Q48JaWPq/fwkjh3n6mW067AZaIZ/vj61l8yNSluuwVbj7kZC0LrLytzL7gKl5utZuPE9rfUqKDyff7OF2rW+ke+NK4Buze+Nx2MVfKpVzuc1Y3z9Hkcp49Od/x/4/y5YUh6ymrjL3eR+Vo4rUKM/FgAAAABPHSpUKtyf7/o4uF9jf2q3Zji430hZf6GveTPd+j1EqmZVBVaBdu42u/WYN+tehEXeCfRjeRsAtObn7FRwULucH2r/PJltarbWus9qRe5m5q4rv1kzs6yQ6ZcN9DMyfXamL7VmFZnznZs1g6c1uII/DdSQZmfFnMe/WfO9aVDvZOfXpqlZjQF0+KDr58IV5lR/PmazZpW1Gutraxrc153NBQAAAABOHShUMpfYVrpuaPKv7e6lM1VvoqvfeE/1pfHv+asKwAIrSUMGmd163LM4NCi5mdke3grcY7ln/Hi3BK91P2cnM/vJmuVR/TNVZ2uz2R/WVb8WWkuvsjWxTlNm15K9esvUWo97pp63Wvhvtt5SOg8m2Gk8gA4gE2jNWOjxOdXaWmsJmtWY2zRit35GGmhkDwAAAKBj6zihUt7rrqshzVjY1JvkLVpet5+O8433M67ZGTVLTnx7w9syDS/R8m7Ziy/Pz3VurX4uhpnFMWGg3+KVwD2W6TXTUH+iGs43yCvcb4oD8zzMLKd63ONrV39afzbQefDbTDbTP6h2aGBmc6Umq597oAmNfd7nx/355Whls1dW8+7fbMMa/964Q13v+3T5lQm7vAlJA/nfotzF1hXk3DPVXD8jS+f7+QqDAAAAAEJdBwiVzGWwvewJsstaQlPrL/JmhpNHwOP9G14v1VluZV3S29UU996anjBV/XdqNQS2Lu3fwHIYX55f4uQHNTe17qyOLVpgLc3y85KXQD6Wu/+Ldd8NXOLd+jpZl1g3k78C8zzMDKh6TayTNOURdwPwurOB3D+bLVxa6ZrN4p/m3VVNmWv6EiVpYlr94M36uazfU6mxz/s8VTWAf9Hza+Yxc8aDN/9mG+bxvfG8vfPnxfo8J2Q+2EZNqUdotjWDzPn9qP15WZw/p2k1P7d+/2+RUf3fIBPCV/2MZM1q/aXAAAAAAIJX+wuVrDditfqQzNYcZTjfZGbVvpJSg5xv5qylM7Xuw3n7QXWu5mZmd9T0PDnfN1rv6cnqx7OaIcvV96ZWAGaWKtXqG7NurDZZbz7r8un5uZcOLZmWo+lV95vmfOPu6xXsvBLIxzJLoJxfj3q9aGbluJcSVV99LTDPwx1sedxnVYhkfe9WO48pWxOrH8/arJ+tKS0LLhr4eTifWSRVTZld97d4iytEWJMpV0hXdf9P6kH3jJU6Gv28z4v1Par7NXteesT0+Knm5b/Zxri+N8779Ly9+Xlp/r8XAeT8N7yp7vNybfO1K/OmmtmWfv9vUU14WDeET3nI+tpbYSzBEgAAAAA3m8PJ7ANAcLMaiE/N1uCFbdiLCgAAAADg0qGu/gYgdOQurj/7ytVAPDVD9xEoAQAAAECbY6YSgKBkhUpWX59arCWK1csYAQAAAABtiVAJAAAAAAAAPmP5GwAAAAAAAHxGqAQAAAAAAACfESoBAAAAAADAZ4RKAAAAAAAA8BmhEgAAAAAAAHxGqAQAAAAAAACfESoBAAAAAADAZ4RKAAAAAAAA8BmhEgAAAAAAAHxGqAQAAAAAAACfESoBAAAAAADAZ4RKAAAAAAAA8BmhEgAAAAAAAHxGqAQAAAAAAACfESoBAAAAAADAZ4RKAAAAAAAA8BmhEgAAAAAAAHxGqAQAAAAAAACfESoBAAAAAADAZ4RKAAAAAAAA8BmhEgAAAAAAAHxGqAQAAAAAAACfESoBAAAAAADAZ4RKAAAAAAAA8BmhEgAAAAAAAHxGqAQAAAAAAACfESoBAAAAAADAZ4RKAAAAAAAA8BmhEgAAAAAAAHxGqAQAAAAAAACfESoBAAAAAADAZ4RKAAAAAAAA8BmhEgAAAAAAAHxGqAQAAAAAAACfESoBAAAAAADAZ4RKAAAAAAAA8BmhEgAAAAAAAHxGqAQAAAAAAACfESoBAAAAAADAZ4RKAAAAAAAA8BmhEgAAAAAAAHxGqAQAAAAAAACfESoBAAAAAADAZ4RKAAAAAAAA8BmhEgAAAAAAAHxGqAQAAAAAAACf2RxOZh8AAABO9iMHZC84LMe5s65N5qN7OyOVetYex814Vf1In7cUHSVFR0tRUbbqfetjVR1lbZHmo3Pr1sWmbl2tzbnv/Ngl3jwpAACAIEOoBAAAOiTHyeOqPLRX9oP7nB/3yW5tB/e69mW3m7POjxUqna8wmztc6mpCJlfY5Aqe3HWf3lJCN+dJAAAArYxQCQAAtFvWrKKGQiNr33GmxJwVOP4IlbzROVbq39emfs6tf7JzM/tWIAUAABAohEoAAKB9qKhQxZZc5/aJ66MVJtlPFJqDbaO1QqXG9O1jAiYTNFkby+kAAIC/ECoBAICQ5Dh7pjpEqrSCpM8/M0eCR1uHSg3pmWjTqIvc27ChYYqNMQcAAAB8RKgEAABCguP0SXeItC1PlZ9vCsoQqa5gDJXqGjbEplEjwnThYJtrs7FkDgAAeIlQCQAABCX7saPu8Gj7ZyETItUVCqGSp7jO0ojh7oBpqHMb0JeECQAANI5QCQAABI3KfbtU/sE7qvjo3ZAMkeoKtVCprj69bbroQptGDbdp5PAwRUWZAwAAAE6ESgAAoE05Th13BUnlG99W+UfvmdH2IdRDJU9du8gVLI00AZNVAwBCw/sb7Tpa6Ntb/9tvCjd7QOMIlQAAQOuz21W+8R2Vf/C266OjpMgcaF/aU6jkyZqxZAVL7hlMNvXqyTI5AAhmVqj0h+xKUzXvqrFh+kYGoRKaR6gEAABajXWlNleYtPFt2Q/tN6PtV3sNleqylsi5ZjFdZNMF/QmYACDYtFqoVJCjmVOztdaUdd2SLv0rKVObHhphRoy8bI16MVlr5qcr0QzVYh2flaMJmQu0aHKSGZQKV8zTxPk76o03dj78L8x8BAAACIjKA/kq/ccSFT/xkIqf+pZK//mXDhEodSRbtzv0t9cqNe+XFfr17yq0boNdld6/dwEAtBdJ6Vq0OkubrG1ZhiZoqOYuM7Vz+8Ud6dLSjco1p1fJXZejCWljGg6UqqQOlea/7nHbLXphvjQh1ZQerPubMS1da1d/qkIzhsAgVAIAAH7nKDqlsjdfU8kvHlXR96br7JJF7aLxNpq3eZtDLyyp1NPzK/SvN+wqPM6keACAMXqsZihHK/NM7bJFK5cO1aSxzc0oGqcHM/P1/IoCV1W4Yrl2ZU7RJFflybq/dN3wkPOx1r+nNe7TESCESgAAwG+sWUlWgHT6Bxk6s/jnrqVu6JgOHXHo7/9yh0svLqvUjl2ESwCAEbphmpS1boupnfI2Kit1nCZ6sUqt3+QpGuyarVSgNasH6sHJDcxtsu5v2liluB5rh1ZtJFUKJEIlAABw3iq2faYzv/+Fin44w7XUzXHyuDmCju7cOWn1O3b9/NkKLfx/lfrgY7s5AgDoiFKmZGiCxxI4r5a+VRuh+6zZSpnPa1XaTUoxo55cS9/Gu3s2pYxP19paS+bgb4RKAACgxco/ek8l//2kip98SGWrXnUOlJsjQH2ffGbX81mVemZBhd54y67T7fOifwCApiSN0aTUqiVw7qVqD1Y107YafafN0CizzTRL3Twljh0nrbdmKTUwtcl5++etpW+jTd3gcjv4E6ESAADwWdnb/1HxM99Vyc9nq/y9jnGFM/hP/n6H/vpKpeYuKNerr1fq5ClzAADQASRpYtpQ9xK46qVqhmejb+fW4JXbXOdkNDhLqXDje1qrHE2vDqbmK8s5Xmu5HfyKUAkAAHjFcfaMSle8rKJH79eZhc+owvlCEDgfVpj06gq75v2KcAkAOhJrtpG1BG6Bx1K182f1WdqhCZkLqkMp12Zdha6BK87BPwiVAABAk+yFh3Xu5Rdc/ZLOvvA/qty1zRwB/INwCQA6GLMELstzqdr5KvhUq9Y3cBW5Wsvt4G82h5PZBwAAqFa5Z7vK1qxQ2eoVcpTQ/KYlHunD0sCW6NZVmnB1mCaMC3ftAwDOz/sb7fpDdqWpmnfV2DB9IyPcVEDjCJUAAEAt9pPHVfrPv7g2nB9CpfNDuAQA/mGFSkcLfXvrf/tNhEpoHqESAACoVvrG311hkv3IQTOC80Go5B9V4dJN6eGKijSDAACgzREqAQAAVeSu17l//oXm235GqORfA/vZdNOkMF1xKW1BAQAIBoRKAAB0YPZD+1xhUtmqV80I/IlQKTCsXh83pYepX7LNjAAAgLZAqAQAQEdkr1TpP5e6AiXH6ZNmEP5GqBQ4nTpJk9PDXeFSOG0/AABoE4RKAAB0MOXvveUKkyp3bDYjCBRCpcAbNNCmyelhuuwSlsQBANDaCJUAAOggKndtczXhLlu3yowg0AiVWs/VV4Zp8qQw9enFkjgAAFoLoRIAAO2co6TIFSZZs5NUXm5G0RoIlVpX51hp8iT3kjgAQI2yt9+Q/fB+U3mn09Svmz2gcYRKAAC0Y2VrX1fp37NVeSDfjKA1ESq1jZHDbZpyW7gG9mfWEgBYrFDpzMK5pmpe1LU3KnbWHFMBjePPOAAAtEf2Sp3900Kd+e08AiV0OJu3OfSr5yq0Zp3djAAAWkVBjmamzdCoRrYfPuP8uHiLOdlDXrZGZeao0JSN26IFafO0vMCUDchdbD1WtnJNjcAiVAIAoJ2p3LVVxfO+p9LXXjIjQMdz5qyU/ddK/WlppUpKzCAAILCS0rVodZY2WduyDE3QUM1dZmrn9os70qWlG+sFPrnrcjQhbYwSTV1fgZZnWmHRfGWZkYZYgdL0paZAqyBUAgCgHSnL+aeKn/meKj77yIwAHdva9+z61e8qtGkrHR8AoM2NHqsZytHKPFO7bNHKpUM1aWySqRuSpCnzrWAq03n7hhWumKfpytSmhelmBK2BUAkAgHbAUXpOZ//4a515fr6rMTeAGnv3O/Tfiyr075UshwOAtjVCN0yTstZ5LIHL26is1HGa2FSm1AwrUJq4epzWPDTCjKC1ECoBABDiKrblqcRa7vafv5kRAA3522uV+t3/VupIAbOWAKCtpEzJ0ASPJXDNL31rRl62O1Can97y+0CLESoBABDCrCDJCpSsYAlA8z76xK5fP1epDR8yawkA2kTSGE1KrVoCZy19S9eDk800pTqNvmeuaKIjt1G4P19an62JVbebleMczdF0mnW3CkIlAABCkLXEzVrqZi15s5a+AfDesRMO/f5PlXr51UozAgBoPUmamDbUvQTOWvo2baxSzJFajb6d26KqsKkJiZOfqD7ftbl6KqVryeqMmvtFwBAqAQAQYqwm3FYzbqspN4CWez3Hruf+WKnjJ1gOBwCtKXHsONcSuAXrcjRjPH2QQhmhEgAAIaT0tZdUPO97qty11YwAOB8ff2rX/zxfqS2fEywBQKsxS+CylqbrhtFmrEkFWp5pLW+bryzt0Jypzv3MHBWao2g7NoeT2QcAAMGqvNy13K1s7etmAKHgkT5vmT0Eu4hwadqUcKWN52+uANqfsrff0JmFc03VvKhrb1TsrDmmAhpHqAQAQJBznD6pM8/NU/nH75sRhApCpdBzw3VhuvuOcFMBQPtghUr2w/tN5Z1OU79u9oDGESoBABDE7EcO6MxzP1HF1k/NCEIJoVJoumSUzTVrKamHzYwAAICGML8XAIAgVbn7cxX/9BECJaCVfbLJoWcXV+qzLfztFQCAphAqAQAQhCo256ro8QdkP7TPjABoTYePOvTs8xXKWWs3IwAAoC5CJQAAgkz5h+tU/PS3pYoKMwKgLVhNIv6yvFJ/+2elGQEAAJ4IlQAACCJWI82S+ZmmAhAM/r3KriXLCJYAAKiLUAkAgCBR+vpyny73C6D1vPWOXX/IJlgCAMATV38DACAInP3Tb1X62lJTob3g6m/tzyUX2zTrvyJMBQCh4cXjn2vnudOm8s5TyWPNHtA4QiUAANpYyS8fV/mGNaZCe0Ko1D4NG2LTD79DsAQgdFihUsbuHFM1796EYcoelG4qoHGESgAAtKGizK+rcvfnpkJ7Q6jUfvXva9NTPyRYAhAaWi1UKsjRzKnZWmvKum5x3uW/kjK16aERZsTIy9aoF5O1Zn66Es1QLdbxWZ7Pf6jmLntCU5JMaWnosac18FjwK3oqAQDQRk7dN5lACQhR+w449OhcrtAIALUkpWvR6ixtsrZlGZrgCn9M7dx+cUe6tHSjcs3pVXLX5WhC2piGA6Vq6VpSdd8LB2rO1HlaXuA+UrhinkZNfU+TPB7L2pZovhbkuc9BYBAqAQDQBk7dmy5HSZGpAISiwmMOPfxYuakAAM0aPVYzlKOVtYKeLVq5dKgmjfWcdtSM0TdpbuoO7TpsFVv0wvwdmrGwzswlp5SHsjR7tCkQEIRKAAC0stMP3SlHWampAISykjPSA98jWAIA74zQDdOkrHVbTO2Ut1FZqeM00YdMSSrUrvVm17q90nUD4VGbIFQCAKAVFT3yNdmPm7naANoFu1363uMESwDgjZQpGZrgsQTOu6VvtRWuWF47SEpNVj+z6+qtlDZDo8zG8rfAIlQCAKCVFD/9bVXu3WkqAO1JUbH0zC/psQQAzUoao0mpVUvgrKVv6XpwspmmVCcQmrnC8w9xOZpuxifOH6glqzOUYo5o/UHtN7s1fZ0yNcMMIXAIlQAAaAUlv/yRKjbXbUsJoD3J3+fQc3+sNBUAoGFJmpg21L0Ezlq6Nm1sTTjk2ejbuS2qCptcPBp1ewZKDfZpQmshVAIAIMDOLP65yjc0dnFdAO3Jx5/a9ZflBEsA0JTEseNcS+AWrMvRjPHne8n/Ebovc6iyZtVcDQ6th1AJAIAAOvvi71T25mumAtAR5Ky167X/2E0FAKjHLIHLWuqfBtuJk5/QpmXjtGpqzdK5UWnzpYVc/S3QbA4nsw8AAPzo3Csv6tyfF5sKHdEjfd4ye+iIvnxHuG68jr/hAmh7Lx7/XBm7c0zVvHsThil7ULqpgMYRKgEAEABlq/6hM79fYCp0VIRKuHdquNKuIVgC0LasUGnnudOm8s5TyWPNHtA4QiUAAPys/P23VPLrJ02FjoxQCZb77gnX+FSCJQBA+8NvNwAA/Kjisw915nc/MxUASC/8uVIffEyPJQBA+0OoBACAn1Tu2a4zv/upHOfOmBEAcHtxWaV257NAAADQvhAqAQDgB46zZ3T2D7+SvfCIGQGAGiUl0l/+VqkzZ80AAADtAKESAAB+cDb7t6r4/DNTAUB9u/Y49JfllaYCACD0ESoBAHCeSl9/WWWrXjUVADTuvQ/seu0/9FcCALQPXP0NAIDzULHpYxX/5PvOnXIzAtTg6m9ozIMzwnXFpfx9F0Dr2Pu+XcVHfXvrP/L2cLMHNI5QCQCAFnIUnXIFSpW7tpkRoDZCJTSmS7z03YciNKCfzYwAQOBYodKGP3i//HbAVWG68huESmgefx4BAKCFzv7ptwRKAFrkdJG7cXdpqRkAgHZjixakzdAozy0zR4XmKNoXQiUAAFqg9J9/UdmaFaYCAN9t3+lwBUsA0B7NWJilTautbYHmKlsTF28xR9CeECoBAOCjik/W62z2c6YCgJZ75327VqyicTeA9ixJE9OGSrsPMlupHSJUAgDAB/bjhTr7JwIlAP6z/J+V+jiPYAlAe1WgNat3aELaGCWaEbQfhEoAAPjgXPZvVblvl6kAwD/+8W+7iktMAQDtQNasqp5Ks7Xr3iwtmpxkjqA9IVQCAMBL5/72J5WtW2UqAPCf/Qcd+se/6a8EoP2o6qm0ZJqUtY5+Su0VoRIAAF4o3/iOzi39vakAwP/eeseu9R+yDA5A+5LyUKZmLJ2vBXlmAO0KoRIAAM2wHz2os9m/NRUABI61DO74SYepAKA9GKHZC9OVNWuelheYIbQbhEoAADTj7J9+K/uh/aYCgMA5Wmgtg2O2EoB2ZnSG1mRKc6YSLLU3NoeT2QcAAHWU5byqM8//wlRt57MzMfpxqSmchsWe00+iG/gVbo/Q46cipcaOG0dLo/WtM1V/W7Lr/q6luqm6dN/H59Z+RLmei69QT9cB9/P4S3jT940aj/R5y+wBvpnxlXBdcxV//wXgH3vft2vDH7zv2zbA+d+fK78RbiqgcYRKAAA0wn6iUMVzvin7kYNmpK3Y9HpRhPrFl+tiqzShz+C4s7o/0nWCm0cY1GjoZCmP1NRi6anu5v7q1FZwtD7Sfd+e+677L5Ee9giZ0DRCJbRUt642zf52uHr1tJkRAGg5K1QqPurbW/+RtxMqoXmESgAANOLsC/+j0hUvmyqYWCFTJ70d5RkchemPJyLVt2uZVFL3WG2uWUpllTUzkFxhVLiudc1Wsu47Sursnrlknfusylz3VStgglcIlXA+rrg0TA/O4E0dACB4MacWAIAGVHyyIUgDJYtNByqkwWGegVK0FOexhK0JPaPLdVNFpL5VFKGjzvpoebg+t8Zct3WoX3iYDpgZ8kcrw9yPY4/QXyrLdRuBEtBqPvjYrjffpr8SACB4ESoBANCAc6+8aPaCz2dnovV6dKmZMWTNLLICJV9mENmV6rzJMIXrWydi9K0z0v2dat64XtypXLuKYzTVeezHJkj67FykBneqUE9rqZxz3LVV92QCECj/+Hel9h1gYQEAIDix/A0AgDpKX1vquuJbMHI17K70bJ7tnqX0umu/tsb6KrmWvznvY1msCZJcPZXCajfr9lTdS6lSH1UvjXMvwTvQieVwTWH5G/zh6ivD9PXpLIMDAAQf/sQIAIAH+8G9QTtLqX6gZLHr/u5ntax6O6f7I5pu1G0taRsW7nEsslI3OV8SVC15q6t6lpJZdudmLZMzuwAC6t0Ndm3ext+BAQDBh1AJAAAPVqDkOH3SVMHDFSipVMtacuU1a6bRiRj9sdxd9gy36/MzEfrMXUrl4XpddvVtKCSq1UvJob4RrlEnm/Z7f2ViAOcpZy29lQAAwYflbwAAGOXvr1bJr58wVTBpZIlbRN1ZS5YGrgznurpbpAZ79F1yhVSl7n3XbKcGl77VvhKci7mvz6396NKaJXRoEMvf4E/WleCsK8IBgM92rZOKDpvCS5dMMTtA4wiVAABwcpSVqnjON1W5a5sZAc4foRL8aehgmx59uHq6IAB4zwqV3vmdKbwweLx0zTdNATSOUAkAAKdzf/2jzr38gqmApoV176Gw5AGyxcbJ1tm5xca7P8bEOrfOro9ybpsiUlVcIrM5avaLq/bdHwFv3Ts1XGnXMFsJgI9aNVTaogVp85VlKsuEzAVaNDnJVJb65yg1Q2vmpyvRlE3JXTxDzw+sc58FOZo5NVtrTenL/aHlCJUAAB1e5c4tKprjfOFUbpoOAU62qGhXcGRt4dbHPv3dH60wyQqN/KSysnbotGevQ3v2OTfnx4JCXqahtj69bHr8+xHq1MkMAIA32iBU0sIszR5dU++qCpbysjVqVo5mVB93K1wxT0/qwTrhU23WORPn73Dt1w2qrGMv9Hui+j6t4Gm6MrXpoRHuAQQEoRIAoMMr+dXjKl+/xlToqGxduiniwpGKGHmpIi6+XOGDhpkjbed0kbR3v8O1VQVNx0/w0q2ju/OWcN1yI7OVAPigTUMlEwblT9GmhxK1PHO2VqXVnbnkmwZnKtXheszV45itFGD8NgIAdGhlb/2LQKmDCktIUmRqmmLu/abi5i1W1z+8ps6Zv1D0bV8JikDJ0iVeuniETTffEKZvfj1cv3g6Qj95PMLVsHnypDCNushmzkRHkrO2UoXHCRcBhI79+e7ZRSr4VKvWD9WksS0PlLxToDWrnY85KJlAKcAIlQAAHVrpyn+YPXQEYYm9FX3jner86AJ1Wfx3df7BPEXffo8ihl1szgh+vXraXFcAm3JbuL43M0JzZkfo1i+EKbk3AVNHYc1ge3MtV14EECIKcvT8UmnG+KplaAM1pDpTsmY1zdAos81cUWDGW86axTQqbbbmKENrWPoWcIRKAIAOq2ztf1S5Y7Op0F7ZuiUo6vpb1fmRn6jLs39RzDd+oMjLxpmjoW9AP5vuuDlccx+L0LfuD9dVY8MUFWUOot3KWWtX/n5mKwEIXlmzTFg0NVuDa/VPytfO6uxohGavztKm1Qs0N9UMqUDLM2uCplGZOSo0R7yR8pB1f1lak/aeJvp4W/iOUAkA0GGVvfWa2UO7ExauqGu/oNiHn1aXZ5cq9qFHFXnlRCky0pzQPl06JkzfyAjXMz+K0N13huvCwcxeaq+sBu9r1jFbCUDwshpxW+GOtVUHSkljNCl1h1ZtbGpGUpKmzK+57aYW9kRKHDtOE9Yf1H5TIzAIlQAAHVL5+tWq2PSxqdBe2DrHK/rWuxX/ixcUO+tJRY2f5NcrtYWKHt1tuiEtTJkPR+iHsyI0aWKYuncjYGpv1r5rV/4+ZisBCCVJmnJvutbOn60FeWbIT3IXz9Nyj6wqd3m21qYmq5+pERhc/Q0A0CGV/Hy2yj96z1QIdWFJvRWVdrNrs/ZR37lS6b0P7Fq1xq4jR3n5115MuDpMX7073FQA0Ig2vvpbfe5zskxlmZDZ/BXhXFd0m2+afrsM1dxlT2iKdbO8bI2aleMetqRmcOW3VkCoBADocMpz31fJTx8xFUJZ+IDBikq7RVHX3eyapYTmlZyRVq2pdIVLZ8+aQYS0Jx+J0MD+zEQD0IRWDZXQkRAqAQA6nJJfP6ny998yFUJRWM8+rkv/R9/wRVf/JPju0BGHK1iiL0/oY7YSgGZZoVLRYVN46ZIpZgdoHKESAKBDqdicq+Knv20qhKLoW6cp+rZpCuvOhHZ/2LbDoVWr7fo4j3AplDFbCQDQFgiVAAAdypnnfqKyNStMhVASecW1rtlJEReNMSPwpw8+trvCpZ17eGkYipitBABoC4RKAIAOo3LnVhU99g1TIVSEDxziCpOiJtxkRhBIOWvczbwLjvESMdQwWwkA0NrCzEcAANq9srdeM3sIFZ2mfl1xzywmUGpF6RPD9KPvRShtPC8TQ82ad1nCCABoXcxUAgB0CJX796go8z6pvNyMIJiF9emvmHu/6Vryhrazep1dy/5RqdJSM4Cgx2wlAEBr4k9QAIAOwTVLiUApJESOu15xT/w3gVIQsGYrfX9mhIYMIqQIFcxWAgC0JmYqAQDaPXvBIRX98OtylBSZEQSrTvc8qE53ZJgKwcKaqWTNWLJmLiG4RUVJcx+NUGIPgkAANZafrNCeMt/+G/6Dns7/oADNIFQCALR75176g84tzzIVglH4gMHqZC13S7nKjCAYsRwuNNx1e7huSmdBAoAaVqg0a/85UzVvSrcILezXyVRA4/htAwBo3yorVPbOG6ZAMIoaP0mdreVuBEpBj+VwoeGDj5lRBqCNFORoZtoMjWpk++Ezzo+Lt5iTPeRla1RmjgpNWc0aT8tWrimrFK6Y1/D5aHWESgCAdq38g3dkP3LQVAg20ZPvUuzDTyusWw8zgmBnBUpWsMTV4YJX/j6Hcj8jWALQBpLStWh1ljZZ27IMTdBQzV1mauf2izvSpaUb64VEuetyNCFtjBJNXW10htZk5mu6ZxBVkKMn5w/Ukvnp9c9Hq+PVAACgXSvf+LbZQ7DpdPd/Kea+75oKoSQ6Wrr3y+GuDcFp48d0uAAQhEaP1QzlaGWeqV22aOXSoZo0NsnUtSVOnqIZS+drges2BVr+y2wp8yaluI6irREqAQDaLfuJQtdMJQSf2Admq9OUr5kKocqarfTA1wiWgpG1BO5IAcESgGAzQjdMk7LWecw8ytuorNRxmthwpuQ0QrMXpitrVrZy817XHGXomcmNnoxWRqgEAGi3rEDJcbbEVAgWnb8/T1GTvmgqhLorLwvT/fcSLAWbykpmKwEITilTMjTBYwlco0vfPI2+SXNTczR9Vr7mPsKyt2BCqAQAaLcqWPoWdDo/9ktFXpVmKrQX464I0333ECwFGxp2AwhKSWM0KbVqCZy19C1dD1bNPKrT6HvmigL3uJI05d50qckZTWgLhEoAgHapMn+HynPXmwrBIG7Os4q8lCu8tVfjU8P01bsJloLJ/oMOffQJwRKAYJOkiWlD3UvgrKVv08bW9EfybPTt3BaxzC3oESoBANql8o30Ugom1hXeIi6+3FRoryZcHabpdxEsBZMPWAIHIAgljh3nWgK3YF2OZowfYUYRigiVAADtUvkHLH0LFjEzHlbU+EmmQnt33bVhmvYlgqVgsTHXroOHCZYABBmzBC5rabpuGG3GEJJsDiezDwBAu1Dx2YcqnvuwqdCWOk39umtDx/OfN+1a9o9KU6Et3T45TLffRNAHdGTLT1Zo1v5zpmrelG4RWtivk6mAxhEqAQDanbMv/I9KV7xsKrQVAiX8e6Vdf3uNYKmtDRlk02PfjTAVgI7ICpX2lPnWY+0HPaPMHtA4QiUAQLviKCtV0femy15w2IygLRAooco/X7frHyuCIFhKi9Bv7rQp1pQ669BfH63QG6Z0uSdCf0i1mcKhtx+u0P+Zqp4693dme6W+89uqN2zheubZMPVx7de+nxu/Hakvd7HrGz9t3a/JUz+MUP++VZ8bAAD+QU8lAEC7UrHxHQKlNhZ921cIlFDttpvCdOXlbf+S88aLbTq1vlzfeNi9vX3api//yGNJmCtQkt42x7/RVKBkhUZ3et6fXacudI7d4z5647fD1HV7pevYX7fbdLmzdgvXtRc69HYrB0qWTVv5OzIAwP8IlQAA7QoNuttWxOixirn3m6YC3KbcFqZeSW07S+aN35bryT+bwunQaef/dbHpRlcVrmdSbdr696aCJA9pNnV1fjh10F1as5FOnZW6JrhfWvfp4jx23D1r6Y3jDsU6H8fiDpvs3j2Gn23a6tuyFwAAvEGoBABoN+zHjqp84zumQmuzxXd1B0o2ltigth7dba5gKXiEaUw/54fTDvfyNxMSXXRnpP7wrNk8ZzHVtbpCHx5xn/9ImrNOC9OAGIc+NMvfrMCqKmC6McGmM87HqZqlVHVOa9vyuUOHjzJbCQDgX4RKAIB2w5ql5Cj1/som8C8rUAofNMxUQG2XXRKmm29o+5eeX/uRFRqF6yI59NeqZWjJUqzVY6l66Ztdh3qF6TfVy9bq+789DumsNMAKou60SR4zkN74rXs5nBVOfdkESdWzlKxeTFXB1c8jzEyp1sESOACAvxEqAQDajYrNH5s9tLbom6Yo6rpbTAU07Eu3hmvURW07k+3/fuoOjv6636YvNxrqVOrt7VJsv7CGj1vBkNV/6dFyfcejp1JNCFWpJ6sDKmtJXc0spa9dXdOLyerrdGsTwZW/bWYJHADAzwiVAADtg71Slds+MwVaU8RFY9SJPkrw0pTbwtW5syna0BufOXQmRu4rtB1Uzb6nquVxdblmNkmHTGmFSDuOOMdM76S6anophSmpixl0cvV1akXWTKXjJ5itBHRI67dJr633bQO8QKgEAGgXKrZ9JvuJQlOhtdg6xbgCJVtUtBkBmjagn9VfqYl+RQFiLXtz9T8yrBlD1cHQarv2nrXp2uo+StbMIuexPVVXaQvXM89G1sxEcoVQzvPN1d6s40N7OcdcvZPq8uylZFeBR5BkNfRuTRXOT4clcEAH9s8N3m9HT5kbAU2zOZzMPgAAIevcKy/q3J8XmwqtJSbjW4q+7SumAryX/ddKrVnXisux7onQH1I9ZhJZPZQerfCYiWQFR2HVs5XObK/Ud6qbaruPdfUcq3N/tc+vYYVZQ/d4XnnO43HqPYfAG3tpmB6a0fqhHoA2Zs1U+l8f/muTOlz6egu6vhXkaObUbK01ZV23pEv/SsrUpodGmBEjL1ujXkzWmvnpSjRDLtb4LGnJ6gylmCFL4Yp5mrh6nPP8ZL2QNl9ZZrxGer3bIDAIlQAA7ULJ/EyVf7jOVGgNERdfprg5vzEV4JszZ6VfPVeh/H28FG1NMTHSz56MVFwQLEEE0IpaK1Ty5AqY3tOkZU9oSpIZayQkyl08Q88PXKBFk6tOrOEKkPKn1ARRrvs9qAcbCY3qnY+AYvkbACDkWVd8q/jsQ1OhtXS6I8PsAb6LjXH3V0LrOntW2ra9FWeIAYCn0WM1QzlamWdqly1auXSoJo2tHyhZEidP0Yyl87XAdZsCLf9ltpR5UyOzkLbohfnS3CkESq2FUAkAEPIqt+W5giW0nuhbvqyIMVeYCmiZkcNtSp/Ay9HWtnsvs8MAtJURumGalLVui6md8jYqK3WcJjacKTmN0OyF6cqala3cvNc1Rxl6poEZTZbCFcuVNW1KzcwoBBy/xQEAIa/ic6761prCkgcwSwl+Y4VKnWNNgVZBqASgLaVMydCEpRuVa+rcdTmakDamdi+lukbfpLmpOZo+K19zH6nTd6kas5TaAqESACDkVeRtNHtoDZ3uuFe2rt1NBZyfnkk2pU/kJWlr2pPvUFm5KQCgtSWN0aTUqiVw1tK3dD1YNfPI6peUNkOjzDZzRYF7XEmacm+61MSMptzF85ml1Ab4DQ4ACGmOkiJVbPnEVAi0yHHXKyrtZlMB/pE+IdwVLqF1lJZJO3czWwlAW0nSxLSh7iVw1tK3aWNr+iMlpWvR6ixtMltDjbsbVJCj55cOZZZSGyBUAgCEtIpttTo9IsA6ffEeswf4j7X8jd5KrWvXHkIlAG0ncew41xK4BetyNGP8+QdBucuztZZZSm2C394AgJDGVd9aT9SEmxQ++CJTAf5lhUqDBjJbqbXQVwlAmzJL4LKWpuuG0WaspfKyNd15P0seYpZSW7A5nMw+AAAhp2j211SZv9NUCKS4Ob9RxMWXmQrwv/c32vWH7EpTIZC6dZV+OTfSVADavfXbpP99wxReSB0uff1GUwCNI1QCAIQs+8njOv3A7aZCIEVeca06z/6ZqYDAeXZxhfK28PK0NTzzowj16cXsMKBDsEKlgpOm8NKtqWYHaByhEgAgZJW9s1JnfvNjUyGQrEDJCpaAQLMCJStYQuDNuCdc16TSDQMA0HL8FgEAhKyKvI1mD4FkLXkjUEJrGT3CpqvG8hK1NXAFOADA+eI3NgAgZFVu32z2EEhRaTebPaB1cCW41kGoBAA4X/zGBgCErMr9u80eAsW62pt11TegNVlXgRs9kl4/gXbwsENlZaYAAKAFCJUAACGJQKl1RI27zuwBrWvMSF6mtoZDR5itBABoOX5bAwBCkn3fHrOHgAmPUGTqRFMArWv0KJvCw02BgCFUAgCcD67+BgAISeeW/a9rQ+BEjZ+k2IefNhXQ+n77h0rl5tlNhUC45cYw3XkL6R3Q3h0896nOVBw3lXeGxqWZPaBxzFQCAIQklr8FHrOU0NbG0Fcp4A4dNjsA2r3tJWu83koqT5hbAU0jVAIAhCSWvwVWWPIARabyF0q0LatZd1SkKRAQLH8D4H9btCBthkZ5bDNXFJhjVeqfMyozR4XmKEIHoRIAICQxUymwoq5Kk2zMEkHb6t7NugocL1cDiVAJQKDMWJilTautLVOD58+uCZbysjUqbb5Ufdy9rUl7T0/WC58Q7PgtDQAIOQRKgccsJQQLq2E3AotgCUBgjdB9mUO1Nt+ah1Sg5S/maELmAs0e7T5aJXHyE1o0OclUCBWESgCAkMPSt8CKSElV+KBhpgLa1piRYYrpZAoEBKESgEDbn7/DvVPwqVatH6pJYwmP2gtCJQBAyGGmUmBFjEwxe0Db6xJv9VbiJWsg0awbQEAV5Oj5pdKM8SPMwEANqc6UavdWqt97CcGO39AAgJBDqBRYESMvNXtAcLAadiNwmKkEIBCyZpmwaGq2Bi/M8ljulq+d1dnRCM129VRaoLmpZgghhVAJABByWP4WOGE9eipi2MWmAoKDtQQuOtoU8DtCJQCBUNOo2yNQShqjSak7tGojM5LaC0IlAEDIYaZS4ESMvtzsAcGjc2epf19mKwUKoRKA1pOkKfema+382VqQZ4YQ0giVAAAhhUApsCIuHmv2gODSP5lQKVDKyqTiElMAQKCNztCm1ZlS1fI41zZbq9IWcPW3EGRzOJl9AACCXvl7b6nkv580Ffyty++WKyyxl6mA4LH2Xbv+9FKlqeBvT2dGqB/BHdBuHTz3qT459XdTNS+50xhd0vVOUwGNI1QCAISUc8v+17XB/8L7D1L8r7JNBQSXPfscmvfLClPB3777UIQuHkGoBLRXVqh0puK4qbwzNC7N7AGNI1QCAISUs/+3UKX/eslU8Kfom6cqZsbDpgKCz3ceLdeZs6aAX824J1zXpNIZAwDgG35zAABCiuNMsdmDv4UPGGL2gOBEs+7AOXnK7AAA4ANCJQBASHGcoZtsoIQlDzB7QHAiVAqck6dYvAAA8B2hEgAgpDjOEioFSjihEoLcoIGESoFyiplKAIAWIFQCAIQUR0mR2YM/2eLiZevSzVRAcCJUChxmKgEAWoJQCQAQUgiVAiO8D7OUEPx6JtoUH2cK+NXJ02YHAAAfECoBAEIKoVJg0E8JoeKCAcxWCgRmKgHt3HbnttHHDfACoRIAIKQ4irn6WyCEJfc3e0BwYwlcYDgc0ilmKwHtW0PBUWMbfdbgJUIlAEDoqKhwvvOxmwL+RJNuhIqYToRKgcJsJQDnrSBHM9NmaFQj2w+fcX5cvMWc7CEvW6Myc1RoysYUrphX7z4X5JmDaBOESgCAkOE4wyylQLF1TzR7QHCLjTE78LszZ80OALRUUroWrc7SJmtblqEJGqq5y0zt3H5xR7q0dKNyzelVctflaELaGDX+aqRAyzNnaOLqcVpTdf+uLVOalV3v/tB6CJUAACHDcbbE7MHfbLGdzR4Q3GIIlQKmstLsAECgjB6rGcrRylqzi7Zo5dKhmjQ2ydQNyHtdc9ana8n89DrB0wjNXp2hFFOh9REqAQBChuMMoVKg2GIIlRAaWP4WOIRKAAJvhG6YJmWt81gCl7dRWanjNLGJTMmayaRpYwmPghChEgAgZLD8LXCYqYRQwfK3wKm001MJQOClTMnQBI8lcM0vfXObMLDmjNq9lVj+1pYIlQAAIcNRUmT24FeRUcxUQshg+VvgMFMJQKtIGqNJqVVL4Kylb+l6cLKZplSn0ffMFQXucae1+TVtvBMnP+HuqbQw3YygrRAqAQBCBqFSYDBLCaEkluVvAUOoBKB1JGli2lD3Ejhr6ZvnsjbPRt/ObZEJm1LGN9zgG22PUAkAEDIcxSx/CwRbbJzZA4IfM5UCh1AJQGtJHDvOtQRuwboczRg/wow2YfRNmpuao+mZOaqZr4RgYHM4mX0AAILajz/5p9ZWnla4cz/C+dsr3PkrLMJz3/kxwvkx3G4+WmN2a9waq/pod485t3CHXeGV1rhzrNK57zxWfdz57spVO8er9q1zwpz77tr5scLUzv3wCudmjVdUuD5GmDrCWYdVViii3Bp3Hwu39s15wSB8yEWK/9kfTAUEv2/OLldZmSngN1+9O1wTruZvzkC7tN255bh3vXKhczvflWXWUrap72nSsic0pV4T7gItz5ztvqKbD1dvs3opTZy/w1QW324P/yNUAgCEjF8d+USP7H/XVKHP5vxfhM1sClO466PZnPvhVfuuTTW1FaI5a9eYFaRVfawatz66QrWqcM18rBuweezPS/8v5y2B0PDInHKdPGUK+M09d4Xr+msJlYB2qS1CJXQIhEoAgJCxqGCTvrl3rangL1d07qkNF00xFRD8nvxphQ4d4SWsv919Z7huSCNUAtolK1TyNYwfaz4CTeC3BgAgZMSEWXNy4G9FlawjQmihr1JgBMmKXACBYM08skIiXzbAC4RKAICQEUuoFBCnK8vNHhAaCD8Cg68rAMBXhEoAgJARE2Z1DIK/nWamEkLMqdMsfQuESjtfVwCAbwiVAAAhI8bGTKVAKLaX65ydKQoIHTTpDoyYTjazBwCAdwiVAAAhg55KgVNkZ7YSQgOBUuDE0qsKAOAjQiUAQMjoxPK3gCmirxJCBEvfAocG6AAAX9kcTmYfAICgtvncCY3atNRU8KfckVN1SUyiqYDg9clnDi38fxWmgj/94FsRGjGMJXBAu3RsrVR6yBReSr7b7ACNY6YSACBkxNiYqRQozFRCqGCmUuCw/A1o3xwH/+r9VnrY3ApoGqESACBk0FMpcPaWFZs9ILidJFQKGJa/AfCPLVqQNkOj0uZpeYEZcipcMU+jFm9xF3nZzuPWOTXbzBUeJyNkECoBAEIGoVLg7Co9bfaA4Eaj7sCJ5epvAPxmqGZMk+YsNyFSg9K1ZHWWNlnbsgxp/mwtyDOHEDIIlQAAIYNG3YGzk1AJIYLlb4HDTCUA/jR4yhTNWLq81mylRiWN0aRUadd+ZiuFGkIlAEDIiLaFuzb4HzOVECqYqRQYUVFSOP95BeBXI3RfZnOzlYyCT7Vq/VBNGptkBhAqCJUAACGlb1Rnswd/2lXGO3WEBmYqBQZNugEEQuLkpmYr5Wh6VU+lqQf14OonNIVMKeQQKgEAQkrfSEKlQNhfVqJSR6WpgODFTKXAiKGfEoCAaGq2UlVPpUzNUI5W0k8pJBEqAQBCSr+oOLMHf2MJHILdzt3MUgoU+ikBCJSq2Uov5JuBekZo9sJ0Zc3KVq4ZQeggVAIAhBRmKgUOzboR7HbuIVQKlK7xzFQCECju2UpZS3eYugGjM7RkWo6mZ+ao0AwhNBAqAQBCCj2VAoeZSgh2zFQKnB4JZgcAAsA1W8nsNybloQWaq2xNJFgKKTaHk9kHACDovXxip6buesNU8KeMHsP0pwvSTQUEn0fmVOjkKV66BsLdd4brhjT+3gy0W8fWyrH7WVN4occE2QY9bAqgcYRKAICQ8l7JEV299W+mgj/1jozVoTFfMxUQXA4fdeiJn1SYCv72za+H67JLCJWAduvYWqn0kCm8lHy32QEaR6gEAAgpe8uKNTAv21Twt49HTFVKbKKpgODx/ka7/pDNFQoD5clHIjSwP32VAAC+4c8RAICQ0o+eSgH1ZtEBswcEl935/B00kHokECgBAHxHqAQACClhsqlPZKyp4G8rT+83e0Bw4cpvgRMdLcWR1wMAWoBQCQAQcvpGxpk9+NvKon06WVlqKiA4nDot7dlLqBQoPbozSwkA0DKESgCAkMMSuMCpdDi0uuigqYDgsHuv3ewhEHokmB0AAHxEqAQACDl9IwmVAmkNoRKCzB76KQUU/ZQAAC1FqAQACDkXRMebPQTC6mJCJQSX3Sx9C6hEQiWg3Ss85tD+A75tgDcIlQAAIWdMTA+zh0DIPVOod4oPmQpoW/n7HNq0lTc3gdSju9kB0K7tO+jwejtLe0V4iVAJABByLiFUCrhXTu42e0Db+vAT+ikFWs8kZioBCICCHM1Mm6FRntviLeYg2gtCJQBAyOkVGevaEDivnNyjcgdv5tG2KiulD3OZpRRINps0sD+hEgD/KlwxT6OmvqdJy7K0aXXNtkTztSDPnIR2gVAJABCSmK0UWDtLT+kfzFZCG7NmKR0pIFQKpAsIlAD43Ra9MH+HZix8QlOSzJCR8lCWZo82BdoFQiUAQEiir1LgsQQObY1ZSoE3cAChEgA/y9uoLKXrBsKjDoFQCQAQkgiVAs8KlfaVFZsKaF0HDzvop9QKLiBUAhAIqcnqZ3br9lZi+Vv7QqgEAAhJl8QSKgVaib2C2UpoMx9+wiyl1sDyNwABsf6g9ptdJaVrkaunUqZmmCG0H4RKAICQxEyl1kGohLbyYS6zlAItIkLql0yoBMDPRo/VDOVoJTOSOgRCJQBAyCJYCrw3iw5oQ8lRUwGtIzfPrv0HmakUaMxSAhAYI3Rf5lBlzZqn5QVmCO0WoRIAIGS17hK4Ag1/dLX6nzBltRL1/93fNOlR93bFuyVmvHkJr1i3yVWCqS3uMfc2fLsZtJzYpSvqnNta/l/hZrMHtA6WvrUO+ikBCJTEyU9o07JxWjW1ppfSqLT50kKu/tbeECoBAEJW68xUqgqN3lZ/M+Ip4ZX/aHjytVr18y85t2t1+lVn7RkGNcIKjy573xRVTuzSkIMpWmfdV2aKuqzcpRhzKGFNrk7fn6Ljpm5NfyjcovdKjpgKCKzC4w6WvrWSgcxUAhBI1b2UajYCpfaHUAkAELJaJ1TqrH3fdAdG+8xIjQIlvZ+gbROTTJ2kgquk/puanusd8+5qXaZrter+wWbEKDytrsnxOmvtd4/X6b2n3aGSCZv2XmgVbWNxwSazBwTWmnV2lZWbAgHFTCWgY+mfbPN6i4k2NwKaQagEAAhZl7R1T6UTRepidquc7ZkgHSyqnmFUlxUojc8doHV3VAVRHhK76FTVba37HtDFFTC5ZindMNgdNrWRPx3bpjVFB00FBMaevQ698RazlFpDtPMNY59ehEpAR5HYw6Z+fX3bAG8QKgEAQlavyFgNje5qqrbSTSXdzW5ztue6A6VvNhIQdR+sncnOc6yeSvNNkFQ9S8mzd1NDvZ0Cb3Ehs5UQWP95y67KSlMgoGjSDQDwB0IlAEBIu6nrALPXVk6qs5cBT0zBSWmvCY2s7Y+7nKO7dJlHA+7jd1hL7dzbtgs9Zilt317Tu+n+bhr+l5p+S61l6fEdWnl6v6kA/9qYa9cHHzFLqbWMuoi3AQCA88dvEwBASLupS0Pts1uJ1ffI7FaJOXpcquqLVMfZq9OqAyN3OGT1VBqsj37eSANuj15KrkCqirVMzuy2tkX0VkIAOBzSG28SKLWmURcxUwkAcP4IlQAAIe26+L5mry1YjbmPa/iaqsbcVuNuad+omn5J1lXeJv2uZbOKPHspnU3q5h60WA29zW5r+/vJXfrXqXxTAf7xnzft2pXvMBUCLS6OK78BAPyDUAkAENJiwyJ0Y0BnK1X1Mnpb/XVcw+fXDomO3/EFbTv4tul19La63O6s/XGVtu25rivEVd/XhSn6SOZx/nhS277Sdo27f3kkV5XW1BLADwoKrebcNFJqTRez9A0A4Cc2h5PZBwAgJP33kU/0/f3vmgqt4ek+V+ip5LGmAlpuybJKvfUOS99a09enh+vqKwmWgI6kcs92OYrrLtpvWsTFl5s9oHGESgCAkPfhmQKN3fKyqdBacobdruvbdPkhQt2Wzx361XMVpkJr+emTEeqZyPI3oCOxQqXy998yVfPCL7hQkVddZ6o2UJCjmVPf06RlT2hKTVcBBCH+RAEACHmXxyZpYFS8qdBanjm0UUWV5aYCfMeyt9bXv6+NQAlAkNmiBWkztCDPlAgphEoAgHbhC215FbgOanXRQS048rGpAN+8875deZuZMN/aRgwjUAIA+A+hEgCgXbg2vo/ZQ2t65tCH+uepPaYCvLNnr0Mvv8ospbYwdDChEoBWYC1fS5uhUa5tnpZXXSi3albSiqrj8/Q/v56vLOeRrFnu82euqD5Z2pht7sO5Ld5iBt0KV8yrOZaZo0LPcWe9fHHt2+VW1a7N8znhfBAqAQDahWvjCJXayoLDuTpcfsZUQNPOOH9U/vK3ShWXmAG0mjDnK/8LB/PyH0CgbdGCqdkavDBLm1Y7t4UDNWdq7RAna7X0jHVs9RP67vczNcM5NsOcv2hyVROlHZqTP9Z9H6ud5yydX71EzgqOJs4fqCWuY1laMihbT3qGUeuztWu8+9imh0ZIedmavjtDa8z51nPaddici/PCbxUAQLtg9VQiWGobbxcf0qKPtpsKaNpLr1Rq526WvbWF4RfaFB9nCgAIlLyNylK6bhht6tE3aW7qDq3aWBP6zLg3XYlmv3FDNXfKCLOfqMGpZlcFWrN6hyZk3qQUM5IyPl1rV39aPVtJqRm6r+rxnQr350vrD2q/qTU6Q7M9jqPlCJUAAO0GoVLbyNx7jVL/Nko73+Ky8Gjav1fZtW49Pydt5UKWvgFoLanJ6md2pSQNGWR2/Wjt/Nk1y9lm5ZjRhiVOfkJLpuVoetX5HsvlcH4IlQAA7caE+GSzh9bQuSxKWXlf0th/XaQzxxz6eEmlDn3CDBQ0bGOuXX/7J32U2lLKxbz0B9BKPGcFqUA7d5tdP6paLle9zW969lPKQ1XnLtBc1VkuhxbjNwsAoN2wrgCXEtv8ZGqcv0nHhuiv6+5R53cSzIjb+4srdOY4wRJqy9/n0F//zgyltjRiuE0D+jFTCUArGD1WM5Sj56tCm7zXNWf9UE0aW9UrqS730rZd+70NeZI0MW2osmZlK9eMWMHV8sWNzz4qXJFNY+4AIVQCALQrd3YLwPxq1DInP00P/+c6ndkaYUZqVJZLb/+K2SioYTXmtq70dvwkYWNbYpYSgNYzQrOXZUhVy9Nm5Wvusic0pbFMSUmacm969XK2Wld/a4S1nG1NZn7Ncra02Vo1cEyjM5US+zlfv0ytOXfOoEyPhuA4HzaHk9kHACDkfXr2mC7Z/FdTwZ/iz3XSoq23Kfq9rmakcT1H2DThB/VDJ3Q8f3qpUmvfZZZSW4qMlOb9KEI9EpipBHRUlXu2q/z9t0zVvPALLlTkVdeZCmgcoRIAoN25bce/9dqpfFPBH24rHK6ZuVerZHu4GWneoGvDdPnXvD8f7c+KVXYtp49Sm7vi0jA9OIN/i0BHZoVKjuLTpvJOxMWXmz2gcYRKAIB2538Lt+r+fO//Goem/WT3JF38zgUqKzYDPrgsI1yDJ7LspiPK+/SMFv1fuMoq+P63tW84/x1eNZbvAwDA//jtAgBod+7sPki9ImNNhZbqdiZGSz+6W8Neb1mgZPkou1In9vD3q46mouScDiQe0KP/VajuXZip1Ja6dbUpZTQv+QEAgcFvGABAu9M9PJqG3efpy0cv1p/XfkXh6+PNSMvlzKswe+gIysqlT3dG6fL95/RO99OalXFSFyTzM9BWUi62qVO0KQAA8DNCJQBAu0So1HILdnxBX/nXVSrZ7b+XCS9/o1ylRaZA+1VZok1b7SotlXbYRun6vTZ90PmoMu4q1uhhZeYktCZmKQEAAonfMgCAdunGLv01NpZLxfoisaSzln3wFV2wsr8qzplBP/rn98p1+hBL4dqtilNybMlUn8h1ZkDarWFKPdhZm2x7dMfN53TNpQH4wUKj+vax6eIRXPENABA4hEoAgHbrzu6DzR6a87XDKfq/1XdLGzubkcB448kKFXxOsNTulBXKseVR6dwh9Sr+Hw2KrwmW9mmQRh7vpc8rPtfE68t00/iz5ggCLWU0gRIAILC4+hsAoN3acu6ERm5aaio05tnPb1a/Ncmyt2Lbm3Ezw9X3cv621S4Ub5Njx8+litqXqj4S913tLhpvKqln2GHt7bxTyZ1Has8n4Vq2MrABJqQnfhChCwYQLAGQVuiY9sm32aIPqK/ZAxpHqAQAaNfu3Pm6Xjm521Tw1L+kq57Nu1WVH8eYkdZ12b3hGpxGsBTSNubLoe+bor4j8d/T7tNXm0rqEVaoo502q1v8aJ3aIb3wjy7mCPztikvD9OCMcFMB6OisUOlJ7TRV8yarh57REFMBjSNUAgC0a386tk1f2/OmqVDlwUNX6LYNY3T2YNvOYhh1R7hG3EqwFHKsP3a/69w+lxxXLZYqVrqGG1J3xlK3sJM6Z/tI53pfos57HPrNS93NEfjTdx6I0JhRzFIC4NZqoVJBjmZOzdZaU9Z1S7r0r6RMbXpohBkx8rI16sVkrZmfrkQz5GKNz5KWrM5QihmyFK6Yp4mrxznPT9YLafOVZcZrpNe7TY0CLc+crTnrTVllWqaWaL6my4fnB0IlAED7Vu6wK2XzX7X53Akzgt9tvU1Jb/UyVdsbmh6mlK8woyJkHHVuVqB02FU5OeS4+qdS2Uemrq9usBQXVqQw+wbtGzBag/dJC7J7OO8F/jJ8qE2zZ0WYCgDaaKaSK2B6T5OWPaEpVddOaSQkyl08Q88PXKBFk+tfZMUVIOVPqQl6XPd7UA82EhrVO78ed6i0Kq2Bx2vB8+vo+NMgAKBdi7SF6as9hpuqYxt2JlF/X3dvUAVKlh05dq3/faVKCokVgp71fuR151YdKFlssm2cLUU13hi/bvPuYnu8KmzjNHT3p/pkoENPfL1A4WF8//1l3BW8xAcQpEaP1QzlaGWeqV22aOXSoZo0tuHAJnHyFM1YOl8LXLcp0PJfZkuZNzUyC2mLXpgvzZ3SWKDUjBY8v46O3zgAgHYvo8cwJUW0Td+gYPHwgav0q9e/qIpPO5mR4LJvg11rFlRqzzt2M4Kg87Fzs1a5nXFVtZVFybblSSkiwQzUVzdYOuOI1emIa3Xl9jy93c+up/7rqOJiKs1RtFSfXjZdRagEIGiN0A3TpKx1W0ztlLdRWanjNLHRzGaEZi9MV9asbOXmva45ytAzjcwYKlyxXFnTptTMjPJZS55fx8ZvHABAu5cc2Vlf7THMVB3P/9t0h6559WKdOxLc/VXOHHNoY1alNvyhUsVHmLUSNIqdm9WWrG7vibpOdJHtwNNSeKwZqK9usFTqiFZh1ERdt3Wz/tW7Uo/eV6jkpFa8DGE7ZM1SimA1KYAgljIlQxOWblSuqXPX5WhC2pimexWNvklzU3M0fVa+5j7SWF8j32YprZ0/W6PSZpgtu/r5tOj5dWCESgCADsFaAtfRWtamlPTW39dkqNva0HoZtPd9u1b/okK71jBrqc3tcW4rnNvnrqp5+/rKdvIxydZ4qlE3WCpzROpgdJru/OxzLetVqm/dfVIXDS4zR+GLzrHSVVfQnBtAkEsao0mpVUvMrKVl6XqwauaR1S+pOuiZoZkrCtzjStKUe9OlJmYM5S6eX2+WktULqaHgyDIhc4E2rc4ym0cPpaaeH+ohVAIAdAhjYnp0qN5Ks/dfo7n/ukUVm6PNSGg5d0r6KLtS7z9fqdMHmbXU6qzJQh86N6t/0jFrwAfbRspW/rApGlY3WKpwRGhnzHWanrdHS5OKNf2WEl052rrEHHxhLXtL6EaoBCDYJWli2lD3EjNradm0sR6BTroWVQc9Wd43xi7I0fNLh9abpZTyUM191QqOmtTE80M9hEoAgA6jo4RKWXlf0pX/vEilx0L/zeX+D+xa84sK7XiTWUutpeTAMSnHufOBu26R3PGyhd1tiobVDZbszpel2zql6at5B/TnpOO69bpSTbqqoQZOaMy4sby0BxAaEseOcy0xW7AuRzPGt7Cptofc5dlae169lGrz9/Nrz/jNAwDoMK6P76ubuw40Vftz1Zm+euXNr6rzO403Sw5FpcXOF4t/rtR7z1XqRD6zlgLlTOUJbSl6XWsjfquyUj+EORu+LEWON0XDrGBpYLxnemXT1k4T9I28Qv058YiuvapCd15vNXVCc664NEwXDGCWEoAQYZaYZS1N1w2jzVhL5WVruvN+ljzkx/DHn8+vnbM5nMw+AADt3ksndmjaLusSVu3LE/sn6Iq1F6rsVPt/Uzl4QpgGTQxT94G8gfaHMnuJ8s98oD1n3leFo9Q1NqB4rEatvMW1f15slXKMe9r5IJvNQMMOxf1Q+UVXmMptWPlHWjo8UjefHqC92+3K/lcXcwQN+c4DERozin8TABq2Qsf0pHaaqnmT1UPPaIipgMYRKgEAOpzUrcu1oeSoqULf/+Xepdj3upmq4yBcOj+VjnLttcKksxt0rvKUGa1x1Y771D1vgKnOQ+xZOVIypbIDZqBhDQVLQ+2b9M8BpRpXOlQle8u0eHl3cwSeLhsTpm/ezyXfADTOCpX2ybdedQ+or9kDGkeoBADocJ4r+Ezf3vu2qULXdWcu0MPrJqp8R6QZ6ZgIl3xjd1Rq/7mPXYFSUUXj4WpUWKzS3vyuwk/44eer53E5Bv9AqjhtBhrWULB0geNzveu8/VDbKEUePqtf/7mHOYIqP/hmhEYM5+cfAND6CJUAAB1OUWW5Urb8VbtKm36DG8zm7rtOY1YPUTntZqoRLjXtbOVJHTj3iQ6ezVNJpXeXdBt+bJIGr226L5LXBu+SI/FxyV5mBhrWULDUX7v1abeDio8Zpf6FZ/WTrJ7iFazbVWPD9I0MZikBANpG+NNOZh8AgA4hOixcJyvKtLr4oBkJLdkfTlWft/o09968w7GaeO9ea9e5k1Js7Gl16tHJHOnYTpTv086StdpU9C8Vlu1SueOsOdK8Y7G71KfyYkUdjzUj5+FEd9m6DZYi3zEDDYsvW6fw+EE6VVaz7OK0umtwaZiO27dob8/euuei01r3aazsdgLEe78croTufB0AAG2DmUoAgA6p2F6uq7f+XXlnvZuxEQxuLhmiB9Zeo/I9HXu5mzeumbRCvXvvkpJHS31TpM4db8nU4XObtf9crgpKt5uRlule2V+p/7lPtlI/BReXr5TDttgUjWtoxlLPsMMqiNyi7ckjdeNRu361tIeOn+q4s3SuHRemr01jlhIAoO0wUwkA0CFF2cIVGxahV07uNiPB7Wd703Xja5eqopA3kM0Jc36JLrswS2GFW6X9H0v570sn9kqOSqlLH8kWZs5sh46clN78RHlRq/W5/R2dqTxuDrTcubDT6ty5h+IP9DIj5+nQEGlAiWRvOuxqaMZSiSNOPRzxSjqRq5wBvfT1Iee062C0Tha14+9pI8Kcn7IVKHXtwiwlAEDbYaYSAKBD++LOFXr15B5TBR/r7WL2hi8r+kMup+6tS8Z9pAsjf2OqOqxQqd9l0oDLpZ7DzWAIsztfxn2+X9q0V1q3WSpxX9nn8A1x+vha55gfXf/BDxS9P85U58shx9U/lco+MnXjGpqx1C3spMLL1uufI0fqq0eitXRVvD7ZFmWOdgzpE8L0lSmEzACAtkWoBADo0NYWH9LEba+YKrh8qeQiffWtq1S+L8KMwBu33PIbxRQ1H1aoWz8paaiUeKHUe4QU76eZOIF27LS07YBz2y99uEMqrzAHalRGOfT+U9E6XXnYjJy/viUpGvPGF03lBxFlclz5uFS2yww0rqFgKS6sSHHn1mnpmIt0/+EuWvFulN7+KMYcbd86RUuP/yBCfXoxSwmAd0oKHSp3/93Ba9368d8YNI9QCQDQ4X133zo9e/RTUwWH+fk3aOgbA2WvnxegCQMv2q8rej5hKh9VhUx9LpZ6O7dO8eZAGyotlw4ek/YXSvkF0t6jzo/OzQuffytBO3vtMJV/XLnza+rx6QWm8oOup+UY+UOp3Pm5NaOhYCnWdkaJZ9Zo8eXDNOtwd73zcYT+/XZnc7T9uik9THfdziwlAN6zQqXC7d6/9e+caFPihYRKaB6hEgCgw9tXVqzx2/7u+tjWYsIi9Id1UxSVGwSBRghKn/ySupesMNV56j7AufV3L5nr0tt6he1u+B2bYE4IgAPH3CGS9dHarADpVIk56JsToyL1/t1HTOUfEbZOun7N9xR+zI9LzfoelqPfbKnyjBloXEPBUrStVMklb+k3VwzWw4d76dMtDr30Rvv99xMfJz3xgwj1SODNHgDvtWqoVJCjmVPf06RlT2hKkhlzyl08Q9OVqU0PjZDysjVqVo454jYhc4EWTfa4AUICoRIAAE7WTCVrxlJbuqdklL686kqVH2QGQkvEdT+nL1z2iGzlAQ4HY7q5l8p1TtTa+OHK7Xutomw2RTtfe0eFSZHO/Shr37lFuj7aXB9PVDp0osK5WR+dW6Fzv6DOdnDhC+ZB/GPjj+NVYMs3lX9ceCJNQ1dPNJWfDNssR9en3c3Um9FQsBRlK9fgohwtSL1A3zyUrH17y/XHV5zfp3bo9slhuv0m/hsBwDfBGSpJS1ZnKMU66LpNtgYvzNLs0a7TESI63qUyAABowMM9x2hCXB9Ttb4Fe27UndnjCJTOw8WXvBf4QMly9qR0dJu0e52OnT2jnx8p09zDpXr8UKlmHyjVd/ef0zf3ndM39p7T1/LP6St7zuqu3Wf1X876hwdL9TPn+YsLy/XyyQqtKa7U5nN2V6BkOdPbv7Ogkrb5vx/X9u6rVTTMuyV4Xvt8pGxlD5uiaX2Kf6EB8bmmcitzRGpH/CRlrt+r5/rsV++BUfrOtPO/8l2wGTzQpltu4L8RANqhpDGalCrt2t/8cmgEF0IlAACMH/Ry/a2sVSVEROsv707TBSsGWBfEwnnoHfuO2Ws9x6O7mz3/KOzp3/tLev2YosP8vxQsb/ircsTaTeUnn4yXzTbNFE1LLv5JvWCpwhGhrXGT9NiGQ/pDr3xF94rVY1894rqCYntx841hCidTAtAeFXyqVeuHatJYlr+FGkIlAACM27tdoK/1aL3LzH+tZIz+96V7FPGJvy7T3nGNuHyzIop3mqr1HIvqavb8Y2+Sf2cqxR4PU1Kx/69qdyrigA6MCUBz+w+mShHjTdG0hoIlu/Ol7abO1+vRjYVamrRTRT26as7XDyssLPQT27RrwpRyMS/dAbQnOZqeNkOjrG3qQT24uvZyOYQGfjMBAODhB70uUVxYpKkC51e7vqBb/3Slyo8y7cAfLujd+rOULMfC/RsIbkvwfx+gpI1lZs+/8vr8Q+cGnDaV/9jWPyxFjjRV0xoKlpz3oM9i0/S93GK9Hfe59vSI19xvHFZnf8+sakWJPaxlb7xsBxD6JgxMNHuWdC1ZnaVNqzM1QzlamWeGEVL47QQAgIfRMT30SACXwfWN6Ky/vPMVDfhPfzOC89V7UIE6F71rqtZ1PDzG7PnHR938Hyr1erNYXcN7m8q/to1YZfb8yBEuW+6PpMi+ZqBpDQdL0qZOV2v6dof2O7bo3cRYPfG1AvVJar4ReDCyAqXu3drTQj4A7VpSsgab3RoF2rnb7NYzQrMXpitrVrbq/9ccwY5QCQCAOp5KHqu0+GRT+c/9RSn67Z/vVkReZzMCfxh+YdsESpZjijZ7/rEhzv/9j2x2KfFgYC6xfzA2T4WXBmDZ4dkY2XY8LYV3MQNNayxY2hZxmSYdjFN48Vb9p0eUvjv1mIZfUG6OhobLLgnTteN4yQ4glIzQDdN2aM4vc1RoRpT3uuY01TNpdIaWTMvR9EyP2yAk8BsKAIAGPNWn9iXLz9d/77xJN704VhXH+NXrT1ExdvXQ26Zqfcfk36urHahwyBHu/5+RpLdOyxagltUfDXpJFUmlpvKjggTZjjzpfLUaZQaa1liwtCNslK48lqhexzbrLz2lr996WleMDsDzDYAo56fOsjcAoSjloQWaq2xNrOqZNCtfc5c13TOp+jYESyHF5nAy+wAAwMOPD27U04c+MFXLXBjZTc/k3KzwTbFmBP50+TXvaVDY86ZqfaOv+L2OVfr3pdTnf/un4g74/+X0hz/uoqO2PabyryEnr9Wwt643lZ+N/EiO2J86d7z7Oh+Me1x7i+ovYe2v3drTaY/WDhyiB4/E6Y0PIpWzPrj/Xd55S7huuZFQCcD5Kyl0qHC797+vOifalHghy27RPH5LAQDQiPNdBvfA6Uv1i//7EoFSACV3bZsG3ZYTEXF+D5QsBT39ewW4Kklb/TurytPObm/r9IjDpvKzzZfJZn/QFM1rbMbSPg1S39Lhmrxtq57tc1o3XFGpO64vNkeDz4WDbbqZWUoA/Khrf5vXW4R/WwaiHeM3FQAATfhVv6vNnm+e3X6zblhyuSpO8as2UIaO3qnook2man2Fcf7vu2XJT+xu9vyr578L1cnLHkUt8dnQV+WIC9AV1j66QQq/1RTNayxYOuxIVnxYiqZ9tlU/7VuoK0fadO/N/r+CnT/cfEO4bEwSAOAn1syjbv182wBv8EoXAIAmXBabpLnJV5qqeSMjeuilNfcoeVVgAgfUGNx/ndlrG8die5k9/9qS4P8rwFk6nQpTUlFPU/nfqYhD2j/mY1P5n239DCniMlM1r7FgqcDeU2GRV+pbH32upwYc0vBBkXpgyglzNDjceF2YRo/kDR0AIPgRKgEA0Iwn+1zu1TK4h05dpnkv3KGwzSx3C7SEPqfU5WzbLX2zHOvURLfR8/BRt8CESpakDwJ75bPPer2msxecMpW/2WTbMFuKrH+h6sZYwVK/+M2mqnHCnqBzMeP12PodevqCferdK1bfuyc42sIOH2rTlNvCTQUAQHAjVAIAwAv/d0G62WvYws9vUfqfL1NlMbMLWsOIke9LlWWmahvHOwWm99GHMYELJXvlFKlrWG9TBca24SsD9wrTHiXbpielCO8DvX7FT6lvl+2mqnHa3lWnYifq6XU79ZNBe9Spexc9PuNwgK6R553oaLkCpXAyJQBAiCBUAgDACwOi4vS7ARNMVeOS8CT99a3p6p3Tx4wg0GzOVy89o9p2lpLlWGRgZhQdrpQcUYFrqp10MHB9lSyHYjfp6KWfmyoATneRLf9p56tY78O3/kU/ajBYKnbE6UiXdP3s7Z36+aCdKotP0NPfOKTIiLa5OLIVKA2+gGAaABA6CJUAAPDSzKRRuqXrQFNJ3z45Vk/98XbZtnKJlNY0+oqPFV6yz1Rt51hknNnzv6LegZkFZen55mnZAvwS8OMBf1V5r3Om8t3xgz9Txopf652zZqCuQ71lO/GYZPN+Sk9jwdJZe4z2dP2CFqzJ17MDdqiwcw89ff8hJXStNGe0jvGpYbr+Wl6aAwBCC7+5AADwwV8H3+j6+NzWWzXxLymqPMusgtbWP7HtZylZjod3Nnv+d7Rn4EKlrlvLlFQ5wFSBYVeldo1o+fcpIfkxLbi4VAvfWqjcxtpAbR8p27mHTeGdxoKlUkeUtnf9gn6+dp9eSN6h/NgeyrznqC7o2zrBUt8+9FECEGBFR5y/uPb4tgFeIFQCAMAHsWER+uuJO9XzrcD2pfFJxWt6Jf9mPW+2V4oOmwMNO3C85twmb2Pu1/NYUdEPGrnNJ3on/wfaVGHKABkwbJ9iij40Vds6Zos2e/63p0d3sxcYSZ8HbnldlV3d1+nUyAOm8l3v/o/p2Qt36Mdb6jfarpY3XjbHNFN4p7FgqUIR2tr1C5r37iH9vedOre8Sr2/dUagxwwLfu8sKlJwPBwCBdTzf+6285bNN0bEQKgEA4KOpk3pr1BeDZVbBJ3rnwO+U2OvfenCgtf1Mice/rneaey0Y/zNzvnu7I75OSGYFSs77PWJKt0/0yfEhurX6cf6mqsigqOhPKkyYrVEBziqGDn7P7LW944o0e/63qUfgrgBn6f3qMXUKC2xvJUve4H/K3qXls316dx2q4mM71GRM+uFUKXy8KbzTWLBUqXBtip+kH20oUF7sHv2re5S+ekORxl8auDdXX5wcrjGjmPEIoD3ZogVpMzQqbZ6WF5ghp8IV8zRq8RZTueUuts7z2DJz5NW1OAtyNDMtW7mmdHGN1bk/X+4TLUKoBABAC4y4LUwXjA+CX6MV+5wvlEaoe3WY00vdo50v3Mqbnq3UNCuoeksX9v1fXeM5Gcd6rOgBckcR1uPs1EnXzCR32HRF3WDKz+K6l6h7ZXAsfbMcswfu+/9pXOD6NVmiSmxKKu5lqsApijyifRd/ZKr6yk6/rNn/ulsz3/21Xtj5pnJPHlZxabHKHGUqLtqghXmvKyFxqJr7ybJteFiKGGkq7zQWLNmdL48/63y9vvnpaZXY8/WnpErdcfU53TT+jDnDfy65OEy33cTLcQDt0VDNmCbNWV47RKpRoOWZMzR9d4bWrM7SJrOtSXtPL+SZUxpkAqup2VprRqolpWuRx31Z2xLnc5iQNkaJ5hT4H7/FAABooTFfDlfS8DaeYRBxq66I36J3DpilZxUbtb3UGmvmbXjRY00sY3tM6vWr+rOOIvorsXSvTruKIzpROkTdnOe4Zyl9SX1d44Ez6pKNspW6H72tVdjCdSyA7XY2xgQ2VLIkbQj8si7L5l7/1pnBJ0xVW1TMAPVxxOnKC27SQOXrzc0/1sxVd+uWv92iO3N+ph1JT2nRxV6ERY5w2T7+kfNn1LefwsaCJctnMddq2o5yJZ/ao+d7ndX1l1bqrklF5uj569bV6qPES3EA7dfgKVM0Y+nyWrOVquW9rjnr07VkfnqtwCdx8hOaPdoUDRqh2VZgtCxD9a/JW0dBjp5fmq4HJyeZAQQCv8kAAGihqM7uYCm2R9sGS31jb5Wipe0HbtbzB34nNRPw9E2oWfb2YN9vStXL5Q5r02ErUPq3runkOrWOS3RJwk695gqjHjNBUs0sJc9eTc0uv2uB3p2DZ5bS0djeKgvgVecL7JI9JnA9myy93ixSN1vr9AbbOnSlGlwtGHmlHrgyRa/nvq3eg+/T969epOxb/qWVU1Zq5R1/17NjrlSCt/+8SmNk2/60FO7b0sGmgqXNUVfpukOdNObIbv08+YTGDgvT1247aY6en6lfDFNyb5a9AWjPRui+zIZnK+Wuy5GmjVWKqQMhd3m2lHlTQB8DhEoAAJyX7gNtGvPlNvx1avU+OiLd2vtXuqO619HXm23WXc0106lquZw1+0jadKQqHPq63nHWRzzuLz7+V9WBlNWHqXqWkvN5fFD2Td1jgqrCI7+r7rfkDxddtkmRRQ2/8W8LRzsnm73AOd07sM26LUmHAt9XyXKk8xYdGbPVVLXF9Zylp/q/qR/n5qrYjLXYsQTZDs1xvsKNMgPeaSpY+jziUl1+MlGT9+TryYGHNaxfJ33zruPmaMtYjblTL+dlOID2L3Fy47OVJgwM4KI0Zim1Gn6bAQBwnvo53xyOvquNGndX7NWR6j5Hlks0KN75Jr68dott71yia0xg5N7cPZV6Jfxv/UbeLh69lKznYUZdy+TMrr9c0Dt4GnRbCmMD34/oSFKC2QucXiuLFGY7n5/dCh1asV3rPmn+sn8fDXhJ5clnTVXbyIuf1fTTj2vh/vOOlaS9A2Urmu3c8W0WUFPB0i7bCA07019f27pXjw/ar96JcZp971Fz1Ddp14Rp8iReggPoKBqfrbQ2v4n22XnZtZptL2iyz1JdBVr+S2YptRZ+owEA4AfDbwrT4LQ2+LUaMUC9Sn+nT6qXm32i3UVSr8iq0MPqkeTZN8lZH//E7DtZM4yKRujCGN+XQdXqpWQ9D9eok6t5uP/0ueCw4oqDZ+mb5Vh0D7MXOLsSA3sFOEv89lIllfczVUtEqM8lcTq0cJM+9CLH3Dmske+jrbduv+JZTU3yUy+pLZfJVvGgKbxnBUt94nebqra9GqK+5cP08Ee7NHvobsXEJejJ+w7J5kN2ZV3l7d6pwXLlSABoHVWzlV7INwNOKePTpaUba1+9zdPojFoNt5vus1SH6dfELKXWQagEAICfXHpPuHpf3Mo9UiJu1R29bvVYsmb1OmpsZpGll7qX1TTptnowJTbUlLs5Fa8pp+Q6pVc9jvN5pHd+S3+uvs9v+q1x94XDNpi94HEsOvCBz+ZugX8MS9Lnvi0Vqye5j26bFauNfypQiRlqzO7u7+rExftMVUfsUA212kiV79Crm9+Ulws4G5d7g/P/bnPv+2Bg8Q8bDZb2a4DiIi/RU+t36fvDtqsyuqfmfuOgOsfazRmN65ds09en+/oPDQDaA/dspaylO0ztNPomzU3N0fQ6l/svXDHPx1lJdRVo+Ys5msAspVZjcziZfQAAcJ6Kjzq07jeVKjrMr1d/iI4p1y0TH1fYmZYtNQqUeZc/od85+psqML5wtlgv/GGZqQKnItqhd56066z9lBlpQNEJvfmnMl3+rV7q6hqw6+gb+Tp+6SBdZP0huPKE3vjacV304hANcB1vXFx5osave0hhJxqesXN458PK2Jagp657StfEOAccZSouM1eqC4tSXKQvIZhDjtSfOp/fR6b2Xn7cL3SoaJCpaksKO6qIovc1+9pBembnMPWoLNCzL/fS4cKG/14b4/w8Hvl2hAb2ozE3gDZSdEQ60nBvuwbF95J6XWQKX1mX/V+uwcue0JTqyULW2HxlTcvUpodGmDEpd/EMTV9qCktqhtbUuSJcbeZ+TOXicZ9WKDVx9bhm7gP+RKgEAICfHdlsBUsVsjffZgbNuGz8exoc/rypgsf3rvyZXqoIbM+jHjaH8n5T62VzwGz6YYL2xnn8BbmuogL9/TundfkLNaFRydrP9Mf/xOi2b/VV5235WvbXKH1p0SD1McebMvLITRr4bqqp6nCUqUxRinLlL8f15rsZesFxk66MOazNBXvdzbwrjutwRZx6J03XgnG3q8mLqIWVyXHl487b7DID3msqWOoedlxdTr6tWdcN0pO7h6t/RaH+378StSO//mykb30jXJeOZoEAgDbUqqESOhJ+uwEA4Ge9RtqU8hX6pvhD3+7vmr3gciysk9kLnGMOmyrjrKk6gddrQ6XZa0R8V104vEC7t5naqXNCjJIujdPRpVv1zzel8T/s71WgZNnc63WdubCRK6jZqgIlS4KuH/OgEk5L147+iRZ9IVvZzm3RlXdpqIoVFz9AzXZhskfJ9tmTUrjvvTWaWgp3wp6gE93S9Ls3d2nBBZ9rZ1SCHrq1UJeONLOqjK98iUAJQJBIGOj9Fhn433NoH8KfdjL7AADAT7pfYJPDLhV+zoTglho6+nP1C1tuquDyx36361Bl4IOC+w8dVMyJIlMFTuyeUhVe11XnGr2of7gSEkq1clGB4i7ppsjjx/Tu/+2VbeyFuv7Lybrs+kT17u7b1+Nc51Pqs/9iqZk8S1HDdWnYn/V4fg9N7tNVm7c8rJm5BzRx/O/11KABHgFUE8qiZascK3VbLTnKzaB3upWtVGX8FSou625GapQ6Oqk8pp++smmjfnqJ1LW8p27uV6JSu035ByN143Vhuu0mAmYAQSA6Torp5tsGeIHlbwAABNAnL1Vq+8rmm/iivhtuflFdi1eZKriMS12s/PLA98dZufEDjXrvM1MF1o5vJml7b4+pSA0o+WS3Xl18SIfKIzTgpmG67c5uij6PzOTSvVPV+8ORpmpKsTZ8eL9+dqhYZbF36Sfj71OK1dTbV0M2y5HwtORoLsmqr6mlcDFhZzWk8A09mjZY40730a0nbVr1cbTu+nIXc0aVAi3PnK05693VhMwFWtTk1YmaPr9uL5IZC2tfIan28XQtWZ1R3bjW1Xdkfp0lj9V9STx7ljRwu/wptXqiAAA6LubiAgAQQJfcHa5BE/h166sevY+r67m3TRV8jlUGPlCy7OxRf3aML8rKd+tnBzYp14tcs8+KIoXZmr46WedLBukri67W9/9wpe666/wCJcvHA5apvN9ZUzWuuGCJXthXrLLKAbrvCo9A6cwGvfDuTGX8Z7Z+vWeHipv7U+nOkbKdedgUvmlqKdxZe4y295isX67erVzt0azsv2jz/r+bozVyF8/WnEGZ5hLZmRo8f3aTVzlq+vwtWrk7Q2uqLrm9LEO7Zs3T8gL3USv8me5xfE1mfr2rLLka4lbd3tqqG90u167MBdW3e36FuVPnY74wf6CWECgBAAxe5QIAEGCXfzVc/a/kV64vLhr5gVRRaqrgUhQVr+JWmnz2eXyzHYNcjpedUkMXHIyKHKQvxuzXwtPNL6HrvPuckkr7mqr17Bi61uw14uSfNfPdHUqf+JL+dd1kHTt52D1e/KoefuPH2hA3VU9d/aBSTv5KM3NzG13AV23TeNkqp5nCN00FS6WOKG1KmKxOv3xLH639SJ9s3mmOVNmilUuHau6UqkBmhG5wPo2sdVtMXVdz54/QbM+rGyUla7B2aJf58uzP3yENSq4+nthvoLT+oPabuinWbQf3c8+Ism63Nt8dRbnDJi7TDQCowStcAABaQeoD4epzCb92vdWz0zqzF3yOxvUze4GXF9vZ7DWhYrd+fGCvDntMniqrPKPjJvga2WWY4ooOaa+7bFKvz71cU1Z5Tns/OSN/XOBwT/f3deLifaZqQLd7lH37At3VPU7qcrse7N/bNZy743kVD1+kRWOu19D4obo+5TF9sXChXvemBdXHUyXbeFP4pqlgKSY+Uq9/0shV5goOqu6RfgOHSrsP1p49VMXX8/M2KktDNdj95VHKlAxNWDpfoxa7Q6jcdTmaUDcQWp+tiWkzNMrazHkW63F27XfPTircn68JA61oyj1L6cEml+sBADoaXt0CANBKxs8KV9JFrbNsKpSNSf1Q4cXeRCBtoyDWvGtvBRtjvJuppIhoJZhdy+YTb2rhGdOQOjxWA8tL1ci11mpJXl6oWFtXUzXGrr3ZuXr5f3Zr6ykzVJePLYvyBr4ie48mIqpG/tn07uz5WScoIXavDjW/ms7FtvFh59fGm35O9dUNlsrKy7T3wFb16lnc2FM1BmqIT5mMF+cX5GimFQrNytGMhU9oStX5SWM0KVWasHu5KzSavjS9ViCUOPmJmmVvqzM1Y+l8zTTL3BInT3EttbNuN9EESdWzlKoez9rqLqcDAHQ4hEoAALSiiY9EKGEQwVJT+ie9b/aC09GYnmYv8E7YbKrs2sxspYhuGmkv1CaPIKd3ZII2H39XC4v269XCrcqJiq0VOjXG5ryPxJPVC6oaEaYBd6bo/j+M0sUN5k92bf9/G/XmZ97PYyqJOq78YRtN1YQzm7XjnHs3ZfB0Hf7sBeWa7Kz46At6vuB6XerNJ2pxhMv20Y+k8JYt+fMMls6eO665//MLbfh4s6tuXL52VrUn8ooX5yela5EJhjRrRnXPJasf06q0BVo03x0euXoqpWUr1324jhG6L3No9TI319K66sDJatJdM0spd3m2Bi90H1syKFtPVvdbAgB0RIRKAAC0susfj1CXPgRLDRk4bI9iTn9gquBUEO1tauEfJ3s193jdNblLqX575HNtrijX3rNb9bMTnTSr72UaVXZA6x199FTvIRpgzm5Onw1eXBi4ayd1bbRJd5gu/EKStv98g5771nbt9vIK/lt7/0clw5qeT7V554/1+BbTN6nLPXr2iji9sPrHemHzjzXz3Xd0zdWzdE3TvcZrK4+R7fOnpPCWXTrbCpYGJOzW0EFevKR29TyqrW7fo1p8Pd/0XHIvWyvQzt2q7otkSRw7ThN8DrXcanopue+3ims5HgCgQyNUAgCgDdz4TIRiEwiW6hoy2IvZKm3sWFRzy8P8a39S81eAG9Dtaj0VfUSP71uhmUePa2SvUbomPF7X90jVT3oO05U+BC0Jb59Ud7uXS/zO1elYXnRGW5d8oufmHlDn64boSz+9UIMizTEvbBn4uhTTeKg18uJnNb34x5q5/mW9eXyz9p7roYHhG/RyvjR14h81q2ec64pwz6+5U7e8cqcer+pa3ZQTPWTbP0eyRZkBH8T0V9+BPRXu1dfXCn12aM7yqt5FViNuacb4miup5S72XFLWzPnWMjSPPkhW/bzzuDtIStKQQVLWizXL0wo3vqe11cvpCrR8sefSNWsm0o5az6WGZy8l9/1WcYVcAIAOzeZwMvsAAKCVvfpwucpKTNHBdel2WjdcOUe2cyfNSHDKvGKesitrZoAE2nO7d+jO1942VevY9WCStvXdZqrGVGj7c7k6+IWxmtjrjLa+ul05q0rU9ZohSr+rl/q0MHu7dO9U9f6wiV5HjmLt3f+qXt73trbrQl3b/y7d3m+A4qyM1roiXM4yDbxsgb7fP04bPpytTYMX6b7mcznpwo/k6PpT546XL41jBsp20TNSeGft3ndYt2Y8qgVPPqSnFrygM+dKddHQAVr+h7nm5CoFWp45W3PWu6sJmQu0yKPPkRUqTd+doTXVV3Vr6vzaxywzFmZp9mhT1DueriWupWxursdaagqnus+linXeyvGe97tFC9LmK8vaTfV8rgCAjohQCQCANva3h8pl98dltEJc6sS31N/xf6YKXv+V+kv9qzzeVIH33YJD+uHS103VOs7276S3HyhQpaOZtWv79+nFnxzQ8SK7Eq4bohu/3Es9/fClSf9wtqL2xprKe7m5d+vN3n/U93u7G5zv2JyhZV3+qMf6eTkLafRKOaIXm6IJnYfJNmyOFB7jKr0PlQAAaF9Y/gYAQBv70uJIdWrdFVVBqU98cDfornJMLVgmdR7yYr28AlzlCb16/CP9+UydJWktELPvnJLOJpuqCf36KPXiCF3y9NW69/4mAqVT51RiGmx7Y8fgNWbPNwnWlfmsP5c6DmtD7kw9nH+9vtjXh+9X3g3O295mivpOn7Xpg4ODVdL/sepACQCAjoxQCQCAIHDrryLV6+KO22Np5KWfKuJ0c8utgsMx+dAkyA82xng5Y8d2TpuKTml7pX/WU/b+3JvQJEIXfrGX9v3nmErNSEMOvZarZTlnTNW8/O4bdOLifaby3oALH1PKvod1yz9maknYffrjTfdppI//rGwffs35CvkyU9X22bHhuu/XBdqx56gZAQCgYyNUAgAgSFz73QgNn9wxfzUP7Bv8DbqrHLd7+T0qLVF4I8sabWcbP1bXqbBwVSR4saYsrI8eG3idnor3z9K8Pi8fVazNi6ui9euvaQ/0ULQpG9Ln1kGKe+2Q9vowW+mTgX9XZZKP60JtvXX9lX/Uv+74u54dnaK4sr3afGiDVmxbqIUbfq0VXuVaNtk2zpbC61x7LfF62fpOMwUAALAQKgEAEERGTwlX6gONXqu9Xeoz8IA6F7VuI+rzcazS7DTpiBIWPaikvaasIzxvvoa/9L68nURzsleC2fOSvVAvHFqlmYe3asN59OtKOt7D7DUtornJW117afw1BVq31vtU6WzUCe0d+oGpmnFmszbse1Uv5P5aj7+ZoYzX7tTdbzysn236h9afKVaPhMmaesm3NdnbNk32KNnynnR+o9yNq23JX5btgm9Ze64aAAC4ESoBABBk+l8ZpomzfbgGfIgbNnyjFCLXDTka39/sNeeoovMnqMhjskvEgQ/Vqci9XzFqkkq2bJW3XXn2JXlz+TIPYdGKruiq2xO66+Oj/9H9VrhU7nuvpWSPK4udrz43DpT+fsCn2Upbe7+hkmHHTdW4snOHdVi9lTrkAT02IVvZt/5dL31hkZ4aM0v3DbleVyYNVe9oH3thneki2645svV4yPmFuNsMAgAAT4RKAAAEoaThNt34TIRiE9r3zIjoTufUI/w9UwW/gs5eNK9uRPR785Sw3xSdu6uspMzreS+7471s1l0tXiNjjmhHZS89mPwFLerRXZuOrfE5XOr27gl1r+xtqmYcOaS//2Cj/uixvfjr7XrzTzvd24pi50mHfJqtZNk88N9SXNOhY1TC9bq9/5Ua6fw6xUVIxw8/r5n/uEUZK+/W/bm5sh65RcY4v9+DbjCFP1iX45+hUWZbkGeGG9Xc+QVanllzfOaKAjNeW+5i63i2ck2tghzN9LjfWscsnsczc1Rohi3WfTX2OACAjodQCQCAINWlj02T5kSozyXt99f1xZdvVFjJYVMFv6Oxvcxec7qrrM97it9lSvt+xZ7sp5g1/1C0XQrftFZdExPk7cq0z+N8DZWkkTHJ2nDOTI0K66RLO/fVgIrdenxfrt7xYdJS731eXpqwVx/d9nSK7rW2HwzX9dOHaHxaogZdnGC2RF01K0W3p3cyN/BOYdxOHR6+xVTNKz66UDM/Oq6pN/xLL01+SY9FvaAlzU92qs2aGDbVuV3oqvzECoDma1fmAm1anaVNyzK0a9Y8LW80n2nufOv4bK1KM8ed26LJ7uV6nqwQaPpSU1Q5fFCqul/ntmRajqZ7hEe5y7M1eKE5NihbL1SFWQU5en53hp5p4HEAAB0ToRIAAEEsKk4aPytcg9Pa56/svgle9swJEkejE81ec/rp5BfHqevCL2v4Tx7ShXO+ry4XZmrf6A815Ad36qI/bNSpuyY3ecU0T5/GdjZ73imzF2mH1VD81Lu6e8+rumXf+3q+5Iwu7HqFFg1M0TU+/Dglv16scJt3S8ci4iMUbW3J8Rp0Wff62/BYRZypUIVXfalqfDxgmcoGeNNlu0y5ezboi9c8puut/kmOYu0t3qEyXx5vqHOb4ty8ayflvYJPtWp9uh6sCmSSxmhS6g6t2thIqtTM+YUrntecQZkNBklVClfM03RlatPCdDNijM6odbuU8c7j6w/KPZGuQDt3D9VgM0Gt38Ch2rXf/ZiusOnedHn7rwAA0P4RKgEAEAIuuzdcI29rX7+2L7x4i6JOfWKq0FAQ5cXV0IzK4Q9o29yfa/8d/6VD/7VQOyf2U9n4udq84EVtXfCCDg33PijaGOP9ucXF63VL/jv6WXGpEmzxmp58q1Ze8AUt6p2ie+ITNTTct5+jqINnlVTi5RK4RlXo6Btb9MdvvK+sp3P1x8d2aq9XV2KrsX3wai9euUZpaGJvfXxkh4qLNuj5t+7W85E/0X3eTqy5yrlNcm5+aGlWePyUfpf1imt75fV3XLOD1ppjbkkaMkham++5uMxDM+fvz98hLZ3vsYSt9qwnK1CauHqc1jw0wow0rnB/vpSarH6uynqcHdplJhBajzO4n/MLaGYp3TfaPQ4AgIVQCQCAEDHyi+G6dHr7uTLcoIEbzV7oOBrh4+X64werZNTlKh7osWwuorMqfQwtisPDVdHTu0ArrnOqVg6arOw+qZrVNVKynf/LveSt3l42rWGl723XPzd3022/uVoP/mqsHpxu17p3y8xR7+zt/oFOjNxnqsb1HvyU7rO/oNkf/ENRI/6oly5NUbOLB62JWF9wbimuyi+sUOm5rFdc2ysr3nEPVgc3Xmr0fGs2kTTDLFGztjWZ0pyppjdSXrY7UJrvxayighw9OV+a+0jNuSlTrKV27rBqugmSqmcpOe+7Osha7P2yRABA+0SoBABACBlyXZiu/la4q99SKEvsfVRdzr1rqtBxLNzb67X534leXl4BzuNHY2i3K3R79eX+y7WjKFez963Rz06d8ql5da9XjqqzvJ+lVVfJkUpd9MU+6mllcpUVOrr9jGT3/Wp0uQNfVmXP5jpRxWnk8J9o0fU/0X19vJhh1ce5fdG5DXJVfpP1P49WBz5Zzz7qHqxeYuYlH85PnDxFM5SjlXlm5tH6bE2sCn9m5TjPyNH0hhpyT7X6Jz2hKZ6zuZLStcg8901WMFU9S6lAy1/M19xl1rEFmrt7vhfNxgEA7RmhEgAAISb50jBNeCRCF4wP3V/jF43aKJWfNVXoOGbzvsl055fv1Kjv/V6+dUNq3IFuXjbMrlJxRM8fXKFbdr2m+4/u1Y7iPD18olyp3S/SqNIP9Php39af9SpoeSedhPE9dOh/d2r9q9v0l29v0D8PJetmHxt2W85FndbeIX7sw2WtDLvFufm7f1JDeidrgtl1c882mjCwka9rk+e7l8JV9Tqq4e6FlDj5iepAy7W5eiqla8nqjJrJWNWBUpZmN7OkraaXUqF2rTeD5jkAADo2QiUAAEJQp67S2PvCdVlGuKuZdygJs1UqqdMGU4WW46qe9tOs0nFPKP8bk7xuxt2cnfG+fKNLtaLgA+VGX6ZFA7+gn3St1JLj+5WSkKK74nrp9qTLNbJov/aas72RvOE8Zscl9dFd3+mpnv16Ku3pq3T/rCR1beFKzq2931DJMF8v59YAq3/SROfmh/5JXnE12s7R81WX43c14h6qSWPNFCEr5EmbUTPzp5nzrebaa+c/X91HqXDFcmWljtNEb/pHuQKl9zRpWfOBknVuTS+lRA1OdY06uUMuAEDHRqgEAEAIGzwxTBN+EKE+Y0JnOdzoKz9UeNEeU4WWY3bvk5CKvpereNRgNbdYy1vbOvsy56lIO8oGaVaPXhoQHqne0YP0xdhIDYg0oZgtWj0cpfIlmolff0wJFT407C46o90fnajZ9rm/EucOnHLVe/PPqbSoQqXlrmGfbBr4mhzxDlP5KMG5+bl/kneSNGV+pgbPn+1ektbQsrNamjl/dIbpo+Re4jZx/kAt8aaHklPhxve0Vjuqb1u11V/KVqDlv3xPk6r7LTmf0yPjtMp1u9muq881G0oBANo1m8PJ7AMAgBC25TW7Nr3i47Xa28Cttz2nTqf8uISpFV1w+fMq8/GVk61ol2L3OrdtR1R5wUUq7TVEJX197080sei0/pK13FTNKdTCvUeUPmCURrrqM3p5/5vKiUnRD7omSGe36vFTXbWg3xANcB33zt6Mntp04VZTNadMRz8qUYmpqpQWntbBwx5RW/9emnBdnM8Thi7dO1W9P3R/dl6zTr/Sufm+8s7l3Q8+03/N/qWW/PYJpVw81IxKu/cd1q0Zj2rBkw/pqQUv6My5UldPpStSLjJnAADQPjFTCQCAdmLErWG69vsR6n5B8M5aGnjhzqYDpUNFuiH7qBYeMnUjctcfdZ3n2laclbn6eY3is3q46nj2Cb1a3ZW6TAurx4tqNS0+vPWEbljf+BXJznbq5mOgVKLOf3tII37yjJJX5ymi6CP1/M+f1fv5BzTymfnq2siV5BvzQYwvV2BLVHrcIS0pcvdNKj67WysqB+m+uHItO/KufnxamtHLt0DJkvyfYkXYrEuleSNKPS/rrkEeW88eNkUP7qXrvzqkZmtBoGT5eMAylQ3wsi+UtXLweudmNSlqYaAEAADqI1QCAKAd6TXS5mriPfT64PwVf+GFG81eA6xAaVXzzbut8Gf28XhlZ/TUyowemqUiZXiGQVag9PdzSr/TOm5t3XW7aUd0eGuJdlzRwzWefUWFXthaNbOrTMs+iNCC1MYDk4I4ny4GL1ve7zXwwGTt/OkL2v6t7+lQxgM6qdE69PRfte2u7ur93O/V2YeGS2ciIlTRx1q75Z2R3a7QpcVv6oZdr+rOQ/s1oMcgXRk9SI/1naTsvpdpsvftoapFHD2jXkXW5dJ8dPCI/vm9d/XH5w5o+3+2KutPJ/2yLHD74NXN90SyJhR9ybkNc1UAAMCPCJUAAGhnIjtJKfeE68pvhCu2R/DMWurS7YS6VlZfOqo2KwhaJS3I6KbbzVDDrPCnXLenxMjd3Sfcta/PS82so0q9+naRhk6qCZI8HT5VrqGmQ3TvrhHafModKrnDptgm2+wcjfWhn5BT5MkjOn3tzSqterUV1k1lMVvV6aTzWY54QPtHrVL3Lb41FDrRs7vZ80JYV93V51b964LJ+tegL+ipODPTqeKEVpzM08JjefrzGd/biCd/5vx6+6RY6xYcVs/vXKnv/GKUbvzWGI0vOqAdRebwedjb/QOduGifqeqIdm5WI+5Jzs2XSV4AAMBrhEoAALRTA66ymniHq98VwfHrflTKh7KdbaA1dPXMoviW9U6Oj9BIVWiva4lbpfILpVdXVS1xc24ey+N6d43Ujqog6VSFRroCJvcspfsuaroJ99FOvl1SvzImTjGHPAIPe4kirAZD5ttR3muwIot8u4rZwS7xZs97UWGRijLZ4vHiD3Tngc+0xdZdqTHdVXryfb3sY6PsxH8fVWeHLz2hKlTaNVEXDXJPKSrdfUAbP45QeAtmSjXkowF/VWXPOvOeLnBuU53bCFcFAAAChFAJAIB2LK6nTVc9GK5Lp4erc2LbzlrqFd9QL6UyLXQFSg3PLKovStcOk17d20jvo+JK7VCMFriWvdVfHtf7os4a+sExV9iUYYKk6llKnn2YGujTVBDlwywhp8rRX1Txhkc1JPtldd/wsvr9z6NKTLpZp00eY+t8kU738eqTrrYrzpcrwNW395w0q/+1+n7Xfroytp/u69ZVb5/1fbZSn8PeXLe+SjddfvUJ/XPhTv37mff1/G+KNeLxIbrQT72NyqKLtXeI+dmyfsSvdW43OTffvrQAAKAFCJUAAOgAhlwXpusei9CwG9vmV/+oyz5WxKltpvLgCoHKtfDvVTOLTupV57A106ixZt0pqd10++cnzfnO7e9F2qwIDWgwRKi7PC5Ks6oDJ2tmVM0spdxN1rI597EFCUX6WXW/JbejkV3MnpeiR+vQI79WYZ8j6vLpPlWOydSOb0yo7iVUetkMHRvqW0i0Oe78kpKEiHNaf6ZIxRWnlFu0STOPntC1MdY6Md8kv+/bJfC63nix7ry9hy69/0p9579HKMXMWvKXrb3fUMmw49JXnMUo91gwKlwxr+YS/pk5aq5Xe6PnF+RoZtW452bOqXU7j23migL37Q3XeYu3mKpG7uKa2yzIM4MW1+Nm12pwDwDo2AiVAADoIDp1lcZ8OVzXPRqhvpe17kuAgX0badAdF6Nnq0Mea3P3VLp9Uk/NarQftGcw5NwmxUjDot1L5+LCNbR6KZyHxAjTg6m2ml5KldrrsRLNWiZX19HwFgQ6nfvp1KRvKf8b39OhSZer7Dy/7J/G+t4cyPOKdQO6Xq5rz+Zp5qFcLSuL1YP9rtNdLViG1vnj40os861hd+eB3dQn2f8/d90i+2pM1zvU+foEycfcr1XlZWvi/IFasjpLm5zbkkHOuoFAp1pT5yela5EZr9qWTJMmpI2RtUgzcfITtY5tWp2pGc5/GZPGmhlmzvu2AqOJ83e4a08FOXp+d4bWWLdblqFdL9aEWbnLszV4YUbLlqkCANolQiUAADqYHkNtGvdNdyPvbv0DvySu78C9ii1631S+c13qv87l/6u5GnxXaNaoqqu2WcvjyrXw7arla5V6NfesRg6KaiBU8uylFK4BHhdWsxp613U0zNcG1XXYSxT90cvqkz1HF2T/XklbTpoD3vsoJs75VH15+Vak1w//R3fnr9HjBZ9rxblyDe1xtbL7T9RPegxSynlMGOqzo20TnE7hXTQ8bpKu7P419e10iRkNXrnrcjQh86bqQCZlfLq0dGOjs358Ot8Kgpam68HJDS9LLFyxXFnTpmhK1eHRGa6waU2mdWm8Og4f1NpBya5wSknJGrz+oPZb+yZsum+0VQAA4EaoBABAB2U18raWxI36YrgizzMvacqwERsle+2lZOfFs/fR3yt0X0btfkwpqaaPkuucY1qY0E3PNtCEO3f9SWlSTXNwa1mdTIPv2cfj9Vid2xxzXU6s5aJXz1G/Pd1UdNkXVXjZRbK/94x67zIHvVQSGaGKPh7pV7PidXufL+ilAdfqsW5Jii47pBeOrNLd+as0++hWvVp8QnvtdnOub5JXnlHEeX5NWsLm/N/A2FSldv+aBncer3Cbnzp++9krr7+j32W94toOHP5cO3ebA1V6J2uC8rWz9oo0o8Cn860ZRPIIoGrbohfmS3OneNm13Hqc3Qfds5MKDmpXarL6OXdds5TuTXeHTQAAGIRKAAB0YOFR0ojbwlxL4i4Y7/+XBZ06FSshrKEG3Y1xL23zXPrW+6Lucvc/MmotmWvoinHhun2yx/K41KpZTLWlpNZdYuexrG5yTL2ZTcd0fn2AIo5H6kTaJBWPuty5TdCx8cMVc+CIOeq9kwldzZ4PbGGKi+yu67tepMf6TNJLAyfpJwl9NMBRoJePvq37T5wwJ3ov7FiJ+pxKNlXr6N1ppGtm0sj4mxQb7ku41npsZvKfFSo9l/WKazt42L22cnA/Xxqce3m+r7OUmpPkvC9rqZ3VU2mqCZKqZykVaHlmVb+leVreYCAGAOhICJUAAIC69LVp7H3hGj8rXEnD/LckbvQVH8pW3EjH7RBzzO7jy6ZDeep6qMQUUukFcerxlyXqvulDxW14Wf3/+ZFKLuhljnrvUNcW9Hayn9KKgnd1955XdcOu15RRcEjFEV2VEj9M3+89UX/s7tuV7aokf9I6s4S6R/ZXStcpurTrVCVEDTSjwSksLEwZd91Yq6fRFSlDXMd27fcthWn+/AIt/2UTs5QKcvSkL7OUjJSHap777NEes5TyXtecQZnuYwsHas4vm282DgBo3wiVAABAtT6XhGniDyOUMi1csQnnHy4ld2ukQXeoCY9Usa+rxOKiFLHqUQ3/9XPqvq9EFWOfUP6kBEVu+1DxBZ11YvqvdLS/OdcHO32+Apxd7xR+oA1RI7Ro4O1aOfhWPRWxQ8tKzeHzkLCqUHH2wM0YignvphHxX9BVCV9Xn04Xm9FQlKQhg8xuFat3kQZqSIMziLw83wp51jc+S8kKg9b6MkupIR69lAr355tBJ9dyPABAR0eoBAAA6hk6KUzXPx6hi78UrrieLQuXho/+TJGnPK9HHrpOxLVgmVf8cB3LWKht/zVJem+OK1zq3Gmcjn7pAR26ZbKK+3Q2J/pmU6yvt6tUmT1Rk7t0V01OWOEcM7vnKflAD7PnP2G2cA2KvdoVJl0Qe5UZDW1Wo+2181+vbrRtNeLWtLHVM4xcl/HPrJn509z5rllKL9Zu5l2La1ncUJ9nKdXl2UspsZ/HLDFXyAUA6OgIlQAAQIM6dZUuujlMk+ZEKOUrvl8p7oKB7WSWktPRzufROyh+uE58+VfucGn9Mxr+s/9WQr7vV36rkutzqBSplLhSLTycq4UF6zUz/zU9fO4CTe1kDp+n5HV+bMLulNxptK7q/nVdFH+DOoXFm9F2YHSG1mTma7qrH9EMTbcu2/9QE4FPM+cXrnhec5ShZxqcpVS1LO7Bhmcp5WW77nPi/B3S0vmu/QUN5b/O86Yr07UEzsX5nJbIff6oWfma+wiNuwGgo7M5nMw+AABAoxx2Kf9du/a8Y1fhjqZfPiT1OaSJo+ZJZTU9hULZ24Nv093dbjWV98L3rVKP1WvVtSBKJWMm6+j1l6vi7H51Xflb9fy8l45lfFvH+/jWlyiurFyfv7DU+bWtMCPeKS4r1GbnTRKiEzQ03L9/V/zwRzE62umAqVrGCpOsLSn6QjMSfN794DP91+xfaslvn1DKxTWX49+977BuzXhUC558SHN//X+6Y/K1evTb95ijAAC0X8xUAgAAXrE5XzVccE2Y0h6NUOoD4eo1qvGZSyMu3thuAiVLQXQL+gYd/YcueGmXyi/7og59YbJK7Cs08D+7pM79dOqOn2v7t6aqVGXmZO8VR0WqvJfvjbXjohJ1ZWyi3wMlS/K2FjQPd7J6Jg3pfK2u6TFTl3T9UlAHSgAAoD5CJQAA4LP+V4bp2u9FuK4W1/ey2i8nwsPKlBj1ganah6OR3cyeD04cUenkB3Ri1OUqdm6nJk3W2R3bFGEOW+FSSQv7Kp3qFlzLwvqsLFGkvF9PZ13B7eIut2p8jwc1LO56xUf0NEcAAEAoIVQCAAAtZl0tbtw3wzXhBxEaOM79smJM6ocKK9rr2m8vjka0IMRJvki2V+ep99trFffRCvX+w/9TzKjR8m3RWsMOd23ZzKCAOX1Gycea7jtlc77s7NvpEo3tdo9Su89Q/5jLFWnzU2MnAADQJgiVAADAees5wqYr7g/X9T+KUHLyTimqZTNwgtXR8BZ8PvETtO/BL6rs9FbF7ylR6Rd+rJ3X9zMHz8+u+CALlZySP6qeg1VLbHiCa4nb+B4PaEzXO1jiBgBAO0KoBAAA/CZhsE0xk++Tpv1emviwNPBKcyS0FbR0Rk3CaB2/5QEd+tJdOjGwlxk8f5/FBl+o1O3tQnWtrLkWWI+oCzSqyy26OuF+s8TNf58/AAAIDoRKAAAgMKxAyQqWvvw7KfU+qedwcyD0HFWU2QsOH8bGmr3gkrw3Qcmdxujybl/Rld2/pgExYxUZFpzPtdWZy/i7t2zlmuFGNXN+7uKqYw0cL8jRzOpjM7Qgz4wbhSvmNXpbz2MzVxSYUcsWLUibp+WeQwCADo9QCQAABFanrtLwSdJNc6Rbfypd8iWpSx9zMDQUOsLNXnBwzVSKCaKg66L+0vTrlDzqRl3S9U71jB5mDsDFCnlm5WvusixtWp2lNZn5mp6Zo0JzuJ5mzreCn+m7M7TGeaz+8S1aMDVbgxe6j21amK6sWR5hUF62Js4fqCXmtkum5dS67QvVxzI1eP7r1YFT4Yrl2pX5oKYkmQEA/7+9e4+pu7zjOP6hsdqLbWflKCJ6yoEtqW0VZyO6xgOKJkU3NWMYXMvWbl7aZTXZIjsuqWSrXbLj6eIftbdkiWehJCQdW5clYtaStMxqmP2DiQQTuYSNMSxoYt28Te1+z+/3nKvllB+FFtv3K3lynhs/Tso/+snzfH8AHIRKAADg3FkalG6qkR7cIVX9TPpa1Zei/tI7n+XZ3uzw/qVz9Wn+Ejs6T1Y6f8vvOX+/2A+lnzwohVfq0kVX2kWkGz/+qjrqapKBTP7q2xXufFVHJzj1c6b9w0N9UnGhEpcN84ucv0XniIadvgl/4uX12rjKW9OqtdpW3qfDx80Pj6l1f7vCkbUq81ZVVlOfevbYiAbKC+VV/spXqHxI/e7v9MKmx6tJlAAAmQiVAADA+XHtTdJtP5C+/Zz0jcek626xC7PLpwtmZ1Dy3lem8Ea6s3VTSFp/p/TrjdKW+6U1N0iLud6W7e89/doVP+i2l//W7YVA6QKFCqlPA6N2nOVM+90gqCWqFXt73XHXscygKFNAJcVSx9AE56LSn236NpySxjXQGVRJIHFKaaLnAwAuZoRKAADg/DInlUorpDt/Kj3wrHTzQ87/3M6eN4SdWFBge7PL6OJzVKx75TLpYefv86vvSz+6T7pjpXTF7CsUPluULLtWr/f2a3f8oNtMqGSEg6ki5pORc3/gRt1d7uwZbHVrH61rqUqeIsp9CiqgispSdRx5fYKrd8u10Vylc2sqRW2QlDqllF7HKbtOEwDg4kSoBAAAZo8l10qrHpCqfyF9Z6dU8YR0Q/V5DZlOzL/K9maXwUUzFOyECqS7y6THnH9390TSt6TKG6X8xXYDcmnetdWrZWTbUz/+rjs/4UmhCeTa37W3QYcrY9oT9X6XW1MpUXA7UKVnIlJjbSoAWteSCqnyqx/XNjWpwq6Z8CiuUvfP7q2nvv+e6kDqlNJYu/Yl6jgdqNfAlkkUGwcAXPAIlQAAwOy0YKkULJdWr/dCpof2eG+TO8ch09g8fydMzpWehdNUiyoRIm26V/rNI1KkVqq9Q7qllBNJ06Qo6PxbpjO1i9KCnGy594+pf9D5sxWl6hu5p5OUqH+UGQz1HIlpW3mp7l6d2B9QTTSx5gVE4fLbVXHacklptZRGR9RhZ70rcwAAECoBAIAvi3mLpeCtqZDp4d9Kdz0prbhvRkOmE5deYXuzy2vzpxgqfbXQ+fdbLT1xv7RzcypEurlEuny+3YTp5IY+La3JN7C5hbjTgxzztre0K2W593s1kuL7094GZ9bl1T/KZk41NRanin5nsm+KW1+VLPqdLqOWUkGhwu6sww25AACQ8k45bB8AAODL67P/SW+/KZ1wmvk0bRo8V/akYnNmT42nhMUff6I39/9e+uBjO5PlsrnSdQGn5Xuf15v+aZMFTNIrr72hRxt2qPn5rSpbmTpNNPjPUX2z/inFnt6ke6tus7NZupu0Yku7HVSp+Uh9qvC1CZVMuLMzrobEW9ty7TdvcYs0qLHTDrPWTe0jc+XNCEdi7jW2lF7F3CtvRqm2Hdh6+sDJfKcd0jPRVOA03rZdFVGviPiG9O8KALhoESoBAIAL18lR6X2npX+efFv6zwm74cx+vvqX+t3nE9xTOs/+8cc/65LhcWnRfCl4lVR8tbTM+a7mc+E8uwvT5axCJQAALkCESgAA4OL0wbvSe/9y2ojXTv7bC53++47d4Hnk1mf14qdL7Oj8uGZungoumeN+un3z6YyXvXdSXw8utbsw0wiVAADIRKgEAACQ7ZMPkoFTLK9EHy4M6MPP5bRT+tD5L6eP0vrupxk7/0llPj9yxp8483PzpEvy8pxm+85jvzDnfjpjZ23BHBMezVGhs2Baom9CpEVznI047wiVAADIRKgEAAAATAKhEgAAmXj7GwAAAAAAAHwjVAIAAAAAAIBvhEoAAADADDGv4V9RucFrkXaN2/nTMq/xT+xNtiZ12WVng1ojqbXNbWN2Pl2vYpXb1Zq9lP7srO/RtXeiZwEAkBuhEgAAADATuptUEQ2q+UhcPU5rLnbGe3vt4kRKte2At99r9SqzK117G9RYHLHzEYWiDYp128Vk4BRV3M6k62ptUmhn6nu8kPi5sXbtG6zXM9UBOwEAwOQRKgEAAAAzoOtYu8KRtclQqGxNldRyPO3kkR+9OtRSqm01y+14ue6pk+LHEiFVQDVRL2zaYGdSxtQ/WKpQgTcqCpZqYNg7meSGTeurlO+OAADwh1AJAAAAOAt59vMvR49rV/yg294a7Fb/oF1IKChUWEPqz3nTrE+NtYkrbmlX38ZGNGC7CSYc0uBI7it1roBKivs0MOqNhof6FCoKJE8pbVzlzQMA4BehEgAAAHAW8pcu0RVLFulQx3Htjh9021uDXoLjhjeTFajSnuS1t7ia69q1LqP+UVAlU7ylVlZTr4EtXli1zgZJyVNK3U02xHLaGa/nAQCQQqgEAAAAnIXLF87Xy3/amQyDTLv3Lu/SW+Ka2VSYICjcOaJhO9YZTznlkB5YRauUnzylNKbW/UO2jlNM2wajaXWaAADIjVAJAAAAmHbmypntJoyOqGOqp40ChQrZboK5xqbiwinVQ0rVUhrXQKedPN13BgAgB0IlAAAAYAaYwtwd0ZeSdZFM4W7VrU4W7h5v255RN2m8rUmtaSeRTPDTkdxvCnP3qbE1cT3NFO6WNqxJFO72IaOWUr5C5e6swxT0tl0AACYh75TD9gEAAABM4JXX3tCjDTvU/PxWla0stbO5meCoItrnDcrrddRcPfNGdi2o5iP1XnBkahttaXfXXFn7TejTGmlQoz1ZFI7EtKc6cewpc831hZ83zL590pNbVZP80XZtrm1Sh+nXRdSzaQpBFQDgokSoBAAAAEzCVEIlAAAuZFx/AwAAAAAAgG+ESgAAAAAAAPCNUAkAAAAAAAC+ESoBAAAAAADAN0IlAAAAAAAA+EaoBAAAAEwH82r+yiZ12WEu423btaJyg9ci7Rq38y73OXbNaZvbxuyC0atYci3zd7nP3NtrRwAAzDxCJQAAAOCs2KCntkkddian7iZVRINqPhJXj9Oai51xMgxynuU8J7TTW+s5ElEo2qBYt7c63taqgUjMXTsaGdK+ZODUqxfMMzctt2MAAGYeoRIAAABwVparwQRAB+oVtjO5dB1rVziyVmV2XLamSmo57p06GhvRgEoVKnCXHPkKlUsDw154NDzUp1BRwO3nFwXVMeSdcfLCptQzAQA4FwiVAAAAAB9aXzyqXfGDbhs98a6dnawx9Q/abkJBocIaUr/JjQJVeryuT42129VqxmOv63CnM1ftBUlFwdJkwDQ+PKRwMN/peaeUEnsAADhXCJUAAACASbjm6is1f95l+sOLf9Xu+EG3jY75DZU8idNGp+OeXCqXDtd6V+qUdgIpv7rGvQ5naiqZK3QmSEqeUkqvxZRdpwkAgBlAqAQAAABMQvH11+j4S/tsrSOvla0otav+JE4bfYEJhrZIzdGt2uP+Dq+mUqpYt71q57Z6laWdUupqTdViMnWans4o8A0AwPQjVAIAAADOmYBKim03YXREHQqqxBxeMv3yQhV5K47luqdOydpJ2VK1lDKv1ZlrcgAAzDRCJQAAAGAGde3NvI5mrrd1RF/yCnM7TOFu1a32rriZ+kqdTXrBvu3N1Es61CJbOylbei2lzLDKFPQGAGCm5Z1y2D4AAAAA33oVq4wqbkeuuoh67Ov9Tai0brBeR6NVSkRD423bVRG1wU955pq6m7RiS7sdSOFITHtOU4TbPPfQmrgaVtmJ9O+R/UwAAGYAoRIAAAAAAAB84/obAAAAAAAAfCNUAgAAAAAAgG+ESgAAAAAAAPCNUAkAAAAAAAC+ESoBAAAAAADAN0IlAAAAAAAA+EaoBAAAAAAAAN8IlQAAAAAAAOAboRIAAAAAAAB8I1QCAAAAAACAb4RKAAAAAAAA8I1QCQAAAAAAAL4RKgEAAAAAAMA3QiUAAAAAAAD4RqgEAAAAAAAA3wiVAAAAAAAA4BuhEgAAAAAAAHwjVAIAAAAAAIBvhEoAAAAAAADwjVAJAAAAAAAAvhEqAQAAAAAAwDdCJQAAAAAAAPhGqAQAAAAAAADfCJUAAAAAAADgG6ESAAAAAAAAfCNUAgAAAAAAgG+ESgAAAAAAAPCNUAkAAAAAAAC+ESoBAAAAAADAN0IlAAAAAAAA+CT9H3nLzvTKhx6HAAAAAElFTkSuQmCC)"
      ]
    },
    {
      "cell_type": "markdown",
      "metadata": {
        "id": "SQIMI6hIUSsF"
      },
      "source": [
        "The graph above shows that the majority of content on Netflix is categorized as “TV-MA”, \n",
        "which means that most of the content available on Netflix is intended for\n",
        "viewing by mature and adult audiences."
      ]
    },
    {
      "cell_type": "markdown",
      "metadata": {
        "id": "y1jZ1NF3m_xN"
      },
      "source": [
        "**Top 10 directors on netflix**"
      ]
    },
    {
      "cell_type": "code",
      "metadata": {
        "colab": {
          "base_uri": "https://localhost:8080/"
        },
        "id": "rn5ve5pDPQMm",
        "outputId": "807a803d-f266-41e2-bf8d-167e224392db"
      },
      "source": [
        "# looking for the na value \n",
        "df.director.value_counts(dropna=False)"
      ],
      "execution_count": null,
      "outputs": [
        {
          "output_type": "execute_result",
          "data": {
            "text/plain": [
              "NaN                            2389\n",
              "Raúl Campos, Jan Suter           18\n",
              "Marcus Raboy                     16\n",
              "Jay Karas                        14\n",
              "Cathy Garcia-Molina              13\n",
              "                               ... \n",
              "Younuts!                          1\n",
              "Ringo Lam                         1\n",
              "James Foley                       1\n",
              "Fluvio Iannuci, Roly Santos       1\n",
              "Paco Aguilar                      1\n",
              "Name: director, Length: 4050, dtype: int64"
            ]
          },
          "metadata": {
            "tags": []
          },
          "execution_count": 11
        }
      ]
    },
    {
      "cell_type": "code",
      "metadata": {
        "id": "QBNQueBZPQRr"
      },
      "source": [
        "df.director=df.director.fillna('Not provided')"
      ],
      "execution_count": null,
      "outputs": []
    },
    {
      "cell_type": "code",
      "metadata": {
        "colab": {
          "base_uri": "https://localhost:8080/",
          "height": 359
        },
        "id": "jq4JSG7-PQUb",
        "outputId": "b933eeec-0ec1-4598-b9d2-5572b6549c0e"
      },
      "source": [
        "df_dir=df.director.value_counts()[1:11].reset_index()\n",
        "df_dir.columns=['Director_name','total_number']\n",
        "df_dir"
      ],
      "execution_count": null,
      "outputs": [
        {
          "output_type": "execute_result",
          "data": {
            "text/html": [
              "<div>\n",
              "<style scoped>\n",
              "    .dataframe tbody tr th:only-of-type {\n",
              "        vertical-align: middle;\n",
              "    }\n",
              "\n",
              "    .dataframe tbody tr th {\n",
              "        vertical-align: top;\n",
              "    }\n",
              "\n",
              "    .dataframe thead th {\n",
              "        text-align: right;\n",
              "    }\n",
              "</style>\n",
              "<table border=\"1\" class=\"dataframe\">\n",
              "  <thead>\n",
              "    <tr style=\"text-align: right;\">\n",
              "      <th></th>\n",
              "      <th>Director_name</th>\n",
              "      <th>total_number</th>\n",
              "    </tr>\n",
              "  </thead>\n",
              "  <tbody>\n",
              "    <tr>\n",
              "      <th>0</th>\n",
              "      <td>Raúl Campos, Jan Suter</td>\n",
              "      <td>18</td>\n",
              "    </tr>\n",
              "    <tr>\n",
              "      <th>1</th>\n",
              "      <td>Marcus Raboy</td>\n",
              "      <td>16</td>\n",
              "    </tr>\n",
              "    <tr>\n",
              "      <th>2</th>\n",
              "      <td>Jay Karas</td>\n",
              "      <td>14</td>\n",
              "    </tr>\n",
              "    <tr>\n",
              "      <th>3</th>\n",
              "      <td>Cathy Garcia-Molina</td>\n",
              "      <td>13</td>\n",
              "    </tr>\n",
              "    <tr>\n",
              "      <th>4</th>\n",
              "      <td>Youssef Chahine</td>\n",
              "      <td>12</td>\n",
              "    </tr>\n",
              "    <tr>\n",
              "      <th>5</th>\n",
              "      <td>Jay Chapman</td>\n",
              "      <td>12</td>\n",
              "    </tr>\n",
              "    <tr>\n",
              "      <th>6</th>\n",
              "      <td>Martin Scorsese</td>\n",
              "      <td>12</td>\n",
              "    </tr>\n",
              "    <tr>\n",
              "      <th>7</th>\n",
              "      <td>Steven Spielberg</td>\n",
              "      <td>10</td>\n",
              "    </tr>\n",
              "    <tr>\n",
              "      <th>8</th>\n",
              "      <td>David Dhawan</td>\n",
              "      <td>9</td>\n",
              "    </tr>\n",
              "    <tr>\n",
              "      <th>9</th>\n",
              "      <td>Quentin Tarantino</td>\n",
              "      <td>8</td>\n",
              "    </tr>\n",
              "  </tbody>\n",
              "</table>\n",
              "</div>"
            ],
            "text/plain": [
              "            Director_name  total_number\n",
              "0  Raúl Campos, Jan Suter            18\n",
              "1            Marcus Raboy            16\n",
              "2               Jay Karas            14\n",
              "3     Cathy Garcia-Molina            13\n",
              "4         Youssef Chahine            12\n",
              "5             Jay Chapman            12\n",
              "6         Martin Scorsese            12\n",
              "7        Steven Spielberg            10\n",
              "8            David Dhawan             9\n",
              "9       Quentin Tarantino             8"
            ]
          },
          "metadata": {
            "tags": []
          },
          "execution_count": 13
        }
      ]
    },
    {
      "cell_type": "code",
      "metadata": {
        "colab": {
          "base_uri": "https://localhost:8080/"
        },
        "id": "sE_XkbhrPQXG",
        "outputId": "af5a7964-dda4-4252-d7da-569a6d0be498"
      },
      "source": [
        "df.director.value_counts()[:11]"
      ],
      "execution_count": null,
      "outputs": [
        {
          "output_type": "execute_result",
          "data": {
            "text/plain": [
              "Not provided              2389\n",
              "Raúl Campos, Jan Suter      18\n",
              "Marcus Raboy                16\n",
              "Jay Karas                   14\n",
              "Cathy Garcia-Molina         13\n",
              "Youssef Chahine             12\n",
              "Jay Chapman                 12\n",
              "Martin Scorsese             12\n",
              "Steven Spielberg            10\n",
              "David Dhawan                 9\n",
              "Quentin Tarantino            8\n",
              "Name: director, dtype: int64"
            ]
          },
          "metadata": {
            "tags": []
          },
          "execution_count": 14
        }
      ]
    },
    {
      "cell_type": "code",
      "metadata": {
        "colab": {
          "base_uri": "https://localhost:8080/",
          "height": 355
        },
        "id": "pLkARbe9PQZt",
        "outputId": "64c8f167-77a5-4c0c-b986-a96fb898a2de"
      },
      "source": [
        "df['director']=df['director'].fillna('No Director Specified')\n",
        "filtered_directors=df['director'].str.split(',',expand=True).stack()\n",
        "\n",
        "#filtered_directors=filtered_directors.to_frame()\n",
        "df_dir=filtered_directors.value_counts().reset_index()\n",
        "df_dir.columns=['Name','Total_content']\n",
        "df_dir=df_dir[1:11]\n",
        "df_dir"
      ],
      "execution_count": null,
      "outputs": [
        {
          "output_type": "execute_result",
          "data": {
            "text/html": [
              "<div>\n",
              "<style scoped>\n",
              "    .dataframe tbody tr th:only-of-type {\n",
              "        vertical-align: middle;\n",
              "    }\n",
              "\n",
              "    .dataframe tbody tr th {\n",
              "        vertical-align: top;\n",
              "    }\n",
              "\n",
              "    .dataframe thead th {\n",
              "        text-align: right;\n",
              "    }\n",
              "</style>\n",
              "<table border=\"1\" class=\"dataframe\">\n",
              "  <thead>\n",
              "    <tr style=\"text-align: right;\">\n",
              "      <th></th>\n",
              "      <th>Name</th>\n",
              "      <th>Total_content</th>\n",
              "    </tr>\n",
              "  </thead>\n",
              "  <tbody>\n",
              "    <tr>\n",
              "      <th>1</th>\n",
              "      <td>Raúl Campos</td>\n",
              "      <td>18</td>\n",
              "    </tr>\n",
              "    <tr>\n",
              "      <th>2</th>\n",
              "      <td>Jan Suter</td>\n",
              "      <td>18</td>\n",
              "    </tr>\n",
              "    <tr>\n",
              "      <th>3</th>\n",
              "      <td>Marcus Raboy</td>\n",
              "      <td>16</td>\n",
              "    </tr>\n",
              "    <tr>\n",
              "      <th>4</th>\n",
              "      <td>Jay Karas</td>\n",
              "      <td>15</td>\n",
              "    </tr>\n",
              "    <tr>\n",
              "      <th>5</th>\n",
              "      <td>Cathy Garcia-Molina</td>\n",
              "      <td>13</td>\n",
              "    </tr>\n",
              "    <tr>\n",
              "      <th>6</th>\n",
              "      <td>Jay Chapman</td>\n",
              "      <td>12</td>\n",
              "    </tr>\n",
              "    <tr>\n",
              "      <th>7</th>\n",
              "      <td>Martin Scorsese</td>\n",
              "      <td>12</td>\n",
              "    </tr>\n",
              "    <tr>\n",
              "      <th>8</th>\n",
              "      <td>Youssef Chahine</td>\n",
              "      <td>12</td>\n",
              "    </tr>\n",
              "    <tr>\n",
              "      <th>9</th>\n",
              "      <td>Steven Spielberg</td>\n",
              "      <td>10</td>\n",
              "    </tr>\n",
              "    <tr>\n",
              "      <th>10</th>\n",
              "      <td>David Dhawan</td>\n",
              "      <td>9</td>\n",
              "    </tr>\n",
              "  </tbody>\n",
              "</table>\n",
              "</div>"
            ],
            "text/plain": [
              "                   Name  Total_content\n",
              "1           Raúl Campos             18\n",
              "2             Jan Suter             18\n",
              "3          Marcus Raboy             16\n",
              "4             Jay Karas             15\n",
              "5   Cathy Garcia-Molina             13\n",
              "6           Jay Chapman             12\n",
              "7       Martin Scorsese             12\n",
              "8       Youssef Chahine             12\n",
              "9      Steven Spielberg             10\n",
              "10         David Dhawan              9"
            ]
          },
          "metadata": {
            "tags": []
          },
          "execution_count": 15
        }
      ]
    },
    {
      "cell_type": "code",
      "metadata": {
        "colab": {
          "base_uri": "https://localhost:8080/",
          "height": 542
        },
        "id": "l1OCgiIZU9PY",
        "outputId": "d90726cf-3a76-4213-a803-1c07ea4c4b8c"
      },
      "source": [
        "px.bar(df_dir,x='Name',y='Total_content',text='Total_content',\n",
        "      title='Top 10 Directors on Netflix')"
      ],
      "execution_count": null,
      "outputs": [
        {
          "output_type": "display_data",
          "data": {
            "text/html": [
              "<html>\n",
              "<head><meta charset=\"utf-8\" /></head>\n",
              "<body>\n",
              "    <div>\n",
              "            <script src=\"https://cdnjs.cloudflare.com/ajax/libs/mathjax/2.7.5/MathJax.js?config=TeX-AMS-MML_SVG\"></script><script type=\"text/javascript\">if (window.MathJax) {MathJax.Hub.Config({SVG: {font: \"STIX-Web\"}});}</script>\n",
              "                <script type=\"text/javascript\">window.PlotlyConfig = {MathJaxConfig: 'local'};</script>\n",
              "        <script src=\"https://cdn.plot.ly/plotly-latest.min.js\"></script>    \n",
              "            <div id=\"2ca2e8f8-d092-44f3-8468-be53c2dcd00f\" class=\"plotly-graph-div\" style=\"height:525px; width:100%;\"></div>\n",
              "            <script type=\"text/javascript\">\n",
              "                \n",
              "                    window.PLOTLYENV=window.PLOTLYENV || {};\n",
              "                    \n",
              "                if (document.getElementById(\"2ca2e8f8-d092-44f3-8468-be53c2dcd00f\")) {\n",
              "                    Plotly.newPlot(\n",
              "                        '2ca2e8f8-d092-44f3-8468-be53c2dcd00f',\n",
              "                        [{\"alignmentgroup\": \"True\", \"hoverlabel\": {\"namelength\": 0}, \"hovertemplate\": \"Name=%{x}<br>Total_content=%{text}\", \"legendgroup\": \"\", \"marker\": {\"color\": \"#636efa\"}, \"name\": \"\", \"offsetgroup\": \"\", \"orientation\": \"v\", \"showlegend\": false, \"text\": [18.0, 18.0, 16.0, 15.0, 13.0, 12.0, 12.0, 12.0, 10.0, 9.0], \"textposition\": \"auto\", \"type\": \"bar\", \"x\": [\"Ra\\u00fal Campos\", \" Jan Suter\", \"Marcus Raboy\", \"Jay Karas\", \"Cathy Garcia-Molina\", \"Jay Chapman\", \"Martin Scorsese\", \"Youssef Chahine\", \"Steven Spielberg\", \"David Dhawan\"], \"xaxis\": \"x\", \"y\": [18, 18, 16, 15, 13, 12, 12, 12, 10, 9], \"yaxis\": \"y\"}],\n",
              "                        {\"barmode\": \"relative\", \"legend\": {\"tracegroupgap\": 0}, \"template\": {\"data\": {\"bar\": [{\"error_x\": {\"color\": \"#2a3f5f\"}, \"error_y\": {\"color\": \"#2a3f5f\"}, \"marker\": {\"line\": {\"color\": \"#E5ECF6\", \"width\": 0.5}}, \"type\": \"bar\"}], \"barpolar\": [{\"marker\": {\"line\": {\"color\": \"#E5ECF6\", \"width\": 0.5}}, \"type\": \"barpolar\"}], \"carpet\": [{\"aaxis\": {\"endlinecolor\": \"#2a3f5f\", \"gridcolor\": \"white\", \"linecolor\": \"white\", \"minorgridcolor\": \"white\", \"startlinecolor\": \"#2a3f5f\"}, \"baxis\": {\"endlinecolor\": \"#2a3f5f\", \"gridcolor\": \"white\", \"linecolor\": \"white\", \"minorgridcolor\": \"white\", \"startlinecolor\": \"#2a3f5f\"}, \"type\": \"carpet\"}], \"choropleth\": [{\"colorbar\": {\"outlinewidth\": 0, \"ticks\": \"\"}, \"type\": \"choropleth\"}], \"contour\": [{\"colorbar\": {\"outlinewidth\": 0, \"ticks\": \"\"}, \"colorscale\": [[0.0, \"#0d0887\"], [0.1111111111111111, \"#46039f\"], [0.2222222222222222, \"#7201a8\"], [0.3333333333333333, \"#9c179e\"], [0.4444444444444444, \"#bd3786\"], [0.5555555555555556, \"#d8576b\"], [0.6666666666666666, \"#ed7953\"], [0.7777777777777778, \"#fb9f3a\"], [0.8888888888888888, \"#fdca26\"], [1.0, \"#f0f921\"]], \"type\": \"contour\"}], \"contourcarpet\": [{\"colorbar\": {\"outlinewidth\": 0, \"ticks\": \"\"}, \"type\": \"contourcarpet\"}], \"heatmap\": [{\"colorbar\": {\"outlinewidth\": 0, \"ticks\": \"\"}, \"colorscale\": [[0.0, \"#0d0887\"], [0.1111111111111111, \"#46039f\"], [0.2222222222222222, \"#7201a8\"], [0.3333333333333333, \"#9c179e\"], [0.4444444444444444, \"#bd3786\"], [0.5555555555555556, \"#d8576b\"], [0.6666666666666666, \"#ed7953\"], [0.7777777777777778, \"#fb9f3a\"], [0.8888888888888888, \"#fdca26\"], [1.0, \"#f0f921\"]], \"type\": \"heatmap\"}], \"heatmapgl\": [{\"colorbar\": {\"outlinewidth\": 0, \"ticks\": \"\"}, \"colorscale\": [[0.0, \"#0d0887\"], [0.1111111111111111, \"#46039f\"], [0.2222222222222222, \"#7201a8\"], [0.3333333333333333, \"#9c179e\"], [0.4444444444444444, \"#bd3786\"], [0.5555555555555556, \"#d8576b\"], [0.6666666666666666, \"#ed7953\"], [0.7777777777777778, \"#fb9f3a\"], [0.8888888888888888, \"#fdca26\"], [1.0, \"#f0f921\"]], \"type\": \"heatmapgl\"}], \"histogram\": [{\"marker\": {\"colorbar\": {\"outlinewidth\": 0, \"ticks\": \"\"}}, \"type\": \"histogram\"}], \"histogram2d\": [{\"colorbar\": {\"outlinewidth\": 0, \"ticks\": \"\"}, \"colorscale\": [[0.0, \"#0d0887\"], [0.1111111111111111, \"#46039f\"], [0.2222222222222222, \"#7201a8\"], [0.3333333333333333, \"#9c179e\"], [0.4444444444444444, \"#bd3786\"], [0.5555555555555556, \"#d8576b\"], [0.6666666666666666, \"#ed7953\"], [0.7777777777777778, \"#fb9f3a\"], [0.8888888888888888, \"#fdca26\"], [1.0, \"#f0f921\"]], \"type\": \"histogram2d\"}], \"histogram2dcontour\": [{\"colorbar\": {\"outlinewidth\": 0, \"ticks\": \"\"}, \"colorscale\": [[0.0, \"#0d0887\"], [0.1111111111111111, \"#46039f\"], [0.2222222222222222, \"#7201a8\"], [0.3333333333333333, \"#9c179e\"], [0.4444444444444444, \"#bd3786\"], [0.5555555555555556, \"#d8576b\"], [0.6666666666666666, \"#ed7953\"], [0.7777777777777778, \"#fb9f3a\"], [0.8888888888888888, \"#fdca26\"], [1.0, \"#f0f921\"]], \"type\": \"histogram2dcontour\"}], \"mesh3d\": [{\"colorbar\": {\"outlinewidth\": 0, \"ticks\": \"\"}, \"type\": \"mesh3d\"}], \"parcoords\": [{\"line\": {\"colorbar\": {\"outlinewidth\": 0, \"ticks\": \"\"}}, \"type\": \"parcoords\"}], \"pie\": [{\"automargin\": true, \"type\": \"pie\"}], \"scatter\": [{\"marker\": {\"colorbar\": {\"outlinewidth\": 0, \"ticks\": \"\"}}, \"type\": \"scatter\"}], \"scatter3d\": [{\"line\": {\"colorbar\": {\"outlinewidth\": 0, \"ticks\": \"\"}}, \"marker\": {\"colorbar\": {\"outlinewidth\": 0, \"ticks\": \"\"}}, \"type\": \"scatter3d\"}], \"scattercarpet\": [{\"marker\": {\"colorbar\": {\"outlinewidth\": 0, \"ticks\": \"\"}}, \"type\": \"scattercarpet\"}], \"scattergeo\": [{\"marker\": {\"colorbar\": {\"outlinewidth\": 0, \"ticks\": \"\"}}, \"type\": \"scattergeo\"}], \"scattergl\": [{\"marker\": {\"colorbar\": {\"outlinewidth\": 0, \"ticks\": \"\"}}, \"type\": \"scattergl\"}], \"scattermapbox\": [{\"marker\": {\"colorbar\": {\"outlinewidth\": 0, \"ticks\": \"\"}}, \"type\": \"scattermapbox\"}], \"scatterpolar\": [{\"marker\": {\"colorbar\": {\"outlinewidth\": 0, \"ticks\": \"\"}}, \"type\": \"scatterpolar\"}], \"scatterpolargl\": [{\"marker\": {\"colorbar\": {\"outlinewidth\": 0, \"ticks\": \"\"}}, \"type\": \"scatterpolargl\"}], \"scatterternary\": [{\"marker\": {\"colorbar\": {\"outlinewidth\": 0, \"ticks\": \"\"}}, \"type\": \"scatterternary\"}], \"surface\": [{\"colorbar\": {\"outlinewidth\": 0, \"ticks\": \"\"}, \"colorscale\": [[0.0, \"#0d0887\"], [0.1111111111111111, \"#46039f\"], [0.2222222222222222, \"#7201a8\"], [0.3333333333333333, \"#9c179e\"], [0.4444444444444444, \"#bd3786\"], [0.5555555555555556, \"#d8576b\"], [0.6666666666666666, \"#ed7953\"], [0.7777777777777778, \"#fb9f3a\"], [0.8888888888888888, \"#fdca26\"], [1.0, \"#f0f921\"]], \"type\": \"surface\"}], \"table\": [{\"cells\": {\"fill\": {\"color\": \"#EBF0F8\"}, \"line\": {\"color\": \"white\"}}, \"header\": {\"fill\": {\"color\": \"#C8D4E3\"}, \"line\": {\"color\": \"white\"}}, \"type\": \"table\"}]}, \"layout\": {\"annotationdefaults\": {\"arrowcolor\": \"#2a3f5f\", \"arrowhead\": 0, \"arrowwidth\": 1}, \"coloraxis\": {\"colorbar\": {\"outlinewidth\": 0, \"ticks\": \"\"}}, \"colorscale\": {\"diverging\": [[0, \"#8e0152\"], [0.1, \"#c51b7d\"], [0.2, \"#de77ae\"], [0.3, \"#f1b6da\"], [0.4, \"#fde0ef\"], [0.5, \"#f7f7f7\"], [0.6, \"#e6f5d0\"], [0.7, \"#b8e186\"], [0.8, \"#7fbc41\"], [0.9, \"#4d9221\"], [1, \"#276419\"]], \"sequential\": [[0.0, \"#0d0887\"], [0.1111111111111111, \"#46039f\"], [0.2222222222222222, \"#7201a8\"], [0.3333333333333333, \"#9c179e\"], [0.4444444444444444, \"#bd3786\"], [0.5555555555555556, \"#d8576b\"], [0.6666666666666666, \"#ed7953\"], [0.7777777777777778, \"#fb9f3a\"], [0.8888888888888888, \"#fdca26\"], [1.0, \"#f0f921\"]], \"sequentialminus\": [[0.0, \"#0d0887\"], [0.1111111111111111, \"#46039f\"], [0.2222222222222222, \"#7201a8\"], [0.3333333333333333, \"#9c179e\"], [0.4444444444444444, \"#bd3786\"], [0.5555555555555556, \"#d8576b\"], [0.6666666666666666, \"#ed7953\"], [0.7777777777777778, \"#fb9f3a\"], [0.8888888888888888, \"#fdca26\"], [1.0, \"#f0f921\"]]}, \"colorway\": [\"#636efa\", \"#EF553B\", \"#00cc96\", \"#ab63fa\", \"#FFA15A\", \"#19d3f3\", \"#FF6692\", \"#B6E880\", \"#FF97FF\", \"#FECB52\"], \"font\": {\"color\": \"#2a3f5f\"}, \"geo\": {\"bgcolor\": \"white\", \"lakecolor\": \"white\", \"landcolor\": \"#E5ECF6\", \"showlakes\": true, \"showland\": true, \"subunitcolor\": \"white\"}, \"hoverlabel\": {\"align\": \"left\"}, \"hovermode\": \"closest\", \"mapbox\": {\"style\": \"light\"}, \"paper_bgcolor\": \"white\", \"plot_bgcolor\": \"#E5ECF6\", \"polar\": {\"angularaxis\": {\"gridcolor\": \"white\", \"linecolor\": \"white\", \"ticks\": \"\"}, \"bgcolor\": \"#E5ECF6\", \"radialaxis\": {\"gridcolor\": \"white\", \"linecolor\": \"white\", \"ticks\": \"\"}}, \"scene\": {\"xaxis\": {\"backgroundcolor\": \"#E5ECF6\", \"gridcolor\": \"white\", \"gridwidth\": 2, \"linecolor\": \"white\", \"showbackground\": true, \"ticks\": \"\", \"zerolinecolor\": \"white\"}, \"yaxis\": {\"backgroundcolor\": \"#E5ECF6\", \"gridcolor\": \"white\", \"gridwidth\": 2, \"linecolor\": \"white\", \"showbackground\": true, \"ticks\": \"\", \"zerolinecolor\": \"white\"}, \"zaxis\": {\"backgroundcolor\": \"#E5ECF6\", \"gridcolor\": \"white\", \"gridwidth\": 2, \"linecolor\": \"white\", \"showbackground\": true, \"ticks\": \"\", \"zerolinecolor\": \"white\"}}, \"shapedefaults\": {\"line\": {\"color\": \"#2a3f5f\"}}, \"ternary\": {\"aaxis\": {\"gridcolor\": \"white\", \"linecolor\": \"white\", \"ticks\": \"\"}, \"baxis\": {\"gridcolor\": \"white\", \"linecolor\": \"white\", \"ticks\": \"\"}, \"bgcolor\": \"#E5ECF6\", \"caxis\": {\"gridcolor\": \"white\", \"linecolor\": \"white\", \"ticks\": \"\"}}, \"title\": {\"x\": 0.05}, \"xaxis\": {\"automargin\": true, \"gridcolor\": \"white\", \"linecolor\": \"white\", \"ticks\": \"\", \"title\": {\"standoff\": 15}, \"zerolinecolor\": \"white\", \"zerolinewidth\": 2}, \"yaxis\": {\"automargin\": true, \"gridcolor\": \"white\", \"linecolor\": \"white\", \"ticks\": \"\", \"title\": {\"standoff\": 15}, \"zerolinecolor\": \"white\", \"zerolinewidth\": 2}}}, \"title\": {\"text\": \"Top 10 Directors on Netflix\"}, \"xaxis\": {\"anchor\": \"y\", \"domain\": [0.0, 1.0], \"title\": {\"text\": \"Name\"}}, \"yaxis\": {\"anchor\": \"x\", \"domain\": [0.0, 1.0], \"title\": {\"text\": \"Total_content\"}}},\n",
              "                        {\"responsive\": true}\n",
              "                    ).then(function(){\n",
              "                            \n",
              "var gd = document.getElementById('2ca2e8f8-d092-44f3-8468-be53c2dcd00f');\n",
              "var x = new MutationObserver(function (mutations, observer) {{\n",
              "        var display = window.getComputedStyle(gd).display;\n",
              "        if (!display || display === 'none') {{\n",
              "            console.log([gd, 'removed!']);\n",
              "            Plotly.purge(gd);\n",
              "            observer.disconnect();\n",
              "        }}\n",
              "}});\n",
              "\n",
              "// Listen for the removal of the full notebook cells\n",
              "var notebookContainer = gd.closest('#notebook-container');\n",
              "if (notebookContainer) {{\n",
              "    x.observe(notebookContainer, {childList: true});\n",
              "}}\n",
              "\n",
              "// Listen for the clearing of the current output cell\n",
              "var outputEl = gd.closest('.output');\n",
              "if (outputEl) {{\n",
              "    x.observe(outputEl, {childList: true});\n",
              "}}\n",
              "\n",
              "                        })\n",
              "                };\n",
              "                \n",
              "            </script>\n",
              "        </div>\n",
              "</body>\n",
              "</html>"
            ]
          },
          "metadata": {
            "tags": []
          }
        }
      ]
    },
    {
      "cell_type": "markdown",
      "metadata": {
        "id": "TeMyuYy6VJSC"
      },
      "source": [
        "![Screenshot (23).png](data:image/png;base64,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)"
      ]
    },
    {
      "cell_type": "markdown",
      "metadata": {
        "id": "PEn4JhtznG-d"
      },
      "source": [
        "So, from above bar diagram , we can see Raul Campos and jan suter are the best directors in Netflix"
      ]
    },
    {
      "cell_type": "markdown",
      "metadata": {
        "id": "j-6qMHGmnX6x"
      },
      "source": [
        "**Top 10 successful actors on this platform**"
      ]
    },
    {
      "cell_type": "code",
      "metadata": {
        "id": "bOlWwZ9fU9Si"
      },
      "source": [
        "\n",
        "df_cast=df.cast.str.split(',',expand=True).stack()\n",
        "df_cast=df_cast.value_counts().reset_index()\n",
        "df_cast.columns=['Actors Name','Total_content']\n",
        "df_cast=df_cast[:10]\n",
        "df_cast=df_cast.sort_values(by='Total_content', ascending=True)"
      ],
      "execution_count": null,
      "outputs": []
    },
    {
      "cell_type": "code",
      "metadata": {
        "colab": {
          "base_uri": "https://localhost:8080/",
          "height": 542
        },
        "id": "NNkGcBXKU9VZ",
        "outputId": "d5f3905a-c775-4c87-a902-ce760d9df866"
      },
      "source": [
        "px.bar(df_cast,x='Actors Name',y='Total_content',text='Total_content',\n",
        "       title='Top 10 actors on Netflix')"
      ],
      "execution_count": null,
      "outputs": [
        {
          "output_type": "display_data",
          "data": {
            "text/html": [
              "<html>\n",
              "<head><meta charset=\"utf-8\" /></head>\n",
              "<body>\n",
              "    <div>\n",
              "            <script src=\"https://cdnjs.cloudflare.com/ajax/libs/mathjax/2.7.5/MathJax.js?config=TeX-AMS-MML_SVG\"></script><script type=\"text/javascript\">if (window.MathJax) {MathJax.Hub.Config({SVG: {font: \"STIX-Web\"}});}</script>\n",
              "                <script type=\"text/javascript\">window.PlotlyConfig = {MathJaxConfig: 'local'};</script>\n",
              "        <script src=\"https://cdn.plot.ly/plotly-latest.min.js\"></script>    \n",
              "            <div id=\"3623018c-2d98-429b-8a25-b622203bcb85\" class=\"plotly-graph-div\" style=\"height:525px; width:100%;\"></div>\n",
              "            <script type=\"text/javascript\">\n",
              "                \n",
              "                    window.PLOTLYENV=window.PLOTLYENV || {};\n",
              "                    \n",
              "                if (document.getElementById(\"3623018c-2d98-429b-8a25-b622203bcb85\")) {\n",
              "                    Plotly.newPlot(\n",
              "                        '3623018c-2d98-429b-8a25-b622203bcb85',\n",
              "                        [{\"alignmentgroup\": \"True\", \"hoverlabel\": {\"namelength\": 0}, \"hovertemplate\": \"Actors Name=%{x}<br>Total_content=%{text}\", \"legendgroup\": \"\", \"marker\": {\"color\": \"#636efa\"}, \"name\": \"\", \"offsetgroup\": \"\", \"orientation\": \"v\", \"showlegend\": false, \"text\": [22.0, 22.0, 23.0, 24.0, 24.0, 25.0, 27.0, 27.0, 28.0, 38.0], \"textposition\": \"auto\", \"type\": \"bar\", \"x\": [\" Vincent Tong\", \"Akshay Kumar\", \" Yuki Kaji\", \" Paresh Rawal\", \" Andrea Libman\", \" Boman Irani\", \" Om Puri\", \"Shah Rukh Khan\", \" Takahiro Sakurai\", \" Anupam Kher\"], \"xaxis\": \"x\", \"y\": [22, 22, 23, 24, 24, 25, 27, 27, 28, 38], \"yaxis\": \"y\"}],\n",
              "                        {\"barmode\": \"relative\", \"legend\": {\"tracegroupgap\": 0}, \"template\": {\"data\": {\"bar\": [{\"error_x\": {\"color\": \"#2a3f5f\"}, \"error_y\": {\"color\": \"#2a3f5f\"}, \"marker\": {\"line\": {\"color\": \"#E5ECF6\", \"width\": 0.5}}, \"type\": \"bar\"}], \"barpolar\": [{\"marker\": {\"line\": {\"color\": \"#E5ECF6\", \"width\": 0.5}}, \"type\": \"barpolar\"}], \"carpet\": [{\"aaxis\": {\"endlinecolor\": \"#2a3f5f\", \"gridcolor\": \"white\", \"linecolor\": \"white\", \"minorgridcolor\": \"white\", \"startlinecolor\": \"#2a3f5f\"}, \"baxis\": {\"endlinecolor\": \"#2a3f5f\", \"gridcolor\": \"white\", \"linecolor\": \"white\", \"minorgridcolor\": \"white\", \"startlinecolor\": \"#2a3f5f\"}, \"type\": \"carpet\"}], \"choropleth\": [{\"colorbar\": {\"outlinewidth\": 0, \"ticks\": \"\"}, \"type\": \"choropleth\"}], \"contour\": [{\"colorbar\": {\"outlinewidth\": 0, \"ticks\": \"\"}, \"colorscale\": [[0.0, \"#0d0887\"], [0.1111111111111111, \"#46039f\"], [0.2222222222222222, \"#7201a8\"], [0.3333333333333333, \"#9c179e\"], [0.4444444444444444, \"#bd3786\"], [0.5555555555555556, \"#d8576b\"], [0.6666666666666666, \"#ed7953\"], [0.7777777777777778, \"#fb9f3a\"], [0.8888888888888888, \"#fdca26\"], [1.0, \"#f0f921\"]], \"type\": \"contour\"}], \"contourcarpet\": [{\"colorbar\": {\"outlinewidth\": 0, \"ticks\": \"\"}, \"type\": \"contourcarpet\"}], \"heatmap\": [{\"colorbar\": {\"outlinewidth\": 0, \"ticks\": \"\"}, \"colorscale\": [[0.0, \"#0d0887\"], [0.1111111111111111, \"#46039f\"], [0.2222222222222222, \"#7201a8\"], [0.3333333333333333, \"#9c179e\"], [0.4444444444444444, \"#bd3786\"], [0.5555555555555556, \"#d8576b\"], [0.6666666666666666, \"#ed7953\"], [0.7777777777777778, \"#fb9f3a\"], [0.8888888888888888, \"#fdca26\"], [1.0, \"#f0f921\"]], \"type\": \"heatmap\"}], \"heatmapgl\": [{\"colorbar\": {\"outlinewidth\": 0, \"ticks\": \"\"}, \"colorscale\": [[0.0, \"#0d0887\"], [0.1111111111111111, \"#46039f\"], [0.2222222222222222, \"#7201a8\"], [0.3333333333333333, \"#9c179e\"], [0.4444444444444444, \"#bd3786\"], [0.5555555555555556, \"#d8576b\"], [0.6666666666666666, \"#ed7953\"], [0.7777777777777778, \"#fb9f3a\"], [0.8888888888888888, \"#fdca26\"], [1.0, \"#f0f921\"]], \"type\": \"heatmapgl\"}], \"histogram\": [{\"marker\": {\"colorbar\": {\"outlinewidth\": 0, \"ticks\": \"\"}}, \"type\": \"histogram\"}], \"histogram2d\": [{\"colorbar\": {\"outlinewidth\": 0, \"ticks\": \"\"}, \"colorscale\": [[0.0, \"#0d0887\"], [0.1111111111111111, \"#46039f\"], [0.2222222222222222, \"#7201a8\"], [0.3333333333333333, \"#9c179e\"], [0.4444444444444444, \"#bd3786\"], [0.5555555555555556, \"#d8576b\"], [0.6666666666666666, \"#ed7953\"], [0.7777777777777778, \"#fb9f3a\"], [0.8888888888888888, \"#fdca26\"], [1.0, \"#f0f921\"]], \"type\": \"histogram2d\"}], \"histogram2dcontour\": [{\"colorbar\": {\"outlinewidth\": 0, \"ticks\": \"\"}, \"colorscale\": [[0.0, \"#0d0887\"], [0.1111111111111111, \"#46039f\"], [0.2222222222222222, \"#7201a8\"], [0.3333333333333333, \"#9c179e\"], [0.4444444444444444, \"#bd3786\"], [0.5555555555555556, \"#d8576b\"], [0.6666666666666666, \"#ed7953\"], [0.7777777777777778, \"#fb9f3a\"], [0.8888888888888888, \"#fdca26\"], [1.0, \"#f0f921\"]], \"type\": \"histogram2dcontour\"}], \"mesh3d\": [{\"colorbar\": {\"outlinewidth\": 0, \"ticks\": \"\"}, \"type\": \"mesh3d\"}], \"parcoords\": [{\"line\": {\"colorbar\": {\"outlinewidth\": 0, \"ticks\": \"\"}}, \"type\": \"parcoords\"}], \"pie\": [{\"automargin\": true, \"type\": \"pie\"}], \"scatter\": [{\"marker\": {\"colorbar\": {\"outlinewidth\": 0, \"ticks\": \"\"}}, \"type\": \"scatter\"}], \"scatter3d\": [{\"line\": {\"colorbar\": {\"outlinewidth\": 0, \"ticks\": \"\"}}, \"marker\": {\"colorbar\": {\"outlinewidth\": 0, \"ticks\": \"\"}}, \"type\": \"scatter3d\"}], \"scattercarpet\": [{\"marker\": {\"colorbar\": {\"outlinewidth\": 0, \"ticks\": \"\"}}, \"type\": \"scattercarpet\"}], \"scattergeo\": [{\"marker\": {\"colorbar\": {\"outlinewidth\": 0, \"ticks\": \"\"}}, \"type\": \"scattergeo\"}], \"scattergl\": [{\"marker\": {\"colorbar\": {\"outlinewidth\": 0, \"ticks\": \"\"}}, \"type\": \"scattergl\"}], \"scattermapbox\": [{\"marker\": {\"colorbar\": {\"outlinewidth\": 0, \"ticks\": \"\"}}, \"type\": \"scattermapbox\"}], \"scatterpolar\": [{\"marker\": {\"colorbar\": {\"outlinewidth\": 0, \"ticks\": \"\"}}, \"type\": \"scatterpolar\"}], \"scatterpolargl\": [{\"marker\": {\"colorbar\": {\"outlinewidth\": 0, \"ticks\": \"\"}}, \"type\": \"scatterpolargl\"}], \"scatterternary\": [{\"marker\": {\"colorbar\": {\"outlinewidth\": 0, \"ticks\": \"\"}}, \"type\": \"scatterternary\"}], \"surface\": [{\"colorbar\": {\"outlinewidth\": 0, \"ticks\": \"\"}, \"colorscale\": [[0.0, \"#0d0887\"], [0.1111111111111111, \"#46039f\"], [0.2222222222222222, \"#7201a8\"], [0.3333333333333333, \"#9c179e\"], [0.4444444444444444, \"#bd3786\"], [0.5555555555555556, \"#d8576b\"], [0.6666666666666666, \"#ed7953\"], [0.7777777777777778, \"#fb9f3a\"], [0.8888888888888888, \"#fdca26\"], [1.0, \"#f0f921\"]], \"type\": \"surface\"}], \"table\": [{\"cells\": {\"fill\": {\"color\": \"#EBF0F8\"}, \"line\": {\"color\": \"white\"}}, \"header\": {\"fill\": {\"color\": \"#C8D4E3\"}, \"line\": {\"color\": \"white\"}}, \"type\": \"table\"}]}, \"layout\": {\"annotationdefaults\": {\"arrowcolor\": \"#2a3f5f\", \"arrowhead\": 0, \"arrowwidth\": 1}, \"coloraxis\": {\"colorbar\": {\"outlinewidth\": 0, \"ticks\": \"\"}}, \"colorscale\": {\"diverging\": [[0, \"#8e0152\"], [0.1, \"#c51b7d\"], [0.2, \"#de77ae\"], [0.3, \"#f1b6da\"], [0.4, \"#fde0ef\"], [0.5, \"#f7f7f7\"], [0.6, \"#e6f5d0\"], [0.7, \"#b8e186\"], [0.8, \"#7fbc41\"], [0.9, \"#4d9221\"], [1, \"#276419\"]], \"sequential\": [[0.0, \"#0d0887\"], [0.1111111111111111, \"#46039f\"], [0.2222222222222222, \"#7201a8\"], [0.3333333333333333, \"#9c179e\"], [0.4444444444444444, \"#bd3786\"], [0.5555555555555556, \"#d8576b\"], [0.6666666666666666, \"#ed7953\"], [0.7777777777777778, \"#fb9f3a\"], [0.8888888888888888, \"#fdca26\"], [1.0, \"#f0f921\"]], \"sequentialminus\": [[0.0, \"#0d0887\"], [0.1111111111111111, \"#46039f\"], [0.2222222222222222, \"#7201a8\"], [0.3333333333333333, \"#9c179e\"], [0.4444444444444444, \"#bd3786\"], [0.5555555555555556, \"#d8576b\"], [0.6666666666666666, \"#ed7953\"], [0.7777777777777778, \"#fb9f3a\"], [0.8888888888888888, \"#fdca26\"], [1.0, \"#f0f921\"]]}, \"colorway\": [\"#636efa\", \"#EF553B\", \"#00cc96\", \"#ab63fa\", \"#FFA15A\", \"#19d3f3\", \"#FF6692\", \"#B6E880\", \"#FF97FF\", \"#FECB52\"], \"font\": {\"color\": \"#2a3f5f\"}, \"geo\": {\"bgcolor\": \"white\", \"lakecolor\": \"white\", \"landcolor\": \"#E5ECF6\", \"showlakes\": true, \"showland\": true, \"subunitcolor\": \"white\"}, \"hoverlabel\": {\"align\": \"left\"}, \"hovermode\": \"closest\", \"mapbox\": {\"style\": \"light\"}, \"paper_bgcolor\": \"white\", \"plot_bgcolor\": \"#E5ECF6\", \"polar\": {\"angularaxis\": {\"gridcolor\": \"white\", \"linecolor\": \"white\", \"ticks\": \"\"}, \"bgcolor\": \"#E5ECF6\", \"radialaxis\": {\"gridcolor\": \"white\", \"linecolor\": \"white\", \"ticks\": \"\"}}, \"scene\": {\"xaxis\": {\"backgroundcolor\": \"#E5ECF6\", \"gridcolor\": \"white\", \"gridwidth\": 2, \"linecolor\": \"white\", \"showbackground\": true, \"ticks\": \"\", \"zerolinecolor\": \"white\"}, \"yaxis\": {\"backgroundcolor\": \"#E5ECF6\", \"gridcolor\": \"white\", \"gridwidth\": 2, \"linecolor\": \"white\", \"showbackground\": true, \"ticks\": \"\", \"zerolinecolor\": \"white\"}, \"zaxis\": {\"backgroundcolor\": \"#E5ECF6\", \"gridcolor\": \"white\", \"gridwidth\": 2, \"linecolor\": \"white\", \"showbackground\": true, \"ticks\": \"\", \"zerolinecolor\": \"white\"}}, \"shapedefaults\": {\"line\": {\"color\": \"#2a3f5f\"}}, \"ternary\": {\"aaxis\": {\"gridcolor\": \"white\", \"linecolor\": \"white\", \"ticks\": \"\"}, \"baxis\": {\"gridcolor\": \"white\", \"linecolor\": \"white\", \"ticks\": \"\"}, \"bgcolor\": \"#E5ECF6\", \"caxis\": {\"gridcolor\": \"white\", \"linecolor\": \"white\", \"ticks\": \"\"}}, \"title\": {\"x\": 0.05}, \"xaxis\": {\"automargin\": true, \"gridcolor\": \"white\", \"linecolor\": \"white\", \"ticks\": \"\", \"title\": {\"standoff\": 15}, \"zerolinecolor\": \"white\", \"zerolinewidth\": 2}, \"yaxis\": {\"automargin\": true, \"gridcolor\": \"white\", \"linecolor\": \"white\", \"ticks\": \"\", \"title\": {\"standoff\": 15}, \"zerolinecolor\": \"white\", \"zerolinewidth\": 2}}}, \"title\": {\"text\": \"Top 10 actors on Netflix\"}, \"xaxis\": {\"anchor\": \"y\", \"domain\": [0.0, 1.0], \"title\": {\"text\": \"Actors Name\"}}, \"yaxis\": {\"anchor\": \"x\", \"domain\": [0.0, 1.0], \"title\": {\"text\": \"Total_content\"}}},\n",
              "                        {\"responsive\": true}\n",
              "                    ).then(function(){\n",
              "                            \n",
              "var gd = document.getElementById('3623018c-2d98-429b-8a25-b622203bcb85');\n",
              "var x = new MutationObserver(function (mutations, observer) {{\n",
              "        var display = window.getComputedStyle(gd).display;\n",
              "        if (!display || display === 'none') {{\n",
              "            console.log([gd, 'removed!']);\n",
              "            Plotly.purge(gd);\n",
              "            observer.disconnect();\n",
              "        }}\n",
              "}});\n",
              "\n",
              "// Listen for the removal of the full notebook cells\n",
              "var notebookContainer = gd.closest('#notebook-container');\n",
              "if (notebookContainer) {{\n",
              "    x.observe(notebookContainer, {childList: true});\n",
              "}}\n",
              "\n",
              "// Listen for the clearing of the current output cell\n",
              "var outputEl = gd.closest('.output');\n",
              "if (outputEl) {{\n",
              "    x.observe(outputEl, {childList: true});\n",
              "}}\n",
              "\n",
              "                        })\n",
              "                };\n",
              "                \n",
              "            </script>\n",
              "        </div>\n",
              "</body>\n",
              "</html>"
            ]
          },
          "metadata": {
            "tags": []
          }
        }
      ]
    },
    {
      "cell_type": "markdown",
      "metadata": {
        "id": "WR5EsvjXf2Q6"
      },
      "source": [
        "![Screenshot (33).png](data:image/png;base64,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)"
      ]
    },
    {
      "cell_type": "markdown",
      "metadata": {
        "id": "kaV-Z2wtneKv"
      },
      "source": [
        "From above bardiagram, Anupam kher is the fammous actor in Netflix"
      ]
    },
    {
      "cell_type": "markdown",
      "metadata": {
        "id": "3B49JP71ntGw"
      },
      "source": [
        "**Trend of content produced over the years on Netflix**"
      ]
    },
    {
      "cell_type": "code",
      "metadata": {
        "colab": {
          "base_uri": "https://localhost:8080/"
        },
        "id": "fmGg8jnlU9bP",
        "outputId": "1a1f966b-6958-4a5f-98be-d4ec0fee273f"
      },
      "source": [
        "df1=df.groupby('release_year')['type'].agg('count').sort_values()\n",
        "\n",
        "\n",
        "df1"
      ],
      "execution_count": null,
      "outputs": [
        {
          "output_type": "execute_result",
          "data": {
            "text/plain": [
              "release_year\n",
              "1925       1\n",
              "1966       1\n",
              "1959       1\n",
              "1947       1\n",
              "1964       1\n",
              "        ... \n",
              "2020     868\n",
              "2016     882\n",
              "2019     996\n",
              "2017    1012\n",
              "2018    1121\n",
              "Name: type, Length: 73, dtype: int64"
            ]
          },
          "metadata": {
            "tags": []
          },
          "execution_count": 23
        }
      ]
    },
    {
      "cell_type": "code",
      "metadata": {
        "colab": {
          "base_uri": "https://localhost:8080/",
          "height": 414
        },
        "id": "uOpqFpyFU9dG",
        "outputId": "47d52065-93e7-495e-a128-1d2aed60a4fe"
      },
      "source": [
        "df1=df[['type','release_year']]\n",
        "#'df1.groupby('release_year')['type'].agg('count').sort_values(ascending=False)\n",
        "df1"
      ],
      "execution_count": null,
      "outputs": [
        {
          "output_type": "execute_result",
          "data": {
            "text/html": [
              "<div>\n",
              "<style scoped>\n",
              "    .dataframe tbody tr th:only-of-type {\n",
              "        vertical-align: middle;\n",
              "    }\n",
              "\n",
              "    .dataframe tbody tr th {\n",
              "        vertical-align: top;\n",
              "    }\n",
              "\n",
              "    .dataframe thead th {\n",
              "        text-align: right;\n",
              "    }\n",
              "</style>\n",
              "<table border=\"1\" class=\"dataframe\">\n",
              "  <thead>\n",
              "    <tr style=\"text-align: right;\">\n",
              "      <th></th>\n",
              "      <th>type</th>\n",
              "      <th>release_year</th>\n",
              "    </tr>\n",
              "  </thead>\n",
              "  <tbody>\n",
              "    <tr>\n",
              "      <th>0</th>\n",
              "      <td>TV Show</td>\n",
              "      <td>2020</td>\n",
              "    </tr>\n",
              "    <tr>\n",
              "      <th>1</th>\n",
              "      <td>Movie</td>\n",
              "      <td>2016</td>\n",
              "    </tr>\n",
              "    <tr>\n",
              "      <th>2</th>\n",
              "      <td>Movie</td>\n",
              "      <td>2011</td>\n",
              "    </tr>\n",
              "    <tr>\n",
              "      <th>3</th>\n",
              "      <td>Movie</td>\n",
              "      <td>2009</td>\n",
              "    </tr>\n",
              "    <tr>\n",
              "      <th>4</th>\n",
              "      <td>Movie</td>\n",
              "      <td>2008</td>\n",
              "    </tr>\n",
              "    <tr>\n",
              "      <th>...</th>\n",
              "      <td>...</td>\n",
              "      <td>...</td>\n",
              "    </tr>\n",
              "    <tr>\n",
              "      <th>7782</th>\n",
              "      <td>Movie</td>\n",
              "      <td>2005</td>\n",
              "    </tr>\n",
              "    <tr>\n",
              "      <th>7783</th>\n",
              "      <td>Movie</td>\n",
              "      <td>2015</td>\n",
              "    </tr>\n",
              "    <tr>\n",
              "      <th>7784</th>\n",
              "      <td>Movie</td>\n",
              "      <td>2019</td>\n",
              "    </tr>\n",
              "    <tr>\n",
              "      <th>7785</th>\n",
              "      <td>TV Show</td>\n",
              "      <td>2019</td>\n",
              "    </tr>\n",
              "    <tr>\n",
              "      <th>7786</th>\n",
              "      <td>Movie</td>\n",
              "      <td>2019</td>\n",
              "    </tr>\n",
              "  </tbody>\n",
              "</table>\n",
              "<p>7787 rows × 2 columns</p>\n",
              "</div>"
            ],
            "text/plain": [
              "         type  release_year\n",
              "0     TV Show          2020\n",
              "1       Movie          2016\n",
              "2       Movie          2011\n",
              "3       Movie          2009\n",
              "4       Movie          2008\n",
              "...       ...           ...\n",
              "7782    Movie          2005\n",
              "7783    Movie          2015\n",
              "7784    Movie          2019\n",
              "7785  TV Show          2019\n",
              "7786    Movie          2019\n",
              "\n",
              "[7787 rows x 2 columns]"
            ]
          },
          "metadata": {
            "tags": []
          },
          "execution_count": 24
        }
      ]
    },
    {
      "cell_type": "code",
      "metadata": {
        "colab": {
          "base_uri": "https://localhost:8080/",
          "height": 784
        },
        "id": "SWb0INBbU9fq",
        "outputId": "4895e369-20a3-461e-d38f-67800b7ab62a"
      },
      "source": [
        "df2=df1.groupby(['release_year','type']).size().reset_index(name='Total Content')\n",
        "df2.sort_values(by='Total Content',ascending=False)\n",
        "df3=df2[df2.release_year>=2010]\n",
        "df3\n"
      ],
      "execution_count": null,
      "outputs": [
        {
          "output_type": "execute_result",
          "data": {
            "text/html": [
              "<div>\n",
              "<style scoped>\n",
              "    .dataframe tbody tr th:only-of-type {\n",
              "        vertical-align: middle;\n",
              "    }\n",
              "\n",
              "    .dataframe tbody tr th {\n",
              "        vertical-align: top;\n",
              "    }\n",
              "\n",
              "    .dataframe thead th {\n",
              "        text-align: right;\n",
              "    }\n",
              "</style>\n",
              "<table border=\"1\" class=\"dataframe\">\n",
              "  <thead>\n",
              "    <tr style=\"text-align: right;\">\n",
              "      <th></th>\n",
              "      <th>release_year</th>\n",
              "      <th>type</th>\n",
              "      <th>Total Content</th>\n",
              "    </tr>\n",
              "  </thead>\n",
              "  <tbody>\n",
              "    <tr>\n",
              "      <th>94</th>\n",
              "      <td>2010</td>\n",
              "      <td>Movie</td>\n",
              "      <td>136</td>\n",
              "    </tr>\n",
              "    <tr>\n",
              "      <th>95</th>\n",
              "      <td>2010</td>\n",
              "      <td>TV Show</td>\n",
              "      <td>37</td>\n",
              "    </tr>\n",
              "    <tr>\n",
              "      <th>96</th>\n",
              "      <td>2011</td>\n",
              "      <td>Movie</td>\n",
              "      <td>127</td>\n",
              "    </tr>\n",
              "    <tr>\n",
              "      <th>97</th>\n",
              "      <td>2011</td>\n",
              "      <td>TV Show</td>\n",
              "      <td>39</td>\n",
              "    </tr>\n",
              "    <tr>\n",
              "      <th>98</th>\n",
              "      <td>2012</td>\n",
              "      <td>Movie</td>\n",
              "      <td>158</td>\n",
              "    </tr>\n",
              "    <tr>\n",
              "      <th>99</th>\n",
              "      <td>2012</td>\n",
              "      <td>TV Show</td>\n",
              "      <td>61</td>\n",
              "    </tr>\n",
              "    <tr>\n",
              "      <th>100</th>\n",
              "      <td>2013</td>\n",
              "      <td>Movie</td>\n",
              "      <td>202</td>\n",
              "    </tr>\n",
              "    <tr>\n",
              "      <th>101</th>\n",
              "      <td>2013</td>\n",
              "      <td>TV Show</td>\n",
              "      <td>65</td>\n",
              "    </tr>\n",
              "    <tr>\n",
              "      <th>102</th>\n",
              "      <td>2014</td>\n",
              "      <td>Movie</td>\n",
              "      <td>244</td>\n",
              "    </tr>\n",
              "    <tr>\n",
              "      <th>103</th>\n",
              "      <td>2014</td>\n",
              "      <td>TV Show</td>\n",
              "      <td>90</td>\n",
              "    </tr>\n",
              "    <tr>\n",
              "      <th>104</th>\n",
              "      <td>2015</td>\n",
              "      <td>Movie</td>\n",
              "      <td>382</td>\n",
              "    </tr>\n",
              "    <tr>\n",
              "      <th>105</th>\n",
              "      <td>2015</td>\n",
              "      <td>TV Show</td>\n",
              "      <td>159</td>\n",
              "    </tr>\n",
              "    <tr>\n",
              "      <th>106</th>\n",
              "      <td>2016</td>\n",
              "      <td>Movie</td>\n",
              "      <td>642</td>\n",
              "    </tr>\n",
              "    <tr>\n",
              "      <th>107</th>\n",
              "      <td>2016</td>\n",
              "      <td>TV Show</td>\n",
              "      <td>240</td>\n",
              "    </tr>\n",
              "    <tr>\n",
              "      <th>108</th>\n",
              "      <td>2017</td>\n",
              "      <td>Movie</td>\n",
              "      <td>744</td>\n",
              "    </tr>\n",
              "    <tr>\n",
              "      <th>109</th>\n",
              "      <td>2017</td>\n",
              "      <td>TV Show</td>\n",
              "      <td>268</td>\n",
              "    </tr>\n",
              "    <tr>\n",
              "      <th>110</th>\n",
              "      <td>2018</td>\n",
              "      <td>Movie</td>\n",
              "      <td>734</td>\n",
              "    </tr>\n",
              "    <tr>\n",
              "      <th>111</th>\n",
              "      <td>2018</td>\n",
              "      <td>TV Show</td>\n",
              "      <td>387</td>\n",
              "    </tr>\n",
              "    <tr>\n",
              "      <th>112</th>\n",
              "      <td>2019</td>\n",
              "      <td>Movie</td>\n",
              "      <td>582</td>\n",
              "    </tr>\n",
              "    <tr>\n",
              "      <th>113</th>\n",
              "      <td>2019</td>\n",
              "      <td>TV Show</td>\n",
              "      <td>414</td>\n",
              "    </tr>\n",
              "    <tr>\n",
              "      <th>114</th>\n",
              "      <td>2020</td>\n",
              "      <td>Movie</td>\n",
              "      <td>411</td>\n",
              "    </tr>\n",
              "    <tr>\n",
              "      <th>115</th>\n",
              "      <td>2020</td>\n",
              "      <td>TV Show</td>\n",
              "      <td>457</td>\n",
              "    </tr>\n",
              "    <tr>\n",
              "      <th>116</th>\n",
              "      <td>2021</td>\n",
              "      <td>Movie</td>\n",
              "      <td>12</td>\n",
              "    </tr>\n",
              "    <tr>\n",
              "      <th>117</th>\n",
              "      <td>2021</td>\n",
              "      <td>TV Show</td>\n",
              "      <td>19</td>\n",
              "    </tr>\n",
              "  </tbody>\n",
              "</table>\n",
              "</div>"
            ],
            "text/plain": [
              "     release_year     type  Total Content\n",
              "94           2010    Movie            136\n",
              "95           2010  TV Show             37\n",
              "96           2011    Movie            127\n",
              "97           2011  TV Show             39\n",
              "98           2012    Movie            158\n",
              "99           2012  TV Show             61\n",
              "100          2013    Movie            202\n",
              "101          2013  TV Show             65\n",
              "102          2014    Movie            244\n",
              "103          2014  TV Show             90\n",
              "104          2015    Movie            382\n",
              "105          2015  TV Show            159\n",
              "106          2016    Movie            642\n",
              "107          2016  TV Show            240\n",
              "108          2017    Movie            744\n",
              "109          2017  TV Show            268\n",
              "110          2018    Movie            734\n",
              "111          2018  TV Show            387\n",
              "112          2019    Movie            582\n",
              "113          2019  TV Show            414\n",
              "114          2020    Movie            411\n",
              "115          2020  TV Show            457\n",
              "116          2021    Movie             12\n",
              "117          2021  TV Show             19"
            ]
          },
          "metadata": {
            "tags": []
          },
          "execution_count": 25
        }
      ]
    },
    {
      "cell_type": "code",
      "metadata": {
        "colab": {
          "base_uri": "https://localhost:8080/",
          "height": 542
        },
        "id": "7ozGeGiWU9iK",
        "outputId": "cefb3c4a-0ebc-43bf-a394-d671764f8969"
      },
      "source": [
        "fig=px.line(df3,x='release_year',y='Total Content',color='type',text='Total Content',\n",
        "       title='Trend of content produced over the years on Netflix')\n",
        "fig.update_traces(textposition='top center')\n",
        "fig.show()"
      ],
      "execution_count": null,
      "outputs": [
        {
          "output_type": "display_data",
          "data": {
            "text/html": [
              "<html>\n",
              "<head><meta charset=\"utf-8\" /></head>\n",
              "<body>\n",
              "    <div>\n",
              "            <script src=\"https://cdnjs.cloudflare.com/ajax/libs/mathjax/2.7.5/MathJax.js?config=TeX-AMS-MML_SVG\"></script><script type=\"text/javascript\">if (window.MathJax) {MathJax.Hub.Config({SVG: {font: \"STIX-Web\"}});}</script>\n",
              "                <script type=\"text/javascript\">window.PlotlyConfig = {MathJaxConfig: 'local'};</script>\n",
              "        <script src=\"https://cdn.plot.ly/plotly-latest.min.js\"></script>    \n",
              "            <div id=\"8cc2bed3-8d21-47c4-9946-019ca265f806\" class=\"plotly-graph-div\" style=\"height:525px; width:100%;\"></div>\n",
              "            <script type=\"text/javascript\">\n",
              "                \n",
              "                    window.PLOTLYENV=window.PLOTLYENV || {};\n",
              "                    \n",
              "                if (document.getElementById(\"8cc2bed3-8d21-47c4-9946-019ca265f806\")) {\n",
              "                    Plotly.newPlot(\n",
              "                        '8cc2bed3-8d21-47c4-9946-019ca265f806',\n",
              "                        [{\"hoverlabel\": {\"namelength\": 0}, \"hovertemplate\": \"type=Movie<br>release_year=%{x}<br>Total Content=%{text}\", \"legendgroup\": \"type=Movie\", \"line\": {\"color\": \"#636efa\", \"dash\": \"solid\"}, \"mode\": \"lines+markers+text\", \"name\": \"type=Movie\", \"showlegend\": true, \"text\": [136.0, 127.0, 158.0, 202.0, 244.0, 382.0, 642.0, 744.0, 734.0, 582.0, 411.0, 12.0], \"textposition\": \"top center\", \"type\": \"scatter\", \"x\": [2010, 2011, 2012, 2013, 2014, 2015, 2016, 2017, 2018, 2019, 2020, 2021], \"xaxis\": \"x\", \"y\": [136, 127, 158, 202, 244, 382, 642, 744, 734, 582, 411, 12], \"yaxis\": \"y\"}, {\"hoverlabel\": {\"namelength\": 0}, \"hovertemplate\": \"type=TV Show<br>release_year=%{x}<br>Total Content=%{text}\", \"legendgroup\": \"type=TV Show\", \"line\": {\"color\": \"#EF553B\", \"dash\": \"solid\"}, \"mode\": \"lines+markers+text\", \"name\": \"type=TV Show\", \"showlegend\": true, \"text\": [37.0, 39.0, 61.0, 65.0, 90.0, 159.0, 240.0, 268.0, 387.0, 414.0, 457.0, 19.0], \"textposition\": \"top center\", \"type\": \"scatter\", \"x\": [2010, 2011, 2012, 2013, 2014, 2015, 2016, 2017, 2018, 2019, 2020, 2021], \"xaxis\": \"x\", \"y\": [37, 39, 61, 65, 90, 159, 240, 268, 387, 414, 457, 19], \"yaxis\": \"y\"}],\n",
              "                        {\"legend\": {\"tracegroupgap\": 0}, \"template\": {\"data\": {\"bar\": [{\"error_x\": {\"color\": \"#2a3f5f\"}, \"error_y\": {\"color\": \"#2a3f5f\"}, \"marker\": {\"line\": {\"color\": \"#E5ECF6\", \"width\": 0.5}}, \"type\": \"bar\"}], \"barpolar\": [{\"marker\": {\"line\": {\"color\": \"#E5ECF6\", \"width\": 0.5}}, \"type\": \"barpolar\"}], \"carpet\": [{\"aaxis\": {\"endlinecolor\": \"#2a3f5f\", \"gridcolor\": \"white\", \"linecolor\": \"white\", \"minorgridcolor\": \"white\", \"startlinecolor\": \"#2a3f5f\"}, \"baxis\": {\"endlinecolor\": \"#2a3f5f\", \"gridcolor\": \"white\", \"linecolor\": \"white\", \"minorgridcolor\": \"white\", \"startlinecolor\": \"#2a3f5f\"}, \"type\": \"carpet\"}], \"choropleth\": [{\"colorbar\": {\"outlinewidth\": 0, \"ticks\": \"\"}, \"type\": \"choropleth\"}], \"contour\": [{\"colorbar\": {\"outlinewidth\": 0, \"ticks\": \"\"}, \"colorscale\": [[0.0, \"#0d0887\"], [0.1111111111111111, \"#46039f\"], [0.2222222222222222, \"#7201a8\"], [0.3333333333333333, \"#9c179e\"], [0.4444444444444444, \"#bd3786\"], [0.5555555555555556, \"#d8576b\"], [0.6666666666666666, \"#ed7953\"], [0.7777777777777778, \"#fb9f3a\"], [0.8888888888888888, \"#fdca26\"], [1.0, \"#f0f921\"]], \"type\": \"contour\"}], \"contourcarpet\": [{\"colorbar\": {\"outlinewidth\": 0, \"ticks\": \"\"}, \"type\": \"contourcarpet\"}], \"heatmap\": [{\"colorbar\": {\"outlinewidth\": 0, \"ticks\": \"\"}, \"colorscale\": [[0.0, \"#0d0887\"], [0.1111111111111111, \"#46039f\"], [0.2222222222222222, \"#7201a8\"], [0.3333333333333333, \"#9c179e\"], [0.4444444444444444, \"#bd3786\"], [0.5555555555555556, \"#d8576b\"], [0.6666666666666666, \"#ed7953\"], [0.7777777777777778, \"#fb9f3a\"], [0.8888888888888888, \"#fdca26\"], [1.0, \"#f0f921\"]], \"type\": \"heatmap\"}], \"heatmapgl\": [{\"colorbar\": {\"outlinewidth\": 0, \"ticks\": \"\"}, \"colorscale\": [[0.0, \"#0d0887\"], [0.1111111111111111, \"#46039f\"], [0.2222222222222222, \"#7201a8\"], [0.3333333333333333, \"#9c179e\"], [0.4444444444444444, \"#bd3786\"], [0.5555555555555556, \"#d8576b\"], [0.6666666666666666, \"#ed7953\"], [0.7777777777777778, \"#fb9f3a\"], [0.8888888888888888, \"#fdca26\"], [1.0, \"#f0f921\"]], \"type\": \"heatmapgl\"}], \"histogram\": [{\"marker\": {\"colorbar\": {\"outlinewidth\": 0, \"ticks\": \"\"}}, \"type\": \"histogram\"}], \"histogram2d\": [{\"colorbar\": {\"outlinewidth\": 0, \"ticks\": \"\"}, \"colorscale\": [[0.0, \"#0d0887\"], [0.1111111111111111, \"#46039f\"], [0.2222222222222222, \"#7201a8\"], [0.3333333333333333, \"#9c179e\"], [0.4444444444444444, \"#bd3786\"], [0.5555555555555556, \"#d8576b\"], [0.6666666666666666, \"#ed7953\"], [0.7777777777777778, \"#fb9f3a\"], [0.8888888888888888, \"#fdca26\"], [1.0, \"#f0f921\"]], \"type\": \"histogram2d\"}], \"histogram2dcontour\": [{\"colorbar\": {\"outlinewidth\": 0, \"ticks\": \"\"}, \"colorscale\": [[0.0, \"#0d0887\"], [0.1111111111111111, \"#46039f\"], [0.2222222222222222, \"#7201a8\"], [0.3333333333333333, \"#9c179e\"], [0.4444444444444444, \"#bd3786\"], [0.5555555555555556, \"#d8576b\"], [0.6666666666666666, \"#ed7953\"], [0.7777777777777778, \"#fb9f3a\"], [0.8888888888888888, \"#fdca26\"], [1.0, \"#f0f921\"]], \"type\": \"histogram2dcontour\"}], \"mesh3d\": [{\"colorbar\": {\"outlinewidth\": 0, \"ticks\": \"\"}, \"type\": \"mesh3d\"}], \"parcoords\": [{\"line\": {\"colorbar\": {\"outlinewidth\": 0, \"ticks\": \"\"}}, \"type\": \"parcoords\"}], \"pie\": [{\"automargin\": true, \"type\": \"pie\"}], \"scatter\": [{\"marker\": {\"colorbar\": {\"outlinewidth\": 0, \"ticks\": \"\"}}, \"type\": \"scatter\"}], \"scatter3d\": [{\"line\": {\"colorbar\": {\"outlinewidth\": 0, \"ticks\": \"\"}}, \"marker\": {\"colorbar\": {\"outlinewidth\": 0, \"ticks\": \"\"}}, \"type\": \"scatter3d\"}], \"scattercarpet\": [{\"marker\": {\"colorbar\": {\"outlinewidth\": 0, \"ticks\": \"\"}}, \"type\": \"scattercarpet\"}], \"scattergeo\": [{\"marker\": {\"colorbar\": {\"outlinewidth\": 0, \"ticks\": \"\"}}, \"type\": \"scattergeo\"}], \"scattergl\": [{\"marker\": {\"colorbar\": {\"outlinewidth\": 0, \"ticks\": \"\"}}, \"type\": \"scattergl\"}], \"scattermapbox\": [{\"marker\": {\"colorbar\": {\"outlinewidth\": 0, \"ticks\": \"\"}}, \"type\": \"scattermapbox\"}], \"scatterpolar\": [{\"marker\": {\"colorbar\": {\"outlinewidth\": 0, \"ticks\": \"\"}}, \"type\": \"scatterpolar\"}], \"scatterpolargl\": [{\"marker\": {\"colorbar\": {\"outlinewidth\": 0, \"ticks\": \"\"}}, \"type\": \"scatterpolargl\"}], \"scatterternary\": [{\"marker\": {\"colorbar\": {\"outlinewidth\": 0, \"ticks\": \"\"}}, \"type\": \"scatterternary\"}], \"surface\": [{\"colorbar\": {\"outlinewidth\": 0, \"ticks\": \"\"}, \"colorscale\": [[0.0, \"#0d0887\"], [0.1111111111111111, \"#46039f\"], [0.2222222222222222, \"#7201a8\"], [0.3333333333333333, \"#9c179e\"], [0.4444444444444444, \"#bd3786\"], [0.5555555555555556, \"#d8576b\"], [0.6666666666666666, \"#ed7953\"], [0.7777777777777778, \"#fb9f3a\"], [0.8888888888888888, \"#fdca26\"], [1.0, \"#f0f921\"]], \"type\": \"surface\"}], \"table\": [{\"cells\": {\"fill\": {\"color\": \"#EBF0F8\"}, \"line\": {\"color\": \"white\"}}, \"header\": {\"fill\": {\"color\": \"#C8D4E3\"}, \"line\": {\"color\": \"white\"}}, \"type\": \"table\"}]}, \"layout\": {\"annotationdefaults\": {\"arrowcolor\": \"#2a3f5f\", \"arrowhead\": 0, \"arrowwidth\": 1}, \"coloraxis\": {\"colorbar\": {\"outlinewidth\": 0, \"ticks\": \"\"}}, \"colorscale\": {\"diverging\": [[0, \"#8e0152\"], [0.1, \"#c51b7d\"], [0.2, \"#de77ae\"], [0.3, \"#f1b6da\"], [0.4, \"#fde0ef\"], [0.5, \"#f7f7f7\"], [0.6, \"#e6f5d0\"], [0.7, \"#b8e186\"], [0.8, \"#7fbc41\"], [0.9, \"#4d9221\"], [1, \"#276419\"]], \"sequential\": [[0.0, \"#0d0887\"], [0.1111111111111111, \"#46039f\"], [0.2222222222222222, \"#7201a8\"], [0.3333333333333333, \"#9c179e\"], [0.4444444444444444, \"#bd3786\"], [0.5555555555555556, \"#d8576b\"], [0.6666666666666666, \"#ed7953\"], [0.7777777777777778, \"#fb9f3a\"], [0.8888888888888888, \"#fdca26\"], [1.0, \"#f0f921\"]], \"sequentialminus\": [[0.0, \"#0d0887\"], [0.1111111111111111, \"#46039f\"], [0.2222222222222222, \"#7201a8\"], [0.3333333333333333, \"#9c179e\"], [0.4444444444444444, \"#bd3786\"], [0.5555555555555556, \"#d8576b\"], [0.6666666666666666, \"#ed7953\"], [0.7777777777777778, \"#fb9f3a\"], [0.8888888888888888, \"#fdca26\"], [1.0, \"#f0f921\"]]}, \"colorway\": [\"#636efa\", \"#EF553B\", \"#00cc96\", \"#ab63fa\", \"#FFA15A\", \"#19d3f3\", \"#FF6692\", \"#B6E880\", \"#FF97FF\", \"#FECB52\"], \"font\": {\"color\": \"#2a3f5f\"}, \"geo\": {\"bgcolor\": \"white\", \"lakecolor\": \"white\", \"landcolor\": \"#E5ECF6\", \"showlakes\": true, \"showland\": true, \"subunitcolor\": \"white\"}, \"hoverlabel\": {\"align\": \"left\"}, \"hovermode\": \"closest\", \"mapbox\": {\"style\": \"light\"}, \"paper_bgcolor\": \"white\", \"plot_bgcolor\": \"#E5ECF6\", \"polar\": {\"angularaxis\": {\"gridcolor\": \"white\", \"linecolor\": \"white\", \"ticks\": \"\"}, \"bgcolor\": \"#E5ECF6\", \"radialaxis\": {\"gridcolor\": \"white\", \"linecolor\": \"white\", \"ticks\": \"\"}}, \"scene\": {\"xaxis\": {\"backgroundcolor\": \"#E5ECF6\", \"gridcolor\": \"white\", \"gridwidth\": 2, \"linecolor\": \"white\", \"showbackground\": true, \"ticks\": \"\", \"zerolinecolor\": \"white\"}, \"yaxis\": {\"backgroundcolor\": \"#E5ECF6\", \"gridcolor\": \"white\", \"gridwidth\": 2, \"linecolor\": \"white\", \"showbackground\": true, \"ticks\": \"\", \"zerolinecolor\": \"white\"}, \"zaxis\": {\"backgroundcolor\": \"#E5ECF6\", \"gridcolor\": \"white\", \"gridwidth\": 2, \"linecolor\": \"white\", \"showbackground\": true, \"ticks\": \"\", \"zerolinecolor\": \"white\"}}, \"shapedefaults\": {\"line\": {\"color\": \"#2a3f5f\"}}, \"ternary\": {\"aaxis\": {\"gridcolor\": \"white\", \"linecolor\": \"white\", \"ticks\": \"\"}, \"baxis\": {\"gridcolor\": \"white\", \"linecolor\": \"white\", \"ticks\": \"\"}, \"bgcolor\": \"#E5ECF6\", \"caxis\": {\"gridcolor\": \"white\", \"linecolor\": \"white\", \"ticks\": \"\"}}, \"title\": {\"x\": 0.05}, \"xaxis\": {\"automargin\": true, \"gridcolor\": \"white\", \"linecolor\": \"white\", \"ticks\": \"\", \"title\": {\"standoff\": 15}, \"zerolinecolor\": \"white\", \"zerolinewidth\": 2}, \"yaxis\": {\"automargin\": true, \"gridcolor\": \"white\", \"linecolor\": \"white\", \"ticks\": \"\", \"title\": {\"standoff\": 15}, \"zerolinecolor\": \"white\", \"zerolinewidth\": 2}}}, \"title\": {\"text\": \"Trend of content produced over the years on Netflix\"}, \"xaxis\": {\"anchor\": \"y\", \"domain\": [0.0, 1.0], \"title\": {\"text\": \"release_year\"}}, \"yaxis\": {\"anchor\": \"x\", \"domain\": [0.0, 1.0], \"title\": {\"text\": \"Total Content\"}}},\n",
              "                        {\"responsive\": true}\n",
              "                    ).then(function(){\n",
              "                            \n",
              "var gd = document.getElementById('8cc2bed3-8d21-47c4-9946-019ca265f806');\n",
              "var x = new MutationObserver(function (mutations, observer) {{\n",
              "        var display = window.getComputedStyle(gd).display;\n",
              "        if (!display || display === 'none') {{\n",
              "            console.log([gd, 'removed!']);\n",
              "            Plotly.purge(gd);\n",
              "            observer.disconnect();\n",
              "        }}\n",
              "}});\n",
              "\n",
              "// Listen for the removal of the full notebook cells\n",
              "var notebookContainer = gd.closest('#notebook-container');\n",
              "if (notebookContainer) {{\n",
              "    x.observe(notebookContainer, {childList: true});\n",
              "}}\n",
              "\n",
              "// Listen for the clearing of the current output cell\n",
              "var outputEl = gd.closest('.output');\n",
              "if (outputEl) {{\n",
              "    x.observe(outputEl, {childList: true});\n",
              "}}\n",
              "\n",
              "                        })\n",
              "                };\n",
              "                \n",
              "            </script>\n",
              "        </div>\n",
              "</body>\n",
              "</html>"
            ]
          },
          "metadata": {
            "tags": []
          }
        }
      ]
    },
    {
      "cell_type": "markdown",
      "metadata": {
        "id": "a9Z-6XDUXTNF"
      },
      "source": [
        "![Screenshot (27).png](data:image/png;base64,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)"
      ]
    },
    {
      "cell_type": "markdown",
      "metadata": {
        "id": "mqGP1z4BXx90"
      },
      "source": [
        "The above line graph shows that there has been a decline in the production of the content\n",
        "for both movies and other shows since 2018"
      ]
    },
    {
      "cell_type": "markdown",
      "metadata": {
        "id": "3amjcd2un1LN"
      },
      "source": [
        "**Sentiment Analysis**"
      ]
    },
    {
      "cell_type": "code",
      "metadata": {
        "colab": {
          "base_uri": "https://localhost:8080/",
          "height": 542
        },
        "id": "0447fgYpU9nN",
        "outputId": "c603da8d-daf8-4757-bd5a-5f652fc0d974"
      },
      "source": [
        "from textblob import TextBlob\n",
        "dfx=df[['release_year','description']]\n",
        "dfx=dfx.rename(columns={'release_year':'Release Year'})\n",
        "for index,row in dfx.iterrows():\n",
        "    z=row['description']\n",
        "    testimonial=TextBlob(z)\n",
        "    p=testimonial.sentiment.polarity\n",
        "    if p==0:\n",
        "        sent='Neutral'\n",
        "    elif p>0:\n",
        "        sent='Positive'\n",
        "    else:\n",
        "        sent='Negative'\n",
        "    dfx.loc[[index,2],'Sentiment']=sent\n",
        "\n",
        "\n",
        "dfx=dfx.groupby(['Release Year','Sentiment']).size().reset_index(name='Total Content')\n",
        "\n",
        "dfx=dfx[dfx['Release Year']>=2010]\n",
        "fig4 = px.bar(dfx, x=\"Release Year\", y=\"Total Content\", \n",
        "              color=\"Sentiment\", title=\"Sentiment of content on Netflix\",text='Total Content')\n",
        "fig4.show()"
      ],
      "execution_count": null,
      "outputs": [
        {
          "output_type": "display_data",
          "data": {
            "text/html": [
              "<html>\n",
              "<head><meta charset=\"utf-8\" /></head>\n",
              "<body>\n",
              "    <div>\n",
              "            <script src=\"https://cdnjs.cloudflare.com/ajax/libs/mathjax/2.7.5/MathJax.js?config=TeX-AMS-MML_SVG\"></script><script type=\"text/javascript\">if (window.MathJax) {MathJax.Hub.Config({SVG: {font: \"STIX-Web\"}});}</script>\n",
              "                <script type=\"text/javascript\">window.PlotlyConfig = {MathJaxConfig: 'local'};</script>\n",
              "        <script src=\"https://cdn.plot.ly/plotly-latest.min.js\"></script>    \n",
              "            <div id=\"43e2352f-0abe-4743-9317-dfc17db47c3b\" class=\"plotly-graph-div\" style=\"height:525px; width:100%;\"></div>\n",
              "            <script type=\"text/javascript\">\n",
              "                \n",
              "                    window.PLOTLYENV=window.PLOTLYENV || {};\n",
              "                    \n",
              "                if (document.getElementById(\"43e2352f-0abe-4743-9317-dfc17db47c3b\")) {\n",
              "                    Plotly.newPlot(\n",
              "                        '43e2352f-0abe-4743-9317-dfc17db47c3b',\n",
              "                        [{\"alignmentgroup\": \"True\", \"hoverlabel\": {\"namelength\": 0}, \"hovertemplate\": \"Sentiment=Negative<br>Release Year=%{x}<br>Total Content=%{text}\", \"legendgroup\": \"Sentiment=Negative\", \"marker\": {\"color\": \"#636efa\"}, \"name\": \"Sentiment=Negative\", \"offsetgroup\": \"Sentiment=Negative\", \"orientation\": \"v\", \"showlegend\": true, \"text\": [45.0, 39.0, 64.0, 79.0, 110.0, 161.0, 275.0, 320.0, 341.0, 301.0, 247.0, 5.0], \"textposition\": \"auto\", \"type\": \"bar\", \"x\": [2010, 2011, 2012, 2013, 2014, 2015, 2016, 2017, 2018, 2019, 2020, 2021], \"xaxis\": \"x\", \"y\": [45, 39, 64, 79, 110, 161, 275, 320, 341, 301, 247, 5], \"yaxis\": \"y\"}, {\"alignmentgroup\": \"True\", \"hoverlabel\": {\"namelength\": 0}, \"hovertemplate\": \"Sentiment=Neutral<br>Release Year=%{x}<br>Total Content=%{text}\", \"legendgroup\": \"Sentiment=Neutral\", \"marker\": {\"color\": \"#EF553B\"}, \"name\": \"Sentiment=Neutral\", \"offsetgroup\": \"Sentiment=Neutral\", \"orientation\": \"v\", \"showlegend\": true, \"text\": [36.0, 32.0, 37.0, 43.0, 63.0, 90.0, 147.0, 201.0, 209.0, 159.0, 136.0, 4.0], \"textposition\": \"auto\", \"type\": \"bar\", \"x\": [2010, 2011, 2012, 2013, 2014, 2015, 2016, 2017, 2018, 2019, 2020, 2021], \"xaxis\": \"x\", \"y\": [36, 32, 37, 43, 63, 90, 147, 201, 209, 159, 136, 4], \"yaxis\": \"y\"}, {\"alignmentgroup\": \"True\", \"hoverlabel\": {\"namelength\": 0}, \"hovertemplate\": \"Sentiment=Positive<br>Release Year=%{x}<br>Total Content=%{text}\", \"legendgroup\": \"Sentiment=Positive\", \"marker\": {\"color\": \"#00cc96\"}, \"name\": \"Sentiment=Positive\", \"offsetgroup\": \"Sentiment=Positive\", \"orientation\": \"v\", \"showlegend\": true, \"text\": [92.0, 95.0, 118.0, 145.0, 161.0, 290.0, 460.0, 491.0, 571.0, 536.0, 485.0, 22.0], \"textposition\": \"auto\", \"type\": \"bar\", \"x\": [2010, 2011, 2012, 2013, 2014, 2015, 2016, 2017, 2018, 2019, 2020, 2021], \"xaxis\": \"x\", \"y\": [92, 95, 118, 145, 161, 290, 460, 491, 571, 536, 485, 22], \"yaxis\": \"y\"}],\n",
              "                        {\"barmode\": \"relative\", \"legend\": {\"tracegroupgap\": 0}, \"template\": {\"data\": {\"bar\": [{\"error_x\": {\"color\": \"#2a3f5f\"}, \"error_y\": {\"color\": \"#2a3f5f\"}, \"marker\": {\"line\": {\"color\": \"#E5ECF6\", \"width\": 0.5}}, \"type\": \"bar\"}], \"barpolar\": [{\"marker\": {\"line\": {\"color\": \"#E5ECF6\", \"width\": 0.5}}, \"type\": \"barpolar\"}], \"carpet\": [{\"aaxis\": {\"endlinecolor\": \"#2a3f5f\", \"gridcolor\": \"white\", \"linecolor\": \"white\", \"minorgridcolor\": \"white\", \"startlinecolor\": \"#2a3f5f\"}, \"baxis\": {\"endlinecolor\": \"#2a3f5f\", \"gridcolor\": \"white\", \"linecolor\": \"white\", \"minorgridcolor\": \"white\", \"startlinecolor\": \"#2a3f5f\"}, \"type\": \"carpet\"}], \"choropleth\": [{\"colorbar\": {\"outlinewidth\": 0, \"ticks\": \"\"}, \"type\": \"choropleth\"}], \"contour\": [{\"colorbar\": {\"outlinewidth\": 0, \"ticks\": \"\"}, \"colorscale\": [[0.0, \"#0d0887\"], [0.1111111111111111, \"#46039f\"], [0.2222222222222222, \"#7201a8\"], [0.3333333333333333, \"#9c179e\"], [0.4444444444444444, \"#bd3786\"], [0.5555555555555556, \"#d8576b\"], [0.6666666666666666, \"#ed7953\"], [0.7777777777777778, \"#fb9f3a\"], [0.8888888888888888, \"#fdca26\"], [1.0, \"#f0f921\"]], \"type\": \"contour\"}], \"contourcarpet\": [{\"colorbar\": {\"outlinewidth\": 0, \"ticks\": \"\"}, \"type\": \"contourcarpet\"}], \"heatmap\": [{\"colorbar\": {\"outlinewidth\": 0, \"ticks\": \"\"}, \"colorscale\": [[0.0, \"#0d0887\"], [0.1111111111111111, \"#46039f\"], [0.2222222222222222, \"#7201a8\"], [0.3333333333333333, \"#9c179e\"], [0.4444444444444444, \"#bd3786\"], [0.5555555555555556, \"#d8576b\"], [0.6666666666666666, \"#ed7953\"], [0.7777777777777778, \"#fb9f3a\"], [0.8888888888888888, \"#fdca26\"], [1.0, \"#f0f921\"]], \"type\": \"heatmap\"}], \"heatmapgl\": [{\"colorbar\": {\"outlinewidth\": 0, \"ticks\": \"\"}, \"colorscale\": [[0.0, \"#0d0887\"], [0.1111111111111111, \"#46039f\"], [0.2222222222222222, \"#7201a8\"], [0.3333333333333333, \"#9c179e\"], [0.4444444444444444, \"#bd3786\"], [0.5555555555555556, \"#d8576b\"], [0.6666666666666666, \"#ed7953\"], [0.7777777777777778, \"#fb9f3a\"], [0.8888888888888888, \"#fdca26\"], [1.0, \"#f0f921\"]], \"type\": \"heatmapgl\"}], \"histogram\": [{\"marker\": {\"colorbar\": {\"outlinewidth\": 0, \"ticks\": \"\"}}, \"type\": \"histogram\"}], \"histogram2d\": [{\"colorbar\": {\"outlinewidth\": 0, \"ticks\": \"\"}, \"colorscale\": [[0.0, \"#0d0887\"], [0.1111111111111111, \"#46039f\"], [0.2222222222222222, \"#7201a8\"], [0.3333333333333333, \"#9c179e\"], [0.4444444444444444, \"#bd3786\"], [0.5555555555555556, \"#d8576b\"], [0.6666666666666666, \"#ed7953\"], [0.7777777777777778, \"#fb9f3a\"], [0.8888888888888888, \"#fdca26\"], [1.0, \"#f0f921\"]], \"type\": \"histogram2d\"}], \"histogram2dcontour\": [{\"colorbar\": {\"outlinewidth\": 0, \"ticks\": \"\"}, \"colorscale\": [[0.0, \"#0d0887\"], [0.1111111111111111, \"#46039f\"], [0.2222222222222222, \"#7201a8\"], [0.3333333333333333, \"#9c179e\"], [0.4444444444444444, \"#bd3786\"], [0.5555555555555556, \"#d8576b\"], [0.6666666666666666, \"#ed7953\"], [0.7777777777777778, \"#fb9f3a\"], [0.8888888888888888, \"#fdca26\"], [1.0, \"#f0f921\"]], \"type\": \"histogram2dcontour\"}], \"mesh3d\": [{\"colorbar\": {\"outlinewidth\": 0, \"ticks\": \"\"}, \"type\": \"mesh3d\"}], \"parcoords\": [{\"line\": {\"colorbar\": {\"outlinewidth\": 0, \"ticks\": \"\"}}, \"type\": \"parcoords\"}], \"pie\": [{\"automargin\": true, \"type\": \"pie\"}], \"scatter\": [{\"marker\": {\"colorbar\": {\"outlinewidth\": 0, \"ticks\": \"\"}}, \"type\": \"scatter\"}], \"scatter3d\": [{\"line\": {\"colorbar\": {\"outlinewidth\": 0, \"ticks\": \"\"}}, \"marker\": {\"colorbar\": {\"outlinewidth\": 0, \"ticks\": \"\"}}, \"type\": \"scatter3d\"}], \"scattercarpet\": [{\"marker\": {\"colorbar\": {\"outlinewidth\": 0, \"ticks\": \"\"}}, \"type\": \"scattercarpet\"}], \"scattergeo\": [{\"marker\": {\"colorbar\": {\"outlinewidth\": 0, \"ticks\": \"\"}}, \"type\": \"scattergeo\"}], \"scattergl\": [{\"marker\": {\"colorbar\": {\"outlinewidth\": 0, \"ticks\": \"\"}}, \"type\": \"scattergl\"}], \"scattermapbox\": [{\"marker\": {\"colorbar\": {\"outlinewidth\": 0, \"ticks\": \"\"}}, \"type\": \"scattermapbox\"}], \"scatterpolar\": [{\"marker\": {\"colorbar\": {\"outlinewidth\": 0, \"ticks\": \"\"}}, \"type\": \"scatterpolar\"}], \"scatterpolargl\": [{\"marker\": {\"colorbar\": {\"outlinewidth\": 0, \"ticks\": \"\"}}, \"type\": \"scatterpolargl\"}], \"scatterternary\": [{\"marker\": {\"colorbar\": {\"outlinewidth\": 0, \"ticks\": \"\"}}, \"type\": \"scatterternary\"}], \"surface\": [{\"colorbar\": {\"outlinewidth\": 0, \"ticks\": \"\"}, \"colorscale\": [[0.0, \"#0d0887\"], [0.1111111111111111, \"#46039f\"], [0.2222222222222222, \"#7201a8\"], [0.3333333333333333, \"#9c179e\"], [0.4444444444444444, \"#bd3786\"], [0.5555555555555556, \"#d8576b\"], [0.6666666666666666, \"#ed7953\"], [0.7777777777777778, \"#fb9f3a\"], [0.8888888888888888, \"#fdca26\"], [1.0, \"#f0f921\"]], \"type\": \"surface\"}], \"table\": [{\"cells\": {\"fill\": {\"color\": \"#EBF0F8\"}, \"line\": {\"color\": \"white\"}}, \"header\": {\"fill\": {\"color\": \"#C8D4E3\"}, \"line\": {\"color\": \"white\"}}, \"type\": \"table\"}]}, \"layout\": {\"annotationdefaults\": {\"arrowcolor\": \"#2a3f5f\", \"arrowhead\": 0, \"arrowwidth\": 1}, \"coloraxis\": {\"colorbar\": {\"outlinewidth\": 0, \"ticks\": \"\"}}, \"colorscale\": {\"diverging\": [[0, \"#8e0152\"], [0.1, \"#c51b7d\"], [0.2, \"#de77ae\"], [0.3, \"#f1b6da\"], [0.4, \"#fde0ef\"], [0.5, \"#f7f7f7\"], [0.6, \"#e6f5d0\"], [0.7, \"#b8e186\"], [0.8, \"#7fbc41\"], [0.9, \"#4d9221\"], [1, \"#276419\"]], \"sequential\": [[0.0, \"#0d0887\"], [0.1111111111111111, \"#46039f\"], [0.2222222222222222, \"#7201a8\"], [0.3333333333333333, \"#9c179e\"], [0.4444444444444444, \"#bd3786\"], [0.5555555555555556, \"#d8576b\"], [0.6666666666666666, \"#ed7953\"], [0.7777777777777778, \"#fb9f3a\"], [0.8888888888888888, \"#fdca26\"], [1.0, \"#f0f921\"]], \"sequentialminus\": [[0.0, \"#0d0887\"], [0.1111111111111111, \"#46039f\"], [0.2222222222222222, \"#7201a8\"], [0.3333333333333333, \"#9c179e\"], [0.4444444444444444, \"#bd3786\"], [0.5555555555555556, \"#d8576b\"], [0.6666666666666666, \"#ed7953\"], [0.7777777777777778, \"#fb9f3a\"], [0.8888888888888888, \"#fdca26\"], [1.0, \"#f0f921\"]]}, \"colorway\": [\"#636efa\", \"#EF553B\", \"#00cc96\", \"#ab63fa\", \"#FFA15A\", \"#19d3f3\", \"#FF6692\", \"#B6E880\", \"#FF97FF\", \"#FECB52\"], \"font\": {\"color\": \"#2a3f5f\"}, \"geo\": {\"bgcolor\": \"white\", \"lakecolor\": \"white\", \"landcolor\": \"#E5ECF6\", \"showlakes\": true, \"showland\": true, \"subunitcolor\": \"white\"}, \"hoverlabel\": {\"align\": \"left\"}, \"hovermode\": \"closest\", \"mapbox\": {\"style\": \"light\"}, \"paper_bgcolor\": \"white\", \"plot_bgcolor\": \"#E5ECF6\", \"polar\": {\"angularaxis\": {\"gridcolor\": \"white\", \"linecolor\": \"white\", \"ticks\": \"\"}, \"bgcolor\": \"#E5ECF6\", \"radialaxis\": {\"gridcolor\": \"white\", \"linecolor\": \"white\", \"ticks\": \"\"}}, \"scene\": {\"xaxis\": {\"backgroundcolor\": \"#E5ECF6\", \"gridcolor\": \"white\", \"gridwidth\": 2, \"linecolor\": \"white\", \"showbackground\": true, \"ticks\": \"\", \"zerolinecolor\": \"white\"}, \"yaxis\": {\"backgroundcolor\": \"#E5ECF6\", \"gridcolor\": \"white\", \"gridwidth\": 2, \"linecolor\": \"white\", \"showbackground\": true, \"ticks\": \"\", \"zerolinecolor\": \"white\"}, \"zaxis\": {\"backgroundcolor\": \"#E5ECF6\", \"gridcolor\": \"white\", \"gridwidth\": 2, \"linecolor\": \"white\", \"showbackground\": true, \"ticks\": \"\", \"zerolinecolor\": \"white\"}}, \"shapedefaults\": {\"line\": {\"color\": \"#2a3f5f\"}}, \"ternary\": {\"aaxis\": {\"gridcolor\": \"white\", \"linecolor\": \"white\", \"ticks\": \"\"}, \"baxis\": {\"gridcolor\": \"white\", \"linecolor\": \"white\", \"ticks\": \"\"}, \"bgcolor\": \"#E5ECF6\", \"caxis\": {\"gridcolor\": \"white\", \"linecolor\": \"white\", \"ticks\": \"\"}}, \"title\": {\"x\": 0.05}, \"xaxis\": {\"automargin\": true, \"gridcolor\": \"white\", \"linecolor\": \"white\", \"ticks\": \"\", \"title\": {\"standoff\": 15}, \"zerolinecolor\": \"white\", \"zerolinewidth\": 2}, \"yaxis\": {\"automargin\": true, \"gridcolor\": \"white\", \"linecolor\": \"white\", \"ticks\": \"\", \"title\": {\"standoff\": 15}, \"zerolinecolor\": \"white\", \"zerolinewidth\": 2}}}, \"title\": {\"text\": \"Sentiment of content on Netflix\"}, \"xaxis\": {\"anchor\": \"y\", \"domain\": [0.0, 1.0], \"title\": {\"text\": \"Release Year\"}}, \"yaxis\": {\"anchor\": \"x\", \"domain\": [0.0, 1.0], \"title\": {\"text\": \"Total Content\"}}},\n",
              "                        {\"responsive\": true}\n",
              "                    ).then(function(){\n",
              "                            \n",
              "var gd = document.getElementById('43e2352f-0abe-4743-9317-dfc17db47c3b');\n",
              "var x = new MutationObserver(function (mutations, observer) {{\n",
              "        var display = window.getComputedStyle(gd).display;\n",
              "        if (!display || display === 'none') {{\n",
              "            console.log([gd, 'removed!']);\n",
              "            Plotly.purge(gd);\n",
              "            observer.disconnect();\n",
              "        }}\n",
              "}});\n",
              "\n",
              "// Listen for the removal of the full notebook cells\n",
              "var notebookContainer = gd.closest('#notebook-container');\n",
              "if (notebookContainer) {{\n",
              "    x.observe(notebookContainer, {childList: true});\n",
              "}}\n",
              "\n",
              "// Listen for the clearing of the current output cell\n",
              "var outputEl = gd.closest('.output');\n",
              "if (outputEl) {{\n",
              "    x.observe(outputEl, {childList: true});\n",
              "}}\n",
              "\n",
              "                        })\n",
              "                };\n",
              "                \n",
              "            </script>\n",
              "        </div>\n",
              "</body>\n",
              "</html>"
            ]
          },
          "metadata": {
            "tags": []
          }
        }
      ]
    },
    {
      "cell_type": "markdown",
      "metadata": {
        "id": "FTCuqA9HZX81"
      },
      "source": [
        "![Screenshot (31).png](data:image/png;base64,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)"
      ]
    },
    {
      "cell_type": "markdown",
      "metadata": {
        "id": "ssORA59JZdrE"
      },
      "source": [
        "So the above graph shows that the overall positive content is always greater than the neutral and \n",
        "negative content combined"
      ]
    }
  ]
}