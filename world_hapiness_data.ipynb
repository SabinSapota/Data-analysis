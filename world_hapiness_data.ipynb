{
  "nbformat": 4,
  "nbformat_minor": 0,
  "metadata": {
    "colab": {
      "name": "world hapiness data.ipynb",
      "provenance": [],
      "authorship_tag": "ABX9TyO9vYq+i91s1lMBuzQ5YyQN",
      "include_colab_link": true
    },
    "kernelspec": {
      "name": "python3",
      "display_name": "Python 3"
    },
    "language_info": {
      "name": "python"
    }
  },
  "cells": [
    {
      "cell_type": "markdown",
      "metadata": {
        "id": "view-in-github",
        "colab_type": "text"
      },
      "source": [
        "<a href=\"https://colab.research.google.com/github/SabinSapota/SabinSapota/blob/main/world_hapiness_data.ipynb\" target=\"_parent\"><img src=\"https://colab.research.google.com/assets/colab-badge.svg\" alt=\"Open In Colab\"/></a>"
      ]
    },
    {
      "cell_type": "markdown",
      "metadata": {
        "id": "o2zQr35Do8Qn"
      },
      "source": [
        "World hapiness data:\n",
        "Here,I have analysed two dataset one is for 2021 and other one is old from 2006 to 2020."
      ]
    },
    {
      "cell_type": "markdown",
      "metadata": {
        "id": "ouG9PnB0p9WQ"
      },
      "source": [
        "Since,I am Nepali,so I have analysed data for Nepal only and its south asian neighbours."
      ]
    },
    {
      "cell_type": "code",
      "metadata": {
        "id": "97SAn6ZVo8xA"
      },
      "source": [
        "import pandas as pd\n",
        "import matplotlib.pyplot as plt\n",
        "import numpy as np\n",
        "import plotly.express as px\n",
        "import seaborn as sns\n",
        "import warnings\n",
        "warnings.filterwarnings('ignore')\n",
        "import re"
      ],
      "execution_count": null,
      "outputs": []
    },
    {
      "cell_type": "code",
      "metadata": {
        "colab": {
          "base_uri": "https://localhost:8080/"
        },
        "id": "f1e4vph9kq27",
        "outputId": "de8a750b-d483-4aca-d076-1e0eed88f147"
      },
      "source": [
        "from google.colab import drive\n",
        "drive.mount('/content/drive')"
      ],
      "execution_count": null,
      "outputs": [
        {
          "output_type": "stream",
          "text": [
            "Mounted at /content/drive\n"
          ],
          "name": "stdout"
        }
      ]
    },
    {
      "cell_type": "code",
      "metadata": {
        "colab": {
          "base_uri": "https://localhost:8080/",
          "height": 388
        },
        "id": "zf46qCyQp_fG",
        "outputId": "fa92330d-685b-4824-df16-199d17337155"
      },
      "source": [
        "#this is new data set for 2021\n",
        "path='/content/world-happiness-report-2021.csv'\n",
        "df=pd.read_csv(path)\n",
        "df.head()"
      ],
      "execution_count": null,
      "outputs": [
        {
          "output_type": "execute_result",
          "data": {
            "text/html": [
              "<div>\n",
              "<style scoped>\n",
              "    .dataframe tbody tr th:only-of-type {\n",
              "        vertical-align: middle;\n",
              "    }\n",
              "\n",
              "    .dataframe tbody tr th {\n",
              "        vertical-align: top;\n",
              "    }\n",
              "\n",
              "    .dataframe thead th {\n",
              "        text-align: right;\n",
              "    }\n",
              "</style>\n",
              "<table border=\"1\" class=\"dataframe\">\n",
              "  <thead>\n",
              "    <tr style=\"text-align: right;\">\n",
              "      <th></th>\n",
              "      <th>Country name</th>\n",
              "      <th>Regional indicator</th>\n",
              "      <th>Ladder score</th>\n",
              "      <th>Standard error of ladder score</th>\n",
              "      <th>upperwhisker</th>\n",
              "      <th>lowerwhisker</th>\n",
              "      <th>Logged GDP per capita</th>\n",
              "      <th>Social support</th>\n",
              "      <th>Healthy life expectancy</th>\n",
              "      <th>Freedom to make life choices</th>\n",
              "      <th>Generosity</th>\n",
              "      <th>Perceptions of corruption</th>\n",
              "      <th>Ladder score in Dystopia</th>\n",
              "      <th>Explained by: Log GDP per capita</th>\n",
              "      <th>Explained by: Social support</th>\n",
              "      <th>Explained by: Healthy life expectancy</th>\n",
              "      <th>Explained by: Freedom to make life choices</th>\n",
              "      <th>Explained by: Generosity</th>\n",
              "      <th>Explained by: Perceptions of corruption</th>\n",
              "      <th>Dystopia + residual</th>\n",
              "    </tr>\n",
              "  </thead>\n",
              "  <tbody>\n",
              "    <tr>\n",
              "      <th>0</th>\n",
              "      <td>Finland</td>\n",
              "      <td>Western Europe</td>\n",
              "      <td>7.842</td>\n",
              "      <td>0.032</td>\n",
              "      <td>7.904</td>\n",
              "      <td>7.780</td>\n",
              "      <td>10.775</td>\n",
              "      <td>0.954</td>\n",
              "      <td>72.0</td>\n",
              "      <td>0.949</td>\n",
              "      <td>-0.098</td>\n",
              "      <td>0.186</td>\n",
              "      <td>2.43</td>\n",
              "      <td>1.446</td>\n",
              "      <td>1.106</td>\n",
              "      <td>0.741</td>\n",
              "      <td>0.691</td>\n",
              "      <td>0.124</td>\n",
              "      <td>0.481</td>\n",
              "      <td>3.253</td>\n",
              "    </tr>\n",
              "    <tr>\n",
              "      <th>1</th>\n",
              "      <td>Denmark</td>\n",
              "      <td>Western Europe</td>\n",
              "      <td>7.620</td>\n",
              "      <td>0.035</td>\n",
              "      <td>7.687</td>\n",
              "      <td>7.552</td>\n",
              "      <td>10.933</td>\n",
              "      <td>0.954</td>\n",
              "      <td>72.7</td>\n",
              "      <td>0.946</td>\n",
              "      <td>0.030</td>\n",
              "      <td>0.179</td>\n",
              "      <td>2.43</td>\n",
              "      <td>1.502</td>\n",
              "      <td>1.108</td>\n",
              "      <td>0.763</td>\n",
              "      <td>0.686</td>\n",
              "      <td>0.208</td>\n",
              "      <td>0.485</td>\n",
              "      <td>2.868</td>\n",
              "    </tr>\n",
              "    <tr>\n",
              "      <th>2</th>\n",
              "      <td>Switzerland</td>\n",
              "      <td>Western Europe</td>\n",
              "      <td>7.571</td>\n",
              "      <td>0.036</td>\n",
              "      <td>7.643</td>\n",
              "      <td>7.500</td>\n",
              "      <td>11.117</td>\n",
              "      <td>0.942</td>\n",
              "      <td>74.4</td>\n",
              "      <td>0.919</td>\n",
              "      <td>0.025</td>\n",
              "      <td>0.292</td>\n",
              "      <td>2.43</td>\n",
              "      <td>1.566</td>\n",
              "      <td>1.079</td>\n",
              "      <td>0.816</td>\n",
              "      <td>0.653</td>\n",
              "      <td>0.204</td>\n",
              "      <td>0.413</td>\n",
              "      <td>2.839</td>\n",
              "    </tr>\n",
              "    <tr>\n",
              "      <th>3</th>\n",
              "      <td>Iceland</td>\n",
              "      <td>Western Europe</td>\n",
              "      <td>7.554</td>\n",
              "      <td>0.059</td>\n",
              "      <td>7.670</td>\n",
              "      <td>7.438</td>\n",
              "      <td>10.878</td>\n",
              "      <td>0.983</td>\n",
              "      <td>73.0</td>\n",
              "      <td>0.955</td>\n",
              "      <td>0.160</td>\n",
              "      <td>0.673</td>\n",
              "      <td>2.43</td>\n",
              "      <td>1.482</td>\n",
              "      <td>1.172</td>\n",
              "      <td>0.772</td>\n",
              "      <td>0.698</td>\n",
              "      <td>0.293</td>\n",
              "      <td>0.170</td>\n",
              "      <td>2.967</td>\n",
              "    </tr>\n",
              "    <tr>\n",
              "      <th>4</th>\n",
              "      <td>Netherlands</td>\n",
              "      <td>Western Europe</td>\n",
              "      <td>7.464</td>\n",
              "      <td>0.027</td>\n",
              "      <td>7.518</td>\n",
              "      <td>7.410</td>\n",
              "      <td>10.932</td>\n",
              "      <td>0.942</td>\n",
              "      <td>72.4</td>\n",
              "      <td>0.913</td>\n",
              "      <td>0.175</td>\n",
              "      <td>0.338</td>\n",
              "      <td>2.43</td>\n",
              "      <td>1.501</td>\n",
              "      <td>1.079</td>\n",
              "      <td>0.753</td>\n",
              "      <td>0.647</td>\n",
              "      <td>0.302</td>\n",
              "      <td>0.384</td>\n",
              "      <td>2.798</td>\n",
              "    </tr>\n",
              "  </tbody>\n",
              "</table>\n",
              "</div>"
            ],
            "text/plain": [
              "  Country name  ... Dystopia + residual\n",
              "0      Finland  ...               3.253\n",
              "1      Denmark  ...               2.868\n",
              "2  Switzerland  ...               2.839\n",
              "3      Iceland  ...               2.967\n",
              "4  Netherlands  ...               2.798\n",
              "\n",
              "[5 rows x 20 columns]"
            ]
          },
          "metadata": {
            "tags": []
          },
          "execution_count": 147
        }
      ]
    },
    {
      "cell_type": "code",
      "metadata": {
        "colab": {
          "base_uri": "https://localhost:8080/"
        },
        "id": "XZbYJHndWcIG",
        "outputId": "98f73acc-a83e-4249-d162-4b446547d5f3"
      },
      "source": [
        "df.columns"
      ],
      "execution_count": null,
      "outputs": [
        {
          "output_type": "execute_result",
          "data": {
            "text/plain": [
              "Index(['Country name', 'Regional indicator', 'Ladder score',\n",
              "       'Standard error of ladder score', 'upperwhisker', 'lowerwhisker',\n",
              "       'Logged GDP per capita', 'Social support', 'Healthy life expectancy',\n",
              "       'Freedom to make life choices', 'Generosity',\n",
              "       'Perceptions of corruption', 'Ladder score in Dystopia',\n",
              "       'Explained by: Log GDP per capita', 'Explained by: Social support',\n",
              "       'Explained by: Healthy life expectancy',\n",
              "       'Explained by: Freedom to make life choices',\n",
              "       'Explained by: Generosity', 'Explained by: Perceptions of corruption',\n",
              "       'Dystopia + residual'],\n",
              "      dtype='object')"
            ]
          },
          "metadata": {
            "tags": []
          },
          "execution_count": 88
        }
      ]
    },
    {
      "cell_type": "code",
      "metadata": {
        "colab": {
          "base_uri": "https://localhost:8080/"
        },
        "id": "N8_vu4KYWcK1",
        "outputId": "0d74407d-e895-43c3-e199-fdf31594a185"
      },
      "source": [
        "df.dtypes"
      ],
      "execution_count": null,
      "outputs": [
        {
          "output_type": "execute_result",
          "data": {
            "text/plain": [
              "Country name                                   object\n",
              "Regional indicator                             object\n",
              "Ladder score                                  float64\n",
              "Standard error of ladder score                float64\n",
              "upperwhisker                                  float64\n",
              "lowerwhisker                                  float64\n",
              "Logged GDP per capita                         float64\n",
              "Social support                                float64\n",
              "Healthy life expectancy                       float64\n",
              "Freedom to make life choices                  float64\n",
              "Generosity                                    float64\n",
              "Perceptions of corruption                     float64\n",
              "Ladder score in Dystopia                      float64\n",
              "Explained by: Log GDP per capita              float64\n",
              "Explained by: Social support                  float64\n",
              "Explained by: Healthy life expectancy         float64\n",
              "Explained by: Freedom to make life choices    float64\n",
              "Explained by: Generosity                      float64\n",
              "Explained by: Perceptions of corruption       float64\n",
              "Dystopia + residual                           float64\n",
              "dtype: object"
            ]
          },
          "metadata": {
            "tags": []
          },
          "execution_count": 8
        }
      ]
    },
    {
      "cell_type": "code",
      "metadata": {
        "colab": {
          "base_uri": "https://localhost:8080/"
        },
        "id": "UfDjM4H-WcNc",
        "outputId": "66121835-2db2-4583-ff4a-38e7973e5a16"
      },
      "source": [
        "#columns with missing value\n",
        "[col for col in df.columns if df[col].isnull().any()]"
      ],
      "execution_count": null,
      "outputs": [
        {
          "output_type": "execute_result",
          "data": {
            "text/plain": [
              "[]"
            ]
          },
          "metadata": {
            "tags": []
          },
          "execution_count": 15
        }
      ]
    },
    {
      "cell_type": "code",
      "metadata": {
        "colab": {
          "base_uri": "https://localhost:8080/"
        },
        "id": "0x4Y7rSTWcS1",
        "outputId": "aa8d4ff1-6376-4f65-bdd4-cd0e1001fc63"
      },
      "source": [
        "#checking na value\n",
        "df.isna().sum()"
      ],
      "execution_count": null,
      "outputs": [
        {
          "output_type": "execute_result",
          "data": {
            "text/plain": [
              "Country name                                  0\n",
              "Regional indicator                            0\n",
              "Ladder score                                  0\n",
              "Standard error of ladder score                0\n",
              "upperwhisker                                  0\n",
              "lowerwhisker                                  0\n",
              "Logged GDP per capita                         0\n",
              "Social support                                0\n",
              "Healthy life expectancy                       0\n",
              "Freedom to make life choices                  0\n",
              "Generosity                                    0\n",
              "Perceptions of corruption                     0\n",
              "Ladder score in Dystopia                      0\n",
              "Explained by: Log GDP per capita              0\n",
              "Explained by: Social support                  0\n",
              "Explained by: Healthy life expectancy         0\n",
              "Explained by: Freedom to make life choices    0\n",
              "Explained by: Generosity                      0\n",
              "Explained by: Perceptions of corruption       0\n",
              "Dystopia + residual                           0\n",
              "dtype: int64"
            ]
          },
          "metadata": {
            "tags": []
          },
          "execution_count": 16
        }
      ]
    },
    {
      "cell_type": "code",
      "metadata": {
        "colab": {
          "base_uri": "https://localhost:8080/"
        },
        "id": "-mR2Q1qWYVGf",
        "outputId": "c2c3324c-c179-4e0f-d012-7ee279bbafaa"
      },
      "source": [
        "#shape begore dropping columns\n",
        "df.shape"
      ],
      "execution_count": null,
      "outputs": [
        {
          "output_type": "execute_result",
          "data": {
            "text/plain": [
              "(149, 20)"
            ]
          },
          "metadata": {
            "tags": []
          },
          "execution_count": 6
        }
      ]
    },
    {
      "cell_type": "code",
      "metadata": {
        "id": "BfouwaarWcVZ"
      },
      "source": [
        "#droping few columns which are not useful for this analysis\n",
        "df = df.drop(['Standard error of ladder score', 'upperwhisker', 'lowerwhisker',\n",
        "       'Explained by: Log GDP per capita', 'Explained by: Social support',\n",
        "       'Explained by: Healthy life expectancy',\n",
        "       'Explained by: Freedom to make life choices',\n",
        "       'Explained by: Generosity', 'Explained by: Perceptions of corruption', 'Ladder score in Dystopia'], axis = 1)"
      ],
      "execution_count": null,
      "outputs": []
    },
    {
      "cell_type": "code",
      "metadata": {
        "colab": {
          "base_uri": "https://localhost:8080/"
        },
        "id": "BOS4q-7FYC4p",
        "outputId": "2e7d0716-5c6a-4004-9a1f-f8fd7f2f60a9"
      },
      "source": [
        "#after dropping columns\n",
        "df.shape"
      ],
      "execution_count": null,
      "outputs": [
        {
          "output_type": "execute_result",
          "data": {
            "text/plain": [
              "(149, 10)"
            ]
          },
          "metadata": {
            "tags": []
          },
          "execution_count": 149
        }
      ]
    },
    {
      "cell_type": "code",
      "metadata": {
        "colab": {
          "base_uri": "https://localhost:8080/",
          "height": 294
        },
        "id": "Gv4q4t1HYC7p",
        "outputId": "67dc22ef-e218-4f22-bf43-7219c4633e12"
      },
      "source": [
        "df.describe()"
      ],
      "execution_count": null,
      "outputs": [
        {
          "output_type": "execute_result",
          "data": {
            "text/html": [
              "<div>\n",
              "<style scoped>\n",
              "    .dataframe tbody tr th:only-of-type {\n",
              "        vertical-align: middle;\n",
              "    }\n",
              "\n",
              "    .dataframe tbody tr th {\n",
              "        vertical-align: top;\n",
              "    }\n",
              "\n",
              "    .dataframe thead th {\n",
              "        text-align: right;\n",
              "    }\n",
              "</style>\n",
              "<table border=\"1\" class=\"dataframe\">\n",
              "  <thead>\n",
              "    <tr style=\"text-align: right;\">\n",
              "      <th></th>\n",
              "      <th>Ladder score</th>\n",
              "      <th>Logged GDP per capita</th>\n",
              "      <th>Social support</th>\n",
              "      <th>Healthy life expectancy</th>\n",
              "      <th>Freedom to make life choices</th>\n",
              "      <th>Generosity</th>\n",
              "      <th>Perceptions of corruption</th>\n",
              "      <th>Dystopia + residual</th>\n",
              "    </tr>\n",
              "  </thead>\n",
              "  <tbody>\n",
              "    <tr>\n",
              "      <th>count</th>\n",
              "      <td>149.000000</td>\n",
              "      <td>149.000000</td>\n",
              "      <td>149.000000</td>\n",
              "      <td>149.000000</td>\n",
              "      <td>149.000000</td>\n",
              "      <td>149.000000</td>\n",
              "      <td>149.000000</td>\n",
              "      <td>149.000000</td>\n",
              "    </tr>\n",
              "    <tr>\n",
              "      <th>mean</th>\n",
              "      <td>5.532839</td>\n",
              "      <td>9.432208</td>\n",
              "      <td>0.814745</td>\n",
              "      <td>64.992799</td>\n",
              "      <td>0.791597</td>\n",
              "      <td>-0.015134</td>\n",
              "      <td>0.727450</td>\n",
              "      <td>2.430329</td>\n",
              "    </tr>\n",
              "    <tr>\n",
              "      <th>std</th>\n",
              "      <td>1.073924</td>\n",
              "      <td>1.158601</td>\n",
              "      <td>0.114889</td>\n",
              "      <td>6.762043</td>\n",
              "      <td>0.113332</td>\n",
              "      <td>0.150657</td>\n",
              "      <td>0.179226</td>\n",
              "      <td>0.537645</td>\n",
              "    </tr>\n",
              "    <tr>\n",
              "      <th>min</th>\n",
              "      <td>2.523000</td>\n",
              "      <td>6.635000</td>\n",
              "      <td>0.463000</td>\n",
              "      <td>48.478000</td>\n",
              "      <td>0.382000</td>\n",
              "      <td>-0.288000</td>\n",
              "      <td>0.082000</td>\n",
              "      <td>0.648000</td>\n",
              "    </tr>\n",
              "    <tr>\n",
              "      <th>25%</th>\n",
              "      <td>4.852000</td>\n",
              "      <td>8.541000</td>\n",
              "      <td>0.750000</td>\n",
              "      <td>59.802000</td>\n",
              "      <td>0.718000</td>\n",
              "      <td>-0.126000</td>\n",
              "      <td>0.667000</td>\n",
              "      <td>2.138000</td>\n",
              "    </tr>\n",
              "    <tr>\n",
              "      <th>50%</th>\n",
              "      <td>5.534000</td>\n",
              "      <td>9.569000</td>\n",
              "      <td>0.832000</td>\n",
              "      <td>66.603000</td>\n",
              "      <td>0.804000</td>\n",
              "      <td>-0.036000</td>\n",
              "      <td>0.781000</td>\n",
              "      <td>2.509000</td>\n",
              "    </tr>\n",
              "    <tr>\n",
              "      <th>75%</th>\n",
              "      <td>6.255000</td>\n",
              "      <td>10.421000</td>\n",
              "      <td>0.905000</td>\n",
              "      <td>69.600000</td>\n",
              "      <td>0.877000</td>\n",
              "      <td>0.079000</td>\n",
              "      <td>0.845000</td>\n",
              "      <td>2.794000</td>\n",
              "    </tr>\n",
              "    <tr>\n",
              "      <th>max</th>\n",
              "      <td>7.842000</td>\n",
              "      <td>11.647000</td>\n",
              "      <td>0.983000</td>\n",
              "      <td>76.953000</td>\n",
              "      <td>0.970000</td>\n",
              "      <td>0.542000</td>\n",
              "      <td>0.939000</td>\n",
              "      <td>3.482000</td>\n",
              "    </tr>\n",
              "  </tbody>\n",
              "</table>\n",
              "</div>"
            ],
            "text/plain": [
              "       Ladder score  ...  Dystopia + residual\n",
              "count    149.000000  ...           149.000000\n",
              "mean       5.532839  ...             2.430329\n",
              "std        1.073924  ...             0.537645\n",
              "min        2.523000  ...             0.648000\n",
              "25%        4.852000  ...             2.138000\n",
              "50%        5.534000  ...             2.509000\n",
              "75%        6.255000  ...             2.794000\n",
              "max        7.842000  ...             3.482000\n",
              "\n",
              "[8 rows x 8 columns]"
            ]
          },
          "metadata": {
            "tags": []
          },
          "execution_count": 9
        }
      ]
    },
    {
      "cell_type": "code",
      "metadata": {
        "colab": {
          "base_uri": "https://localhost:8080/",
          "height": 782
        },
        "id": "keaNcYx3YC-J",
        "outputId": "74a219b6-44db-4242-ed89-186d596a6a72"
      },
      "source": [
        "#correlation\n",
        "cols = df[['Ladder score', 'Logged GDP per capita','Social support', 'Healthy life expectancy',\n",
        "       'Freedom to make life choices', 'Generosity',\n",
        "       'Perceptions of corruption']]\n",
        "plt.figure(figsize=(20,10))\n",
        "sns.heatmap(cols.corr(),annot=True,cmap='RdYlGn_r',mask=np.triu(np.ones_like(cols.corr())),annot_kws={\"fontsize\":12,'fontweight':'bold'})\n",
        "plt.title('Correlations between factors', fontsize=20, fontweight='bold', pad=20)\n",
        "plt.xticks(fontweight='bold')\n",
        "plt.yticks(fontweight='bold');\n"
      ],
      "execution_count": null,
      "outputs": [
        {
          "output_type": "display_data",
          "data": {
            "image/png": "[encoded data removed]",
            "text/plain": [
              "<Figure size 1440x720 with 2 Axes>"
            ]
          },
          "metadata": {
            "tags": [],
            "needs_background": "light"
          }
        }
      ]
    },
    {
      "cell_type": "markdown",
      "metadata": {
        "id": "NqgZXYQlb28K"
      },
      "source": [
        "From above we can observe,\n",
        "\n",
        "\n",
        "*   The high correlation between logged GDP per capita and ladder score\n",
        "\n",
        "*   The high correlation between healthy life expectancy and social support\n",
        "\n",
        "\n",
        "\n",
        "*   Weak correlation between ladder score and generosity\n",
        "\n",
        "\n",
        "\n",
        "\n",
        "\n",
        "\n"
      ]
    },
    {
      "cell_type": "markdown",
      "metadata": {
        "id": "W7kSITSMcaE6"
      },
      "source": [
        "**Correlation between ladder score and generosity**"
      ]
    },
    {
      "cell_type": "code",
      "metadata": {
        "colab": {
          "base_uri": "https://localhost:8080/",
          "height": 423
        },
        "id": "xGsW1YanYDDO",
        "outputId": "7e475c7b-e099-4e42-91d0-1d1ae8d7b9a8"
      },
      "source": [
        "from scipy import stats\n",
        "plt.figure(figsize=(12, 6))\n",
        "slope, intercept, r_value, p_value, std_err = stats.linregress(df['Ladder score'],df['Generosity'])\n",
        "sns.regplot(x='Ladder score', y='Generosity', data=df,ci=None,line_kws={'label':f'y={round(slope,3)}x {round(intercept,3)}','color':'green'});\n",
        "plt.title('Correlation between ladder score and generosity', fontsize=20, fontweight='bold', pad=20)\n",
        "plt.legend();"
      ],
      "execution_count": null,
      "outputs": [
        {
          "output_type": "display_data",
          "data": {
            "image/png": "[encoded data removed]",
            "text/plain": [
              "<Figure size 864x432 with 1 Axes>"
            ]
          },
          "metadata": {
            "tags": [],
            "needs_background": "light"
          }
        }
      ]
    },
    {
      "cell_type": "markdown",
      "metadata": {
        "id": "kNSj0rj4feRy"
      },
      "source": [
        "from this graph we can conclude that\n",
        "\n",
        "\n",
        "*   Few outliers in low ladder scores and high generosity values and vice versa\n",
        "\n",
        "*   Little to no correlation between ladder score and generosity of the countries\n",
        "\n"
      ]
    },
    {
      "cell_type": "markdown",
      "metadata": {
        "id": "C_aSp-52gEaw"
      },
      "source": [
        "**Correlation between ladder score and perceptions of corruption**"
      ]
    },
    {
      "cell_type": "code",
      "metadata": {
        "colab": {
          "base_uri": "https://localhost:8080/",
          "height": 374
        },
        "id": "URJ800hrYDF3",
        "outputId": "48ce1292-651b-4b78-a34f-dd5d5d6118fc"
      },
      "source": [
        "#plt.figure(figsize=(12, 6))\n",
        "sns.set(rc={\"figure.figsize\":(10, 5)})\n",
        "slope, intercept, r_value, p_value, std_err = stats.linregress(df['Ladder score'],df['Perceptions of corruption'])\n",
        "sns.regplot(x='Ladder score', y='Perceptions of corruption', data=df, ci=None,line_kws={'label':f'y={round(slope,3)}x +{round(intercept,2)}','color':'green'});\n",
        "plt.title('Correlation between ladder score and perceptions of corruption', fontsize=20, fontweight='bold', pad=20)\n",
        "plt.legend();"
      ],
      "execution_count": null,
      "outputs": [
        {
          "output_type": "display_data",
          "data": {
            "image/png": "[encoded data removed]",
            "text/plain": [
              "<Figure size 720x360 with 1 Axes>"
            ]
          },
          "metadata": {
            "tags": []
          }
        }
      ]
    },
    {
      "cell_type": "markdown",
      "metadata": {
        "id": "hmBiYuh1hMAi"
      },
      "source": [
        "Weak correlation between ladder score and perceptions of corruption"
      ]
    },
    {
      "cell_type": "code",
      "metadata": {
        "colab": {
          "base_uri": "https://localhost:8080/",
          "height": 126
        },
        "id": "WrCECyIVYDK3",
        "outputId": "7a0cebd1-a753-4839-f4d4-fdee872eed32"
      },
      "source": [
        "#this is old data set from 2008 to 2020\n",
        "path='/content/world-happiness-report.csv'\n",
        "df_old=pd.read_csv(path)\n",
        "df_old.head(2)"
      ],
      "execution_count": null,
      "outputs": [
        {
          "output_type": "execute_result",
          "data": {
            "text/html": [
              "<div>\n",
              "<style scoped>\n",
              "    .dataframe tbody tr th:only-of-type {\n",
              "        vertical-align: middle;\n",
              "    }\n",
              "\n",
              "    .dataframe tbody tr th {\n",
              "        vertical-align: top;\n",
              "    }\n",
              "\n",
              "    .dataframe thead th {\n",
              "        text-align: right;\n",
              "    }\n",
              "</style>\n",
              "<table border=\"1\" class=\"dataframe\">\n",
              "  <thead>\n",
              "    <tr style=\"text-align: right;\">\n",
              "      <th></th>\n",
              "      <th>Country name</th>\n",
              "      <th>year</th>\n",
              "      <th>Life Ladder</th>\n",
              "      <th>Log GDP per capita</th>\n",
              "      <th>Social support</th>\n",
              "      <th>Healthy life expectancy at birth</th>\n",
              "      <th>Freedom to make life choices</th>\n",
              "      <th>Generosity</th>\n",
              "      <th>Perceptions of corruption</th>\n",
              "      <th>Positive affect</th>\n",
              "      <th>Negative affect</th>\n",
              "    </tr>\n",
              "  </thead>\n",
              "  <tbody>\n",
              "    <tr>\n",
              "      <th>0</th>\n",
              "      <td>Afghanistan</td>\n",
              "      <td>2008</td>\n",
              "      <td>3.724</td>\n",
              "      <td>7.37</td>\n",
              "      <td>0.451</td>\n",
              "      <td>50.8</td>\n",
              "      <td>0.718</td>\n",
              "      <td>0.168</td>\n",
              "      <td>0.882</td>\n",
              "      <td>0.518</td>\n",
              "      <td>0.258</td>\n",
              "    </tr>\n",
              "    <tr>\n",
              "      <th>1</th>\n",
              "      <td>Afghanistan</td>\n",
              "      <td>2009</td>\n",
              "      <td>4.402</td>\n",
              "      <td>7.54</td>\n",
              "      <td>0.552</td>\n",
              "      <td>51.2</td>\n",
              "      <td>0.679</td>\n",
              "      <td>0.190</td>\n",
              "      <td>0.850</td>\n",
              "      <td>0.584</td>\n",
              "      <td>0.237</td>\n",
              "    </tr>\n",
              "  </tbody>\n",
              "</table>\n",
              "</div>"
            ],
            "text/plain": [
              "  Country name  year  ...  Positive affect  Negative affect\n",
              "0  Afghanistan  2008  ...            0.518            0.258\n",
              "1  Afghanistan  2009  ...            0.584            0.237\n",
              "\n",
              "[2 rows x 11 columns]"
            ]
          },
          "metadata": {
            "tags": []
          },
          "execution_count": 13
        }
      ]
    },
    {
      "cell_type": "code",
      "metadata": {
        "id": "qeKZ0RsKjxrk"
      },
      "source": [
        "# removing few columns\n",
        "df_old=df_old.drop(['Positive affect','Negative affect'],axis=1)"
      ],
      "execution_count": null,
      "outputs": []
    },
    {
      "cell_type": "code",
      "metadata": {
        "colab": {
          "base_uri": "https://localhost:8080/"
        },
        "id": "MYNj0F4RYDNi",
        "outputId": "72ca7af7-2318-4b05-b9ef-3227ae999dc6"
      },
      "source": [
        "df_old.shape"
      ],
      "execution_count": null,
      "outputs": [
        {
          "output_type": "execute_result",
          "data": {
            "text/plain": [
              "(1949, 9)"
            ]
          },
          "metadata": {
            "tags": []
          },
          "execution_count": 15
        }
      ]
    },
    {
      "cell_type": "code",
      "metadata": {
        "colab": {
          "base_uri": "https://localhost:8080/"
        },
        "id": "spR7H3YoihBR",
        "outputId": "61d91579-7321-487e-9dc0-28531dfeb26a"
      },
      "source": [
        "df_old.columns"
      ],
      "execution_count": null,
      "outputs": [
        {
          "output_type": "execute_result",
          "data": {
            "text/plain": [
              "Index(['Country name', 'year', 'Life Ladder', 'Log GDP per capita',\n",
              "       'Social support', 'Healthy life expectancy at birth',\n",
              "       'Freedom to make life choices', 'Generosity',\n",
              "       'Perceptions of corruption'],\n",
              "      dtype='object')"
            ]
          },
          "metadata": {
            "tags": []
          },
          "execution_count": 68
        }
      ]
    },
    {
      "cell_type": "code",
      "metadata": {
        "colab": {
          "base_uri": "https://localhost:8080/"
        },
        "id": "S97YeCUnYDQO",
        "outputId": "82fa7d7a-7581-4d07-b386-8b7e34318ba9"
      },
      "source": [
        "#Taking data for country Nepal only \n",
        "#mask\n",
        "mask=(df_old['Country name']=='Nepal')\n",
        "#total number of row\n",
        "(df_old['Country name']=='Nepal').sum()\n"
      ],
      "execution_count": null,
      "outputs": [
        {
          "output_type": "execute_result",
          "data": {
            "text/plain": [
              "14"
            ]
          },
          "metadata": {
            "tags": []
          },
          "execution_count": 16
        }
      ]
    },
    {
      "cell_type": "code",
      "metadata": {
        "colab": {
          "base_uri": "https://localhost:8080/",
          "height": 477
        },
        "id": "D59vFbrrYDSv",
        "outputId": "521e6282-f776-4971-fc32-e025918fd696"
      },
      "source": [
        "df1=df_old.loc[mask,:]\n",
        "df1"
      ],
      "execution_count": null,
      "outputs": [
        {
          "output_type": "execute_result",
          "data": {
            "text/html": [
              "<div>\n",
              "<style scoped>\n",
              "    .dataframe tbody tr th:only-of-type {\n",
              "        vertical-align: middle;\n",
              "    }\n",
              "\n",
              "    .dataframe tbody tr th {\n",
              "        vertical-align: top;\n",
              "    }\n",
              "\n",
              "    .dataframe thead th {\n",
              "        text-align: right;\n",
              "    }\n",
              "</style>\n",
              "<table border=\"1\" class=\"dataframe\">\n",
              "  <thead>\n",
              "    <tr style=\"text-align: right;\">\n",
              "      <th></th>\n",
              "      <th>Country name</th>\n",
              "      <th>year</th>\n",
              "      <th>Life Ladder</th>\n",
              "      <th>Log GDP per capita</th>\n",
              "      <th>Social support</th>\n",
              "      <th>Healthy life expectancy at birth</th>\n",
              "      <th>Freedom to make life choices</th>\n",
              "      <th>Generosity</th>\n",
              "      <th>Perceptions of corruption</th>\n",
              "    </tr>\n",
              "  </thead>\n",
              "  <tbody>\n",
              "    <tr>\n",
              "      <th>1197</th>\n",
              "      <td>Nepal</td>\n",
              "      <td>2006</td>\n",
              "      <td>4.567</td>\n",
              "      <td>7.616</td>\n",
              "      <td>0.874</td>\n",
              "      <td>57.2</td>\n",
              "      <td>0.689</td>\n",
              "      <td>NaN</td>\n",
              "      <td>0.897</td>\n",
              "    </tr>\n",
              "    <tr>\n",
              "      <th>1198</th>\n",
              "      <td>Nepal</td>\n",
              "      <td>2007</td>\n",
              "      <td>4.748</td>\n",
              "      <td>7.638</td>\n",
              "      <td>0.787</td>\n",
              "      <td>57.7</td>\n",
              "      <td>0.413</td>\n",
              "      <td>0.317</td>\n",
              "      <td>0.891</td>\n",
              "    </tr>\n",
              "    <tr>\n",
              "      <th>1199</th>\n",
              "      <td>Nepal</td>\n",
              "      <td>2008</td>\n",
              "      <td>4.441</td>\n",
              "      <td>7.686</td>\n",
              "      <td>0.818</td>\n",
              "      <td>58.2</td>\n",
              "      <td>0.618</td>\n",
              "      <td>0.291</td>\n",
              "      <td>0.900</td>\n",
              "    </tr>\n",
              "    <tr>\n",
              "      <th>1200</th>\n",
              "      <td>Nepal</td>\n",
              "      <td>2009</td>\n",
              "      <td>4.917</td>\n",
              "      <td>7.723</td>\n",
              "      <td>0.813</td>\n",
              "      <td>58.7</td>\n",
              "      <td>0.616</td>\n",
              "      <td>0.044</td>\n",
              "      <td>0.950</td>\n",
              "    </tr>\n",
              "    <tr>\n",
              "      <th>1201</th>\n",
              "      <td>Nepal</td>\n",
              "      <td>2010</td>\n",
              "      <td>4.350</td>\n",
              "      <td>7.765</td>\n",
              "      <td>0.779</td>\n",
              "      <td>59.2</td>\n",
              "      <td>0.519</td>\n",
              "      <td>0.092</td>\n",
              "      <td>0.911</td>\n",
              "    </tr>\n",
              "    <tr>\n",
              "      <th>1202</th>\n",
              "      <td>Nepal</td>\n",
              "      <td>2011</td>\n",
              "      <td>3.809</td>\n",
              "      <td>7.797</td>\n",
              "      <td>0.741</td>\n",
              "      <td>59.4</td>\n",
              "      <td>0.525</td>\n",
              "      <td>-0.010</td>\n",
              "      <td>0.935</td>\n",
              "    </tr>\n",
              "    <tr>\n",
              "      <th>1203</th>\n",
              "      <td>Nepal</td>\n",
              "      <td>2012</td>\n",
              "      <td>4.233</td>\n",
              "      <td>7.846</td>\n",
              "      <td>0.734</td>\n",
              "      <td>59.6</td>\n",
              "      <td>0.638</td>\n",
              "      <td>0.070</td>\n",
              "      <td>0.883</td>\n",
              "    </tr>\n",
              "    <tr>\n",
              "      <th>1204</th>\n",
              "      <td>Nepal</td>\n",
              "      <td>2013</td>\n",
              "      <td>4.605</td>\n",
              "      <td>7.889</td>\n",
              "      <td>0.740</td>\n",
              "      <td>59.8</td>\n",
              "      <td>0.722</td>\n",
              "      <td>0.151</td>\n",
              "      <td>0.877</td>\n",
              "    </tr>\n",
              "    <tr>\n",
              "      <th>1205</th>\n",
              "      <td>Nepal</td>\n",
              "      <td>2014</td>\n",
              "      <td>4.975</td>\n",
              "      <td>7.948</td>\n",
              "      <td>0.786</td>\n",
              "      <td>60.0</td>\n",
              "      <td>0.712</td>\n",
              "      <td>0.121</td>\n",
              "      <td>0.841</td>\n",
              "    </tr>\n",
              "    <tr>\n",
              "      <th>1206</th>\n",
              "      <td>Nepal</td>\n",
              "      <td>2015</td>\n",
              "      <td>4.812</td>\n",
              "      <td>7.976</td>\n",
              "      <td>0.748</td>\n",
              "      <td>60.2</td>\n",
              "      <td>0.763</td>\n",
              "      <td>0.227</td>\n",
              "      <td>0.824</td>\n",
              "    </tr>\n",
              "    <tr>\n",
              "      <th>1207</th>\n",
              "      <td>Nepal</td>\n",
              "      <td>2016</td>\n",
              "      <td>5.100</td>\n",
              "      <td>7.973</td>\n",
              "      <td>0.837</td>\n",
              "      <td>61.3</td>\n",
              "      <td>0.839</td>\n",
              "      <td>0.168</td>\n",
              "      <td>0.817</td>\n",
              "    </tr>\n",
              "    <tr>\n",
              "      <th>1208</th>\n",
              "      <td>Nepal</td>\n",
              "      <td>2017</td>\n",
              "      <td>4.737</td>\n",
              "      <td>8.039</td>\n",
              "      <td>0.816</td>\n",
              "      <td>62.4</td>\n",
              "      <td>0.845</td>\n",
              "      <td>0.134</td>\n",
              "      <td>0.770</td>\n",
              "    </tr>\n",
              "    <tr>\n",
              "      <th>1209</th>\n",
              "      <td>Nepal</td>\n",
              "      <td>2018</td>\n",
              "      <td>4.910</td>\n",
              "      <td>8.087</td>\n",
              "      <td>0.768</td>\n",
              "      <td>63.5</td>\n",
              "      <td>0.770</td>\n",
              "      <td>0.122</td>\n",
              "      <td>0.742</td>\n",
              "    </tr>\n",
              "    <tr>\n",
              "      <th>1210</th>\n",
              "      <td>Nepal</td>\n",
              "      <td>2019</td>\n",
              "      <td>5.449</td>\n",
              "      <td>8.136</td>\n",
              "      <td>0.772</td>\n",
              "      <td>64.6</td>\n",
              "      <td>0.790</td>\n",
              "      <td>0.167</td>\n",
              "      <td>0.712</td>\n",
              "    </tr>\n",
              "  </tbody>\n",
              "</table>\n",
              "</div>"
            ],
            "text/plain": [
              "     Country name  year  ...  Generosity  Perceptions of corruption\n",
              "1197        Nepal  2006  ...         NaN                      0.897\n",
              "1198        Nepal  2007  ...       0.317                      0.891\n",
              "1199        Nepal  2008  ...       0.291                      0.900\n",
              "1200        Nepal  2009  ...       0.044                      0.950\n",
              "1201        Nepal  2010  ...       0.092                      0.911\n",
              "1202        Nepal  2011  ...      -0.010                      0.935\n",
              "1203        Nepal  2012  ...       0.070                      0.883\n",
              "1204        Nepal  2013  ...       0.151                      0.877\n",
              "1205        Nepal  2014  ...       0.121                      0.841\n",
              "1206        Nepal  2015  ...       0.227                      0.824\n",
              "1207        Nepal  2016  ...       0.168                      0.817\n",
              "1208        Nepal  2017  ...       0.134                      0.770\n",
              "1209        Nepal  2018  ...       0.122                      0.742\n",
              "1210        Nepal  2019  ...       0.167                      0.712\n",
              "\n",
              "[14 rows x 9 columns]"
            ]
          },
          "metadata": {
            "tags": []
          },
          "execution_count": 17
        }
      ]
    },
    {
      "cell_type": "code",
      "metadata": {
        "colab": {
          "base_uri": "https://localhost:8080/",
          "height": 477
        },
        "id": "EI98X9lMYDVA",
        "outputId": "04791927-4c91-4092-98b1-0ab3594f7b0e"
      },
      "source": [
        "#repalce one nan value present in Generosity by backward fill method\n",
        "df1.Generosity.fillna(method='bfill',inplace=True)\n",
        "df1"
      ],
      "execution_count": null,
      "outputs": [
        {
          "output_type": "execute_result",
          "data": {
            "text/html": [
              "<div>\n",
              "<style scoped>\n",
              "    .dataframe tbody tr th:only-of-type {\n",
              "        vertical-align: middle;\n",
              "    }\n",
              "\n",
              "    .dataframe tbody tr th {\n",
              "        vertical-align: top;\n",
              "    }\n",
              "\n",
              "    .dataframe thead th {\n",
              "        text-align: right;\n",
              "    }\n",
              "</style>\n",
              "<table border=\"1\" class=\"dataframe\">\n",
              "  <thead>\n",
              "    <tr style=\"text-align: right;\">\n",
              "      <th></th>\n",
              "      <th>Country name</th>\n",
              "      <th>year</th>\n",
              "      <th>Life Ladder</th>\n",
              "      <th>Log GDP per capita</th>\n",
              "      <th>Social support</th>\n",
              "      <th>Healthy life expectancy at birth</th>\n",
              "      <th>Freedom to make life choices</th>\n",
              "      <th>Generosity</th>\n",
              "      <th>Perceptions of corruption</th>\n",
              "    </tr>\n",
              "  </thead>\n",
              "  <tbody>\n",
              "    <tr>\n",
              "      <th>1197</th>\n",
              "      <td>Nepal</td>\n",
              "      <td>2006</td>\n",
              "      <td>4.567</td>\n",
              "      <td>7.616</td>\n",
              "      <td>0.874</td>\n",
              "      <td>57.2</td>\n",
              "      <td>0.689</td>\n",
              "      <td>0.317</td>\n",
              "      <td>0.897</td>\n",
              "    </tr>\n",
              "    <tr>\n",
              "      <th>1198</th>\n",
              "      <td>Nepal</td>\n",
              "      <td>2007</td>\n",
              "      <td>4.748</td>\n",
              "      <td>7.638</td>\n",
              "      <td>0.787</td>\n",
              "      <td>57.7</td>\n",
              "      <td>0.413</td>\n",
              "      <td>0.317</td>\n",
              "      <td>0.891</td>\n",
              "    </tr>\n",
              "    <tr>\n",
              "      <th>1199</th>\n",
              "      <td>Nepal</td>\n",
              "      <td>2008</td>\n",
              "      <td>4.441</td>\n",
              "      <td>7.686</td>\n",
              "      <td>0.818</td>\n",
              "      <td>58.2</td>\n",
              "      <td>0.618</td>\n",
              "      <td>0.291</td>\n",
              "      <td>0.900</td>\n",
              "    </tr>\n",
              "    <tr>\n",
              "      <th>1200</th>\n",
              "      <td>Nepal</td>\n",
              "      <td>2009</td>\n",
              "      <td>4.917</td>\n",
              "      <td>7.723</td>\n",
              "      <td>0.813</td>\n",
              "      <td>58.7</td>\n",
              "      <td>0.616</td>\n",
              "      <td>0.044</td>\n",
              "      <td>0.950</td>\n",
              "    </tr>\n",
              "    <tr>\n",
              "      <th>1201</th>\n",
              "      <td>Nepal</td>\n",
              "      <td>2010</td>\n",
              "      <td>4.350</td>\n",
              "      <td>7.765</td>\n",
              "      <td>0.779</td>\n",
              "      <td>59.2</td>\n",
              "      <td>0.519</td>\n",
              "      <td>0.092</td>\n",
              "      <td>0.911</td>\n",
              "    </tr>\n",
              "    <tr>\n",
              "      <th>1202</th>\n",
              "      <td>Nepal</td>\n",
              "      <td>2011</td>\n",
              "      <td>3.809</td>\n",
              "      <td>7.797</td>\n",
              "      <td>0.741</td>\n",
              "      <td>59.4</td>\n",
              "      <td>0.525</td>\n",
              "      <td>-0.010</td>\n",
              "      <td>0.935</td>\n",
              "    </tr>\n",
              "    <tr>\n",
              "      <th>1203</th>\n",
              "      <td>Nepal</td>\n",
              "      <td>2012</td>\n",
              "      <td>4.233</td>\n",
              "      <td>7.846</td>\n",
              "      <td>0.734</td>\n",
              "      <td>59.6</td>\n",
              "      <td>0.638</td>\n",
              "      <td>0.070</td>\n",
              "      <td>0.883</td>\n",
              "    </tr>\n",
              "    <tr>\n",
              "      <th>1204</th>\n",
              "      <td>Nepal</td>\n",
              "      <td>2013</td>\n",
              "      <td>4.605</td>\n",
              "      <td>7.889</td>\n",
              "      <td>0.740</td>\n",
              "      <td>59.8</td>\n",
              "      <td>0.722</td>\n",
              "      <td>0.151</td>\n",
              "      <td>0.877</td>\n",
              "    </tr>\n",
              "    <tr>\n",
              "      <th>1205</th>\n",
              "      <td>Nepal</td>\n",
              "      <td>2014</td>\n",
              "      <td>4.975</td>\n",
              "      <td>7.948</td>\n",
              "      <td>0.786</td>\n",
              "      <td>60.0</td>\n",
              "      <td>0.712</td>\n",
              "      <td>0.121</td>\n",
              "      <td>0.841</td>\n",
              "    </tr>\n",
              "    <tr>\n",
              "      <th>1206</th>\n",
              "      <td>Nepal</td>\n",
              "      <td>2015</td>\n",
              "      <td>4.812</td>\n",
              "      <td>7.976</td>\n",
              "      <td>0.748</td>\n",
              "      <td>60.2</td>\n",
              "      <td>0.763</td>\n",
              "      <td>0.227</td>\n",
              "      <td>0.824</td>\n",
              "    </tr>\n",
              "    <tr>\n",
              "      <th>1207</th>\n",
              "      <td>Nepal</td>\n",
              "      <td>2016</td>\n",
              "      <td>5.100</td>\n",
              "      <td>7.973</td>\n",
              "      <td>0.837</td>\n",
              "      <td>61.3</td>\n",
              "      <td>0.839</td>\n",
              "      <td>0.168</td>\n",
              "      <td>0.817</td>\n",
              "    </tr>\n",
              "    <tr>\n",
              "      <th>1208</th>\n",
              "      <td>Nepal</td>\n",
              "      <td>2017</td>\n",
              "      <td>4.737</td>\n",
              "      <td>8.039</td>\n",
              "      <td>0.816</td>\n",
              "      <td>62.4</td>\n",
              "      <td>0.845</td>\n",
              "      <td>0.134</td>\n",
              "      <td>0.770</td>\n",
              "    </tr>\n",
              "    <tr>\n",
              "      <th>1209</th>\n",
              "      <td>Nepal</td>\n",
              "      <td>2018</td>\n",
              "      <td>4.910</td>\n",
              "      <td>8.087</td>\n",
              "      <td>0.768</td>\n",
              "      <td>63.5</td>\n",
              "      <td>0.770</td>\n",
              "      <td>0.122</td>\n",
              "      <td>0.742</td>\n",
              "    </tr>\n",
              "    <tr>\n",
              "      <th>1210</th>\n",
              "      <td>Nepal</td>\n",
              "      <td>2019</td>\n",
              "      <td>5.449</td>\n",
              "      <td>8.136</td>\n",
              "      <td>0.772</td>\n",
              "      <td>64.6</td>\n",
              "      <td>0.790</td>\n",
              "      <td>0.167</td>\n",
              "      <td>0.712</td>\n",
              "    </tr>\n",
              "  </tbody>\n",
              "</table>\n",
              "</div>"
            ],
            "text/plain": [
              "     Country name  year  ...  Generosity  Perceptions of corruption\n",
              "1197        Nepal  2006  ...       0.317                      0.897\n",
              "1198        Nepal  2007  ...       0.317                      0.891\n",
              "1199        Nepal  2008  ...       0.291                      0.900\n",
              "1200        Nepal  2009  ...       0.044                      0.950\n",
              "1201        Nepal  2010  ...       0.092                      0.911\n",
              "1202        Nepal  2011  ...      -0.010                      0.935\n",
              "1203        Nepal  2012  ...       0.070                      0.883\n",
              "1204        Nepal  2013  ...       0.151                      0.877\n",
              "1205        Nepal  2014  ...       0.121                      0.841\n",
              "1206        Nepal  2015  ...       0.227                      0.824\n",
              "1207        Nepal  2016  ...       0.168                      0.817\n",
              "1208        Nepal  2017  ...       0.134                      0.770\n",
              "1209        Nepal  2018  ...       0.122                      0.742\n",
              "1210        Nepal  2019  ...       0.167                      0.712\n",
              "\n",
              "[14 rows x 9 columns]"
            ]
          },
          "metadata": {
            "tags": []
          },
          "execution_count": 18
        }
      ]
    },
    {
      "cell_type": "code",
      "metadata": {
        "id": "Q3aj_89MlMZb"
      },
      "source": [
        "df.set_index('Country name',inplace=True)"
      ],
      "execution_count": null,
      "outputs": []
    },
    {
      "cell_type": "code",
      "metadata": {
        "id": "4OLZl6-sr5AX"
      },
      "source": [
        "df=df.reset_index()"
      ],
      "execution_count": null,
      "outputs": []
    },
    {
      "cell_type": "code",
      "metadata": {
        "colab": {
          "base_uri": "https://localhost:8080/"
        },
        "id": "OF9NM0O9lMeD",
        "outputId": "4c73991a-bc00-47a3-85e1-2d8a8730c42d"
      },
      "source": [
        "df2=df[df['Country name']=='Nepal'].reset_index(drop=True)\n",
        "df2.columns\n"
      ],
      "execution_count": null,
      "outputs": [
        {
          "output_type": "execute_result",
          "data": {
            "text/plain": [
              "Index(['Country name', 'Regional indicator', 'Ladder score',\n",
              "       'Logged GDP per capita', 'Social support', 'Healthy life expectancy',\n",
              "       'Freedom to make life choices', 'Generosity',\n",
              "       'Perceptions of corruption', 'Dystopia + residual'],\n",
              "      dtype='object')"
            ]
          },
          "metadata": {
            "tags": []
          },
          "execution_count": 20
        }
      ]
    },
    {
      "cell_type": "code",
      "metadata": {
        "colab": {
          "base_uri": "https://localhost:8080/"
        },
        "id": "opO80iPJlMn0",
        "outputId": "164271fd-1387-4637-ebc2-7001d3ff1ead"
      },
      "source": [
        "cols=df_old.columns\n",
        "cols"
      ],
      "execution_count": null,
      "outputs": [
        {
          "output_type": "execute_result",
          "data": {
            "text/plain": [
              "Index(['Country name', 'year', 'Life Ladder', 'Log GDP per capita',\n",
              "       'Social support', 'Healthy life expectancy at birth',\n",
              "       'Freedom to make life choices', 'Generosity',\n",
              "       'Perceptions of corruption'],\n",
              "      dtype='object')"
            ]
          },
          "metadata": {
            "tags": []
          },
          "execution_count": 21
        }
      ]
    },
    {
      "cell_type": "code",
      "metadata": {
        "id": "VTogRDpmlMtJ"
      },
      "source": [
        "\n",
        "#renaming columns and droping unnessary columns\n",
        "df2= df2.rename(columns = {'Ladder score':'Life Ladder',\n",
        "                'Logged GDP per capita':'Log GDP per capita',\n",
        "                'Healthy life expectancy':'Healthy life expectancy at birth'}) \n",
        "df2 = df2.drop(['Dystopia + residual', 'Regional indicator'], axis = 1)"
      ],
      "execution_count": null,
      "outputs": []
    },
    {
      "cell_type": "code",
      "metadata": {
        "colab": {
          "base_uri": "https://localhost:8080/",
          "height": 78
        },
        "id": "IfDnK6uclMv0",
        "outputId": "684abb3b-1e2e-4b85-b986-62d480396a6c"
      },
      "source": [
        "#using same columns  in the both dataframe  and extracting for only 2021\n",
        "df2['year']=2021\n",
        "df2=df2[cols]\n",
        "df2"
      ],
      "execution_count": null,
      "outputs": [
        {
          "output_type": "execute_result",
          "data": {
            "text/html": [
              "<div>\n",
              "<style scoped>\n",
              "    .dataframe tbody tr th:only-of-type {\n",
              "        vertical-align: middle;\n",
              "    }\n",
              "\n",
              "    .dataframe tbody tr th {\n",
              "        vertical-align: top;\n",
              "    }\n",
              "\n",
              "    .dataframe thead th {\n",
              "        text-align: right;\n",
              "    }\n",
              "</style>\n",
              "<table border=\"1\" class=\"dataframe\">\n",
              "  <thead>\n",
              "    <tr style=\"text-align: right;\">\n",
              "      <th></th>\n",
              "      <th>Country name</th>\n",
              "      <th>year</th>\n",
              "      <th>Life Ladder</th>\n",
              "      <th>Log GDP per capita</th>\n",
              "      <th>Social support</th>\n",
              "      <th>Healthy life expectancy at birth</th>\n",
              "      <th>Freedom to make life choices</th>\n",
              "      <th>Generosity</th>\n",
              "      <th>Perceptions of corruption</th>\n",
              "    </tr>\n",
              "  </thead>\n",
              "  <tbody>\n",
              "    <tr>\n",
              "      <th>0</th>\n",
              "      <td>Nepal</td>\n",
              "      <td>2021</td>\n",
              "      <td>5.269</td>\n",
              "      <td>8.12</td>\n",
              "      <td>0.774</td>\n",
              "      <td>64.233</td>\n",
              "      <td>0.782</td>\n",
              "      <td>0.152</td>\n",
              "      <td>0.727</td>\n",
              "    </tr>\n",
              "  </tbody>\n",
              "</table>\n",
              "</div>"
            ],
            "text/plain": [
              "  Country name  year  ...  Generosity  Perceptions of corruption\n",
              "0        Nepal  2021  ...       0.152                      0.727\n",
              "\n",
              "[1 rows x 9 columns]"
            ]
          },
          "metadata": {
            "tags": []
          },
          "execution_count": 24
        }
      ]
    },
    {
      "cell_type": "code",
      "metadata": {
        "colab": {
          "base_uri": "https://localhost:8080/",
          "height": 508
        },
        "id": "vwJeUnvPzwuL",
        "outputId": "560dc7c5-1542-40bd-e1fc-3cac61a1790c"
      },
      "source": [
        "#concating two dataframe old one and new one for 2021 only containing country nepal\n",
        "nepal = pd.concat([df1,df2])\n",
        "nepal"
      ],
      "execution_count": null,
      "outputs": [
        {
          "output_type": "execute_result",
          "data": {
            "text/html": [
              "<div>\n",
              "<style scoped>\n",
              "    .dataframe tbody tr th:only-of-type {\n",
              "        vertical-align: middle;\n",
              "    }\n",
              "\n",
              "    .dataframe tbody tr th {\n",
              "        vertical-align: top;\n",
              "    }\n",
              "\n",
              "    .dataframe thead th {\n",
              "        text-align: right;\n",
              "    }\n",
              "</style>\n",
              "<table border=\"1\" class=\"dataframe\">\n",
              "  <thead>\n",
              "    <tr style=\"text-align: right;\">\n",
              "      <th></th>\n",
              "      <th>Country name</th>\n",
              "      <th>year</th>\n",
              "      <th>Life Ladder</th>\n",
              "      <th>Log GDP per capita</th>\n",
              "      <th>Social support</th>\n",
              "      <th>Healthy life expectancy at birth</th>\n",
              "      <th>Freedom to make life choices</th>\n",
              "      <th>Generosity</th>\n",
              "      <th>Perceptions of corruption</th>\n",
              "    </tr>\n",
              "  </thead>\n",
              "  <tbody>\n",
              "    <tr>\n",
              "      <th>1197</th>\n",
              "      <td>Nepal</td>\n",
              "      <td>2006</td>\n",
              "      <td>4.567</td>\n",
              "      <td>7.616</td>\n",
              "      <td>0.874</td>\n",
              "      <td>57.200</td>\n",
              "      <td>0.689</td>\n",
              "      <td>0.317</td>\n",
              "      <td>0.897</td>\n",
              "    </tr>\n",
              "    <tr>\n",
              "      <th>1198</th>\n",
              "      <td>Nepal</td>\n",
              "      <td>2007</td>\n",
              "      <td>4.748</td>\n",
              "      <td>7.638</td>\n",
              "      <td>0.787</td>\n",
              "      <td>57.700</td>\n",
              "      <td>0.413</td>\n",
              "      <td>0.317</td>\n",
              "      <td>0.891</td>\n",
              "    </tr>\n",
              "    <tr>\n",
              "      <th>1199</th>\n",
              "      <td>Nepal</td>\n",
              "      <td>2008</td>\n",
              "      <td>4.441</td>\n",
              "      <td>7.686</td>\n",
              "      <td>0.818</td>\n",
              "      <td>58.200</td>\n",
              "      <td>0.618</td>\n",
              "      <td>0.291</td>\n",
              "      <td>0.900</td>\n",
              "    </tr>\n",
              "    <tr>\n",
              "      <th>1200</th>\n",
              "      <td>Nepal</td>\n",
              "      <td>2009</td>\n",
              "      <td>4.917</td>\n",
              "      <td>7.723</td>\n",
              "      <td>0.813</td>\n",
              "      <td>58.700</td>\n",
              "      <td>0.616</td>\n",
              "      <td>0.044</td>\n",
              "      <td>0.950</td>\n",
              "    </tr>\n",
              "    <tr>\n",
              "      <th>1201</th>\n",
              "      <td>Nepal</td>\n",
              "      <td>2010</td>\n",
              "      <td>4.350</td>\n",
              "      <td>7.765</td>\n",
              "      <td>0.779</td>\n",
              "      <td>59.200</td>\n",
              "      <td>0.519</td>\n",
              "      <td>0.092</td>\n",
              "      <td>0.911</td>\n",
              "    </tr>\n",
              "    <tr>\n",
              "      <th>1202</th>\n",
              "      <td>Nepal</td>\n",
              "      <td>2011</td>\n",
              "      <td>3.809</td>\n",
              "      <td>7.797</td>\n",
              "      <td>0.741</td>\n",
              "      <td>59.400</td>\n",
              "      <td>0.525</td>\n",
              "      <td>-0.010</td>\n",
              "      <td>0.935</td>\n",
              "    </tr>\n",
              "    <tr>\n",
              "      <th>1203</th>\n",
              "      <td>Nepal</td>\n",
              "      <td>2012</td>\n",
              "      <td>4.233</td>\n",
              "      <td>7.846</td>\n",
              "      <td>0.734</td>\n",
              "      <td>59.600</td>\n",
              "      <td>0.638</td>\n",
              "      <td>0.070</td>\n",
              "      <td>0.883</td>\n",
              "    </tr>\n",
              "    <tr>\n",
              "      <th>1204</th>\n",
              "      <td>Nepal</td>\n",
              "      <td>2013</td>\n",
              "      <td>4.605</td>\n",
              "      <td>7.889</td>\n",
              "      <td>0.740</td>\n",
              "      <td>59.800</td>\n",
              "      <td>0.722</td>\n",
              "      <td>0.151</td>\n",
              "      <td>0.877</td>\n",
              "    </tr>\n",
              "    <tr>\n",
              "      <th>1205</th>\n",
              "      <td>Nepal</td>\n",
              "      <td>2014</td>\n",
              "      <td>4.975</td>\n",
              "      <td>7.948</td>\n",
              "      <td>0.786</td>\n",
              "      <td>60.000</td>\n",
              "      <td>0.712</td>\n",
              "      <td>0.121</td>\n",
              "      <td>0.841</td>\n",
              "    </tr>\n",
              "    <tr>\n",
              "      <th>1206</th>\n",
              "      <td>Nepal</td>\n",
              "      <td>2015</td>\n",
              "      <td>4.812</td>\n",
              "      <td>7.976</td>\n",
              "      <td>0.748</td>\n",
              "      <td>60.200</td>\n",
              "      <td>0.763</td>\n",
              "      <td>0.227</td>\n",
              "      <td>0.824</td>\n",
              "    </tr>\n",
              "    <tr>\n",
              "      <th>1207</th>\n",
              "      <td>Nepal</td>\n",
              "      <td>2016</td>\n",
              "      <td>5.100</td>\n",
              "      <td>7.973</td>\n",
              "      <td>0.837</td>\n",
              "      <td>61.300</td>\n",
              "      <td>0.839</td>\n",
              "      <td>0.168</td>\n",
              "      <td>0.817</td>\n",
              "    </tr>\n",
              "    <tr>\n",
              "      <th>1208</th>\n",
              "      <td>Nepal</td>\n",
              "      <td>2017</td>\n",
              "      <td>4.737</td>\n",
              "      <td>8.039</td>\n",
              "      <td>0.816</td>\n",
              "      <td>62.400</td>\n",
              "      <td>0.845</td>\n",
              "      <td>0.134</td>\n",
              "      <td>0.770</td>\n",
              "    </tr>\n",
              "    <tr>\n",
              "      <th>1209</th>\n",
              "      <td>Nepal</td>\n",
              "      <td>2018</td>\n",
              "      <td>4.910</td>\n",
              "      <td>8.087</td>\n",
              "      <td>0.768</td>\n",
              "      <td>63.500</td>\n",
              "      <td>0.770</td>\n",
              "      <td>0.122</td>\n",
              "      <td>0.742</td>\n",
              "    </tr>\n",
              "    <tr>\n",
              "      <th>1210</th>\n",
              "      <td>Nepal</td>\n",
              "      <td>2019</td>\n",
              "      <td>5.449</td>\n",
              "      <td>8.136</td>\n",
              "      <td>0.772</td>\n",
              "      <td>64.600</td>\n",
              "      <td>0.790</td>\n",
              "      <td>0.167</td>\n",
              "      <td>0.712</td>\n",
              "    </tr>\n",
              "    <tr>\n",
              "      <th>0</th>\n",
              "      <td>Nepal</td>\n",
              "      <td>2021</td>\n",
              "      <td>5.269</td>\n",
              "      <td>8.120</td>\n",
              "      <td>0.774</td>\n",
              "      <td>64.233</td>\n",
              "      <td>0.782</td>\n",
              "      <td>0.152</td>\n",
              "      <td>0.727</td>\n",
              "    </tr>\n",
              "  </tbody>\n",
              "</table>\n",
              "</div>"
            ],
            "text/plain": [
              "     Country name  year  ...  Generosity  Perceptions of corruption\n",
              "1197        Nepal  2006  ...       0.317                      0.897\n",
              "1198        Nepal  2007  ...       0.317                      0.891\n",
              "1199        Nepal  2008  ...       0.291                      0.900\n",
              "1200        Nepal  2009  ...       0.044                      0.950\n",
              "1201        Nepal  2010  ...       0.092                      0.911\n",
              "1202        Nepal  2011  ...      -0.010                      0.935\n",
              "1203        Nepal  2012  ...       0.070                      0.883\n",
              "1204        Nepal  2013  ...       0.151                      0.877\n",
              "1205        Nepal  2014  ...       0.121                      0.841\n",
              "1206        Nepal  2015  ...       0.227                      0.824\n",
              "1207        Nepal  2016  ...       0.168                      0.817\n",
              "1208        Nepal  2017  ...       0.134                      0.770\n",
              "1209        Nepal  2018  ...       0.122                      0.742\n",
              "1210        Nepal  2019  ...       0.167                      0.712\n",
              "0           Nepal  2021  ...       0.152                      0.727\n",
              "\n",
              "[15 rows x 9 columns]"
            ]
          },
          "metadata": {
            "tags": []
          },
          "execution_count": 25
        }
      ]
    },
    {
      "cell_type": "markdown",
      "metadata": {
        "id": "WQn7TqdetKTW"
      },
      "source": [
        "**Nepal Log GDP per capita over the years**"
      ]
    },
    {
      "cell_type": "code",
      "metadata": {
        "id": "gixcjsR6_Ey5"
      },
      "source": [
        "nepal['Life Ladder']=nepal['Life Ladder'].apply(lambda x:round(x,2))\n",
        "nepal['Log GDP per capita']=nepal['Log GDP per capita'].apply(lambda x:round(x,2))"
      ],
      "execution_count": null,
      "outputs": []
    },
    {
      "cell_type": "code",
      "metadata": {
        "colab": {
          "base_uri": "https://localhost:8080/",
          "height": 542
        },
        "id": "KMOUIFXl9qyX",
        "outputId": "91ae684b-0ddd-41ce-b547-8947676bf521"
      },
      "source": [
        "fig=px.line(data_frame=nepal,x='year',y='Log GDP per capita',text='Log GDP per capita',title='Nepal Log GDP per capita over the years')\n",
        "fig.update_traces(textposition='top center',texttemplate='%{text:.s}')\n",
        "\n",
        "fig.show()"
      ],
      "execution_count": null,
      "outputs": [
        {
          "output_type": "display_data",
          "data": {
            "text/html": [
              "<html>\n",
              "<head><meta charset=\"utf-8\" /></head>\n",
              "<body>\n",
              "    <div>\n",
              "            <script src=\"https://cdnjs.cloudflare.com/ajax/libs/mathjax/2.7.5/MathJax.js?config=TeX-AMS-MML_SVG\"></script><script type=\"text/javascript\">if (window.MathJax) {MathJax.Hub.Config({SVG: {font: \"STIX-Web\"}});}</script>\n",
              "                <script type=\"text/javascript\">window.PlotlyConfig = {MathJaxConfig: 'local'};</script>\n",
              "        <script src=\"https://cdn.plot.ly/plotly-latest.min.js\"></script>    \n",
              "            <div id=\"3747c41d-735d-4445-9728-bfd05830e73a\" class=\"plotly-graph-div\" style=\"height:525px; width:100%;\"></div>\n",
              "            <script type=\"text/javascript\">\n",
              "                \n",
              "                    window.PLOTLYENV=window.PLOTLYENV || {};\n",
              "                    \n",
              "                if (document.getElementById(\"3747c41d-735d-4445-9728-bfd05830e73a\")) {\n",
              "                    Plotly.newPlot(\n",
              "                        '3747c41d-735d-4445-9728-bfd05830e73a',\n",
              "                        [{\"hoverlabel\": {\"namelength\": 0}, \"hovertemplate\": \"year=%{x}<br>Log GDP per capita=%{text}\", \"legendgroup\": \"\", \"line\": {\"color\": \"#636efa\", \"dash\": \"solid\"}, \"mode\": \"lines+markers+text\", \"name\": \"\", \"showlegend\": false, \"text\": [7.62, 7.64, 7.69, 7.72, 7.76, 7.8, 7.85, 7.89, 7.95, 7.98, 7.97, 8.04, 8.09, 8.14, 8.12], \"textposition\": \"top center\", \"texttemplate\": \"%{text:.s}\", \"type\": \"scatter\", \"x\": [2006, 2007, 2008, 2009, 2010, 2011, 2012, 2013, 2014, 2015, 2016, 2017, 2018, 2019, 2021], \"xaxis\": \"x\", \"y\": [7.62, 7.64, 7.69, 7.72, 7.76, 7.8, 7.85, 7.89, 7.95, 7.98, 7.97, 8.04, 8.09, 8.14, 8.12], \"yaxis\": \"y\"}],\n",
              "                        {\"legend\": {\"tracegroupgap\": 0}, \"template\": {\"data\": {\"bar\": [{\"error_x\": {\"color\": \"#2a3f5f\"}, \"error_y\": {\"color\": \"#2a3f5f\"}, \"marker\": {\"line\": {\"color\": \"#E5ECF6\", \"width\": 0.5}}, \"type\": \"bar\"}], \"barpolar\": [{\"marker\": {\"line\": {\"color\": \"#E5ECF6\", \"width\": 0.5}}, \"type\": \"barpolar\"}], \"carpet\": [{\"aaxis\": {\"endlinecolor\": \"#2a3f5f\", \"gridcolor\": \"white\", \"linecolor\": \"white\", \"minorgridcolor\": \"white\", \"startlinecolor\": \"#2a3f5f\"}, \"baxis\": {\"endlinecolor\": \"#2a3f5f\", \"gridcolor\": \"white\", \"linecolor\": \"white\", \"minorgridcolor\": \"white\", \"startlinecolor\": \"#2a3f5f\"}, \"type\": \"carpet\"}], \"choropleth\": [{\"colorbar\": {\"outlinewidth\": 0, \"ticks\": \"\"}, \"type\": \"choropleth\"}], \"contour\": [{\"colorbar\": {\"outlinewidth\": 0, \"ticks\": \"\"}, \"colorscale\": [[0.0, \"#0d0887\"], [0.1111111111111111, \"#46039f\"], [0.2222222222222222, \"#7201a8\"], [0.3333333333333333, \"#9c179e\"], [0.4444444444444444, \"#bd3786\"], [0.5555555555555556, \"#d8576b\"], [0.6666666666666666, \"#ed7953\"], [0.7777777777777778, \"#fb9f3a\"], [0.8888888888888888, \"#fdca26\"], [1.0, \"#f0f921\"]], \"type\": \"contour\"}], \"contourcarpet\": [{\"colorbar\": {\"outlinewidth\": 0, \"ticks\": \"\"}, \"type\": \"contourcarpet\"}], \"heatmap\": [{\"colorbar\": {\"outlinewidth\": 0, \"ticks\": \"\"}, \"colorscale\": [[0.0, \"#0d0887\"], [0.1111111111111111, \"#46039f\"], [0.2222222222222222, \"#7201a8\"], [0.3333333333333333, \"#9c179e\"], [0.4444444444444444, \"#bd3786\"], [0.5555555555555556, \"#d8576b\"], [0.6666666666666666, \"#ed7953\"], [0.7777777777777778, \"#fb9f3a\"], [0.8888888888888888, \"#fdca26\"], [1.0, \"#f0f921\"]], \"type\": \"heatmap\"}], \"heatmapgl\": [{\"colorbar\": {\"outlinewidth\": 0, \"ticks\": \"\"}, \"colorscale\": [[0.0, \"#0d0887\"], [0.1111111111111111, \"#46039f\"], [0.2222222222222222, \"#7201a8\"], [0.3333333333333333, \"#9c179e\"], [0.4444444444444444, \"#bd3786\"], [0.5555555555555556, \"#d8576b\"], [0.6666666666666666, \"#ed7953\"], [0.7777777777777778, \"#fb9f3a\"], [0.8888888888888888, \"#fdca26\"], [1.0, \"#f0f921\"]], \"type\": \"heatmapgl\"}], \"histogram\": [{\"marker\": {\"colorbar\": {\"outlinewidth\": 0, \"ticks\": \"\"}}, \"type\": \"histogram\"}], \"histogram2d\": [{\"colorbar\": {\"outlinewidth\": 0, \"ticks\": \"\"}, \"colorscale\": [[0.0, \"#0d0887\"], [0.1111111111111111, \"#46039f\"], [0.2222222222222222, \"#7201a8\"], [0.3333333333333333, \"#9c179e\"], [0.4444444444444444, \"#bd3786\"], [0.5555555555555556, \"#d8576b\"], [0.6666666666666666, \"#ed7953\"], [0.7777777777777778, \"#fb9f3a\"], [0.8888888888888888, \"#fdca26\"], [1.0, \"#f0f921\"]], \"type\": \"histogram2d\"}], \"histogram2dcontour\": [{\"colorbar\": {\"outlinewidth\": 0, \"ticks\": \"\"}, \"colorscale\": [[0.0, \"#0d0887\"], [0.1111111111111111, \"#46039f\"], [0.2222222222222222, \"#7201a8\"], [0.3333333333333333, \"#9c179e\"], [0.4444444444444444, \"#bd3786\"], [0.5555555555555556, \"#d8576b\"], [0.6666666666666666, \"#ed7953\"], [0.7777777777777778, \"#fb9f3a\"], [0.8888888888888888, \"#fdca26\"], [1.0, \"#f0f921\"]], \"type\": \"histogram2dcontour\"}], \"mesh3d\": [{\"colorbar\": {\"outlinewidth\": 0, \"ticks\": \"\"}, \"type\": \"mesh3d\"}], \"parcoords\": [{\"line\": {\"colorbar\": {\"outlinewidth\": 0, \"ticks\": \"\"}}, \"type\": \"parcoords\"}], \"pie\": [{\"automargin\": true, \"type\": \"pie\"}], \"scatter\": [{\"marker\": {\"colorbar\": {\"outlinewidth\": 0, \"ticks\": \"\"}}, \"type\": \"scatter\"}], \"scatter3d\": [{\"line\": {\"colorbar\": {\"outlinewidth\": 0, \"ticks\": \"\"}}, \"marker\": {\"colorbar\": {\"outlinewidth\": 0, \"ticks\": \"\"}}, \"type\": \"scatter3d\"}], \"scattercarpet\": [{\"marker\": {\"colorbar\": {\"outlinewidth\": 0, \"ticks\": \"\"}}, \"type\": \"scattercarpet\"}], \"scattergeo\": [{\"marker\": {\"colorbar\": {\"outlinewidth\": 0, \"ticks\": \"\"}}, \"type\": \"scattergeo\"}], \"scattergl\": [{\"marker\": {\"colorbar\": {\"outlinewidth\": 0, \"ticks\": \"\"}}, \"type\": \"scattergl\"}], \"scattermapbox\": [{\"marker\": {\"colorbar\": {\"outlinewidth\": 0, \"ticks\": \"\"}}, \"type\": \"scattermapbox\"}], \"scatterpolar\": [{\"marker\": {\"colorbar\": {\"outlinewidth\": 0, \"ticks\": \"\"}}, \"type\": \"scatterpolar\"}], \"scatterpolargl\": [{\"marker\": {\"colorbar\": {\"outlinewidth\": 0, \"ticks\": \"\"}}, \"type\": \"scatterpolargl\"}], \"scatterternary\": [{\"marker\": {\"colorbar\": {\"outlinewidth\": 0, \"ticks\": \"\"}}, \"type\": \"scatterternary\"}], \"surface\": [{\"colorbar\": {\"outlinewidth\": 0, \"ticks\": \"\"}, \"colorscale\": [[0.0, \"#0d0887\"], [0.1111111111111111, \"#46039f\"], [0.2222222222222222, \"#7201a8\"], [0.3333333333333333, \"#9c179e\"], [0.4444444444444444, \"#bd3786\"], [0.5555555555555556, \"#d8576b\"], [0.6666666666666666, \"#ed7953\"], [0.7777777777777778, \"#fb9f3a\"], [0.8888888888888888, \"#fdca26\"], [1.0, \"#f0f921\"]], \"type\": \"surface\"}], \"table\": [{\"cells\": {\"fill\": {\"color\": \"#EBF0F8\"}, \"line\": {\"color\": \"white\"}}, \"header\": {\"fill\": {\"color\": \"#C8D4E3\"}, \"line\": {\"color\": \"white\"}}, \"type\": \"table\"}]}, \"layout\": {\"annotationdefaults\": {\"arrowcolor\": \"#2a3f5f\", \"arrowhead\": 0, \"arrowwidth\": 1}, \"coloraxis\": {\"colorbar\": {\"outlinewidth\": 0, \"ticks\": \"\"}}, \"colorscale\": {\"diverging\": [[0, \"#8e0152\"], [0.1, \"#c51b7d\"], [0.2, \"#de77ae\"], [0.3, \"#f1b6da\"], [0.4, \"#fde0ef\"], [0.5, \"#f7f7f7\"], [0.6, \"#e6f5d0\"], [0.7, \"#b8e186\"], [0.8, \"#7fbc41\"], [0.9, \"#4d9221\"], [1, \"#276419\"]], \"sequential\": [[0.0, \"#0d0887\"], [0.1111111111111111, \"#46039f\"], [0.2222222222222222, \"#7201a8\"], [0.3333333333333333, \"#9c179e\"], [0.4444444444444444, \"#bd3786\"], [0.5555555555555556, \"#d8576b\"], [0.6666666666666666, \"#ed7953\"], [0.7777777777777778, \"#fb9f3a\"], [0.8888888888888888, \"#fdca26\"], [1.0, \"#f0f921\"]], \"sequentialminus\": [[0.0, \"#0d0887\"], [0.1111111111111111, \"#46039f\"], [0.2222222222222222, \"#7201a8\"], [0.3333333333333333, \"#9c179e\"], [0.4444444444444444, \"#bd3786\"], [0.5555555555555556, \"#d8576b\"], [0.6666666666666666, \"#ed7953\"], [0.7777777777777778, \"#fb9f3a\"], [0.8888888888888888, \"#fdca26\"], [1.0, \"#f0f921\"]]}, \"colorway\": [\"#636efa\", \"#EF553B\", \"#00cc96\", \"#ab63fa\", \"#FFA15A\", \"#19d3f3\", \"#FF6692\", \"#B6E880\", \"#FF97FF\", \"#FECB52\"], \"font\": {\"color\": \"#2a3f5f\"}, \"geo\": {\"bgcolor\": \"white\", \"lakecolor\": \"white\", \"landcolor\": \"#E5ECF6\", \"showlakes\": true, \"showland\": true, \"subunitcolor\": \"white\"}, \"hoverlabel\": {\"align\": \"left\"}, \"hovermode\": \"closest\", \"mapbox\": {\"style\": \"light\"}, \"paper_bgcolor\": \"white\", \"plot_bgcolor\": \"#E5ECF6\", \"polar\": {\"angularaxis\": {\"gridcolor\": \"white\", \"linecolor\": \"white\", \"ticks\": \"\"}, \"bgcolor\": \"#E5ECF6\", \"radialaxis\": {\"gridcolor\": \"white\", \"linecolor\": \"white\", \"ticks\": \"\"}}, \"scene\": {\"xaxis\": {\"backgroundcolor\": \"#E5ECF6\", \"gridcolor\": \"white\", \"gridwidth\": 2, \"linecolor\": \"white\", \"showbackground\": true, \"ticks\": \"\", \"zerolinecolor\": \"white\"}, \"yaxis\": {\"backgroundcolor\": \"#E5ECF6\", \"gridcolor\": \"white\", \"gridwidth\": 2, \"linecolor\": \"white\", \"showbackground\": true, \"ticks\": \"\", \"zerolinecolor\": \"white\"}, \"zaxis\": {\"backgroundcolor\": \"#E5ECF6\", \"gridcolor\": \"white\", \"gridwidth\": 2, \"linecolor\": \"white\", \"showbackground\": true, \"ticks\": \"\", \"zerolinecolor\": \"white\"}}, \"shapedefaults\": {\"line\": {\"color\": \"#2a3f5f\"}}, \"ternary\": {\"aaxis\": {\"gridcolor\": \"white\", \"linecolor\": \"white\", \"ticks\": \"\"}, \"baxis\": {\"gridcolor\": \"white\", \"linecolor\": \"white\", \"ticks\": \"\"}, \"bgcolor\": \"#E5ECF6\", \"caxis\": {\"gridcolor\": \"white\", \"linecolor\": \"white\", \"ticks\": \"\"}}, \"title\": {\"x\": 0.05}, \"xaxis\": {\"automargin\": true, \"gridcolor\": \"white\", \"linecolor\": \"white\", \"ticks\": \"\", \"title\": {\"standoff\": 15}, \"zerolinecolor\": \"white\", \"zerolinewidth\": 2}, \"yaxis\": {\"automargin\": true, \"gridcolor\": \"white\", \"linecolor\": \"white\", \"ticks\": \"\", \"title\": {\"standoff\": 15}, \"zerolinecolor\": \"white\", \"zerolinewidth\": 2}}}, \"title\": {\"text\": \"Nepal Log GDP per capita over the years\"}, \"xaxis\": {\"anchor\": \"y\", \"domain\": [0.0, 1.0], \"title\": {\"text\": \"year\"}}, \"yaxis\": {\"anchor\": \"x\", \"domain\": [0.0, 1.0], \"title\": {\"text\": \"Log GDP per capita\"}}},\n",
              "                        {\"responsive\": true}\n",
              "                    ).then(function(){\n",
              "                            \n",
              "var gd = document.getElementById('3747c41d-735d-4445-9728-bfd05830e73a');\n",
              "var x = new MutationObserver(function (mutations, observer) {{\n",
              "        var display = window.getComputedStyle(gd).display;\n",
              "        if (!display || display === 'none') {{\n",
              "            console.log([gd, 'removed!']);\n",
              "            Plotly.purge(gd);\n",
              "            observer.disconnect();\n",
              "        }}\n",
              "}});\n",
              "\n",
              "// Listen for the removal of the full notebook cells\n",
              "var notebookContainer = gd.closest('#notebook-container');\n",
              "if (notebookContainer) {{\n",
              "    x.observe(notebookContainer, {childList: true});\n",
              "}}\n",
              "\n",
              "// Listen for the clearing of the current output cell\n",
              "var outputEl = gd.closest('.output');\n",
              "if (outputEl) {{\n",
              "    x.observe(outputEl, {childList: true});\n",
              "}}\n",
              "\n",
              "                        })\n",
              "                };\n",
              "                \n",
              "            </script>\n",
              "        </div>\n",
              "</body>\n",
              "</html>"
            ]
          },
          "metadata": {
            "tags": []
          }
        }
      ]
    },
    {
      "cell_type": "markdown",
      "metadata": {
        "id": "EIvsAyNYtt4H"
      },
      "source": [
        "![Screenshot (67).png](data:image/png;base64,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)"
      ]
    },
    {
      "cell_type": "markdown",
      "metadata": {
        "id": "q2GDRXC1t2-Y"
      },
      "source": [
        "From above graph, we can conclude that Nepal GDP in increasing uniformly over the yeays"
      ]
    },
    {
      "cell_type": "markdown",
      "metadata": {
        "id": "gjZVd6nLuGc4"
      },
      "source": [
        "**Nepal ladder score over the years**"
      ]
    },
    {
      "cell_type": "code",
      "metadata": {
        "colab": {
          "base_uri": "https://localhost:8080/",
          "height": 542
        },
        "id": "IxGn3rDt9q1k",
        "outputId": "6928716b-8f3c-4ff2-b7e1-7088ea7fdce5"
      },
      "source": [
        "fig=px.line(data_frame=nepal,x='year',y='Life Ladder',text='Life Ladder',title='Nepal ladder score over the years')\n",
        "fig.update_traces(textposition='top center',texttemplate='%{text:.s}')\n",
        " \n",
        "fig.show()"
      ],
      "execution_count": null,
      "outputs": [
        {
          "output_type": "display_data",
          "data": {
            "text/html": [
              "<html>\n",
              "<head><meta charset=\"utf-8\" /></head>\n",
              "<body>\n",
              "    <div>\n",
              "            <script src=\"https://cdnjs.cloudflare.com/ajax/libs/mathjax/2.7.5/MathJax.js?config=TeX-AMS-MML_SVG\"></script><script type=\"text/javascript\">if (window.MathJax) {MathJax.Hub.Config({SVG: {font: \"STIX-Web\"}});}</script>\n",
              "                <script type=\"text/javascript\">window.PlotlyConfig = {MathJaxConfig: 'local'};</script>\n",
              "        <script src=\"https://cdn.plot.ly/plotly-latest.min.js\"></script>    \n",
              "            <div id=\"38932abd-f8df-4dea-9eda-849c4100cf40\" class=\"plotly-graph-div\" style=\"height:525px; width:100%;\"></div>\n",
              "            <script type=\"text/javascript\">\n",
              "                \n",
              "                    window.PLOTLYENV=window.PLOTLYENV || {};\n",
              "                    \n",
              "                if (document.getElementById(\"38932abd-f8df-4dea-9eda-849c4100cf40\")) {\n",
              "                    Plotly.newPlot(\n",
              "                        '38932abd-f8df-4dea-9eda-849c4100cf40',\n",
              "                        [{\"hoverlabel\": {\"namelength\": 0}, \"hovertemplate\": \"year=%{x}<br>Life Ladder=%{text}\", \"legendgroup\": \"\", \"line\": {\"color\": \"#636efa\", \"dash\": \"solid\"}, \"mode\": \"lines+markers+text\", \"name\": \"\", \"showlegend\": false, \"text\": [4.57, 4.75, 4.44, 4.92, 4.35, 3.81, 4.23, 4.61, 4.97, 4.81, 5.1, 4.74, 4.91, 5.45, 5.27], \"textposition\": \"top center\", \"texttemplate\": \"%{text:.s}\", \"type\": \"scatter\", \"x\": [2006, 2007, 2008, 2009, 2010, 2011, 2012, 2013, 2014, 2015, 2016, 2017, 2018, 2019, 2021], \"xaxis\": \"x\", \"y\": [4.57, 4.75, 4.44, 4.92, 4.35, 3.81, 4.23, 4.61, 4.97, 4.81, 5.1, 4.74, 4.91, 5.45, 5.27], \"yaxis\": \"y\"}],\n",
              "                        {\"legend\": {\"tracegroupgap\": 0}, \"template\": {\"data\": {\"bar\": [{\"error_x\": {\"color\": \"#2a3f5f\"}, \"error_y\": {\"color\": \"#2a3f5f\"}, \"marker\": {\"line\": {\"color\": \"#E5ECF6\", \"width\": 0.5}}, \"type\": \"bar\"}], \"barpolar\": [{\"marker\": {\"line\": {\"color\": \"#E5ECF6\", \"width\": 0.5}}, \"type\": \"barpolar\"}], \"carpet\": [{\"aaxis\": {\"endlinecolor\": \"#2a3f5f\", \"gridcolor\": \"white\", \"linecolor\": \"white\", \"minorgridcolor\": \"white\", \"startlinecolor\": \"#2a3f5f\"}, \"baxis\": {\"endlinecolor\": \"#2a3f5f\", \"gridcolor\": \"white\", \"linecolor\": \"white\", \"minorgridcolor\": \"white\", \"startlinecolor\": \"#2a3f5f\"}, \"type\": \"carpet\"}], \"choropleth\": [{\"colorbar\": {\"outlinewidth\": 0, \"ticks\": \"\"}, \"type\": \"choropleth\"}], \"contour\": [{\"colorbar\": {\"outlinewidth\": 0, \"ticks\": \"\"}, \"colorscale\": [[0.0, \"#0d0887\"], [0.1111111111111111, \"#46039f\"], [0.2222222222222222, \"#7201a8\"], [0.3333333333333333, \"#9c179e\"], [0.4444444444444444, \"#bd3786\"], [0.5555555555555556, \"#d8576b\"], [0.6666666666666666, \"#ed7953\"], [0.7777777777777778, \"#fb9f3a\"], [0.8888888888888888, \"#fdca26\"], [1.0, \"#f0f921\"]], \"type\": \"contour\"}], \"contourcarpet\": [{\"colorbar\": {\"outlinewidth\": 0, \"ticks\": \"\"}, \"type\": \"contourcarpet\"}], \"heatmap\": [{\"colorbar\": {\"outlinewidth\": 0, \"ticks\": \"\"}, \"colorscale\": [[0.0, \"#0d0887\"], [0.1111111111111111, \"#46039f\"], [0.2222222222222222, \"#7201a8\"], [0.3333333333333333, \"#9c179e\"], [0.4444444444444444, \"#bd3786\"], [0.5555555555555556, \"#d8576b\"], [0.6666666666666666, \"#ed7953\"], [0.7777777777777778, \"#fb9f3a\"], [0.8888888888888888, \"#fdca26\"], [1.0, \"#f0f921\"]], \"type\": \"heatmap\"}], \"heatmapgl\": [{\"colorbar\": {\"outlinewidth\": 0, \"ticks\": \"\"}, \"colorscale\": [[0.0, \"#0d0887\"], [0.1111111111111111, \"#46039f\"], [0.2222222222222222, \"#7201a8\"], [0.3333333333333333, \"#9c179e\"], [0.4444444444444444, \"#bd3786\"], [0.5555555555555556, \"#d8576b\"], [0.6666666666666666, \"#ed7953\"], [0.7777777777777778, \"#fb9f3a\"], [0.8888888888888888, \"#fdca26\"], [1.0, \"#f0f921\"]], \"type\": \"heatmapgl\"}], \"histogram\": [{\"marker\": {\"colorbar\": {\"outlinewidth\": 0, \"ticks\": \"\"}}, \"type\": \"histogram\"}], \"histogram2d\": [{\"colorbar\": {\"outlinewidth\": 0, \"ticks\": \"\"}, \"colorscale\": [[0.0, \"#0d0887\"], [0.1111111111111111, \"#46039f\"], [0.2222222222222222, \"#7201a8\"], [0.3333333333333333, \"#9c179e\"], [0.4444444444444444, \"#bd3786\"], [0.5555555555555556, \"#d8576b\"], [0.6666666666666666, \"#ed7953\"], [0.7777777777777778, \"#fb9f3a\"], [0.8888888888888888, \"#fdca26\"], [1.0, \"#f0f921\"]], \"type\": \"histogram2d\"}], \"histogram2dcontour\": [{\"colorbar\": {\"outlinewidth\": 0, \"ticks\": \"\"}, \"colorscale\": [[0.0, \"#0d0887\"], [0.1111111111111111, \"#46039f\"], [0.2222222222222222, \"#7201a8\"], [0.3333333333333333, \"#9c179e\"], [0.4444444444444444, \"#bd3786\"], [0.5555555555555556, \"#d8576b\"], [0.6666666666666666, \"#ed7953\"], [0.7777777777777778, \"#fb9f3a\"], [0.8888888888888888, \"#fdca26\"], [1.0, \"#f0f921\"]], \"type\": \"histogram2dcontour\"}], \"mesh3d\": [{\"colorbar\": {\"outlinewidth\": 0, \"ticks\": \"\"}, \"type\": \"mesh3d\"}], \"parcoords\": [{\"line\": {\"colorbar\": {\"outlinewidth\": 0, \"ticks\": \"\"}}, \"type\": \"parcoords\"}], \"pie\": [{\"automargin\": true, \"type\": \"pie\"}], \"scatter\": [{\"marker\": {\"colorbar\": {\"outlinewidth\": 0, \"ticks\": \"\"}}, \"type\": \"scatter\"}], \"scatter3d\": [{\"line\": {\"colorbar\": {\"outlinewidth\": 0, \"ticks\": \"\"}}, \"marker\": {\"colorbar\": {\"outlinewidth\": 0, \"ticks\": \"\"}}, \"type\": \"scatter3d\"}], \"scattercarpet\": [{\"marker\": {\"colorbar\": {\"outlinewidth\": 0, \"ticks\": \"\"}}, \"type\": \"scattercarpet\"}], \"scattergeo\": [{\"marker\": {\"colorbar\": {\"outlinewidth\": 0, \"ticks\": \"\"}}, \"type\": \"scattergeo\"}], \"scattergl\": [{\"marker\": {\"colorbar\": {\"outlinewidth\": 0, \"ticks\": \"\"}}, \"type\": \"scattergl\"}], \"scattermapbox\": [{\"marker\": {\"colorbar\": {\"outlinewidth\": 0, \"ticks\": \"\"}}, \"type\": \"scattermapbox\"}], \"scatterpolar\": [{\"marker\": {\"colorbar\": {\"outlinewidth\": 0, \"ticks\": \"\"}}, \"type\": \"scatterpolar\"}], \"scatterpolargl\": [{\"marker\": {\"colorbar\": {\"outlinewidth\": 0, \"ticks\": \"\"}}, \"type\": \"scatterpolargl\"}], \"scatterternary\": [{\"marker\": {\"colorbar\": {\"outlinewidth\": 0, \"ticks\": \"\"}}, \"type\": \"scatterternary\"}], \"surface\": [{\"colorbar\": {\"outlinewidth\": 0, \"ticks\": \"\"}, \"colorscale\": [[0.0, \"#0d0887\"], [0.1111111111111111, \"#46039f\"], [0.2222222222222222, \"#7201a8\"], [0.3333333333333333, \"#9c179e\"], [0.4444444444444444, \"#bd3786\"], [0.5555555555555556, \"#d8576b\"], [0.6666666666666666, \"#ed7953\"], [0.7777777777777778, \"#fb9f3a\"], [0.8888888888888888, \"#fdca26\"], [1.0, \"#f0f921\"]], \"type\": \"surface\"}], \"table\": [{\"cells\": {\"fill\": {\"color\": \"#EBF0F8\"}, \"line\": {\"color\": \"white\"}}, \"header\": {\"fill\": {\"color\": \"#C8D4E3\"}, \"line\": {\"color\": \"white\"}}, \"type\": \"table\"}]}, \"layout\": {\"annotationdefaults\": {\"arrowcolor\": \"#2a3f5f\", \"arrowhead\": 0, \"arrowwidth\": 1}, \"coloraxis\": {\"colorbar\": {\"outlinewidth\": 0, \"ticks\": \"\"}}, \"colorscale\": {\"diverging\": [[0, \"#8e0152\"], [0.1, \"#c51b7d\"], [0.2, \"#de77ae\"], [0.3, \"#f1b6da\"], [0.4, \"#fde0ef\"], [0.5, \"#f7f7f7\"], [0.6, \"#e6f5d0\"], [0.7, \"#b8e186\"], [0.8, \"#7fbc41\"], [0.9, \"#4d9221\"], [1, \"#276419\"]], \"sequential\": [[0.0, \"#0d0887\"], [0.1111111111111111, \"#46039f\"], [0.2222222222222222, \"#7201a8\"], [0.3333333333333333, \"#9c179e\"], [0.4444444444444444, \"#bd3786\"], [0.5555555555555556, \"#d8576b\"], [0.6666666666666666, \"#ed7953\"], [0.7777777777777778, \"#fb9f3a\"], [0.8888888888888888, \"#fdca26\"], [1.0, \"#f0f921\"]], \"sequentialminus\": [[0.0, \"#0d0887\"], [0.1111111111111111, \"#46039f\"], [0.2222222222222222, \"#7201a8\"], [0.3333333333333333, \"#9c179e\"], [0.4444444444444444, \"#bd3786\"], [0.5555555555555556, \"#d8576b\"], [0.6666666666666666, \"#ed7953\"], [0.7777777777777778, \"#fb9f3a\"], [0.8888888888888888, \"#fdca26\"], [1.0, \"#f0f921\"]]}, \"colorway\": [\"#636efa\", \"#EF553B\", \"#00cc96\", \"#ab63fa\", \"#FFA15A\", \"#19d3f3\", \"#FF6692\", \"#B6E880\", \"#FF97FF\", \"#FECB52\"], \"font\": {\"color\": \"#2a3f5f\"}, \"geo\": {\"bgcolor\": \"white\", \"lakecolor\": \"white\", \"landcolor\": \"#E5ECF6\", \"showlakes\": true, \"showland\": true, \"subunitcolor\": \"white\"}, \"hoverlabel\": {\"align\": \"left\"}, \"hovermode\": \"closest\", \"mapbox\": {\"style\": \"light\"}, \"paper_bgcolor\": \"white\", \"plot_bgcolor\": \"#E5ECF6\", \"polar\": {\"angularaxis\": {\"gridcolor\": \"white\", \"linecolor\": \"white\", \"ticks\": \"\"}, \"bgcolor\": \"#E5ECF6\", \"radialaxis\": {\"gridcolor\": \"white\", \"linecolor\": \"white\", \"ticks\": \"\"}}, \"scene\": {\"xaxis\": {\"backgroundcolor\": \"#E5ECF6\", \"gridcolor\": \"white\", \"gridwidth\": 2, \"linecolor\": \"white\", \"showbackground\": true, \"ticks\": \"\", \"zerolinecolor\": \"white\"}, \"yaxis\": {\"backgroundcolor\": \"#E5ECF6\", \"gridcolor\": \"white\", \"gridwidth\": 2, \"linecolor\": \"white\", \"showbackground\": true, \"ticks\": \"\", \"zerolinecolor\": \"white\"}, \"zaxis\": {\"backgroundcolor\": \"#E5ECF6\", \"gridcolor\": \"white\", \"gridwidth\": 2, \"linecolor\": \"white\", \"showbackground\": true, \"ticks\": \"\", \"zerolinecolor\": \"white\"}}, \"shapedefaults\": {\"line\": {\"color\": \"#2a3f5f\"}}, \"ternary\": {\"aaxis\": {\"gridcolor\": \"white\", \"linecolor\": \"white\", \"ticks\": \"\"}, \"baxis\": {\"gridcolor\": \"white\", \"linecolor\": \"white\", \"ticks\": \"\"}, \"bgcolor\": \"#E5ECF6\", \"caxis\": {\"gridcolor\": \"white\", \"linecolor\": \"white\", \"ticks\": \"\"}}, \"title\": {\"x\": 0.05}, \"xaxis\": {\"automargin\": true, \"gridcolor\": \"white\", \"linecolor\": \"white\", \"ticks\": \"\", \"title\": {\"standoff\": 15}, \"zerolinecolor\": \"white\", \"zerolinewidth\": 2}, \"yaxis\": {\"automargin\": true, \"gridcolor\": \"white\", \"linecolor\": \"white\", \"ticks\": \"\", \"title\": {\"standoff\": 15}, \"zerolinecolor\": \"white\", \"zerolinewidth\": 2}}}, \"title\": {\"text\": \"Nepal ladder score over the years\"}, \"xaxis\": {\"anchor\": \"y\", \"domain\": [0.0, 1.0], \"title\": {\"text\": \"year\"}}, \"yaxis\": {\"anchor\": \"x\", \"domain\": [0.0, 1.0], \"title\": {\"text\": \"Life Ladder\"}}},\n",
              "                        {\"responsive\": true}\n",
              "                    ).then(function(){\n",
              "                            \n",
              "var gd = document.getElementById('38932abd-f8df-4dea-9eda-849c4100cf40');\n",
              "var x = new MutationObserver(function (mutations, observer) {{\n",
              "        var display = window.getComputedStyle(gd).display;\n",
              "        if (!display || display === 'none') {{\n",
              "            console.log([gd, 'removed!']);\n",
              "            Plotly.purge(gd);\n",
              "            observer.disconnect();\n",
              "        }}\n",
              "}});\n",
              "\n",
              "// Listen for the removal of the full notebook cells\n",
              "var notebookContainer = gd.closest('#notebook-container');\n",
              "if (notebookContainer) {{\n",
              "    x.observe(notebookContainer, {childList: true});\n",
              "}}\n",
              "\n",
              "// Listen for the clearing of the current output cell\n",
              "var outputEl = gd.closest('.output');\n",
              "if (outputEl) {{\n",
              "    x.observe(outputEl, {childList: true});\n",
              "}}\n",
              "\n",
              "                        })\n",
              "                };\n",
              "                \n",
              "            </script>\n",
              "        </div>\n",
              "</body>\n",
              "</html>"
            ]
          },
          "metadata": {
            "tags": []
          }
        }
      ]
    },
    {
      "cell_type": "markdown",
      "metadata": {
        "id": "sgPeunGTuuIB"
      },
      "source": [
        "![Screenshot (69).png](data:image/png;base64,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)"
      ]
    },
    {
      "cell_type": "markdown",
      "metadata": {
        "id": "pOieMiZXu0gc"
      },
      "source": [
        "Nepal ladder score is unpredictable as some year it is increasing and some it is deacreasing.but in latest year, Nepal ladder score is more or less in range 5.2-5.5"
      ]
    },
    {
      "cell_type": "markdown",
      "metadata": {
        "id": "iuF_wRehvU3l"
      },
      "source": [
        "**Nepal Perceptions of corruption score over the years**"
      ]
    },
    {
      "cell_type": "code",
      "metadata": {
        "colab": {
          "base_uri": "https://localhost:8080/",
          "height": 542
        },
        "id": "ebklONTn9q5R",
        "outputId": "9895a7b7-1f9b-4f9c-c5e8-a88b236edec1"
      },
      "source": [
        "\n",
        "nepal['Perceptions of corruption']=nepal['Perceptions of corruption'].apply(lambda x:round(x,2))\n",
        "fig=px.line(data_frame=nepal,x='year',y='Perceptions of corruption',text='Perceptions of corruption',title='Nepal Perceptions of corruption score over the years')\n",
        "fig.update_traces(textposition='top center',texttemplate='%{text:.s}')\n",
        " \n",
        "fig.show()"
      ],
      "execution_count": null,
      "outputs": [
        {
          "output_type": "display_data",
          "data": {
            "text/html": [
              "<html>\n",
              "<head><meta charset=\"utf-8\" /></head>\n",
              "<body>\n",
              "    <div>\n",
              "            <script src=\"https://cdnjs.cloudflare.com/ajax/libs/mathjax/2.7.5/MathJax.js?config=TeX-AMS-MML_SVG\"></script><script type=\"text/javascript\">if (window.MathJax) {MathJax.Hub.Config({SVG: {font: \"STIX-Web\"}});}</script>\n",
              "                <script type=\"text/javascript\">window.PlotlyConfig = {MathJaxConfig: 'local'};</script>\n",
              "        <script src=\"https://cdn.plot.ly/plotly-latest.min.js\"></script>    \n",
              "            <div id=\"c859ad54-4f3f-4458-ae59-c3bbb8630d57\" class=\"plotly-graph-div\" style=\"height:525px; width:100%;\"></div>\n",
              "            <script type=\"text/javascript\">\n",
              "                \n",
              "                    window.PLOTLYENV=window.PLOTLYENV || {};\n",
              "                    \n",
              "                if (document.getElementById(\"c859ad54-4f3f-4458-ae59-c3bbb8630d57\")) {\n",
              "                    Plotly.newPlot(\n",
              "                        'c859ad54-4f3f-4458-ae59-c3bbb8630d57',\n",
              "                        [{\"hoverlabel\": {\"namelength\": 0}, \"hovertemplate\": \"year=%{x}<br>Perceptions of corruption=%{text}\", \"legendgroup\": \"\", \"line\": {\"color\": \"#636efa\", \"dash\": \"solid\"}, \"mode\": \"lines+markers+text\", \"name\": \"\", \"showlegend\": false, \"text\": [0.9, 0.89, 0.9, 0.95, 0.91, 0.94, 0.88, 0.88, 0.84, 0.82, 0.82, 0.77, 0.74, 0.71, 0.73], \"textposition\": \"top center\", \"texttemplate\": \"%{text:.s}\", \"type\": \"scatter\", \"x\": [2006, 2007, 2008, 2009, 2010, 2011, 2012, 2013, 2014, 2015, 2016, 2017, 2018, 2019, 2021], \"xaxis\": \"x\", \"y\": [0.9, 0.89, 0.9, 0.95, 0.91, 0.94, 0.88, 0.88, 0.84, 0.82, 0.82, 0.77, 0.74, 0.71, 0.73], \"yaxis\": \"y\"}],\n",
              "                        {\"legend\": {\"tracegroupgap\": 0}, \"template\": {\"data\": {\"bar\": [{\"error_x\": {\"color\": \"#2a3f5f\"}, \"error_y\": {\"color\": \"#2a3f5f\"}, \"marker\": {\"line\": {\"color\": \"#E5ECF6\", \"width\": 0.5}}, \"type\": \"bar\"}], \"barpolar\": [{\"marker\": {\"line\": {\"color\": \"#E5ECF6\", \"width\": 0.5}}, \"type\": \"barpolar\"}], \"carpet\": [{\"aaxis\": {\"endlinecolor\": \"#2a3f5f\", \"gridcolor\": \"white\", \"linecolor\": \"white\", \"minorgridcolor\": \"white\", \"startlinecolor\": \"#2a3f5f\"}, \"baxis\": {\"endlinecolor\": \"#2a3f5f\", \"gridcolor\": \"white\", \"linecolor\": \"white\", \"minorgridcolor\": \"white\", \"startlinecolor\": \"#2a3f5f\"}, \"type\": \"carpet\"}], \"choropleth\": [{\"colorbar\": {\"outlinewidth\": 0, \"ticks\": \"\"}, \"type\": \"choropleth\"}], \"contour\": [{\"colorbar\": {\"outlinewidth\": 0, \"ticks\": \"\"}, \"colorscale\": [[0.0, \"#0d0887\"], [0.1111111111111111, \"#46039f\"], [0.2222222222222222, \"#7201a8\"], [0.3333333333333333, \"#9c179e\"], [0.4444444444444444, \"#bd3786\"], [0.5555555555555556, \"#d8576b\"], [0.6666666666666666, \"#ed7953\"], [0.7777777777777778, \"#fb9f3a\"], [0.8888888888888888, \"#fdca26\"], [1.0, \"#f0f921\"]], \"type\": \"contour\"}], \"contourcarpet\": [{\"colorbar\": {\"outlinewidth\": 0, \"ticks\": \"\"}, \"type\": \"contourcarpet\"}], \"heatmap\": [{\"colorbar\": {\"outlinewidth\": 0, \"ticks\": \"\"}, \"colorscale\": [[0.0, \"#0d0887\"], [0.1111111111111111, \"#46039f\"], [0.2222222222222222, \"#7201a8\"], [0.3333333333333333, \"#9c179e\"], [0.4444444444444444, \"#bd3786\"], [0.5555555555555556, \"#d8576b\"], [0.6666666666666666, \"#ed7953\"], [0.7777777777777778, \"#fb9f3a\"], [0.8888888888888888, \"#fdca26\"], [1.0, \"#f0f921\"]], \"type\": \"heatmap\"}], \"heatmapgl\": [{\"colorbar\": {\"outlinewidth\": 0, \"ticks\": \"\"}, \"colorscale\": [[0.0, \"#0d0887\"], [0.1111111111111111, \"#46039f\"], [0.2222222222222222, \"#7201a8\"], [0.3333333333333333, \"#9c179e\"], [0.4444444444444444, \"#bd3786\"], [0.5555555555555556, \"#d8576b\"], [0.6666666666666666, \"#ed7953\"], [0.7777777777777778, \"#fb9f3a\"], [0.8888888888888888, \"#fdca26\"], [1.0, \"#f0f921\"]], \"type\": \"heatmapgl\"}], \"histogram\": [{\"marker\": {\"colorbar\": {\"outlinewidth\": 0, \"ticks\": \"\"}}, \"type\": \"histogram\"}], \"histogram2d\": [{\"colorbar\": {\"outlinewidth\": 0, \"ticks\": \"\"}, \"colorscale\": [[0.0, \"#0d0887\"], [0.1111111111111111, \"#46039f\"], [0.2222222222222222, \"#7201a8\"], [0.3333333333333333, \"#9c179e\"], [0.4444444444444444, \"#bd3786\"], [0.5555555555555556, \"#d8576b\"], [0.6666666666666666, \"#ed7953\"], [0.7777777777777778, \"#fb9f3a\"], [0.8888888888888888, \"#fdca26\"], [1.0, \"#f0f921\"]], \"type\": \"histogram2d\"}], \"histogram2dcontour\": [{\"colorbar\": {\"outlinewidth\": 0, \"ticks\": \"\"}, \"colorscale\": [[0.0, \"#0d0887\"], [0.1111111111111111, \"#46039f\"], [0.2222222222222222, \"#7201a8\"], [0.3333333333333333, \"#9c179e\"], [0.4444444444444444, \"#bd3786\"], [0.5555555555555556, \"#d8576b\"], [0.6666666666666666, \"#ed7953\"], [0.7777777777777778, \"#fb9f3a\"], [0.8888888888888888, \"#fdca26\"], [1.0, \"#f0f921\"]], \"type\": \"histogram2dcontour\"}], \"mesh3d\": [{\"colorbar\": {\"outlinewidth\": 0, \"ticks\": \"\"}, \"type\": \"mesh3d\"}], \"parcoords\": [{\"line\": {\"colorbar\": {\"outlinewidth\": 0, \"ticks\": \"\"}}, \"type\": \"parcoords\"}], \"pie\": [{\"automargin\": true, \"type\": \"pie\"}], \"scatter\": [{\"marker\": {\"colorbar\": {\"outlinewidth\": 0, \"ticks\": \"\"}}, \"type\": \"scatter\"}], \"scatter3d\": [{\"line\": {\"colorbar\": {\"outlinewidth\": 0, \"ticks\": \"\"}}, \"marker\": {\"colorbar\": {\"outlinewidth\": 0, \"ticks\": \"\"}}, \"type\": \"scatter3d\"}], \"scattercarpet\": [{\"marker\": {\"colorbar\": {\"outlinewidth\": 0, \"ticks\": \"\"}}, \"type\": \"scattercarpet\"}], \"scattergeo\": [{\"marker\": {\"colorbar\": {\"outlinewidth\": 0, \"ticks\": \"\"}}, \"type\": \"scattergeo\"}], \"scattergl\": [{\"marker\": {\"colorbar\": {\"outlinewidth\": 0, \"ticks\": \"\"}}, \"type\": \"scattergl\"}], \"scattermapbox\": [{\"marker\": {\"colorbar\": {\"outlinewidth\": 0, \"ticks\": \"\"}}, \"type\": \"scattermapbox\"}], \"scatterpolar\": [{\"marker\": {\"colorbar\": {\"outlinewidth\": 0, \"ticks\": \"\"}}, \"type\": \"scatterpolar\"}], \"scatterpolargl\": [{\"marker\": {\"colorbar\": {\"outlinewidth\": 0, \"ticks\": \"\"}}, \"type\": \"scatterpolargl\"}], \"scatterternary\": [{\"marker\": {\"colorbar\": {\"outlinewidth\": 0, \"ticks\": \"\"}}, \"type\": \"scatterternary\"}], \"surface\": [{\"colorbar\": {\"outlinewidth\": 0, \"ticks\": \"\"}, \"colorscale\": [[0.0, \"#0d0887\"], [0.1111111111111111, \"#46039f\"], [0.2222222222222222, \"#7201a8\"], [0.3333333333333333, \"#9c179e\"], [0.4444444444444444, \"#bd3786\"], [0.5555555555555556, \"#d8576b\"], [0.6666666666666666, \"#ed7953\"], [0.7777777777777778, \"#fb9f3a\"], [0.8888888888888888, \"#fdca26\"], [1.0, \"#f0f921\"]], \"type\": \"surface\"}], \"table\": [{\"cells\": {\"fill\": {\"color\": \"#EBF0F8\"}, \"line\": {\"color\": \"white\"}}, \"header\": {\"fill\": {\"color\": \"#C8D4E3\"}, \"line\": {\"color\": \"white\"}}, \"type\": \"table\"}]}, \"layout\": {\"annotationdefaults\": {\"arrowcolor\": \"#2a3f5f\", \"arrowhead\": 0, \"arrowwidth\": 1}, \"coloraxis\": {\"colorbar\": {\"outlinewidth\": 0, \"ticks\": \"\"}}, \"colorscale\": {\"diverging\": [[0, \"#8e0152\"], [0.1, \"#c51b7d\"], [0.2, \"#de77ae\"], [0.3, \"#f1b6da\"], [0.4, \"#fde0ef\"], [0.5, \"#f7f7f7\"], [0.6, \"#e6f5d0\"], [0.7, \"#b8e186\"], [0.8, \"#7fbc41\"], [0.9, \"#4d9221\"], [1, \"#276419\"]], \"sequential\": [[0.0, \"#0d0887\"], [0.1111111111111111, \"#46039f\"], [0.2222222222222222, \"#7201a8\"], [0.3333333333333333, \"#9c179e\"], [0.4444444444444444, \"#bd3786\"], [0.5555555555555556, \"#d8576b\"], [0.6666666666666666, \"#ed7953\"], [0.7777777777777778, \"#fb9f3a\"], [0.8888888888888888, \"#fdca26\"], [1.0, \"#f0f921\"]], \"sequentialminus\": [[0.0, \"#0d0887\"], [0.1111111111111111, \"#46039f\"], [0.2222222222222222, \"#7201a8\"], [0.3333333333333333, \"#9c179e\"], [0.4444444444444444, \"#bd3786\"], [0.5555555555555556, \"#d8576b\"], [0.6666666666666666, \"#ed7953\"], [0.7777777777777778, \"#fb9f3a\"], [0.8888888888888888, \"#fdca26\"], [1.0, \"#f0f921\"]]}, \"colorway\": [\"#636efa\", \"#EF553B\", \"#00cc96\", \"#ab63fa\", \"#FFA15A\", \"#19d3f3\", \"#FF6692\", \"#B6E880\", \"#FF97FF\", \"#FECB52\"], \"font\": {\"color\": \"#2a3f5f\"}, \"geo\": {\"bgcolor\": \"white\", \"lakecolor\": \"white\", \"landcolor\": \"#E5ECF6\", \"showlakes\": true, \"showland\": true, \"subunitcolor\": \"white\"}, \"hoverlabel\": {\"align\": \"left\"}, \"hovermode\": \"closest\", \"mapbox\": {\"style\": \"light\"}, \"paper_bgcolor\": \"white\", \"plot_bgcolor\": \"#E5ECF6\", \"polar\": {\"angularaxis\": {\"gridcolor\": \"white\", \"linecolor\": \"white\", \"ticks\": \"\"}, \"bgcolor\": \"#E5ECF6\", \"radialaxis\": {\"gridcolor\": \"white\", \"linecolor\": \"white\", \"ticks\": \"\"}}, \"scene\": {\"xaxis\": {\"backgroundcolor\": \"#E5ECF6\", \"gridcolor\": \"white\", \"gridwidth\": 2, \"linecolor\": \"white\", \"showbackground\": true, \"ticks\": \"\", \"zerolinecolor\": \"white\"}, \"yaxis\": {\"backgroundcolor\": \"#E5ECF6\", \"gridcolor\": \"white\", \"gridwidth\": 2, \"linecolor\": \"white\", \"showbackground\": true, \"ticks\": \"\", \"zerolinecolor\": \"white\"}, \"zaxis\": {\"backgroundcolor\": \"#E5ECF6\", \"gridcolor\": \"white\", \"gridwidth\": 2, \"linecolor\": \"white\", \"showbackground\": true, \"ticks\": \"\", \"zerolinecolor\": \"white\"}}, \"shapedefaults\": {\"line\": {\"color\": \"#2a3f5f\"}}, \"ternary\": {\"aaxis\": {\"gridcolor\": \"white\", \"linecolor\": \"white\", \"ticks\": \"\"}, \"baxis\": {\"gridcolor\": \"white\", \"linecolor\": \"white\", \"ticks\": \"\"}, \"bgcolor\": \"#E5ECF6\", \"caxis\": {\"gridcolor\": \"white\", \"linecolor\": \"white\", \"ticks\": \"\"}}, \"title\": {\"x\": 0.05}, \"xaxis\": {\"automargin\": true, \"gridcolor\": \"white\", \"linecolor\": \"white\", \"ticks\": \"\", \"title\": {\"standoff\": 15}, \"zerolinecolor\": \"white\", \"zerolinewidth\": 2}, \"yaxis\": {\"automargin\": true, \"gridcolor\": \"white\", \"linecolor\": \"white\", \"ticks\": \"\", \"title\": {\"standoff\": 15}, \"zerolinecolor\": \"white\", \"zerolinewidth\": 2}}}, \"title\": {\"text\": \"Nepal Perceptions of corruption score over the years\"}, \"xaxis\": {\"anchor\": \"y\", \"domain\": [0.0, 1.0], \"title\": {\"text\": \"year\"}}, \"yaxis\": {\"anchor\": \"x\", \"domain\": [0.0, 1.0], \"title\": {\"text\": \"Perceptions of corruption\"}}},\n",
              "                        {\"responsive\": true}\n",
              "                    ).then(function(){\n",
              "                            \n",
              "var gd = document.getElementById('c859ad54-4f3f-4458-ae59-c3bbb8630d57');\n",
              "var x = new MutationObserver(function (mutations, observer) {{\n",
              "        var display = window.getComputedStyle(gd).display;\n",
              "        if (!display || display === 'none') {{\n",
              "            console.log([gd, 'removed!']);\n",
              "            Plotly.purge(gd);\n",
              "            observer.disconnect();\n",
              "        }}\n",
              "}});\n",
              "\n",
              "// Listen for the removal of the full notebook cells\n",
              "var notebookContainer = gd.closest('#notebook-container');\n",
              "if (notebookContainer) {{\n",
              "    x.observe(notebookContainer, {childList: true});\n",
              "}}\n",
              "\n",
              "// Listen for the clearing of the current output cell\n",
              "var outputEl = gd.closest('.output');\n",
              "if (outputEl) {{\n",
              "    x.observe(outputEl, {childList: true});\n",
              "}}\n",
              "\n",
              "                        })\n",
              "                };\n",
              "                \n",
              "            </script>\n",
              "        </div>\n",
              "</body>\n",
              "</html>"
            ]
          },
          "metadata": {
            "tags": []
          }
        }
      ]
    },
    {
      "cell_type": "markdown",
      "metadata": {
        "id": "9mCfNoaMvY1t"
      },
      "source": [
        "![Screenshot (71).png](data:image/png;base64,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)"
      ]
    },
    {
      "cell_type": "markdown",
      "metadata": {
        "id": "vxghvBcMv0_U"
      },
      "source": [
        "Nepal's Perceptions of corruption score over the years in decreasing uniformly over the years"
      ]
    },
    {
      "cell_type": "markdown",
      "metadata": {
        "id": "fz2JHC05wIe7"
      },
      "source": [
        "**Nepal Freedom to make life choices score over the years**"
      ]
    },
    {
      "cell_type": "code",
      "metadata": {
        "colab": {
          "base_uri": "https://localhost:8080/",
          "height": 542
        },
        "id": "UyTPH0wK9q7V",
        "outputId": "67944e81-915e-4092-ec6a-fc5c36702a3f"
      },
      "source": [
        "nepal['Freedom to make life choices']=nepal['Freedom to make life choices'].apply(lambda x:round(x,2))\n",
        "fig=px.line(data_frame=nepal,x='year',y='Freedom to make life choices',text='Freedom to make life choices',title='Nepal Freedom to make life choices score over the years')\n",
        "fig.update_traces(textposition='top center',texttemplate='%{text:.s}')\n",
        " \n",
        "fig.show()"
      ],
      "execution_count": null,
      "outputs": [
        {
          "output_type": "display_data",
          "data": {
            "text/html": [
              "<html>\n",
              "<head><meta charset=\"utf-8\" /></head>\n",
              "<body>\n",
              "    <div>\n",
              "            <script src=\"https://cdnjs.cloudflare.com/ajax/libs/mathjax/2.7.5/MathJax.js?config=TeX-AMS-MML_SVG\"></script><script type=\"text/javascript\">if (window.MathJax) {MathJax.Hub.Config({SVG: {font: \"STIX-Web\"}});}</script>\n",
              "                <script type=\"text/javascript\">window.PlotlyConfig = {MathJaxConfig: 'local'};</script>\n",
              "        <script src=\"https://cdn.plot.ly/plotly-latest.min.js\"></script>    \n",
              "            <div id=\"53ce16ed-2c21-4046-8809-426d63581731\" class=\"plotly-graph-div\" style=\"height:525px; width:100%;\"></div>\n",
              "            <script type=\"text/javascript\">\n",
              "                \n",
              "                    window.PLOTLYENV=window.PLOTLYENV || {};\n",
              "                    \n",
              "                if (document.getElementById(\"53ce16ed-2c21-4046-8809-426d63581731\")) {\n",
              "                    Plotly.newPlot(\n",
              "                        '53ce16ed-2c21-4046-8809-426d63581731',\n",
              "                        [{\"hoverlabel\": {\"namelength\": 0}, \"hovertemplate\": \"year=%{x}<br>Freedom to make life choices=%{text}\", \"legendgroup\": \"\", \"line\": {\"color\": \"#636efa\", \"dash\": \"solid\"}, \"mode\": \"lines+markers+text\", \"name\": \"\", \"showlegend\": false, \"text\": [0.69, 0.41, 0.62, 0.62, 0.52, 0.53, 0.64, 0.72, 0.71, 0.76, 0.84, 0.84, 0.77, 0.79, 0.78], \"textposition\": \"top center\", \"texttemplate\": \"%{text:.s}\", \"type\": \"scatter\", \"x\": [2006, 2007, 2008, 2009, 2010, 2011, 2012, 2013, 2014, 2015, 2016, 2017, 2018, 2019, 2021], \"xaxis\": \"x\", \"y\": [0.69, 0.41, 0.62, 0.62, 0.52, 0.53, 0.64, 0.72, 0.71, 0.76, 0.84, 0.84, 0.77, 0.79, 0.78], \"yaxis\": \"y\"}],\n",
              "                        {\"legend\": {\"tracegroupgap\": 0}, \"template\": {\"data\": {\"bar\": [{\"error_x\": {\"color\": \"#2a3f5f\"}, \"error_y\": {\"color\": \"#2a3f5f\"}, \"marker\": {\"line\": {\"color\": \"#E5ECF6\", \"width\": 0.5}}, \"type\": \"bar\"}], \"barpolar\": [{\"marker\": {\"line\": {\"color\": \"#E5ECF6\", \"width\": 0.5}}, \"type\": \"barpolar\"}], \"carpet\": [{\"aaxis\": {\"endlinecolor\": \"#2a3f5f\", \"gridcolor\": \"white\", \"linecolor\": \"white\", \"minorgridcolor\": \"white\", \"startlinecolor\": \"#2a3f5f\"}, \"baxis\": {\"endlinecolor\": \"#2a3f5f\", \"gridcolor\": \"white\", \"linecolor\": \"white\", \"minorgridcolor\": \"white\", \"startlinecolor\": \"#2a3f5f\"}, \"type\": \"carpet\"}], \"choropleth\": [{\"colorbar\": {\"outlinewidth\": 0, \"ticks\": \"\"}, \"type\": \"choropleth\"}], \"contour\": [{\"colorbar\": {\"outlinewidth\": 0, \"ticks\": \"\"}, \"colorscale\": [[0.0, \"#0d0887\"], [0.1111111111111111, \"#46039f\"], [0.2222222222222222, \"#7201a8\"], [0.3333333333333333, \"#9c179e\"], [0.4444444444444444, \"#bd3786\"], [0.5555555555555556, \"#d8576b\"], [0.6666666666666666, \"#ed7953\"], [0.7777777777777778, \"#fb9f3a\"], [0.8888888888888888, \"#fdca26\"], [1.0, \"#f0f921\"]], \"type\": \"contour\"}], \"contourcarpet\": [{\"colorbar\": {\"outlinewidth\": 0, \"ticks\": \"\"}, \"type\": \"contourcarpet\"}], \"heatmap\": [{\"colorbar\": {\"outlinewidth\": 0, \"ticks\": \"\"}, \"colorscale\": [[0.0, \"#0d0887\"], [0.1111111111111111, \"#46039f\"], [0.2222222222222222, \"#7201a8\"], [0.3333333333333333, \"#9c179e\"], [0.4444444444444444, \"#bd3786\"], [0.5555555555555556, \"#d8576b\"], [0.6666666666666666, \"#ed7953\"], [0.7777777777777778, \"#fb9f3a\"], [0.8888888888888888, \"#fdca26\"], [1.0, \"#f0f921\"]], \"type\": \"heatmap\"}], \"heatmapgl\": [{\"colorbar\": {\"outlinewidth\": 0, \"ticks\": \"\"}, \"colorscale\": [[0.0, \"#0d0887\"], [0.1111111111111111, \"#46039f\"], [0.2222222222222222, \"#7201a8\"], [0.3333333333333333, \"#9c179e\"], [0.4444444444444444, \"#bd3786\"], [0.5555555555555556, \"#d8576b\"], [0.6666666666666666, \"#ed7953\"], [0.7777777777777778, \"#fb9f3a\"], [0.8888888888888888, \"#fdca26\"], [1.0, \"#f0f921\"]], \"type\": \"heatmapgl\"}], \"histogram\": [{\"marker\": {\"colorbar\": {\"outlinewidth\": 0, \"ticks\": \"\"}}, \"type\": \"histogram\"}], \"histogram2d\": [{\"colorbar\": {\"outlinewidth\": 0, \"ticks\": \"\"}, \"colorscale\": [[0.0, \"#0d0887\"], [0.1111111111111111, \"#46039f\"], [0.2222222222222222, \"#7201a8\"], [0.3333333333333333, \"#9c179e\"], [0.4444444444444444, \"#bd3786\"], [0.5555555555555556, \"#d8576b\"], [0.6666666666666666, \"#ed7953\"], [0.7777777777777778, \"#fb9f3a\"], [0.8888888888888888, \"#fdca26\"], [1.0, \"#f0f921\"]], \"type\": \"histogram2d\"}], \"histogram2dcontour\": [{\"colorbar\": {\"outlinewidth\": 0, \"ticks\": \"\"}, \"colorscale\": [[0.0, \"#0d0887\"], [0.1111111111111111, \"#46039f\"], [0.2222222222222222, \"#7201a8\"], [0.3333333333333333, \"#9c179e\"], [0.4444444444444444, \"#bd3786\"], [0.5555555555555556, \"#d8576b\"], [0.6666666666666666, \"#ed7953\"], [0.7777777777777778, \"#fb9f3a\"], [0.8888888888888888, \"#fdca26\"], [1.0, \"#f0f921\"]], \"type\": \"histogram2dcontour\"}], \"mesh3d\": [{\"colorbar\": {\"outlinewidth\": 0, \"ticks\": \"\"}, \"type\": \"mesh3d\"}], \"parcoords\": [{\"line\": {\"colorbar\": {\"outlinewidth\": 0, \"ticks\": \"\"}}, \"type\": \"parcoords\"}], \"pie\": [{\"automargin\": true, \"type\": \"pie\"}], \"scatter\": [{\"marker\": {\"colorbar\": {\"outlinewidth\": 0, \"ticks\": \"\"}}, \"type\": \"scatter\"}], \"scatter3d\": [{\"line\": {\"colorbar\": {\"outlinewidth\": 0, \"ticks\": \"\"}}, \"marker\": {\"colorbar\": {\"outlinewidth\": 0, \"ticks\": \"\"}}, \"type\": \"scatter3d\"}], \"scattercarpet\": [{\"marker\": {\"colorbar\": {\"outlinewidth\": 0, \"ticks\": \"\"}}, \"type\": \"scattercarpet\"}], \"scattergeo\": [{\"marker\": {\"colorbar\": {\"outlinewidth\": 0, \"ticks\": \"\"}}, \"type\": \"scattergeo\"}], \"scattergl\": [{\"marker\": {\"colorbar\": {\"outlinewidth\": 0, \"ticks\": \"\"}}, \"type\": \"scattergl\"}], \"scattermapbox\": [{\"marker\": {\"colorbar\": {\"outlinewidth\": 0, \"ticks\": \"\"}}, \"type\": \"scattermapbox\"}], \"scatterpolar\": [{\"marker\": {\"colorbar\": {\"outlinewidth\": 0, \"ticks\": \"\"}}, \"type\": \"scatterpolar\"}], \"scatterpolargl\": [{\"marker\": {\"colorbar\": {\"outlinewidth\": 0, \"ticks\": \"\"}}, \"type\": \"scatterpolargl\"}], \"scatterternary\": [{\"marker\": {\"colorbar\": {\"outlinewidth\": 0, \"ticks\": \"\"}}, \"type\": \"scatterternary\"}], \"surface\": [{\"colorbar\": {\"outlinewidth\": 0, \"ticks\": \"\"}, \"colorscale\": [[0.0, \"#0d0887\"], [0.1111111111111111, \"#46039f\"], [0.2222222222222222, \"#7201a8\"], [0.3333333333333333, \"#9c179e\"], [0.4444444444444444, \"#bd3786\"], [0.5555555555555556, \"#d8576b\"], [0.6666666666666666, \"#ed7953\"], [0.7777777777777778, \"#fb9f3a\"], [0.8888888888888888, \"#fdca26\"], [1.0, \"#f0f921\"]], \"type\": \"surface\"}], \"table\": [{\"cells\": {\"fill\": {\"color\": \"#EBF0F8\"}, \"line\": {\"color\": \"white\"}}, \"header\": {\"fill\": {\"color\": \"#C8D4E3\"}, \"line\": {\"color\": \"white\"}}, \"type\": \"table\"}]}, \"layout\": {\"annotationdefaults\": {\"arrowcolor\": \"#2a3f5f\", \"arrowhead\": 0, \"arrowwidth\": 1}, \"coloraxis\": {\"colorbar\": {\"outlinewidth\": 0, \"ticks\": \"\"}}, \"colorscale\": {\"diverging\": [[0, \"#8e0152\"], [0.1, \"#c51b7d\"], [0.2, \"#de77ae\"], [0.3, \"#f1b6da\"], [0.4, \"#fde0ef\"], [0.5, \"#f7f7f7\"], [0.6, \"#e6f5d0\"], [0.7, \"#b8e186\"], [0.8, \"#7fbc41\"], [0.9, \"#4d9221\"], [1, \"#276419\"]], \"sequential\": [[0.0, \"#0d0887\"], [0.1111111111111111, \"#46039f\"], [0.2222222222222222, \"#7201a8\"], [0.3333333333333333, \"#9c179e\"], [0.4444444444444444, \"#bd3786\"], [0.5555555555555556, \"#d8576b\"], [0.6666666666666666, \"#ed7953\"], [0.7777777777777778, \"#fb9f3a\"], [0.8888888888888888, \"#fdca26\"], [1.0, \"#f0f921\"]], \"sequentialminus\": [[0.0, \"#0d0887\"], [0.1111111111111111, \"#46039f\"], [0.2222222222222222, \"#7201a8\"], [0.3333333333333333, \"#9c179e\"], [0.4444444444444444, \"#bd3786\"], [0.5555555555555556, \"#d8576b\"], [0.6666666666666666, \"#ed7953\"], [0.7777777777777778, \"#fb9f3a\"], [0.8888888888888888, \"#fdca26\"], [1.0, \"#f0f921\"]]}, \"colorway\": [\"#636efa\", \"#EF553B\", \"#00cc96\", \"#ab63fa\", \"#FFA15A\", \"#19d3f3\", \"#FF6692\", \"#B6E880\", \"#FF97FF\", \"#FECB52\"], \"font\": {\"color\": \"#2a3f5f\"}, \"geo\": {\"bgcolor\": \"white\", \"lakecolor\": \"white\", \"landcolor\": \"#E5ECF6\", \"showlakes\": true, \"showland\": true, \"subunitcolor\": \"white\"}, \"hoverlabel\": {\"align\": \"left\"}, \"hovermode\": \"closest\", \"mapbox\": {\"style\": \"light\"}, \"paper_bgcolor\": \"white\", \"plot_bgcolor\": \"#E5ECF6\", \"polar\": {\"angularaxis\": {\"gridcolor\": \"white\", \"linecolor\": \"white\", \"ticks\": \"\"}, \"bgcolor\": \"#E5ECF6\", \"radialaxis\": {\"gridcolor\": \"white\", \"linecolor\": \"white\", \"ticks\": \"\"}}, \"scene\": {\"xaxis\": {\"backgroundcolor\": \"#E5ECF6\", \"gridcolor\": \"white\", \"gridwidth\": 2, \"linecolor\": \"white\", \"showbackground\": true, \"ticks\": \"\", \"zerolinecolor\": \"white\"}, \"yaxis\": {\"backgroundcolor\": \"#E5ECF6\", \"gridcolor\": \"white\", \"gridwidth\": 2, \"linecolor\": \"white\", \"showbackground\": true, \"ticks\": \"\", \"zerolinecolor\": \"white\"}, \"zaxis\": {\"backgroundcolor\": \"#E5ECF6\", \"gridcolor\": \"white\", \"gridwidth\": 2, \"linecolor\": \"white\", \"showbackground\": true, \"ticks\": \"\", \"zerolinecolor\": \"white\"}}, \"shapedefaults\": {\"line\": {\"color\": \"#2a3f5f\"}}, \"ternary\": {\"aaxis\": {\"gridcolor\": \"white\", \"linecolor\": \"white\", \"ticks\": \"\"}, \"baxis\": {\"gridcolor\": \"white\", \"linecolor\": \"white\", \"ticks\": \"\"}, \"bgcolor\": \"#E5ECF6\", \"caxis\": {\"gridcolor\": \"white\", \"linecolor\": \"white\", \"ticks\": \"\"}}, \"title\": {\"x\": 0.05}, \"xaxis\": {\"automargin\": true, \"gridcolor\": \"white\", \"linecolor\": \"white\", \"ticks\": \"\", \"title\": {\"standoff\": 15}, \"zerolinecolor\": \"white\", \"zerolinewidth\": 2}, \"yaxis\": {\"automargin\": true, \"gridcolor\": \"white\", \"linecolor\": \"white\", \"ticks\": \"\", \"title\": {\"standoff\": 15}, \"zerolinecolor\": \"white\", \"zerolinewidth\": 2}}}, \"title\": {\"text\": \"Nepal Freedom to make life choices score over the years\"}, \"xaxis\": {\"anchor\": \"y\", \"domain\": [0.0, 1.0], \"title\": {\"text\": \"year\"}}, \"yaxis\": {\"anchor\": \"x\", \"domain\": [0.0, 1.0], \"title\": {\"text\": \"Freedom to make life choices\"}}},\n",
              "                        {\"responsive\": true}\n",
              "                    ).then(function(){\n",
              "                            \n",
              "var gd = document.getElementById('53ce16ed-2c21-4046-8809-426d63581731');\n",
              "var x = new MutationObserver(function (mutations, observer) {{\n",
              "        var display = window.getComputedStyle(gd).display;\n",
              "        if (!display || display === 'none') {{\n",
              "            console.log([gd, 'removed!']);\n",
              "            Plotly.purge(gd);\n",
              "            observer.disconnect();\n",
              "        }}\n",
              "}});\n",
              "\n",
              "// Listen for the removal of the full notebook cells\n",
              "var notebookContainer = gd.closest('#notebook-container');\n",
              "if (notebookContainer) {{\n",
              "    x.observe(notebookContainer, {childList: true});\n",
              "}}\n",
              "\n",
              "// Listen for the clearing of the current output cell\n",
              "var outputEl = gd.closest('.output');\n",
              "if (outputEl) {{\n",
              "    x.observe(outputEl, {childList: true});\n",
              "}}\n",
              "\n",
              "                        })\n",
              "                };\n",
              "                \n",
              "            </script>\n",
              "        </div>\n",
              "</body>\n",
              "</html>"
            ]
          },
          "metadata": {
            "tags": []
          }
        }
      ]
    },
    {
      "cell_type": "markdown",
      "metadata": {
        "id": "nVV-evOnwxtQ"
      },
      "source": [
        "![Screenshot (73).png](data:image/png;base64,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)"
      ]
    },
    {
      "cell_type": "markdown",
      "metadata": {
        "id": "sDSy4gfjw4fV"
      },
      "source": [
        "Nepal Freedom to make life choices score over the years is increasing uniformly overs the years"
      ]
    },
    {
      "cell_type": "code",
      "metadata": {
        "id": "3mqI6nUhOsPh",
        "colab": {
          "base_uri": "https://localhost:8080/",
          "height": 341
        },
        "outputId": "a564acb8-1e3e-4a0f-f7c2-093d58af5720"
      },
      "source": [
        "#happiness index\n",
        "final=pd.concat([df.loc[0:1],df_south])\n",
        "final"
      ],
      "execution_count": null,
      "outputs": [
        {
          "output_type": "execute_result",
          "data": {
            "text/html": [
              "<div>\n",
              "<style scoped>\n",
              "    .dataframe tbody tr th:only-of-type {\n",
              "        vertical-align: middle;\n",
              "    }\n",
              "\n",
              "    .dataframe tbody tr th {\n",
              "        vertical-align: top;\n",
              "    }\n",
              "\n",
              "    .dataframe thead th {\n",
              "        text-align: right;\n",
              "    }\n",
              "</style>\n",
              "<table border=\"1\" class=\"dataframe\">\n",
              "  <thead>\n",
              "    <tr style=\"text-align: right;\">\n",
              "      <th></th>\n",
              "      <th>Country name</th>\n",
              "      <th>Regional indicator</th>\n",
              "      <th>Ladder score</th>\n",
              "      <th>Logged GDP per capita</th>\n",
              "      <th>Social support</th>\n",
              "      <th>Healthy life expectancy</th>\n",
              "      <th>Freedom to make life choices</th>\n",
              "      <th>Generosity</th>\n",
              "      <th>Perceptions of corruption</th>\n",
              "      <th>Dystopia + residual</th>\n",
              "    </tr>\n",
              "  </thead>\n",
              "  <tbody>\n",
              "    <tr>\n",
              "      <th>0</th>\n",
              "      <td>Finland</td>\n",
              "      <td>Western Europe</td>\n",
              "      <td>7.842</td>\n",
              "      <td>10.775</td>\n",
              "      <td>0.954</td>\n",
              "      <td>72.000</td>\n",
              "      <td>0.949</td>\n",
              "      <td>-0.098</td>\n",
              "      <td>0.186</td>\n",
              "      <td>3.253</td>\n",
              "    </tr>\n",
              "    <tr>\n",
              "      <th>1</th>\n",
              "      <td>Denmark</td>\n",
              "      <td>Western Europe</td>\n",
              "      <td>7.620</td>\n",
              "      <td>10.933</td>\n",
              "      <td>0.954</td>\n",
              "      <td>72.700</td>\n",
              "      <td>0.946</td>\n",
              "      <td>0.030</td>\n",
              "      <td>0.179</td>\n",
              "      <td>2.868</td>\n",
              "    </tr>\n",
              "    <tr>\n",
              "      <th>59</th>\n",
              "      <td>Maldives</td>\n",
              "      <td>South Asia</td>\n",
              "      <td>5.198</td>\n",
              "      <td>9.826</td>\n",
              "      <td>0.913</td>\n",
              "      <td>70.600</td>\n",
              "      <td>0.854</td>\n",
              "      <td>0.024</td>\n",
              "      <td>0.825</td>\n",
              "      <td>1.520</td>\n",
              "    </tr>\n",
              "    <tr>\n",
              "      <th>78</th>\n",
              "      <td>Sri Lanka</td>\n",
              "      <td>South Asia</td>\n",
              "      <td>4.325</td>\n",
              "      <td>9.470</td>\n",
              "      <td>0.827</td>\n",
              "      <td>67.299</td>\n",
              "      <td>0.841</td>\n",
              "      <td>0.079</td>\n",
              "      <td>0.863</td>\n",
              "      <td>1.075</td>\n",
              "    </tr>\n",
              "    <tr>\n",
              "      <th>105</th>\n",
              "      <td>India</td>\n",
              "      <td>South Asia</td>\n",
              "      <td>3.819</td>\n",
              "      <td>8.755</td>\n",
              "      <td>0.603</td>\n",
              "      <td>60.633</td>\n",
              "      <td>0.893</td>\n",
              "      <td>0.089</td>\n",
              "      <td>0.774</td>\n",
              "      <td>1.405</td>\n",
              "    </tr>\n",
              "    <tr>\n",
              "      <th>115</th>\n",
              "      <td>Pakistan</td>\n",
              "      <td>South Asia</td>\n",
              "      <td>4.934</td>\n",
              "      <td>8.458</td>\n",
              "      <td>0.651</td>\n",
              "      <td>58.709</td>\n",
              "      <td>0.726</td>\n",
              "      <td>0.098</td>\n",
              "      <td>0.787</td>\n",
              "      <td>2.784</td>\n",
              "    </tr>\n",
              "    <tr>\n",
              "      <th>116</th>\n",
              "      <td>Bangladesh</td>\n",
              "      <td>South Asia</td>\n",
              "      <td>5.025</td>\n",
              "      <td>8.454</td>\n",
              "      <td>0.693</td>\n",
              "      <td>64.800</td>\n",
              "      <td>0.877</td>\n",
              "      <td>-0.041</td>\n",
              "      <td>0.682</td>\n",
              "      <td>2.427</td>\n",
              "    </tr>\n",
              "    <tr>\n",
              "      <th>121</th>\n",
              "      <td>Nepal</td>\n",
              "      <td>South Asia</td>\n",
              "      <td>5.269</td>\n",
              "      <td>8.120</td>\n",
              "      <td>0.774</td>\n",
              "      <td>64.233</td>\n",
              "      <td>0.782</td>\n",
              "      <td>0.152</td>\n",
              "      <td>0.727</td>\n",
              "      <td>2.642</td>\n",
              "    </tr>\n",
              "    <tr>\n",
              "      <th>132</th>\n",
              "      <td>Afghanistan</td>\n",
              "      <td>South Asia</td>\n",
              "      <td>2.523</td>\n",
              "      <td>7.695</td>\n",
              "      <td>0.463</td>\n",
              "      <td>52.493</td>\n",
              "      <td>0.382</td>\n",
              "      <td>-0.102</td>\n",
              "      <td>0.924</td>\n",
              "      <td>1.895</td>\n",
              "    </tr>\n",
              "  </tbody>\n",
              "</table>\n",
              "</div>"
            ],
            "text/plain": [
              "    Country name  ... Dystopia + residual\n",
              "0        Finland  ...               3.253\n",
              "1        Denmark  ...               2.868\n",
              "59      Maldives  ...               1.520\n",
              "78     Sri Lanka  ...               1.075\n",
              "105        India  ...               1.405\n",
              "115     Pakistan  ...               2.784\n",
              "116   Bangladesh  ...               2.427\n",
              "121        Nepal  ...               2.642\n",
              "132  Afghanistan  ...               1.895\n",
              "\n",
              "[9 rows x 10 columns]"
            ]
          },
          "metadata": {
            "tags": []
          },
          "execution_count": 152
        }
      ]
    },
    {
      "cell_type": "markdown",
      "metadata": {
        "id": "sbPQ1bVwxNsT"
      },
      "source": [
        "**World Happinees index**"
      ]
    },
    {
      "cell_type": "code",
      "metadata": {
        "id": "DlF-36s8OsSX",
        "colab": {
          "base_uri": "https://localhost:8080/",
          "height": 542
        },
        "outputId": "7ee11503-a560-424d-bc7a-e7d137f48239"
      },
      "source": [
        "px.bar(data_frame=final,x='Country name',text=final.index+1,y='Ladder score',title='rank according to happiness index ')"
      ],
      "execution_count": null,
      "outputs": [
        {
          "output_type": "display_data",
          "data": {
            "text/html": [
              "<html>\n",
              "<head><meta charset=\"utf-8\" /></head>\n",
              "<body>\n",
              "    <div>\n",
              "            <script src=\"https://cdnjs.cloudflare.com/ajax/libs/mathjax/2.7.5/MathJax.js?config=TeX-AMS-MML_SVG\"></script><script type=\"text/javascript\">if (window.MathJax) {MathJax.Hub.Config({SVG: {font: \"STIX-Web\"}});}</script>\n",
              "                <script type=\"text/javascript\">window.PlotlyConfig = {MathJaxConfig: 'local'};</script>\n",
              "        <script src=\"https://cdn.plot.ly/plotly-latest.min.js\"></script>    \n",
              "            <div id=\"e82b4d15-c132-4d41-ad2b-62cfc3db2a8f\" class=\"plotly-graph-div\" style=\"height:525px; width:100%;\"></div>\n",
              "            <script type=\"text/javascript\">\n",
              "                \n",
              "                    window.PLOTLYENV=window.PLOTLYENV || {};\n",
              "                    \n",
              "                if (document.getElementById(\"e82b4d15-c132-4d41-ad2b-62cfc3db2a8f\")) {\n",
              "                    Plotly.newPlot(\n",
              "                        'e82b4d15-c132-4d41-ad2b-62cfc3db2a8f',\n",
              "                        [{\"alignmentgroup\": \"True\", \"hoverlabel\": {\"namelength\": 0}, \"hovertemplate\": \"Country name=%{x}<br>Ladder score=%{y}<br>text=%{text}\", \"legendgroup\": \"\", \"marker\": {\"color\": \"#636efa\"}, \"name\": \"\", \"offsetgroup\": \"\", \"orientation\": \"v\", \"showlegend\": false, \"text\": [1.0, 2.0, 60.0, 79.0, 106.0, 116.0, 117.0, 122.0, 133.0], \"textposition\": \"auto\", \"type\": \"bar\", \"x\": [\"Finland\", \"Denmark\", \"Maldives\", \"Sri Lanka\", \"India\", \"Pakistan\", \"Bangladesh\", \"Nepal\", \"Afghanistan\"], \"xaxis\": \"x\", \"y\": [7.8420000000000005, 7.62, 5.1979999999999995, 4.325, 3.819, 4.934, 5.025, 5.269, 2.523], \"yaxis\": \"y\"}],\n",
              "                        {\"barmode\": \"relative\", \"legend\": {\"tracegroupgap\": 0}, \"template\": {\"data\": {\"bar\": [{\"error_x\": {\"color\": \"#2a3f5f\"}, \"error_y\": {\"color\": \"#2a3f5f\"}, \"marker\": {\"line\": {\"color\": \"#E5ECF6\", \"width\": 0.5}}, \"type\": \"bar\"}], \"barpolar\": [{\"marker\": {\"line\": {\"color\": \"#E5ECF6\", \"width\": 0.5}}, \"type\": \"barpolar\"}], \"carpet\": [{\"aaxis\": {\"endlinecolor\": \"#2a3f5f\", \"gridcolor\": \"white\", \"linecolor\": \"white\", \"minorgridcolor\": \"white\", \"startlinecolor\": \"#2a3f5f\"}, \"baxis\": {\"endlinecolor\": \"#2a3f5f\", \"gridcolor\": \"white\", \"linecolor\": \"white\", \"minorgridcolor\": \"white\", \"startlinecolor\": \"#2a3f5f\"}, \"type\": \"carpet\"}], \"choropleth\": [{\"colorbar\": {\"outlinewidth\": 0, \"ticks\": \"\"}, \"type\": \"choropleth\"}], \"contour\": [{\"colorbar\": {\"outlinewidth\": 0, \"ticks\": \"\"}, \"colorscale\": [[0.0, \"#0d0887\"], [0.1111111111111111, \"#46039f\"], [0.2222222222222222, \"#7201a8\"], [0.3333333333333333, \"#9c179e\"], [0.4444444444444444, \"#bd3786\"], [0.5555555555555556, \"#d8576b\"], [0.6666666666666666, \"#ed7953\"], [0.7777777777777778, \"#fb9f3a\"], [0.8888888888888888, \"#fdca26\"], [1.0, \"#f0f921\"]], \"type\": \"contour\"}], \"contourcarpet\": [{\"colorbar\": {\"outlinewidth\": 0, \"ticks\": \"\"}, \"type\": \"contourcarpet\"}], \"heatmap\": [{\"colorbar\": {\"outlinewidth\": 0, \"ticks\": \"\"}, \"colorscale\": [[0.0, \"#0d0887\"], [0.1111111111111111, \"#46039f\"], [0.2222222222222222, \"#7201a8\"], [0.3333333333333333, \"#9c179e\"], [0.4444444444444444, \"#bd3786\"], [0.5555555555555556, \"#d8576b\"], [0.6666666666666666, \"#ed7953\"], [0.7777777777777778, \"#fb9f3a\"], [0.8888888888888888, \"#fdca26\"], [1.0, \"#f0f921\"]], \"type\": \"heatmap\"}], \"heatmapgl\": [{\"colorbar\": {\"outlinewidth\": 0, \"ticks\": \"\"}, \"colorscale\": [[0.0, \"#0d0887\"], [0.1111111111111111, \"#46039f\"], [0.2222222222222222, \"#7201a8\"], [0.3333333333333333, \"#9c179e\"], [0.4444444444444444, \"#bd3786\"], [0.5555555555555556, \"#d8576b\"], [0.6666666666666666, \"#ed7953\"], [0.7777777777777778, \"#fb9f3a\"], [0.8888888888888888, \"#fdca26\"], [1.0, \"#f0f921\"]], \"type\": \"heatmapgl\"}], \"histogram\": [{\"marker\": {\"colorbar\": {\"outlinewidth\": 0, \"ticks\": \"\"}}, \"type\": \"histogram\"}], \"histogram2d\": [{\"colorbar\": {\"outlinewidth\": 0, \"ticks\": \"\"}, \"colorscale\": [[0.0, \"#0d0887\"], [0.1111111111111111, \"#46039f\"], [0.2222222222222222, \"#7201a8\"], [0.3333333333333333, \"#9c179e\"], [0.4444444444444444, \"#bd3786\"], [0.5555555555555556, \"#d8576b\"], [0.6666666666666666, \"#ed7953\"], [0.7777777777777778, \"#fb9f3a\"], [0.8888888888888888, \"#fdca26\"], [1.0, \"#f0f921\"]], \"type\": \"histogram2d\"}], \"histogram2dcontour\": [{\"colorbar\": {\"outlinewidth\": 0, \"ticks\": \"\"}, \"colorscale\": [[0.0, \"#0d0887\"], [0.1111111111111111, \"#46039f\"], [0.2222222222222222, \"#7201a8\"], [0.3333333333333333, \"#9c179e\"], [0.4444444444444444, \"#bd3786\"], [0.5555555555555556, \"#d8576b\"], [0.6666666666666666, \"#ed7953\"], [0.7777777777777778, \"#fb9f3a\"], [0.8888888888888888, \"#fdca26\"], [1.0, \"#f0f921\"]], \"type\": \"histogram2dcontour\"}], \"mesh3d\": [{\"colorbar\": {\"outlinewidth\": 0, \"ticks\": \"\"}, \"type\": \"mesh3d\"}], \"parcoords\": [{\"line\": {\"colorbar\": {\"outlinewidth\": 0, \"ticks\": \"\"}}, \"type\": \"parcoords\"}], \"pie\": [{\"automargin\": true, \"type\": \"pie\"}], \"scatter\": [{\"marker\": {\"colorbar\": {\"outlinewidth\": 0, \"ticks\": \"\"}}, \"type\": \"scatter\"}], \"scatter3d\": [{\"line\": {\"colorbar\": {\"outlinewidth\": 0, \"ticks\": \"\"}}, \"marker\": {\"colorbar\": {\"outlinewidth\": 0, \"ticks\": \"\"}}, \"type\": \"scatter3d\"}], \"scattercarpet\": [{\"marker\": {\"colorbar\": {\"outlinewidth\": 0, \"ticks\": \"\"}}, \"type\": \"scattercarpet\"}], \"scattergeo\": [{\"marker\": {\"colorbar\": {\"outlinewidth\": 0, \"ticks\": \"\"}}, \"type\": \"scattergeo\"}], \"scattergl\": [{\"marker\": {\"colorbar\": {\"outlinewidth\": 0, \"ticks\": \"\"}}, \"type\": \"scattergl\"}], \"scattermapbox\": [{\"marker\": {\"colorbar\": {\"outlinewidth\": 0, \"ticks\": \"\"}}, \"type\": \"scattermapbox\"}], \"scatterpolar\": [{\"marker\": {\"colorbar\": {\"outlinewidth\": 0, \"ticks\": \"\"}}, \"type\": \"scatterpolar\"}], \"scatterpolargl\": [{\"marker\": {\"colorbar\": {\"outlinewidth\": 0, \"ticks\": \"\"}}, \"type\": \"scatterpolargl\"}], \"scatterternary\": [{\"marker\": {\"colorbar\": {\"outlinewidth\": 0, \"ticks\": \"\"}}, \"type\": \"scatterternary\"}], \"surface\": [{\"colorbar\": {\"outlinewidth\": 0, \"ticks\": \"\"}, \"colorscale\": [[0.0, \"#0d0887\"], [0.1111111111111111, \"#46039f\"], [0.2222222222222222, \"#7201a8\"], [0.3333333333333333, \"#9c179e\"], [0.4444444444444444, \"#bd3786\"], [0.5555555555555556, \"#d8576b\"], [0.6666666666666666, \"#ed7953\"], [0.7777777777777778, \"#fb9f3a\"], [0.8888888888888888, \"#fdca26\"], [1.0, \"#f0f921\"]], \"type\": \"surface\"}], \"table\": [{\"cells\": {\"fill\": {\"color\": \"#EBF0F8\"}, \"line\": {\"color\": \"white\"}}, \"header\": {\"fill\": {\"color\": \"#C8D4E3\"}, \"line\": {\"color\": \"white\"}}, \"type\": \"table\"}]}, \"layout\": {\"annotationdefaults\": {\"arrowcolor\": \"#2a3f5f\", \"arrowhead\": 0, \"arrowwidth\": 1}, \"coloraxis\": {\"colorbar\": {\"outlinewidth\": 0, \"ticks\": \"\"}}, \"colorscale\": {\"diverging\": [[0, \"#8e0152\"], [0.1, \"#c51b7d\"], [0.2, \"#de77ae\"], [0.3, \"#f1b6da\"], [0.4, \"#fde0ef\"], [0.5, \"#f7f7f7\"], [0.6, \"#e6f5d0\"], [0.7, \"#b8e186\"], [0.8, \"#7fbc41\"], [0.9, \"#4d9221\"], [1, \"#276419\"]], \"sequential\": [[0.0, \"#0d0887\"], [0.1111111111111111, \"#46039f\"], [0.2222222222222222, \"#7201a8\"], [0.3333333333333333, \"#9c179e\"], [0.4444444444444444, \"#bd3786\"], [0.5555555555555556, \"#d8576b\"], [0.6666666666666666, \"#ed7953\"], [0.7777777777777778, \"#fb9f3a\"], [0.8888888888888888, \"#fdca26\"], [1.0, \"#f0f921\"]], \"sequentialminus\": [[0.0, \"#0d0887\"], [0.1111111111111111, \"#46039f\"], [0.2222222222222222, \"#7201a8\"], [0.3333333333333333, \"#9c179e\"], [0.4444444444444444, \"#bd3786\"], [0.5555555555555556, \"#d8576b\"], [0.6666666666666666, \"#ed7953\"], [0.7777777777777778, \"#fb9f3a\"], [0.8888888888888888, \"#fdca26\"], [1.0, \"#f0f921\"]]}, \"colorway\": [\"#636efa\", \"#EF553B\", \"#00cc96\", \"#ab63fa\", \"#FFA15A\", \"#19d3f3\", \"#FF6692\", \"#B6E880\", \"#FF97FF\", \"#FECB52\"], \"font\": {\"color\": \"#2a3f5f\"}, \"geo\": {\"bgcolor\": \"white\", \"lakecolor\": \"white\", \"landcolor\": \"#E5ECF6\", \"showlakes\": true, \"showland\": true, \"subunitcolor\": \"white\"}, \"hoverlabel\": {\"align\": \"left\"}, \"hovermode\": \"closest\", \"mapbox\": {\"style\": \"light\"}, \"paper_bgcolor\": \"white\", \"plot_bgcolor\": \"#E5ECF6\", \"polar\": {\"angularaxis\": {\"gridcolor\": \"white\", \"linecolor\": \"white\", \"ticks\": \"\"}, \"bgcolor\": \"#E5ECF6\", \"radialaxis\": {\"gridcolor\": \"white\", \"linecolor\": \"white\", \"ticks\": \"\"}}, \"scene\": {\"xaxis\": {\"backgroundcolor\": \"#E5ECF6\", \"gridcolor\": \"white\", \"gridwidth\": 2, \"linecolor\": \"white\", \"showbackground\": true, \"ticks\": \"\", \"zerolinecolor\": \"white\"}, \"yaxis\": {\"backgroundcolor\": \"#E5ECF6\", \"gridcolor\": \"white\", \"gridwidth\": 2, \"linecolor\": \"white\", \"showbackground\": true, \"ticks\": \"\", \"zerolinecolor\": \"white\"}, \"zaxis\": {\"backgroundcolor\": \"#E5ECF6\", \"gridcolor\": \"white\", \"gridwidth\": 2, \"linecolor\": \"white\", \"showbackground\": true, \"ticks\": \"\", \"zerolinecolor\": \"white\"}}, \"shapedefaults\": {\"line\": {\"color\": \"#2a3f5f\"}}, \"ternary\": {\"aaxis\": {\"gridcolor\": \"white\", \"linecolor\": \"white\", \"ticks\": \"\"}, \"baxis\": {\"gridcolor\": \"white\", \"linecolor\": \"white\", \"ticks\": \"\"}, \"bgcolor\": \"#E5ECF6\", \"caxis\": {\"gridcolor\": \"white\", \"linecolor\": \"white\", \"ticks\": \"\"}}, \"title\": {\"x\": 0.05}, \"xaxis\": {\"automargin\": true, \"gridcolor\": \"white\", \"linecolor\": \"white\", \"ticks\": \"\", \"title\": {\"standoff\": 15}, \"zerolinecolor\": \"white\", \"zerolinewidth\": 2}, \"yaxis\": {\"automargin\": true, \"gridcolor\": \"white\", \"linecolor\": \"white\", \"ticks\": \"\", \"title\": {\"standoff\": 15}, \"zerolinecolor\": \"white\", \"zerolinewidth\": 2}}}, \"title\": {\"text\": \"rank according to happiness index \"}, \"xaxis\": {\"anchor\": \"y\", \"domain\": [0.0, 1.0], \"title\": {\"text\": \"Country name\"}}, \"yaxis\": {\"anchor\": \"x\", \"domain\": [0.0, 1.0], \"title\": {\"text\": \"Ladder score\"}}},\n",
              "                        {\"responsive\": true}\n",
              "                    ).then(function(){\n",
              "                            \n",
              "var gd = document.getElementById('e82b4d15-c132-4d41-ad2b-62cfc3db2a8f');\n",
              "var x = new MutationObserver(function (mutations, observer) {{\n",
              "        var display = window.getComputedStyle(gd).display;\n",
              "        if (!display || display === 'none') {{\n",
              "            console.log([gd, 'removed!']);\n",
              "            Plotly.purge(gd);\n",
              "            observer.disconnect();\n",
              "        }}\n",
              "}});\n",
              "\n",
              "// Listen for the removal of the full notebook cells\n",
              "var notebookContainer = gd.closest('#notebook-container');\n",
              "if (notebookContainer) {{\n",
              "    x.observe(notebookContainer, {childList: true});\n",
              "}}\n",
              "\n",
              "// Listen for the clearing of the current output cell\n",
              "var outputEl = gd.closest('.output');\n",
              "if (outputEl) {{\n",
              "    x.observe(outputEl, {childList: true});\n",
              "}}\n",
              "\n",
              "                        })\n",
              "                };\n",
              "                \n",
              "            </script>\n",
              "        </div>\n",
              "</body>\n",
              "</html>"
            ]
          },
          "metadata": {
            "tags": []
          }
        }
      ]
    },
    {
      "cell_type": "markdown",
      "metadata": {
        "id": "PGPGJO5FxTrJ"
      },
      "source": [
        "![Screenshot (76).png](data:image/png;base64,iVBORw0KGgoAAAANSUhEUgAABLsAAAG1CAYAAAARNPYsAAAAAXNSR0IArs4c6QAAAARnQU1BAACxjwv8YQUAAAAJcEhZcwAADsMAAA7DAcdvqGQAAAAhdEVYdENyZWF0aW9uIFRpbWUAMjAyMTowNzoxMSAxNTozMjo0Nf91pVsAAED3SURBVHhe7d1xkFRnnTf6X8/A1iarZi8ya0BqESSWyIaX61JFuVEYJUmFW5brhosicZaJNxqoEv0Hdiwrod5KUpaz5B/FWsCKm1FCDCJl3ffq4ga4d8D4ZtHslTcswVUkOzEviQ4b11RF7hqm+57TfWamZxiGGZimZ05/PlUHznNOT0/POec5ffrbz/OcQikRAAAAAJADTdn/AAAAADDlCbsAAAAAyA1hFwAAAAC5IewCAAAAIDeEXQAAAADkhrALAAAAgNwQdgEAAACQG8IuAAAAAHJD2AUAAABAbgi7auD4zvZY1HE4zmXl/DsV21rbY9uJrJgXJ3bHotaHYn9vVmYSyOmxBgAAwIQRdlEDlUBi0c5TWZmJ0xv7O6ZWmHruwENCQwAAAK4ZYRc1sDC2dHfFyQ0Ls/I10Hs4NjZEi5+WWN2ZbNvOlTEzWzLZzVx1X5zsvi9Wt2QLAAAAoIaEXQAAAADkRqGUyOYbQNoFbEtsndcRR+bujxWdp8tL27d3xd0vPjRQHrC2Y2jrpHQMp0098cD298ShTbvjaLZ4ece22LFqsNlKOmbXXc+3xZGq1jflZU9UfteWm7OFw6Wtk9YMPm/FytjT3RZLslJF9nccy4qpIa/1cuvTboad0ZWVLv4dl95Oldc+/OcrBtcP/nz/7+zfJntan467Brbzgnhg3/AWP8Nf+4JYvix5fOvQbTzUSK+n+rkv9/dewnj2d7Jvq13qmBj178/2//ztHRGbql7vsOPwouNrjK+zrPzYw1khsWzocTrithz12EkMryfD9b++/r91jH9nxeWOtYq0q+SQ+lv1XP3rRt5vIx2DAAAATGlp2NU4fl369t+sL71rxfrShn/4dbasovcfHhy67NeHShuGP+7Zb5R/9l1/c6jUmy3qf9zfPpuVEz/ZMfQx5fKKb5R+kpUvKX2u6ufuf71Dlj1X+tv0Nex4LiunkmUDjxn/+vRvf9eKB0vfHvhTL72dRtwu2XMOboPs56t+R2UbDP25yu+t3i6XeO0jvY7hRtgPFWP5ey9hHPt7yO/Nfu6iYyJZNurfnz33SNuk+ueGH19jfZ0Xb+/hzzXStk6WjXn9JZRfX9X2HuPf2f+4i35fsuyibTvkNVx8/A3f5yNtCwAAAPKhMbsxru24qMVLOq7QkGUtK+PetRFHe4YPA74gHthc1RKmZXHcuizizIsjj75daT0yxpZEye/cMaSVTUus/vjKiGNn48VsybkD+6MrbZk0pAXMwtiS/dyVrJ+56t54YNnp2Lp/2IDyI2yn4/t3x9FlbfHg8BZDYzHs52YufU8sj574RbbpRn7tM2N+sn2v1Lj+3hFdfn8v2TCstd7NdyTPP8IxMfzvX7U62uNwHBw2zlj79upjZWHc3bEgjnY/e5kB6S/3Ok/Fo52nhz138tpXt8XyY0/HkfRhvWfjTPLf/DnV+3bw2Lns+nEa/nfeNqy+jelY6z0cu9LWWdV/e3+9eeKZOJ4tSev3nrXJPl+zO46f2B0rOiMe2DeGOgkAAMCUY8yuKpW7xrUPTMO7po3P2Xi0I+tuNpagq1820PrA66jucpZ4sed0xLLZMScrD3dl61vi7fOS/54/e5lApTd+8Xzy37zZVxRuXM7lXvuVuLq/d+zSUHPw2BnWhfSSKkHepYLSfjPnzB0SeF6RLKjq2lT9OpOputtsFpANPGb4HR8vt35CjfFYe/ls8vrTECt7Tf3TsHqTWrKhoxwu3pWsa9+u6yIAAEBeCbvK0nGi2mNF59zYk95FMJv2rM1WX4ljh6MrDTyO7Y77D4weZvQrh23lsYwGX8PJ7SuztUxO6ZhS/aFm/37bVm7ZNfmk41NVHVsDU3/wk93pMVlWPvaTY3fFkFDrcuvrZeWQejs4XTpkvlzACAAAwNQl7Er1PhuHjg3vVnWV0oG/0w/c21fG0c4tsW1YV7WL9SaPP13uOnjJAewTc+YuGLWVz5WtH2uLraxFVI2UX9sEu7q/dwxOPBNdw7sQjlV23A3tFnix4z88fPUt3lpmx/w4HYeeGVvIk3bNLAdGadja382xyuXWX70xHms3zo7lI3QFHcnxnZ3RldbLMddJAAAApiJhV6ocBAxr7XFi91V2Y8zcnHy47lhQ7vo1+ofrkbrWnYptw7pj9Y/zdNfO6vGmksdlrWuuZP25A7ti67EF8cDq6rGyRrbklnQspM4hf0s5RMjmr0Z5DK9hLeEqry0rjGakfZi42r/3ssphy+k483JWToztNffG/ocrY1LdPUq42X8ctn/8ysbFGpSN/XVRyJO2atxdGdsq7UI7rJXWuRd7kn/nxtvTPO5y6yfYmI61bGy9rk0Pxf4hu37wmE+lrSbLY+el44sldTJtmda1Kfu7AQAAyBVhV9nC2LKvLaJzy+CYPz9cenXdGKukg2P3B16LhoRQQy3ZsC0eiKxrWHl6Jm67qBtj8lq7O6L9ic7B19raGWdaF2dhyPjXV7pvjnEMo5vbyq15qsd+OnhLOhbSBEgH6B+2H+6P1WPsEpj8XVmLncrP9ocfV/n3Xk76modtj0u+5v5uf+VpS2yNtjgywuDu1c+Vjj3Vvn3YAPhXKD0Oh++78uuYt7TSojEdk2vI8de/rbIWj5dbP9HGeKylrcyOdMSwcbsGj/k06FoxbHD+cl1bdjjuGjhOAAAAyItCekvGbB4moXRMrM6ICQp86qV8V850XK/R7lyYtpzKxmybyn8rAAAA1JOWXUwiVV3qMucO7I+uWBm3CX8AAACAMRB2McmkXcsGu6PVtJscAAAAkDu6MQIAAACQG1p2AQAAAJAbwi4AAAAAckPYBQAAAEBuCLsAAAAAyA1hFwAAAAC5IewCAAAAIDeEXQAAAADkhrALAAAAgNwQdgEAAACQG8IuAAAAAHJD2AUAAABAbgi7AAAAAMgNYRcAAAAAuSHsAgAAACA3hF0AAAAA5IawCwAAAIDcEHYBAAAAkBvCLgAAAAByQ9gFAAAAQG4IuwAAAADIDWEXAAAAALkh7AIAAAAgN4RdAAAAAOSGsAsAAACA3BB2AQAAAJAbwi4AAAAAckPYBQAAAEBuCLsAAAAAyA1hFwAAAAC5IewCAAAAIDeEXQAAAADkhrALAAAAgNwQdgEAAACQG8IuAAAAAHJD2AUAAABAbgi7AAAAAMgNYRcAAAAAuSHsAgAAACA3hF0AAAAA5IawCwAAAIDcEHYBAAAAkBuFUiKbb3jplvjVf/x/WQkAAACAK3Hj//KH2dy1J+yqkm6Jl145n5UAAAAAGK9CIWLWjOuy0rWnGyMAAAAAuSHsAgAAACA3hF0AAAAA5EaDhl29sb+jPRa1ZtPOU9lyAAAAAKayhgy7ju/cEodat8XJ7q5k2hYPPN8Z205kKwEAAACYsnRjjJZ4+7xsFgAAAIAprVBKZPMNJO3GuCW2HsuKazvi5IaFkW6Jl145ny0EAAAAYLwKhYhZM67LStdeQ4Zd5w48FPfHvbFjVUvEid2xaFNPPLDvvrhzZkSxEbM/AAAAgAlSSKampvTf+mjAsOtUbGvdH/P33RerWypL0vBrRc/q+Jd7F2rZBQAAAHAV6t2yqwHH7JoZ85edjkPP9Gbl3jjSfTqWz52ZlQEAAACYqhp0zK60dVdndGUlY3YBAAAATAxjdk0iwi4AAACAq6MbIwAAAABMEC27qlxJy65f99bv7gIMdd11EW98g8MZAAAA6kk3xknkSsKuk6ea4rv/oIFcvf3xDaVYt7Yo7AIAAIA6E3ZNIlcadu3dJ+yqt7fOFnYBAADAZGDMLgAAAACYIMIuAAAAAHJD2AUAAABAbgi7iNs/PT0e+XxzVgIAAACYuoRdjax1Wnz5S9PjIzdlZQAAAIApTtjVyLovxGc++3p86+dZGQAAAGCKK5QS2XzDS7fES6+cz0pjc/JUU+zdN7Uzw7Qb40feVIx7vtCXLZl63jq7FOvWFuONb6jd4Xw+OTS+899095wM3rWwFEsWF7MSAAAAk0mhEDFrxnVZ6doTdlURdgm7RpOGXY/vbY6eF5JaS13d+eGisAsAAGCSqnfYpRsjAAAAALkh7AIAAAAgN4Rdjaz6boxvaYpHkvnNrZVVAAAAAFORsKuRZXdjvKdqerg7WwcAAAAwBQm7oCE0xeYvTi+33qtM02J9tgYAAADyRNgFjaC1Kf701eJAC74f/KoQ7/t8c7YSAAAA8kPYBY0g7bL6hb6sEPH1fytlcwAAAJAvwi5oOE2xeXEhfveqwAsAAID8EXZBg1n/+eZ456vF+MxXitkSAAAAyA9hFzSQ9Z+fHu+LYtxT1aURAAAA8kTYBQ2hOR780vT481f7BF0AAADkmrALGsG6QsxK/rv+puZ45EvTB6bNrZXVAAAAkBeFUiKbb3jplnjplfNZaWxOnmqKvftkhvX21tmlWLe2GG98Q+0O5/PJofH43uboeaGQLaFe7vxwMZYsNuYYAADAZFRIPjbPmnFdVrr2pDQAAAAA5IawCwAAAIDcEHYBAAAAkBvCLgAAAAByowHDrt7Y39Eei1qHTTtPZesBAAAAmKoaMOxqidWdXXGye3Daszai/ZaF2XoAAAAApirdGE/sjrueb4u7b87KAAAAAExZDR529cb+xw5H+8dXxsxsCQAAAABTV6GUyOYbz4ndseix2XGksxJ2pVuiOI7NUSyW4qkfXYg9ewvZEurlrbNL8cn2QsxqmZYtmXjnftMXX+0qRs8L9ne9rbmzFO+/ZVo0N9kXAAAAk036Sa2pjp/XGjjsSgeq3xJnPt4VW7IujOmWeOmV85XCGJ081RR79+kNWm9p2LVubTHe+IbaHc7nk0Pj8b3Nwq5J4M4PF2PJ4mJWAgAAYDIpJB+bZ824Litde42b0pz4fmwNY3UBAAAA5EmDhl2nYtumnnhgs7G6AAAAAPKkQcOuhbGl+75Y3ZIVAQAAAMgFg00BAAAAkBvCLgAAAAByQ9gFAAAAQG4IuwAAAADIDWEXAAAAALkh7AIAAAAgN4RdAAAAAOSGsAsAAACA3BB2AQAAAJAbwi4AAAAAckPYBQAAAEBuCLsAAAAAyA1hFwAAAAC5IewCAAAAIDeEXQAAAADkhrALAAAAgNwQdgEAAACQG8IuAAAAAHJD2AUAAABAbgi7AAAAAMgNYRcAAAAAuSHsAgAAACA3hF0AAAAA5IawCwAAAIDcEHYBAAAAkBvCLgAAAAByQ9gFAAAAQG4IuwAAAADIDWEXAAAAALnRuGFX7+HY2Noei8rT7jieLQYAAABg6mrMsCsNutY8Hbfu64qT3enUFkuyVQAAAABMXQ0Zdh3fvzui495Y3ZItAAAAACAXCqVENt8gemN/x5bYeiwrppa1xZHOlfHmZEsUx7E5isVSPPWjC7FnbyFbQr28dXYpPtleiFkt07IlE+/cb/riq13F6HnB/q63NXeW4v23TIvmJvsCAABgskk/qTXV8fNag4ZduyI23zfQsuv4zvbYNXdb/N0dLfHSK+crC8fo5Kmm2LvPOP/1loZd69YW441vqN3hfD45NB7f2yzsmgTu/HAxliwuZiUAAAAmk0LysXnWjOuy0rXXoCnN6TjzcjabmDN3QRztOZeVAAAAAJiqGjDsaokVrQui64ensnJvHOk+HcvnzszKAAAAAExVDdmya+aq+2JPdMai1vZk2hJb53XEjlVGqwcAAACY6hp2sKklG7riZHc2bViYLQUAAABgKjOyOgAAAAC5IewCAAAAIDeEXQAAAADkhrALAAAAgNwQdgEAAACQG8IuAAAAAHJD2AUAAABAbgi7AAAAAMgNYRcAAAAAuSHsAgAAACA3hF0AAAAA5IawCwAAAIDcEHYBAAAAkBvCLgAAAAByQ9gFAAAAQG4IuwAAAADIDWEXAAAAALkh7AIAAAAgN4RdAAAAAOSGsAsAAACA3BB2AQAAAJAbwi4AAAAAcqNQSmTzDS/dEi+9cj4rjc3JU02xd5/MsN7eOrsU69YW441vqN3hfD45NB7f2xw9LxSyJdTLnR8uxpLFxawEAEAjeflXrscni5aWUjT7OMwICkk1nTXjuqx07Qm7qgi7pi5hV2MRdgEANK6nnm6KQ4d9Bqu3BW8vxcc+2ifsYkT1DrsclgAAAEwpxaKp3hNMZnVu2XUqtrV2Rlc6u7YjTm6YGfs7tsTWeen8wvIjriUtu6YuLbsay7Vo2dXzy0L8Mpmov4XvLMWbZ9TxrQoAmFTSll1PHvQZrN7ecZOWXVxaA3dj7C0HW4dat8WOOd+PRT9cWgm4eg/HxocjHuxcGTOzR14rwq6pS9jVWK5V2PW1R5uzEvUyY0ZE27o+YRcAMEDYNTkIuxhNA3djPBdnjq2Me1e1ZOUqx87Gi9ksAAAAAIxVnTPYnvhFbzbb7+WzcXTZ7JiTFWvixO5Y1No+ZNp4YPgLAQAAgCtz+6enxyOfH9pTYP3nk2VfGpw2t2YrEqOtA8anjmHXwri7I2Lrw4fjXLak3IVx0+FY3rq49l0Yl7XFke6uOJlNO0ZqYQYAAADj0Totvvyl6fGRm7LygOZY8KZSfOuzr8c9yfStn0e8845pcftl1wHjVdeWXTNX3RcnP342Vmw6HPFEZyxaszvmbxc8AQAAMEV1X4jPZIHVUH1x/+cuxJNZ6cl/KcXvsvnR1wHjVee7MdZJ2o0xDdj6le8EudAA9VOYAeobiwHqR5Y2lR/4BvFXxbjnC32V+XXT4pFl/cdtKX7w2Qvx9aw02RmgHoCx+PdXXJ9NJrV+354qA9SXr83eVHVNNkzabfF9MfL60dZNFgaoZzQNfDfGU7GtdX/M33dfrK5rQ670dXRGbO+KzX8WURzH5igWS/HUjy7Enr3eXOstDbs+2V6IWS3TsiUT79xv+uKrXUVh1ySw5s5SvP+Wackba232RXoa+Mlzr8euR6bOvi5fTM0pxbeqvhGsaI4Hv9QUv/3O6/Fw9+UvuiabNOz61N0R8+bUrm4DMPX97PkL8fffyArUVdu6Uiy6aXpWmngX+krx3YMX4sA/Tv7rtNGuuy597Tb6uskkDbs2fKI5/ugPpV1cLK2hTTX6vDYWwq7E8Z3tsWvutvi7O1q07JqitOxqLFp2DTc00BoibdW1OAYvltIxJP4q4p+nSOsuLbsAGItf9xbi0W80x2uvZQuoi7Qlx8ZP9cWNb6nt+/ZUb9mVh6ArpWUXo6l3y646HpYL47a1p+PMy1nxGjq+c3ccz+bT0O3gExHz5xgnDJiiWgtxQ/LfO/9q8O49X/501en91dLgxVJ3KX6bzQIAcC01xeYvZgHYRWHWaOuA8arvmF3p3Rcfjniwc2Xt775Y5dyBh2JF5+msFLG8Y1t5UPx0S2jZNTVp2dVYtOwaJm2tdUfEdwcujKpaes2eFo+8rVT1jWK6rhCntewCGsCh/9s12mRx6wdq+76tZdfkoGVXptySvhDXZ8XUT9Prsrh4eeqlY6/H/WdHWfd4VphktOxiNA0+ZldndGWloVbGnu62WJKVrhVh19Ql7Goswq5hLuqamH4z2Bw3PJtcHCUXVboxAo3qewea49iPvW/X29J3l+JDH6ztWJHCrslB2NVYhF2MpqG7MW7p7oqTI07XPugCmLK6i/HC+UIsWJeVW5viT5P3ld+eTeYfL8VL1xVicWtl1e1/Vojrf1WaMndjBIB8SVtYT4/N2fvyEOk4m1+cFrdnxVR6R77+IQoGpmGPAeBiMliAKa8YD3+uGLEsuwj+q0L89lj/YPV9cf+x0sB4Xh+5qRQ/mCJ3YgSAPKkEV00xKysPqgRgjyy7uBXi17/wetzz2cHpWz+P+N2LReM5AVxG3cOu9E6Ii1qrpp2nsjUAjF1f3F91MTxkbIfHL1RdKE+N7osAkDeV4KoYL2XlQdl7+LHLdP1rnRYfvKkU//yV2g7lAJAHdQ270qDrrufb4shA98Vt8cDznQIvAACAKuv/ohDx86IvrQDGoI5h16k4+MSCeGBz9Z0YW2L15rZY/sQzcTxbAgAAeXb7p6fHI58f6aYo6Q1HpseD/WMyVqkey+nLnzYySe61Tos/f4tWXQBj5Z0RAADqIb1Dbnk8xaxcpRyAfak53jnCjazSoOt9URzoov4ZAUjuadUFMD51DLsWxt0dEVvX7K5qxXUqtiXl6LjD3RgBAMi37gvxmc9WBh0f7smvpEFWX/z0fLagX9bCx81GGohWXQDjVteWXTNX3Rcnt0fcNTBAfWfE9q7YsaolewQAADBgdsT1UYj3ZV0Y02mkbo5MPtV3YyzfJXmg62rV3RivK8RHhuzTpth8R3qXZTeYARiPuoZd5Tsx/nBpNjh9ZYD6+Y+5IyMAAFzSrwa7MN7znVLcsGxarM9WMXlV7sZYNQ20zht6R+V0GryrcjEe/tywuywDcFl1DLvSAeoj2m9ZmJVTLbH64ysjDFAPAAAje1Mhbs9mo7sUv41CtLRmZQCgvi27IhbE/Buz2X43zo7l2SwAAFDl8VK8dF0hFveHW+sKMStK0dudlQGAeoZdM2P+stNx5uWs2O/ls3F02eyYkxUBACCXqu/G+Jam8vhbm7MQq/pujLOWJfNfnJa15uqL+79Tij9Nx3zKxnn66XeM5wQA1eoYdlW6LHZteij292aLeg/Hxk2HY3nr4piZLQIAgFzK7sZYPVbTw1kLrcrdGKumz12IJyurLvq5/p8BACrq243x5rY4ue89cWhNdjfGNbtjvrsxAgAAAHCF6jxmV6JlZewYuBtjV2y5OVsOAAAAAONU/7ALAAAAACZIXcOu4zvbY9HOU5XCid2VroytVWN4AQAAAMA41DHsOhUHn1gQD6xemMz3xv7HDkf79q44uX1ubH34cJyrPAgAAAAAxmySdGM8F2eOrYzb0vG6bpwdy4+djRcrKwAAAABgzOoYds2M+ctOx5mXk9kTz0TXstkxJ1388tk4mv4PAAAAAONUx7CrJVZvboszm9pj0abD0f7xlTEz684Ya5fGkuxRAAAAADBWhVIim2946ZZ46ZXzWWlsTp5qir37Jklv0Ab21tmlWLe2GG98Q+0O5/PJofH43uboeaGQLaFe7vxwMZYsLmal2uj5ZSG+9mhzVqJeZsyIaFvXF2+eUbu6XUye+rvfs68ngxv+uBQr3lvbuk1j+d6B5jj2Y+/b9bb03aX40Af7slJt/Lq3EI9+ozleey1bQF0Ukuq28VN9ceNbavsR86mnm+LJgz6D1ds7birFxz7aF812BSNIzwezZlyXla49YVcVYdfUJexqLMKuxnGtwq5vJnX7X3+mbtfbyg8UhV1MKGHX5CDsahzCrsYi7GI09Q67HJYAAAAA5IawCwAAAIDcqGPYdSq2tT4U+3uzIgAAAABcJS27AAAAAMiNOoZdC+O2tafjzMtZEQC4rPWfnx6PfGnY9MVpcXt5bXM8WLX8wXXlhQAA0FDq2rJryeq2OPPY4TiXlQGA0X39C6/HPZ8dnL7184jfvViMJ5O39M1fbIobft6XrStGLJsem1uzHwQAgAZR3zG71uyOo8d2x4rW9lg0ZNodx7NH1drxncnv6xC4ATAFtU6LD95Uin/+SjEpFOKG6yJe+Jd0PtUXp38V8ad/ZsQCAAAaS127MW7p7oqTI05tsSR7VC2dO/BQ7Hp+QVYCgKll/V8UIn5ejK+XS6X47fmIG2aXC2UvvZrNAABAA2ncr3tP7I4VPatjx8fnZgsAYAppnRZ//pb+Vl2pYjz8/VLcsGxwzK6P3JStAgCABlLnsOtUbOvvurjzVFLujf0d/fM11Hs4Nj42O45sWJgtAICpZWirrkz3hfjMwHheffHT8xG/faU/DAMAgMZQKCWy+WssDba2xKHWbbFjzvdj0Q+Xxsk0fEqDqIcjHuxcGTOzR06sNGB7Jm7r7yp5YncsSoOv5Pe9OdkSxXFsjmKxFE/96ELs2Zt84KCu3jq7FJ9sL8SslmnZkol37jd98dWuYvS8YH/X25o7S/H+W6ZFc1Nt9kV6GvjJc6/Hrkfs63qbMSPiU3dHzJtTu7p9/j+LsePv++JffzaF9nfrtPjyX0X882cvDA27qtz+6enxkTml+NbnLsST2bLJ7rZbS/GXd0yL6c3qHlfv9xeKsefbffFPxxxP9bb03aVY/7Hm+INptfue/WfPX4idX4t47bVsAXVRSKrbpo2lWHTT9GzJxLvQV4rvHrwQB/5R3a63d9xUig2faI4/+kPjg3KxtIY21ejz2ljUMeyqCp3SwKk67FpzNu6t1bhd5effHUez4oBlbdH9xZXx+ivnswVjc/JUU+zdp3LXWxp2rVtbjDe+oXaH8/nk0Hh8b7OwaxK488PFWLK4tq1Ven5ZiK892pyVqJc07Gpb1xdvnlG7ul1MnvqbSd2eOmFXetfF5rjh2dfj/sezRf3KIVghrk/nz0+toCu18gPFWPFeLdGYON870BzHfux9u97SsOtDH+zLSrXx695CPPqNZmFXnaVh18ZP9cWNb6ntR8ynnm6KJw/6DFZvadj1sY/2RbNdwQjS88GsGddlpWuvzodlT/yiN5vt9/LZOLpsdszJihOuZWXsqB4Mf/vKctCVtuyqTUsyAJhIxXj4cyMEXanqboxTLOgCAICJUsewa2Hc3RGx9eHDcS5bUm51telwLG9dLHgCAAAAYNzq2rJr5qr74uTHz8aKTYcjnuiMRWt2x/ztXbFjVUv2iGvg5rY4qVUXAAAAQC7Uv3dtGjZVdSvccnO2HAAAAADGyVByAAAAAOTGNb4bY3oHxs7oykqXtjL21OpujKNIt8RL7sY4JbkbY2NxN8bG4W6MjeVa3I3x5V8V4tkT3rcngyX/pRh/0lLby1B3Y5wc3I2xcbgbY2NxN0ZGU++7MV7jsGuo4zvb4+AtQ7sujrTsWhF2TV3CrsYi7Gocwq7Gcq3Crl2PNEdfbT93cxnXXx/xifV9wq4GIexqHMKuxiLsYjT1DrvqeFieioNPLIj5N2bFzJLVbXHmsao7NAIAAADAGE3ODPbY2XgxmwUAAACAsapj2LUw7u6I2Lrmodjfmy2K3tj/8O44unbpNR+vCwAAAICpr64tu2auui9Obp8bW9e0x6LWdNoSh1q3xckNC7NHAAAAAMDY1b8b481tcbK7a2DasaolWwEA0KDWTYtHvjgtbs+K/dZ/fno88qVs+vywm2i0Tosv96/70rRYny0GAGg0k3PMLgCAhtQcD6Zh1bIR7iC4blq8702l+NZnX497PtsXP31TUzy4LluXBl1/VYgXvpOuS6cL8fVsFQBAo7nGYdep2Fburni5aXccz34CAKBx9MX9aVh17OLb9q9/WyF+92IxniyXivHsixGz3lZp3bX+LwoRP++Lh7vLRQCAhnaNw66FsaWqy+KetRHt2wfLg8vaDFAPADDMb18pZnMRT77SH4g1RcubIq6/qXmwi+MIXSABABpFHbsxnoqDTyyI+TdmxcyS1W1x5rHDcS4rAwBweT8d6ML4evzg1UJ88NNGqwAAGtPkvAo6djZezGYBAKi4YcbgpdvtM4aO63XD7Gwm8dKrEde/aYRxvwAAGkAdw66FcXdHxNY1D8X+3mxR9Mb+h3fH0bVLdWMEAKjy9X8rxfVzmrLuiU2xeE7ES//Wl8wPHb+rf93vXr143C8AgEZQ15ZdM1fdFye3z42ta/oHpt8Sh1q3xckNC7NHAAA0kqq7MV5XiI8k8wN3XHz8Qrl7YrrskS81xztfLcb9j1dWPfmV1+MHyWVdZcyuyrrPfGVwfC8AgEZS/26MN7cNGaB+x6qWbAUAQKPJ7sZYNfUHWqmvf6Fq3RfSVl2DRlsHANBI6ht29R6OjeUWXcOn3XE8ewgAAAAAjFUdw67K+FzRsS2OdCyI5cn/acuuPWsj2re3GbMLAAAAgHGrY9h1Ls4cWxC3Lh3abXHJ6rY489jhZC0AAAAAjE/9x+xKzJwzN472VMVbx87Gi9ksAAAAAIxVHcOumTF/2ek483Iye+PsWP7EM5Vxul4+G0eXzY456TwAAAAAjEMdw66WWN3ZFVtuTmdXxoMdPXFXOjj9pp54YPPKmFl5EAAAAACM2aToxpiaueq+8gD1J7vvi9VDh/ECAAAAgDGZNGHXgN7DsbF1d6VLIwAAAACMw+QLuwAAAADgCgm7AAAAAMgNYRcAAAAAuSHsAgAAACA36hB2nYptre2x6FLTmt1xNHtkzZzYPfR37jyVrQAAAABgKqtD2LUwtnR3xclRp7ZYkj26Fs69GPHAvv7ftS0eeL4ztp3IVgIAAAAwZTVkN8aZq9pidUtW6H02Dh1bEPNvzMoAAAAATFmFUiKbbzBpd8rO6IqVsSdrSZZuieI4NkexWIqnfnQh9uwtZEuol7fOLsUn2wsxq2VatmTinftNX3y1qxg9L9jf9bbmzlK8/5Zp0dxUm32RngZ+8tzrsesR+7reZsyI+NTdEfPm1K5un//PYuz4+77415/Z3/V2262l+Ms7psX05trti+dOvx5f2VmIvr5sAXVx/fURG++JeMe82tXt318oxp5v98U/HVO3623pu0ux/mPN8QfTavc9+8+evxA7vxbx2mvZAuqikFS3TRtLseim6dmSiXehrxTfPXghDvyjul1v77ipFBs+0Rx/9IeGAudiaQ1tqtHntbFo4LCrXyX0iu1dsfnPIl565Xy2fGxOnmqKvftU7npLw651a4vxxjfU7nA+nxwaj+9tFnZNAnd+uBhLFhezUm30/LIQX3u0OStRL2nY1bauL948o3Z1u5g89TeTui3sqr+VHyjGivfWtm6//KtC7HqkWdhVZ2nY9Yn1ffEnLbW9DP3egeY49mN1u97SsOtDH6xtpft1byEe/UazsKvO0rBr46f64sa31LZuP/V0Uzx50GewekvDro99tC+a7QpGkJ4PZs24Litdew7LWBi3rY0482JvVgYAAABgqmrAsKs39nfsjuNZKW3ZdfCJiPlz+gfxAgAAAGCqasCwqyVWtPbEXa3tsag8dcaZjm2x5eZsNQAAAABTVkN2Y5y56r442d01MO1YpVUXAAAAQB4YswsAAACA3BB2AQAAAJAbwi4AAAAAckPYBQAAAEBuCLsAAAAAyA1hFwAAAAC5IewCAAAAIDeEXQAAAADkhrALAAAAgNwQdgEAAACQG8IuAAAAAHJD2AUAAABAbgi7AAAAgEnnP39vmkzTVFIoJbL5hpduiZdeOZ+VxubkqabYu09mWG9vnV2KdWuL8cY31O5wPp8cGo/vbY6eFwrZEurlzg8XY8niYlaqjZ5fFuJrjzZnJeplxoyItnV98eYZtavbxeSpv5nU7X/9mbpdbys/UIwV761t3X75V4XY9Uhz9PVlC6iL66+P+MT6vviTltpehn7vQHMc+7G6XW9L312KD32wtpXu172FePQbzfHaa9kC6qKQVLeNn+qLG99S27r91NNN8eRBn8Hq7R03leJjH+2L5hruilf+oxD/7f+yryeDFe8rxry3jb1up+eDWTOuy0rXnrCrirBr6hJ2NRZhV+MQdjUWYVfjEHY1FmFX4xB2NZZrFXY9tqc5zv17toC6ufuv+6ZU2OUMAQAAAEBuCLsAAAAAyA1hFwAAAAC5IewCAAAAIDeEXQAAAABXrDke/NL02NyaFcuaYvMXp8cjyfL+aWB967T4ctXyR744LW7PVjExhF0AAAAAV2D959PAqilmZeVBhbjh1WLc89nXK9OxUrzzjizUmh3x22PZ8mT6wauF+OCnxTMTydYEAAAAuAJf/0IaWBXjpaw8qC/u/0JfNh+x/m2FiFdL8WRaePxC3P94eXGiORa8JeK3rxSzMhNB2AUAAABQA7d/utJV8c9f7Yt7qsKvwW6OTfHb77xeFX4xEYRdAAAAADXw5FcqXRW/G83DxuYqxsOfS9f1RdwxPb6sG+OEsjUBAAAAaujJfynF766LEcb2KsazL0Zc/6ZCVmYiCLsAAAAAJtK6aUNaa93+Z4W4/nyUx/ZKB7UfvHNjUyyeE/G7V0tZmYkg7AIAAAC4AtV3Y3znXyXzn2+urHi8FL+9qbk8Xlc6feSmUvzgcxfKA9R//d9KlceW1zXHO18txme+YoD6iSTsAgAAALgClbsxVk0Dg9D3xf3Vyz97Ib6erUnvxjjyzzBRGjPsOrE7FrW2D0wbD/RmKwAAAACYyhoy7Dr+w554YF9XnOxOpn1tEZ27Yr+8CwAAAGDKa8iwa8mG+2J1S1ZoWRy3LsvmAQAAAJjSjNl14vux9djceHt/+AUAAADAlFUoJbL5xtN7ODaueTpu3Vdp6ZVuieI4NkexWIqnfnQh9uwtZEuol7fOLsUn2wsxq2VatmTinftNX3y1qxg9L9jf9bbmzlK8/5Zp0dxUm32RngZ+8tzrsesR+7reZsyI+NTdEfPm1K5un//PYuz4+77415/Z3/V2262l+Ms7psX05trti+dOvx5f2VmIPuPA1tX110dsvCfiHfNqV7d/f6EYe77dF/90TN2ut6XvLsX6jzXHH0yr3ffsP3v+Quz8WsRrr2ULqItCUt02bSzFopumZ0sm3oW+Unz34IU48I/qdr2946ZSbPhEc/zRH9aubvf8zwvx1UeTz2L/ni2gbj55dyn+/Obp5Xo+FunDmmr0eW0sGjfsGhZ0pdIt8dIr5yuFMTp5qin27tNArt7SsGvd2mK88Q21O5zPJ4fG43ubhV2TwJ0fLsaSxbW9NW/PLwvxtUez2wZTN2nY1bauL948o3Z1u5g89TeTui3sqr+VHyjGivfWtm6//KtC7HqkWdhVZ2nY9Yn1ffEnLbW9DP3egeY49mN1u97SsOtDH6xtpft1byEe/UazsKvO0g/BGz/VFze+pbZ1+6mnm+LJgz6D1Vsadn3so33RXMNd8cp/FOKxPc3Crkng7r/ui3lvG3vdTs8Hs2Zcl5WuvYY8Q5w78FAsWnM27u2uGrsLAAAAgCmvAcOu3jjSfTr5/3Dc1doei/qnnacqqwEAAACYshow7GqJ1Z1dcbJ72LRhYbYeAAAAgKlKR2cAAAAAckPYBQAAAEBuCLsAAAAAyA1hFwAAAAC5IewCAAAAIDeEXQAAAADkhrALAAAAgNwQdgEAAACQG8IuAAAAAHJD2AUAAABAbgi7AAAAAMgNYRcAAAAAuSHsAgAAACA3hF0AAAAA5IawCwAAAIDcEHYBAAAAkBvCLgAAAAByQ9gFAAAAQG4IuwAAAADIDWEXAAAAALkh7AIAAAAgN4RdAAAAAOSGsAsAAACA3BB2AQAAAJAbwi4AAAAAckPYBQAAAEBuCLsAAAAAyA1hFwAAAAC5IewCAAAAIDcaOuw6d+ChWLTzVFYCAAAAYKprzLCr93BsbG2PFZ2nswUAAAAA5EFjhl0tK2NHd1cc6ViQLQAAAAAgD4zZBQAAAEBuFEqJbL7hpGN2rehZHSc3LCyX0y1RHMfmKBZL8dSPLsSevYVsCfXy1tml+GR7IWa1TMuWTLxzv+mLr3YVo+cF+7ve1txZivffMi2am2qzL9LTwE+eez12PWJf19uMGRGfujti3pza1e3z/1mMHX/fF//6M/u73m67tRR/ece0mN5cu33x3OnX4ys7C9HXly2gLq6/PmLjPRHvmFe7uv37C8XY8+2++Kdj6na9LX13KdZ/rDn+YFrtvmf/2fMXYufXIl57LVtAXRSS6rZpYykW3TQ9WzLxLvSV4rsHL8SBf1S36+0dN5Viwyea44/+sHZ1u+d/XoivPpp8Fvv3bAF188m7S/HnN08v1/OxSB/WVKPPa2Mh7BoWdr30yvny/FidPNUUe/dpIFdvadi1bm0x3viG2h3O55ND4/G9zcKuSeDODxdjyeJiVqqNnl8W4muPNmcl6iUNu9rW9cWbZ9SubheTp/5mUreFXfW38gPFWPHe2tbtl39ViF2PNAu76iwNuz6xvi/+pKW2l6HfO9Acx36sbtdbGnZ96IO1rXS/7i3Eo99oFnbVWfoheOOn+uLGt9S2bj/1dFM8edBnsHpLw66PfbQvmmu4K175j0I8tqdZ2DUJ3P3XfTHvbWOv2+n5YNaM67LStecMAQAAAEBuNGbYVX03xic6Y1HrQ7G/N1sHAAAAwJTVmGFXdjfGkwPTfbG6JVsHAAAAwJSlGyMAAAAAuSHsAgAAACA3hF0AAAAA5IawCwAAAIDcEHYBAAAAkBvCLgAAAAByQ9gFAAAAQG4IuwAAAADIDWEXAAAAALkh7AIAAAAgN4RdAAAAAOSGsAsAAACA3BB2AQAAAJAbwi4AAAAAckPYBQAAAEBuCLsAAAAAyA1hFwAAAAC5IewCAAAAIDeEXQAAAADkhrALAAAAgNwQdgEAAACQG8IuAAAAAHJD2AUAAABAbgi7AAAAAMgNYRcAAAAAuSHsAgAAACA3hF0AAAAA5IawCwAAAIDcEHYBAAAAkBsNGnb1xv6O9ljUWpk2HujNlgMAAAAwlTVk2HXuwK7YOq8jTnZ3JVNHzO/cFfvlXQAAAABTXgOGXb1xpPt0tN+yMCsvjNvWno5Dz0i7AAAAAKa6QimRzTeItAvjrojN98XqlsqScwceivvj3vi7O1qiUKgsG4u+Yin+n/9+IX5+usE24ST1l/9bU8z+k2lZaeL1/qYvvv1/9mUl6ultcyNuXzE9mpvGUWHHIT0r/uh//D7+3+PZAurq9g80xdv/tHZ1+3f/WYyvf/NCVqKe/viGiP/9Q9NienPtvov7Hz99Pf77P3nfngxWvLcQ71owPStNvN9fKMajSd0ueuueFP6Pj0+LP5hWu7r93OnX48hT6vZk8J5lhViysHZ1+/W+Unzne6/Hv7+SLaCu/vqj0+KPrqtd3T7zywvxj4eLWYl6+i+Lk/r9v/7BuDKTehJ2JfrDrh2rsgUAAAAATEkNOWZXxOk483I2m3ix53Q2BwAAAMBU1oBhV0usaF0QXT88lZVPxcEnFsStS7XqAgAAAJjqGrJl18xV98YDz3fGotb2ZOqMMx33DnRpzIO0W+bGA5cfcP/4zvbYdiIrXLW0e+hEPh9TQu/h2Ni6OwxtVV+XrMsndseijsNxLp1P91X/PFPAqdh2TepW+nseckfiKWvoe+/Evq9zLaTXbIt29n8BW+1anQOYDK6k7l762Lm8q/lZ6s25oXYq76nljGDU+jHR1072aa00aDfGlljd2RUnuyvTVB2rK31jrAR2g1Macs1cdZ/xx6aw8gXIsP3qw0u+9e/zofs5feNL9v9EXYy2rIwdnStjZlakDsrh8Fjr9sLY0t0WS7LSEELmnMnqenm6uovnJRu6YsvNWYE6qN6Xl6vjlzPKOSAjsKihEc7XtjWX0v+ZrLq+p8vG0viAOuiv38Pr9Invx9ZoiyNpRrBhYbbwWrj8+d6135Vp0LArP5Z3bBsI7aZycMcwazuq9mtHxCYXWbm3bEGceWyw5dW5A/vjTLKMvEg+BK95Om7dN3i+PrmvLeJFF8KkF7kd0R4L4oF9gzfPYapK9+NgHT+zScvJqWtl7Km6Fmt/otOXj1zS8rUrh1zHMXmde+bpiI62pE4/MyQ8OvdiT8S82b4YzhFhVw6l3/T1f5NQ+dZvd9U3jSMnwsNbEw28mWcp8raqVmTDv7WoLN8SW49lC5lg2QehJ/YPXjCn3dOy/VG9T8vfIiX7e+DbyIFua+m3zclx0d80N5m2nahqqlvdmmDIc1d/K1V5jm07s2NlhC5xlePBtw5XZN7quHfe03GkvLl740j33Li1tbwmM6zFwKW6JFZ/G73pcLYwkS7PfuaibxuHd3cc+D1Vx8WQ5VfTWqFB9Z6NMzE33l4dZLSsjC3ZFxRD62663dP9Pd66dOlj5NLnhqEq7wXZfr/kuYCau8L33nR5/+Mu+b7OtdOyOG5dVrkp0tj2R1aHy19uDT0HDO7zZErrb3KM3N95OuKJyrAclfp59ecARrMybstaTl79dfPF6/qNeqxUnZdXpPu/ypDnHviCtPpar3p56pmq48W121Wbe0dyHbc7Hh2xbg/dDwPvp6MdL96DayS9xo64dWlSn9cejoP923vYObWyH4bVn+rr4sSZ/YN1dXD/XMl5+DLn+/R1PLw7jsbhuKt62ZDXNvjz5XNI8nvU70SJKesnO9aX3rWievpG6SfJ8t5/eLC04R9+XX5MOt+/PJX+TP+6dP5vny3PDvXrQ6UN/T9Tnq963LPfKL3rbw6VepPZ8nNn88kDS9/+m0s8H+NS3q47nstK/aq2b/X+SaX7JHt8+ZgYcZ88V/rb4ftxxYOlb1cOhSHHxVDpz/U/rvIcQx5X9VrKv/ui181YDOzz/n2Z/J9u55GPhYqR6/II+7n/eEj31UjziaE/P3hcDD5ueP1+rvTtEY8XRlOuI+VzdfW2rCivq9onlX1RVc+rDT8HXMLwY+TS54bKPh96Th9u2LHBBBuh7l2iLo/23jtYl4cZ4zHD1RppP45Qb6r2x+B5Pv3Z6v2XlrN9Vn0uT/T+w6FhPzuysZ0DGFFWB4dcZ1/q/Fhdv7Kfq0ndLc8PHk/V+3/4sdD/fBctT46dgddSdU6oPlYYv4Htl+6jbB9Xb9Oh2zfd99l+HOl4qdovg6rPLVXnBsavah+Vt3dV/RipHg2Wh++Dqn1aXU+HGX4cjHwOuPz5frTfkbrofFD12KHHX2PRsmuKG9qN8RJ9fdcuHVg+Z+6lukVVpdBr0uS42uA3WXHj7Fiezb7YczraP24MoGvu5bODyX46pa13nj878K3B8tbF2T5pibfPK89kFsT8G7PZ1LL3xIqslUl6XBzt6X+G6m8KOqMrW1ox8p1Lf3HgobgrOq5x//YcuvmOys0zNkXcO0KX5Opve+96IltYLW09tKwt7r7cmD1pa4Pob0WW3pE2q+Pl1kenY+uabP+n54JjZ+PF7Fjq2tT/zdXCWK3L9Lil4yn1d4cpd01OtnH1N7WDdffKjXaMXPrckHhmd6zofk8cGTKu22jnAmrvat97R3tfp3aqz6Fp1+X+rqmj7Y+zSV3rjNh+iTHX0v1/LKmj2bfzM1etvOTYLld8DmAE1d0Yu+JI69OxYkhLjEvtzxrV3fT6b+3qEbs6p8/d3yKlf9+febE3Zs6ZW1meve4lybEz8PvH9PmAcWlZOULrrt74xfMRRzu3ZPsnbZFbafFZUXW83Lw02qMnflG+NPAeXAvH9++O6D8Xptu7uufMEOl+WxAPrL7UZ5uqz0Qts2N+Za7sqs7D4zjfj9bSU/2uEHaRSE+m6V0ps+BsX9vAGzOTxbk4c6wqrFqWDZ7YP03gwOPHdyZvwvP6xwxLx5G5nMNxqDv5b1i/d65ES6xOLoSr36AGJG9oKzrnDlx471mbLb8iLcmbaMTW/aeS530muob8vqEX9/0hen9Q82DsqryxGkPuKiyMLem23b4yjnY/OxBUX7UrPkaSD+fdPcnFVX8AWjH+cwGTh/f1+qkas6u7P+i6zP544uk4lPzX9cNLnFfTG4yUn29pHCx/sBnalWbAhL5PMNzMpe9JzpPpF0C1rF9X/twjjuN7c1ulvDni/vKx08Ddma6RJavbymN3/SIr92vfPrhv0ulyNxPxHlwL6Re81cFjGiKejkPPjJh2XZmrPQ+P9XyfdoHd1DPwfnOkQ2A9EmEXA+bPydLpcsuhy0tT4sELszSMyWaZYOk3fOmFz72Vi+Ys8R/81ii5MDowscHD8rlZdFZu6XM5K+PezvuSk2xP3DXwjSdXLL0wvVQLuWWzY055pvIt4UXSb5aqAovyQJuXMHPV6vK3WRsfS94o+7+1Kn8zdTh2VbU2On4g3afJMZjt2/Rur2lIU92akDFIv30bFhDWZCDUyx0jI0o+nG++L3Zsnxtb1wz9IDS+cwHXwnjee8f7vk5tXXJ/rF0dOzq3lVv2jjQuT9pKoDJ+zMLY0p08LhsHbERXdA5gLNJBrY9WfTlUy+vmEZ87vf6r+mKx3Jorkz730c7vD56/kw/C+5Nj5vjO7INy+QN0Gpj0txqiZrLWXVsHWvRkreOrB68/keyfEfZDenOirqqeF96DJ1j5C97qm4Al0762iBG/eEz3W1UQNp59cBXn4XGd76vGgq0+HzBI2EWi0pok7aJUTrmTD79j+RZp5qp7K12uyqlzeue4bAVXr6opevqtQ9q1YeBOm+kFy/aq/dW6JQ5N4Mfl9Bup6P/G4+Gns6WXl4Yg5Sb+l/oGgquTdnGMtFlzus93lVsBXCx5YywHFpVj4/60xd0lLYzb1p5OLqIHL6rKP5++6Q9849Ued/WkYUzy2OTCrfK7kyn9JmnzxLUmbAj9XVT7t2EyrehZfRVdf6u6Mpen3XF8TMfIKNKgdXuUnze90LrScwHjVflCI/12eeuay58/x/bee2Xv69TKWPZH8pjObXFrd1Lnhn1xlLYoOlP1np+29khbhVS+tKgcC+WQ7GrPAQwz9Dxb7updPmfX8rp5lOdOrv8eTL9YzF7PrucHW3Kk12B71la93jXJOfvG5Dx+y+A1QXo9OfDFKTWVvn9WHxNLNmyrqpvJtOls1Q1rBvdbuUVQ1lvDe/DEO/7Dw9F+y7DrriFDewy1ZENHzB/vPrjK8/ClzvflELW/jqfvEdXlZKo+HzCokA7clc0DAABQU2nIvT/mD4zpRkNKu6KtORv3XmrcZSYP+2pK0rILAACgltIPy1krDK2sYApIh6Dor7Nrdsf87YKuqUbLLgAAAAByQ8suAAAAAHJD2AUAAABAbgi7AAAAAMgNYRcAAAAAuSHsAgAAACA3hF0AAAAA5IawCwAAAIDcEHYBAAAAkBvCLgAAAAByQ9gFAAAAQG4IuwAAAADIDWEXAAAAALlRKCWyeQCABnYqtrV2RldWqlgZe7rbYklWqpkTu2PRprg2vwsAIOe07AIASMOm1s4407EtTnZ3DU7bI3Yd6M0eBADAVKBlFwDQ4Hpjf8eWONS6LXasasmWjWRYy6+1HXFyw8LK/EUts4Y9Z7b+gY6e2Np5uvyIWNYWRzpXxszew7Fxze44Wlla1r69K+5+8aFY0f2e2NP6dNxV/pmV8V/XHo7/GlW/NzVaq7DRfm86f4nfveXmyvy5A5XX8MC83bH1icqy8t99yzPJ8x7OFgxr/TbsOZd3XG67AgBMLC27AIDG1vtsHDq2IG5dOlogk4ZX1S2/tsUDz3fGxnG1+joch+Le7Oc7ov3Y7rg//fmWlbFj+8pkfRoaVVqU9YdNkTxm18DPtMWa1W2x/In9sX/g1yav67HDsbzjjlG6P17i96bS3539znQ60rEgujbtjuOVtRXJ48/ckj1mX/r7O2PRY7PjSPlnku2w7HDctfNU5bFZ0DV/++Djo3NLbDtRWQ0AcC0IuwAAYm68fbSs68T3Y+uxlXHvQAulllj98ZVxtPP7Q4OhUVX//MK4bW3E0Z5zWfkSlrXFg9WtoloWx63LTsehZ7KwakxB3dh/78yl74nl0RO/qM7wktdwd3/41jI75if/tSd/e7llWLIdVrQuiHj+bKTPeO6Zp+Po2o7BsK4l+d3J7zvzYvUTAgDUlrALAGB4wDNpDQ3Zju/fHUfXro7Vo2Vdl3F8Z3ssas2mYV0ax+vFntMRacuv/udLprueGEOoBwAwgYRdAEBjG95aarK7eWm0x+E4eOJUHHwiov2WqvG7xikNuu56vi3rkph1U8zWXbF0TK/+5+ufqscYAwCoMWEXANDg+ltLbbl4DK4TuyvLbr6jPDbV4J0Zh42VdePsod3/yt0es/mxGP7zo1oYd5fH1uqMruouhuPWG794PmJ56+KsS2LWDTGbvxJLymOKdQ4do6t/GwIAXCPCLgCAm9sGBlOv7oKX3smwMt5VS6zu7Ij5A+u3xNZ5HYN3GSyPTXU6tq7Jfu6Hs+OBZZVVYzLs5y83oHtlbK2hQdX4JX/T5qF/8/09c6+uZVc64H2yHc9syrZDOm3qucyYYgAAE6tQSmTzAABMBeW7Hp6Ne7vbRrkLIwBAY9KyCwBgiqkMTL9U0AUAMAJhFwDAVNJ7OHY9sSAeWG3QdwCAkejGCAAAAEBuaNkFAAAAQG4IuwAAAADIDWEXAAAAALkh7AIAAAAgN4RdAAAAAOSGsAsAAACA3BB2AQAAAJAbwi4AAAAAckPYBQAAAEBuCLsAAAAAyA1hFwAAAAC5IewCAAAAIDeEXQAAAADkhrALAAAAgNwQdgEAAACQG8IuAAAAAHJD2AUAAABAbgi7AAAAAMgNYRcAAAAAORHx/wPmzzg09NSIVAAAAABJRU5ErkJggg==)"
      ]
    },
    {
      "cell_type": "markdown",
      "metadata": {
        "id": "E--h5ncLx2oc"
      },
      "source": [
        "According to world happness index,Finland is rank first and nepal is rank 122.In South Asia region Maldives is in highest rank."
      ]
    },
    {
      "cell_type": "markdown",
      "metadata": {
        "id": "Ol6EHNrIypzf"
      },
      "source": [
        "**rank according to log GDP**"
      ]
    },
    {
      "cell_type": "code",
      "metadata": {
        "colab": {
          "base_uri": "https://localhost:8080/",
          "height": 542
        },
        "id": "wShWLxtJJzu8",
        "outputId": "6c6a240e-560a-4285-da8f-09a573ba7c81"
      },
      "source": [
        "df=df.sort_values(by='Logged GDP per capita',ascending=False,ignore_index=True)\n",
        "df_south=df[df['Regional indicator']=='South Asia']\n",
        "final=pd.concat([df.loc[0:1],df_south])\n",
        "px.bar(data_frame=final,x='Country name',y='Logged GDP per capita',text=final.index+1,title='rank according to log GDP')"
      ],
      "execution_count": null,
      "outputs": [
        {
          "output_type": "display_data",
          "data": {
            "text/html": [
              "<html>\n",
              "<head><meta charset=\"utf-8\" /></head>\n",
              "<body>\n",
              "    <div>\n",
              "            <script src=\"https://cdnjs.cloudflare.com/ajax/libs/mathjax/2.7.5/MathJax.js?config=TeX-AMS-MML_SVG\"></script><script type=\"text/javascript\">if (window.MathJax) {MathJax.Hub.Config({SVG: {font: \"STIX-Web\"}});}</script>\n",
              "                <script type=\"text/javascript\">window.PlotlyConfig = {MathJaxConfig: 'local'};</script>\n",
              "        <script src=\"https://cdn.plot.ly/plotly-latest.min.js\"></script>    \n",
              "            <div id=\"0cb70584-c1e2-4f9b-9849-a0a53978ab74\" class=\"plotly-graph-div\" style=\"height:525px; width:100%;\"></div>\n",
              "            <script type=\"text/javascript\">\n",
              "                \n",
              "                    window.PLOTLYENV=window.PLOTLYENV || {};\n",
              "                    \n",
              "                if (document.getElementById(\"0cb70584-c1e2-4f9b-9849-a0a53978ab74\")) {\n",
              "                    Plotly.newPlot(\n",
              "                        '0cb70584-c1e2-4f9b-9849-a0a53978ab74',\n",
              "                        [{\"alignmentgroup\": \"True\", \"hoverlabel\": {\"namelength\": 0}, \"hovertemplate\": \"Country name=%{x}<br>Logged GDP per capita=%{y}<br>text=%{text}\", \"legendgroup\": \"\", \"marker\": {\"color\": \"#636efa\"}, \"name\": \"\", \"offsetgroup\": \"\", \"orientation\": \"v\", \"showlegend\": false, \"text\": [1.0, 2.0, 60.0, 79.0, 106.0, 116.0, 117.0, 122.0, 133.0], \"textposition\": \"auto\", \"type\": \"bar\", \"x\": [\"Luxembourg\", \"Singapore\", \"Maldives\", \"Sri Lanka\", \"India\", \"Pakistan\", \"Bangladesh\", \"Nepal\", \"Afghanistan\"], \"xaxis\": \"x\", \"y\": [11.647, 11.488, 9.826, 9.47, 8.755, 8.458, 8.454, 8.12, 7.695], \"yaxis\": \"y\"}],\n",
              "                        {\"barmode\": \"relative\", \"legend\": {\"tracegroupgap\": 0}, \"template\": {\"data\": {\"bar\": [{\"error_x\": {\"color\": \"#2a3f5f\"}, \"error_y\": {\"color\": \"#2a3f5f\"}, \"marker\": {\"line\": {\"color\": \"#E5ECF6\", \"width\": 0.5}}, \"type\": \"bar\"}], \"barpolar\": [{\"marker\": {\"line\": {\"color\": \"#E5ECF6\", \"width\": 0.5}}, \"type\": \"barpolar\"}], \"carpet\": [{\"aaxis\": {\"endlinecolor\": \"#2a3f5f\", \"gridcolor\": \"white\", \"linecolor\": \"white\", \"minorgridcolor\": \"white\", \"startlinecolor\": \"#2a3f5f\"}, \"baxis\": {\"endlinecolor\": \"#2a3f5f\", \"gridcolor\": \"white\", \"linecolor\": \"white\", \"minorgridcolor\": \"white\", \"startlinecolor\": \"#2a3f5f\"}, \"type\": \"carpet\"}], \"choropleth\": [{\"colorbar\": {\"outlinewidth\": 0, \"ticks\": \"\"}, \"type\": \"choropleth\"}], \"contour\": [{\"colorbar\": {\"outlinewidth\": 0, \"ticks\": \"\"}, \"colorscale\": [[0.0, \"#0d0887\"], [0.1111111111111111, \"#46039f\"], [0.2222222222222222, \"#7201a8\"], [0.3333333333333333, \"#9c179e\"], [0.4444444444444444, \"#bd3786\"], [0.5555555555555556, \"#d8576b\"], [0.6666666666666666, \"#ed7953\"], [0.7777777777777778, \"#fb9f3a\"], [0.8888888888888888, \"#fdca26\"], [1.0, \"#f0f921\"]], \"type\": \"contour\"}], \"contourcarpet\": [{\"colorbar\": {\"outlinewidth\": 0, \"ticks\": \"\"}, \"type\": \"contourcarpet\"}], \"heatmap\": [{\"colorbar\": {\"outlinewidth\": 0, \"ticks\": \"\"}, \"colorscale\": [[0.0, \"#0d0887\"], [0.1111111111111111, \"#46039f\"], [0.2222222222222222, \"#7201a8\"], [0.3333333333333333, \"#9c179e\"], [0.4444444444444444, \"#bd3786\"], [0.5555555555555556, \"#d8576b\"], [0.6666666666666666, \"#ed7953\"], [0.7777777777777778, \"#fb9f3a\"], [0.8888888888888888, \"#fdca26\"], [1.0, \"#f0f921\"]], \"type\": \"heatmap\"}], \"heatmapgl\": [{\"colorbar\": {\"outlinewidth\": 0, \"ticks\": \"\"}, \"colorscale\": [[0.0, \"#0d0887\"], [0.1111111111111111, \"#46039f\"], [0.2222222222222222, \"#7201a8\"], [0.3333333333333333, \"#9c179e\"], [0.4444444444444444, \"#bd3786\"], [0.5555555555555556, \"#d8576b\"], [0.6666666666666666, \"#ed7953\"], [0.7777777777777778, \"#fb9f3a\"], [0.8888888888888888, \"#fdca26\"], [1.0, \"#f0f921\"]], \"type\": \"heatmapgl\"}], \"histogram\": [{\"marker\": {\"colorbar\": {\"outlinewidth\": 0, \"ticks\": \"\"}}, \"type\": \"histogram\"}], \"histogram2d\": [{\"colorbar\": {\"outlinewidth\": 0, \"ticks\": \"\"}, \"colorscale\": [[0.0, \"#0d0887\"], [0.1111111111111111, \"#46039f\"], [0.2222222222222222, \"#7201a8\"], [0.3333333333333333, \"#9c179e\"], [0.4444444444444444, \"#bd3786\"], [0.5555555555555556, \"#d8576b\"], [0.6666666666666666, \"#ed7953\"], [0.7777777777777778, \"#fb9f3a\"], [0.8888888888888888, \"#fdca26\"], [1.0, \"#f0f921\"]], \"type\": \"histogram2d\"}], \"histogram2dcontour\": [{\"colorbar\": {\"outlinewidth\": 0, \"ticks\": \"\"}, \"colorscale\": [[0.0, \"#0d0887\"], [0.1111111111111111, \"#46039f\"], [0.2222222222222222, \"#7201a8\"], [0.3333333333333333, \"#9c179e\"], [0.4444444444444444, \"#bd3786\"], [0.5555555555555556, \"#d8576b\"], [0.6666666666666666, \"#ed7953\"], [0.7777777777777778, \"#fb9f3a\"], [0.8888888888888888, \"#fdca26\"], [1.0, \"#f0f921\"]], \"type\": \"histogram2dcontour\"}], \"mesh3d\": [{\"colorbar\": {\"outlinewidth\": 0, \"ticks\": \"\"}, \"type\": \"mesh3d\"}], \"parcoords\": [{\"line\": {\"colorbar\": {\"outlinewidth\": 0, \"ticks\": \"\"}}, \"type\": \"parcoords\"}], \"pie\": [{\"automargin\": true, \"type\": \"pie\"}], \"scatter\": [{\"marker\": {\"colorbar\": {\"outlinewidth\": 0, \"ticks\": \"\"}}, \"type\": \"scatter\"}], \"scatter3d\": [{\"line\": {\"colorbar\": {\"outlinewidth\": 0, \"ticks\": \"\"}}, \"marker\": {\"colorbar\": {\"outlinewidth\": 0, \"ticks\": \"\"}}, \"type\": \"scatter3d\"}], \"scattercarpet\": [{\"marker\": {\"colorbar\": {\"outlinewidth\": 0, \"ticks\": \"\"}}, \"type\": \"scattercarpet\"}], \"scattergeo\": [{\"marker\": {\"colorbar\": {\"outlinewidth\": 0, \"ticks\": \"\"}}, \"type\": \"scattergeo\"}], \"scattergl\": [{\"marker\": {\"colorbar\": {\"outlinewidth\": 0, \"ticks\": \"\"}}, \"type\": \"scattergl\"}], \"scattermapbox\": [{\"marker\": {\"colorbar\": {\"outlinewidth\": 0, \"ticks\": \"\"}}, \"type\": \"scattermapbox\"}], \"scatterpolar\": [{\"marker\": {\"colorbar\": {\"outlinewidth\": 0, \"ticks\": \"\"}}, \"type\": \"scatterpolar\"}], \"scatterpolargl\": [{\"marker\": {\"colorbar\": {\"outlinewidth\": 0, \"ticks\": \"\"}}, \"type\": \"scatterpolargl\"}], \"scatterternary\": [{\"marker\": {\"colorbar\": {\"outlinewidth\": 0, \"ticks\": \"\"}}, \"type\": \"scatterternary\"}], \"surface\": [{\"colorbar\": {\"outlinewidth\": 0, \"ticks\": \"\"}, \"colorscale\": [[0.0, \"#0d0887\"], [0.1111111111111111, \"#46039f\"], [0.2222222222222222, \"#7201a8\"], [0.3333333333333333, \"#9c179e\"], [0.4444444444444444, \"#bd3786\"], [0.5555555555555556, \"#d8576b\"], [0.6666666666666666, \"#ed7953\"], [0.7777777777777778, \"#fb9f3a\"], [0.8888888888888888, \"#fdca26\"], [1.0, \"#f0f921\"]], \"type\": \"surface\"}], \"table\": [{\"cells\": {\"fill\": {\"color\": \"#EBF0F8\"}, \"line\": {\"color\": \"white\"}}, \"header\": {\"fill\": {\"color\": \"#C8D4E3\"}, \"line\": {\"color\": \"white\"}}, \"type\": \"table\"}]}, \"layout\": {\"annotationdefaults\": {\"arrowcolor\": \"#2a3f5f\", \"arrowhead\": 0, \"arrowwidth\": 1}, \"coloraxis\": {\"colorbar\": {\"outlinewidth\": 0, \"ticks\": \"\"}}, \"colorscale\": {\"diverging\": [[0, \"#8e0152\"], [0.1, \"#c51b7d\"], [0.2, \"#de77ae\"], [0.3, \"#f1b6da\"], [0.4, \"#fde0ef\"], [0.5, \"#f7f7f7\"], [0.6, \"#e6f5d0\"], [0.7, \"#b8e186\"], [0.8, \"#7fbc41\"], [0.9, \"#4d9221\"], [1, \"#276419\"]], \"sequential\": [[0.0, \"#0d0887\"], [0.1111111111111111, \"#46039f\"], [0.2222222222222222, \"#7201a8\"], [0.3333333333333333, \"#9c179e\"], [0.4444444444444444, \"#bd3786\"], [0.5555555555555556, \"#d8576b\"], [0.6666666666666666, \"#ed7953\"], [0.7777777777777778, \"#fb9f3a\"], [0.8888888888888888, \"#fdca26\"], [1.0, \"#f0f921\"]], \"sequentialminus\": [[0.0, \"#0d0887\"], [0.1111111111111111, \"#46039f\"], [0.2222222222222222, \"#7201a8\"], [0.3333333333333333, \"#9c179e\"], [0.4444444444444444, \"#bd3786\"], [0.5555555555555556, \"#d8576b\"], [0.6666666666666666, \"#ed7953\"], [0.7777777777777778, \"#fb9f3a\"], [0.8888888888888888, \"#fdca26\"], [1.0, \"#f0f921\"]]}, \"colorway\": [\"#636efa\", \"#EF553B\", \"#00cc96\", \"#ab63fa\", \"#FFA15A\", \"#19d3f3\", \"#FF6692\", \"#B6E880\", \"#FF97FF\", \"#FECB52\"], \"font\": {\"color\": \"#2a3f5f\"}, \"geo\": {\"bgcolor\": \"white\", \"lakecolor\": \"white\", \"landcolor\": \"#E5ECF6\", \"showlakes\": true, \"showland\": true, \"subunitcolor\": \"white\"}, \"hoverlabel\": {\"align\": \"left\"}, \"hovermode\": \"closest\", \"mapbox\": {\"style\": \"light\"}, \"paper_bgcolor\": \"white\", \"plot_bgcolor\": \"#E5ECF6\", \"polar\": {\"angularaxis\": {\"gridcolor\": \"white\", \"linecolor\": \"white\", \"ticks\": \"\"}, \"bgcolor\": \"#E5ECF6\", \"radialaxis\": {\"gridcolor\": \"white\", \"linecolor\": \"white\", \"ticks\": \"\"}}, \"scene\": {\"xaxis\": {\"backgroundcolor\": \"#E5ECF6\", \"gridcolor\": \"white\", \"gridwidth\": 2, \"linecolor\": \"white\", \"showbackground\": true, \"ticks\": \"\", \"zerolinecolor\": \"white\"}, \"yaxis\": {\"backgroundcolor\": \"#E5ECF6\", \"gridcolor\": \"white\", \"gridwidth\": 2, \"linecolor\": \"white\", \"showbackground\": true, \"ticks\": \"\", \"zerolinecolor\": \"white\"}, \"zaxis\": {\"backgroundcolor\": \"#E5ECF6\", \"gridcolor\": \"white\", \"gridwidth\": 2, \"linecolor\": \"white\", \"showbackground\": true, \"ticks\": \"\", \"zerolinecolor\": \"white\"}}, \"shapedefaults\": {\"line\": {\"color\": \"#2a3f5f\"}}, \"ternary\": {\"aaxis\": {\"gridcolor\": \"white\", \"linecolor\": \"white\", \"ticks\": \"\"}, \"baxis\": {\"gridcolor\": \"white\", \"linecolor\": \"white\", \"ticks\": \"\"}, \"bgcolor\": \"#E5ECF6\", \"caxis\": {\"gridcolor\": \"white\", \"linecolor\": \"white\", \"ticks\": \"\"}}, \"title\": {\"x\": 0.05}, \"xaxis\": {\"automargin\": true, \"gridcolor\": \"white\", \"linecolor\": \"white\", \"ticks\": \"\", \"title\": {\"standoff\": 15}, \"zerolinecolor\": \"white\", \"zerolinewidth\": 2}, \"yaxis\": {\"automargin\": true, \"gridcolor\": \"white\", \"linecolor\": \"white\", \"ticks\": \"\", \"title\": {\"standoff\": 15}, \"zerolinecolor\": \"white\", \"zerolinewidth\": 2}}}, \"title\": {\"text\": \"rank according to log GDP\"}, \"xaxis\": {\"anchor\": \"y\", \"domain\": [0.0, 1.0], \"title\": {\"text\": \"Country name\"}}, \"yaxis\": {\"anchor\": \"x\", \"domain\": [0.0, 1.0], \"title\": {\"text\": \"Logged GDP per capita\"}}},\n",
              "                        {\"responsive\": true}\n",
              "                    ).then(function(){\n",
              "                            \n",
              "var gd = document.getElementById('0cb70584-c1e2-4f9b-9849-a0a53978ab74');\n",
              "var x = new MutationObserver(function (mutations, observer) {{\n",
              "        var display = window.getComputedStyle(gd).display;\n",
              "        if (!display || display === 'none') {{\n",
              "            console.log([gd, 'removed!']);\n",
              "            Plotly.purge(gd);\n",
              "            observer.disconnect();\n",
              "        }}\n",
              "}});\n",
              "\n",
              "// Listen for the removal of the full notebook cells\n",
              "var notebookContainer = gd.closest('#notebook-container');\n",
              "if (notebookContainer) {{\n",
              "    x.observe(notebookContainer, {childList: true});\n",
              "}}\n",
              "\n",
              "// Listen for the clearing of the current output cell\n",
              "var outputEl = gd.closest('.output');\n",
              "if (outputEl) {{\n",
              "    x.observe(outputEl, {childList: true});\n",
              "}}\n",
              "\n",
              "                        })\n",
              "                };\n",
              "                \n",
              "            </script>\n",
              "        </div>\n",
              "</body>\n",
              "</html>"
            ]
          },
          "metadata": {
            "tags": []
          }
        }
      ]
    },
    {
      "cell_type": "markdown",
      "metadata": {
        "id": "s32URVZgzRWj"
      },
      "source": [
        "![Screenshot (78).png](data:image/png;base64,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)"
      ]
    },
    {
      "cell_type": "markdown",
      "metadata": {
        "id": "Pp-hWMFczW8z"
      },
      "source": [
        "So, according to country GDP, Luxerbour and Singapour are in top position.Nepal position in 122 in world.Again,In South Asia Maldives have highest GDP ."
      ]
    },
    {
      "cell_type": "markdown",
      "metadata": {
        "id": "57HZHWQuz2db"
      },
      "source": [
        "**rank according to Perceptions of corruption**"
      ]
    },
    {
      "cell_type": "code",
      "metadata": {
        "colab": {
          "base_uri": "https://localhost:8080/",
          "height": 542
        },
        "id": "jaJ0YWVhckV9",
        "outputId": "d58f33c8-4280-485e-83e9-5a35fe6b5db2"
      },
      "source": [
        "\n",
        "df=df.sort_values(by='Perceptions of corruption',ascending=False,ignore_index=True)\n",
        "df_south=df[df['Regional indicator']=='South Asia']\n",
        "final=pd.concat([df.loc[0:1],df_south])\n",
        "px.bar(data_frame=final,x='Country name',y='Perceptions of corruption',text=final.index+1,title='rank according to Perceptions of corruption')"
      ],
      "execution_count": null,
      "outputs": [
        {
          "output_type": "display_data",
          "data": {
            "text/html": [
              "<html>\n",
              "<head><meta charset=\"utf-8\" /></head>\n",
              "<body>\n",
              "    <div>\n",
              "            <script src=\"https://cdnjs.cloudflare.com/ajax/libs/mathjax/2.7.5/MathJax.js?config=TeX-AMS-MML_SVG\"></script><script type=\"text/javascript\">if (window.MathJax) {MathJax.Hub.Config({SVG: {font: \"STIX-Web\"}});}</script>\n",
              "                <script type=\"text/javascript\">window.PlotlyConfig = {MathJaxConfig: 'local'};</script>\n",
              "        <script src=\"https://cdn.plot.ly/plotly-latest.min.js\"></script>    \n",
              "            <div id=\"1d729e59-7cc7-4662-a76f-4f21da66753a\" class=\"plotly-graph-div\" style=\"height:525px; width:100%;\"></div>\n",
              "            <script type=\"text/javascript\">\n",
              "                \n",
              "                    window.PLOTLYENV=window.PLOTLYENV || {};\n",
              "                    \n",
              "                if (document.getElementById(\"1d729e59-7cc7-4662-a76f-4f21da66753a\")) {\n",
              "                    Plotly.newPlot(\n",
              "                        '1d729e59-7cc7-4662-a76f-4f21da66753a',\n",
              "                        [{\"alignmentgroup\": \"True\", \"hoverlabel\": {\"namelength\": 0}, \"hovertemplate\": \"Country name=%{x}<br>Perceptions of corruption=%{y}<br>text=%{text}\", \"legendgroup\": \"\", \"marker\": {\"color\": \"#636efa\"}, \"name\": \"\", \"offsetgroup\": \"\", \"orientation\": \"v\", \"showlegend\": false, \"text\": [1.0, 2.0, 5.0, 29.0, 52.0, 74.0, 78.0, 96.0, 110.0], \"textposition\": \"auto\", \"type\": \"bar\", \"x\": [\"Croatia\", \"Romania\", \"Afghanistan\", \"Sri Lanka\", \"Maldives\", \"Pakistan\", \"India\", \"Nepal\", \"Bangladesh\"], \"xaxis\": \"x\", \"y\": [0.9390000000000001, 0.938, 0.924, 0.863, 0.825, 0.787, 0.774, 0.727, 0.682], \"yaxis\": \"y\"}],\n",
              "                        {\"barmode\": \"relative\", \"legend\": {\"tracegroupgap\": 0}, \"template\": {\"data\": {\"bar\": [{\"error_x\": {\"color\": \"#2a3f5f\"}, \"error_y\": {\"color\": \"#2a3f5f\"}, \"marker\": {\"line\": {\"color\": \"#E5ECF6\", \"width\": 0.5}}, \"type\": \"bar\"}], \"barpolar\": [{\"marker\": {\"line\": {\"color\": \"#E5ECF6\", \"width\": 0.5}}, \"type\": \"barpolar\"}], \"carpet\": [{\"aaxis\": {\"endlinecolor\": \"#2a3f5f\", \"gridcolor\": \"white\", \"linecolor\": \"white\", \"minorgridcolor\": \"white\", \"startlinecolor\": \"#2a3f5f\"}, \"baxis\": {\"endlinecolor\": \"#2a3f5f\", \"gridcolor\": \"white\", \"linecolor\": \"white\", \"minorgridcolor\": \"white\", \"startlinecolor\": \"#2a3f5f\"}, \"type\": \"carpet\"}], \"choropleth\": [{\"colorbar\": {\"outlinewidth\": 0, \"ticks\": \"\"}, \"type\": \"choropleth\"}], \"contour\": [{\"colorbar\": {\"outlinewidth\": 0, \"ticks\": \"\"}, \"colorscale\": [[0.0, \"#0d0887\"], [0.1111111111111111, \"#46039f\"], [0.2222222222222222, \"#7201a8\"], [0.3333333333333333, \"#9c179e\"], [0.4444444444444444, \"#bd3786\"], [0.5555555555555556, \"#d8576b\"], [0.6666666666666666, \"#ed7953\"], [0.7777777777777778, \"#fb9f3a\"], [0.8888888888888888, \"#fdca26\"], [1.0, \"#f0f921\"]], \"type\": \"contour\"}], \"contourcarpet\": [{\"colorbar\": {\"outlinewidth\": 0, \"ticks\": \"\"}, \"type\": \"contourcarpet\"}], \"heatmap\": [{\"colorbar\": {\"outlinewidth\": 0, \"ticks\": \"\"}, \"colorscale\": [[0.0, \"#0d0887\"], [0.1111111111111111, \"#46039f\"], [0.2222222222222222, \"#7201a8\"], [0.3333333333333333, \"#9c179e\"], [0.4444444444444444, \"#bd3786\"], [0.5555555555555556, \"#d8576b\"], [0.6666666666666666, \"#ed7953\"], [0.7777777777777778, \"#fb9f3a\"], [0.8888888888888888, \"#fdca26\"], [1.0, \"#f0f921\"]], \"type\": \"heatmap\"}], \"heatmapgl\": [{\"colorbar\": {\"outlinewidth\": 0, \"ticks\": \"\"}, \"colorscale\": [[0.0, \"#0d0887\"], [0.1111111111111111, \"#46039f\"], [0.2222222222222222, \"#7201a8\"], [0.3333333333333333, \"#9c179e\"], [0.4444444444444444, \"#bd3786\"], [0.5555555555555556, \"#d8576b\"], [0.6666666666666666, \"#ed7953\"], [0.7777777777777778, \"#fb9f3a\"], [0.8888888888888888, \"#fdca26\"], [1.0, \"#f0f921\"]], \"type\": \"heatmapgl\"}], \"histogram\": [{\"marker\": {\"colorbar\": {\"outlinewidth\": 0, \"ticks\": \"\"}}, \"type\": \"histogram\"}], \"histogram2d\": [{\"colorbar\": {\"outlinewidth\": 0, \"ticks\": \"\"}, \"colorscale\": [[0.0, \"#0d0887\"], [0.1111111111111111, \"#46039f\"], [0.2222222222222222, \"#7201a8\"], [0.3333333333333333, \"#9c179e\"], [0.4444444444444444, \"#bd3786\"], [0.5555555555555556, \"#d8576b\"], [0.6666666666666666, \"#ed7953\"], [0.7777777777777778, \"#fb9f3a\"], [0.8888888888888888, \"#fdca26\"], [1.0, \"#f0f921\"]], \"type\": \"histogram2d\"}], \"histogram2dcontour\": [{\"colorbar\": {\"outlinewidth\": 0, \"ticks\": \"\"}, \"colorscale\": [[0.0, \"#0d0887\"], [0.1111111111111111, \"#46039f\"], [0.2222222222222222, \"#7201a8\"], [0.3333333333333333, \"#9c179e\"], [0.4444444444444444, \"#bd3786\"], [0.5555555555555556, \"#d8576b\"], [0.6666666666666666, \"#ed7953\"], [0.7777777777777778, \"#fb9f3a\"], [0.8888888888888888, \"#fdca26\"], [1.0, \"#f0f921\"]], \"type\": \"histogram2dcontour\"}], \"mesh3d\": [{\"colorbar\": {\"outlinewidth\": 0, \"ticks\": \"\"}, \"type\": \"mesh3d\"}], \"parcoords\": [{\"line\": {\"colorbar\": {\"outlinewidth\": 0, \"ticks\": \"\"}}, \"type\": \"parcoords\"}], \"pie\": [{\"automargin\": true, \"type\": \"pie\"}], \"scatter\": [{\"marker\": {\"colorbar\": {\"outlinewidth\": 0, \"ticks\": \"\"}}, \"type\": \"scatter\"}], \"scatter3d\": [{\"line\": {\"colorbar\": {\"outlinewidth\": 0, \"ticks\": \"\"}}, \"marker\": {\"colorbar\": {\"outlinewidth\": 0, \"ticks\": \"\"}}, \"type\": \"scatter3d\"}], \"scattercarpet\": [{\"marker\": {\"colorbar\": {\"outlinewidth\": 0, \"ticks\": \"\"}}, \"type\": \"scattercarpet\"}], \"scattergeo\": [{\"marker\": {\"colorbar\": {\"outlinewidth\": 0, \"ticks\": \"\"}}, \"type\": \"scattergeo\"}], \"scattergl\": [{\"marker\": {\"colorbar\": {\"outlinewidth\": 0, \"ticks\": \"\"}}, \"type\": \"scattergl\"}], \"scattermapbox\": [{\"marker\": {\"colorbar\": {\"outlinewidth\": 0, \"ticks\": \"\"}}, \"type\": \"scattermapbox\"}], \"scatterpolar\": [{\"marker\": {\"colorbar\": {\"outlinewidth\": 0, \"ticks\": \"\"}}, \"type\": \"scatterpolar\"}], \"scatterpolargl\": [{\"marker\": {\"colorbar\": {\"outlinewidth\": 0, \"ticks\": \"\"}}, \"type\": \"scatterpolargl\"}], \"scatterternary\": [{\"marker\": {\"colorbar\": {\"outlinewidth\": 0, \"ticks\": \"\"}}, \"type\": \"scatterternary\"}], \"surface\": [{\"colorbar\": {\"outlinewidth\": 0, \"ticks\": \"\"}, \"colorscale\": [[0.0, \"#0d0887\"], [0.1111111111111111, \"#46039f\"], [0.2222222222222222, \"#7201a8\"], [0.3333333333333333, \"#9c179e\"], [0.4444444444444444, \"#bd3786\"], [0.5555555555555556, \"#d8576b\"], [0.6666666666666666, \"#ed7953\"], [0.7777777777777778, \"#fb9f3a\"], [0.8888888888888888, \"#fdca26\"], [1.0, \"#f0f921\"]], \"type\": \"surface\"}], \"table\": [{\"cells\": {\"fill\": {\"color\": \"#EBF0F8\"}, \"line\": {\"color\": \"white\"}}, \"header\": {\"fill\": {\"color\": \"#C8D4E3\"}, \"line\": {\"color\": \"white\"}}, \"type\": \"table\"}]}, \"layout\": {\"annotationdefaults\": {\"arrowcolor\": \"#2a3f5f\", \"arrowhead\": 0, \"arrowwidth\": 1}, \"coloraxis\": {\"colorbar\": {\"outlinewidth\": 0, \"ticks\": \"\"}}, \"colorscale\": {\"diverging\": [[0, \"#8e0152\"], [0.1, \"#c51b7d\"], [0.2, \"#de77ae\"], [0.3, \"#f1b6da\"], [0.4, \"#fde0ef\"], [0.5, \"#f7f7f7\"], [0.6, \"#e6f5d0\"], [0.7, \"#b8e186\"], [0.8, \"#7fbc41\"], [0.9, \"#4d9221\"], [1, \"#276419\"]], \"sequential\": [[0.0, \"#0d0887\"], [0.1111111111111111, \"#46039f\"], [0.2222222222222222, \"#7201a8\"], [0.3333333333333333, \"#9c179e\"], [0.4444444444444444, \"#bd3786\"], [0.5555555555555556, \"#d8576b\"], [0.6666666666666666, \"#ed7953\"], [0.7777777777777778, \"#fb9f3a\"], [0.8888888888888888, \"#fdca26\"], [1.0, \"#f0f921\"]], \"sequentialminus\": [[0.0, \"#0d0887\"], [0.1111111111111111, \"#46039f\"], [0.2222222222222222, \"#7201a8\"], [0.3333333333333333, \"#9c179e\"], [0.4444444444444444, \"#bd3786\"], [0.5555555555555556, \"#d8576b\"], [0.6666666666666666, \"#ed7953\"], [0.7777777777777778, \"#fb9f3a\"], [0.8888888888888888, \"#fdca26\"], [1.0, \"#f0f921\"]]}, \"colorway\": [\"#636efa\", \"#EF553B\", \"#00cc96\", \"#ab63fa\", \"#FFA15A\", \"#19d3f3\", \"#FF6692\", \"#B6E880\", \"#FF97FF\", \"#FECB52\"], \"font\": {\"color\": \"#2a3f5f\"}, \"geo\": {\"bgcolor\": \"white\", \"lakecolor\": \"white\", \"landcolor\": \"#E5ECF6\", \"showlakes\": true, \"showland\": true, \"subunitcolor\": \"white\"}, \"hoverlabel\": {\"align\": \"left\"}, \"hovermode\": \"closest\", \"mapbox\": {\"style\": \"light\"}, \"paper_bgcolor\": \"white\", \"plot_bgcolor\": \"#E5ECF6\", \"polar\": {\"angularaxis\": {\"gridcolor\": \"white\", \"linecolor\": \"white\", \"ticks\": \"\"}, \"bgcolor\": \"#E5ECF6\", \"radialaxis\": {\"gridcolor\": \"white\", \"linecolor\": \"white\", \"ticks\": \"\"}}, \"scene\": {\"xaxis\": {\"backgroundcolor\": \"#E5ECF6\", \"gridcolor\": \"white\", \"gridwidth\": 2, \"linecolor\": \"white\", \"showbackground\": true, \"ticks\": \"\", \"zerolinecolor\": \"white\"}, \"yaxis\": {\"backgroundcolor\": \"#E5ECF6\", \"gridcolor\": \"white\", \"gridwidth\": 2, \"linecolor\": \"white\", \"showbackground\": true, \"ticks\": \"\", \"zerolinecolor\": \"white\"}, \"zaxis\": {\"backgroundcolor\": \"#E5ECF6\", \"gridcolor\": \"white\", \"gridwidth\": 2, \"linecolor\": \"white\", \"showbackground\": true, \"ticks\": \"\", \"zerolinecolor\": \"white\"}}, \"shapedefaults\": {\"line\": {\"color\": \"#2a3f5f\"}}, \"ternary\": {\"aaxis\": {\"gridcolor\": \"white\", \"linecolor\": \"white\", \"ticks\": \"\"}, \"baxis\": {\"gridcolor\": \"white\", \"linecolor\": \"white\", \"ticks\": \"\"}, \"bgcolor\": \"#E5ECF6\", \"caxis\": {\"gridcolor\": \"white\", \"linecolor\": \"white\", \"ticks\": \"\"}}, \"title\": {\"x\": 0.05}, \"xaxis\": {\"automargin\": true, \"gridcolor\": \"white\", \"linecolor\": \"white\", \"ticks\": \"\", \"title\": {\"standoff\": 15}, \"zerolinecolor\": \"white\", \"zerolinewidth\": 2}, \"yaxis\": {\"automargin\": true, \"gridcolor\": \"white\", \"linecolor\": \"white\", \"ticks\": \"\", \"title\": {\"standoff\": 15}, \"zerolinecolor\": \"white\", \"zerolinewidth\": 2}}}, \"title\": {\"text\": \"rank according to Perceptions of corruption\"}, \"xaxis\": {\"anchor\": \"y\", \"domain\": [0.0, 1.0], \"title\": {\"text\": \"Country name\"}}, \"yaxis\": {\"anchor\": \"x\", \"domain\": [0.0, 1.0], \"title\": {\"text\": \"Perceptions of corruption\"}}},\n",
              "                        {\"responsive\": true}\n",
              "                    ).then(function(){\n",
              "                            \n",
              "var gd = document.getElementById('1d729e59-7cc7-4662-a76f-4f21da66753a');\n",
              "var x = new MutationObserver(function (mutations, observer) {{\n",
              "        var display = window.getComputedStyle(gd).display;\n",
              "        if (!display || display === 'none') {{\n",
              "            console.log([gd, 'removed!']);\n",
              "            Plotly.purge(gd);\n",
              "            observer.disconnect();\n",
              "        }}\n",
              "}});\n",
              "\n",
              "// Listen for the removal of the full notebook cells\n",
              "var notebookContainer = gd.closest('#notebook-container');\n",
              "if (notebookContainer) {{\n",
              "    x.observe(notebookContainer, {childList: true});\n",
              "}}\n",
              "\n",
              "// Listen for the clearing of the current output cell\n",
              "var outputEl = gd.closest('.output');\n",
              "if (outputEl) {{\n",
              "    x.observe(outputEl, {childList: true});\n",
              "}}\n",
              "\n",
              "                        })\n",
              "                };\n",
              "                \n",
              "            </script>\n",
              "        </div>\n",
              "</body>\n",
              "</html>"
            ]
          },
          "metadata": {
            "tags": []
          }
        }
      ]
    },
    {
      "cell_type": "markdown",
      "metadata": {
        "id": "Z_kXdZgc0r00"
      },
      "source": [
        "![Screenshot (80).png](data:image/png;base64,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)"
      ]
    },
    {
      "cell_type": "markdown",
      "metadata": {
        "id": "qdCSB9hl0xD9"
      },
      "source": [
        "From the point of view of corruption,Crotia is the most corrupted country and in south asian Afghanistan is the most corrupted country.Nepal is in position 96.Srilanka is least corrputed country among south asian countries.\n"
      ]
    },
    {
      "cell_type": "markdown",
      "metadata": {
        "id": "giY1rY801ZMw"
      },
      "source": [
        "**rank according  to social support**"
      ]
    },
    {
      "cell_type": "code",
      "metadata": {
        "colab": {
          "base_uri": "https://localhost:8080/",
          "height": 542
        },
        "id": "WfRc9r6RJz08",
        "outputId": "494d6076-f18e-4ee5-f35e-d806e25b51aa"
      },
      "source": [
        "df=df.sort_values(by='Social support',ascending=False,ignore_index=True)\n",
        "df_south=df[df['Regional indicator']=='South Asia']\n",
        "final=pd.concat([df.loc[0:1],df_south])\n",
        "px.bar(data_frame=final,x='Country name',y='Social support',text=final.index+1,title=f'rank according  to social support')"
      ],
      "execution_count": null,
      "outputs": [
        {
          "output_type": "display_data",
          "data": {
            "text/html": [
              "<html>\n",
              "<head><meta charset=\"utf-8\" /></head>\n",
              "<body>\n",
              "    <div>\n",
              "            <script src=\"https://cdnjs.cloudflare.com/ajax/libs/mathjax/2.7.5/MathJax.js?config=TeX-AMS-MML_SVG\"></script><script type=\"text/javascript\">if (window.MathJax) {MathJax.Hub.Config({SVG: {font: \"STIX-Web\"}});}</script>\n",
              "                <script type=\"text/javascript\">window.PlotlyConfig = {MathJaxConfig: 'local'};</script>\n",
              "        <script src=\"https://cdn.plot.ly/plotly-latest.min.js\"></script>    \n",
              "            <div id=\"aebef6d8-8a4f-4f4d-9c6f-7c84cc7b6afb\" class=\"plotly-graph-div\" style=\"height:525px; width:100%;\"></div>\n",
              "            <script type=\"text/javascript\">\n",
              "                \n",
              "                    window.PLOTLYENV=window.PLOTLYENV || {};\n",
              "                    \n",
              "                if (document.getElementById(\"aebef6d8-8a4f-4f4d-9c6f-7c84cc7b6afb\")) {\n",
              "                    Plotly.newPlot(\n",
              "                        'aebef6d8-8a4f-4f4d-9c6f-7c84cc7b6afb',\n",
              "                        [{\"alignmentgroup\": \"True\", \"hoverlabel\": {\"namelength\": 0}, \"hovertemplate\": \"Country name=%{x}<br>Social support=%{y}<br>text=%{text}\", \"legendgroup\": \"\", \"marker\": {\"color\": \"#636efa\"}, \"name\": \"\", \"offsetgroup\": \"\", \"orientation\": \"v\", \"showlegend\": false, \"text\": [1.0, 2.0, 34.0, 79.0, 105.0, 126.0, 133.0, 141.0, 149.0], \"textposition\": \"auto\", \"type\": \"bar\", \"x\": [\"Turkmenistan\", \"Iceland\", \"Maldives\", \"Sri Lanka\", \"Nepal\", \"Bangladesh\", \"Pakistan\", \"India\", \"Afghanistan\"], \"xaxis\": \"x\", \"y\": [0.983, 0.983, 0.9129999999999999, 0.8270000000000001, 0.774, 0.693, 0.6509999999999999, 0.603, 0.46299999999999997], \"yaxis\": \"y\"}],\n",
              "                        {\"barmode\": \"relative\", \"legend\": {\"tracegroupgap\": 0}, \"template\": {\"data\": {\"bar\": [{\"error_x\": {\"color\": \"#2a3f5f\"}, \"error_y\": {\"color\": \"#2a3f5f\"}, \"marker\": {\"line\": {\"color\": \"#E5ECF6\", \"width\": 0.5}}, \"type\": \"bar\"}], \"barpolar\": [{\"marker\": {\"line\": {\"color\": \"#E5ECF6\", \"width\": 0.5}}, \"type\": \"barpolar\"}], \"carpet\": [{\"aaxis\": {\"endlinecolor\": \"#2a3f5f\", \"gridcolor\": \"white\", \"linecolor\": \"white\", \"minorgridcolor\": \"white\", \"startlinecolor\": \"#2a3f5f\"}, \"baxis\": {\"endlinecolor\": \"#2a3f5f\", \"gridcolor\": \"white\", \"linecolor\": \"white\", \"minorgridcolor\": \"white\", \"startlinecolor\": \"#2a3f5f\"}, \"type\": \"carpet\"}], \"choropleth\": [{\"colorbar\": {\"outlinewidth\": 0, \"ticks\": \"\"}, \"type\": \"choropleth\"}], \"contour\": [{\"colorbar\": {\"outlinewidth\": 0, \"ticks\": \"\"}, \"colorscale\": [[0.0, \"#0d0887\"], [0.1111111111111111, \"#46039f\"], [0.2222222222222222, \"#7201a8\"], [0.3333333333333333, \"#9c179e\"], [0.4444444444444444, \"#bd3786\"], [0.5555555555555556, \"#d8576b\"], [0.6666666666666666, \"#ed7953\"], [0.7777777777777778, \"#fb9f3a\"], [0.8888888888888888, \"#fdca26\"], [1.0, \"#f0f921\"]], \"type\": \"contour\"}], \"contourcarpet\": [{\"colorbar\": {\"outlinewidth\": 0, \"ticks\": \"\"}, \"type\": \"contourcarpet\"}], \"heatmap\": [{\"colorbar\": {\"outlinewidth\": 0, \"ticks\": \"\"}, \"colorscale\": [[0.0, \"#0d0887\"], [0.1111111111111111, \"#46039f\"], [0.2222222222222222, \"#7201a8\"], [0.3333333333333333, \"#9c179e\"], [0.4444444444444444, \"#bd3786\"], [0.5555555555555556, \"#d8576b\"], [0.6666666666666666, \"#ed7953\"], [0.7777777777777778, \"#fb9f3a\"], [0.8888888888888888, \"#fdca26\"], [1.0, \"#f0f921\"]], \"type\": \"heatmap\"}], \"heatmapgl\": [{\"colorbar\": {\"outlinewidth\": 0, \"ticks\": \"\"}, \"colorscale\": [[0.0, \"#0d0887\"], [0.1111111111111111, \"#46039f\"], [0.2222222222222222, \"#7201a8\"], [0.3333333333333333, \"#9c179e\"], [0.4444444444444444, \"#bd3786\"], [0.5555555555555556, \"#d8576b\"], [0.6666666666666666, \"#ed7953\"], [0.7777777777777778, \"#fb9f3a\"], [0.8888888888888888, \"#fdca26\"], [1.0, \"#f0f921\"]], \"type\": \"heatmapgl\"}], \"histogram\": [{\"marker\": {\"colorbar\": {\"outlinewidth\": 0, \"ticks\": \"\"}}, \"type\": \"histogram\"}], \"histogram2d\": [{\"colorbar\": {\"outlinewidth\": 0, \"ticks\": \"\"}, \"colorscale\": [[0.0, \"#0d0887\"], [0.1111111111111111, \"#46039f\"], [0.2222222222222222, \"#7201a8\"], [0.3333333333333333, \"#9c179e\"], [0.4444444444444444, \"#bd3786\"], [0.5555555555555556, \"#d8576b\"], [0.6666666666666666, \"#ed7953\"], [0.7777777777777778, \"#fb9f3a\"], [0.8888888888888888, \"#fdca26\"], [1.0, \"#f0f921\"]], \"type\": \"histogram2d\"}], \"histogram2dcontour\": [{\"colorbar\": {\"outlinewidth\": 0, \"ticks\": \"\"}, \"colorscale\": [[0.0, \"#0d0887\"], [0.1111111111111111, \"#46039f\"], [0.2222222222222222, \"#7201a8\"], [0.3333333333333333, \"#9c179e\"], [0.4444444444444444, \"#bd3786\"], [0.5555555555555556, \"#d8576b\"], [0.6666666666666666, \"#ed7953\"], [0.7777777777777778, \"#fb9f3a\"], [0.8888888888888888, \"#fdca26\"], [1.0, \"#f0f921\"]], \"type\": \"histogram2dcontour\"}], \"mesh3d\": [{\"colorbar\": {\"outlinewidth\": 0, \"ticks\": \"\"}, \"type\": \"mesh3d\"}], \"parcoords\": [{\"line\": {\"colorbar\": {\"outlinewidth\": 0, \"ticks\": \"\"}}, \"type\": \"parcoords\"}], \"pie\": [{\"automargin\": true, \"type\": \"pie\"}], \"scatter\": [{\"marker\": {\"colorbar\": {\"outlinewidth\": 0, \"ticks\": \"\"}}, \"type\": \"scatter\"}], \"scatter3d\": [{\"line\": {\"colorbar\": {\"outlinewidth\": 0, \"ticks\": \"\"}}, \"marker\": {\"colorbar\": {\"outlinewidth\": 0, \"ticks\": \"\"}}, \"type\": \"scatter3d\"}], \"scattercarpet\": [{\"marker\": {\"colorbar\": {\"outlinewidth\": 0, \"ticks\": \"\"}}, \"type\": \"scattercarpet\"}], \"scattergeo\": [{\"marker\": {\"colorbar\": {\"outlinewidth\": 0, \"ticks\": \"\"}}, \"type\": \"scattergeo\"}], \"scattergl\": [{\"marker\": {\"colorbar\": {\"outlinewidth\": 0, \"ticks\": \"\"}}, \"type\": \"scattergl\"}], \"scattermapbox\": [{\"marker\": {\"colorbar\": {\"outlinewidth\": 0, \"ticks\": \"\"}}, \"type\": \"scattermapbox\"}], \"scatterpolar\": [{\"marker\": {\"colorbar\": {\"outlinewidth\": 0, \"ticks\": \"\"}}, \"type\": \"scatterpolar\"}], \"scatterpolargl\": [{\"marker\": {\"colorbar\": {\"outlinewidth\": 0, \"ticks\": \"\"}}, \"type\": \"scatterpolargl\"}], \"scatterternary\": [{\"marker\": {\"colorbar\": {\"outlinewidth\": 0, \"ticks\": \"\"}}, \"type\": \"scatterternary\"}], \"surface\": [{\"colorbar\": {\"outlinewidth\": 0, \"ticks\": \"\"}, \"colorscale\": [[0.0, \"#0d0887\"], [0.1111111111111111, \"#46039f\"], [0.2222222222222222, \"#7201a8\"], [0.3333333333333333, \"#9c179e\"], [0.4444444444444444, \"#bd3786\"], [0.5555555555555556, \"#d8576b\"], [0.6666666666666666, \"#ed7953\"], [0.7777777777777778, \"#fb9f3a\"], [0.8888888888888888, \"#fdca26\"], [1.0, \"#f0f921\"]], \"type\": \"surface\"}], \"table\": [{\"cells\": {\"fill\": {\"color\": \"#EBF0F8\"}, \"line\": {\"color\": \"white\"}}, \"header\": {\"fill\": {\"color\": \"#C8D4E3\"}, \"line\": {\"color\": \"white\"}}, \"type\": \"table\"}]}, \"layout\": {\"annotationdefaults\": {\"arrowcolor\": \"#2a3f5f\", \"arrowhead\": 0, \"arrowwidth\": 1}, \"coloraxis\": {\"colorbar\": {\"outlinewidth\": 0, \"ticks\": \"\"}}, \"colorscale\": {\"diverging\": [[0, \"#8e0152\"], [0.1, \"#c51b7d\"], [0.2, \"#de77ae\"], [0.3, \"#f1b6da\"], [0.4, \"#fde0ef\"], [0.5, \"#f7f7f7\"], [0.6, \"#e6f5d0\"], [0.7, \"#b8e186\"], [0.8, \"#7fbc41\"], [0.9, \"#4d9221\"], [1, \"#276419\"]], \"sequential\": [[0.0, \"#0d0887\"], [0.1111111111111111, \"#46039f\"], [0.2222222222222222, \"#7201a8\"], [0.3333333333333333, \"#9c179e\"], [0.4444444444444444, \"#bd3786\"], [0.5555555555555556, \"#d8576b\"], [0.6666666666666666, \"#ed7953\"], [0.7777777777777778, \"#fb9f3a\"], [0.8888888888888888, \"#fdca26\"], [1.0, \"#f0f921\"]], \"sequentialminus\": [[0.0, \"#0d0887\"], [0.1111111111111111, \"#46039f\"], [0.2222222222222222, \"#7201a8\"], [0.3333333333333333, \"#9c179e\"], [0.4444444444444444, \"#bd3786\"], [0.5555555555555556, \"#d8576b\"], [0.6666666666666666, \"#ed7953\"], [0.7777777777777778, \"#fb9f3a\"], [0.8888888888888888, \"#fdca26\"], [1.0, \"#f0f921\"]]}, \"colorway\": [\"#636efa\", \"#EF553B\", \"#00cc96\", \"#ab63fa\", \"#FFA15A\", \"#19d3f3\", \"#FF6692\", \"#B6E880\", \"#FF97FF\", \"#FECB52\"], \"font\": {\"color\": \"#2a3f5f\"}, \"geo\": {\"bgcolor\": \"white\", \"lakecolor\": \"white\", \"landcolor\": \"#E5ECF6\", \"showlakes\": true, \"showland\": true, \"subunitcolor\": \"white\"}, \"hoverlabel\": {\"align\": \"left\"}, \"hovermode\": \"closest\", \"mapbox\": {\"style\": \"light\"}, \"paper_bgcolor\": \"white\", \"plot_bgcolor\": \"#E5ECF6\", \"polar\": {\"angularaxis\": {\"gridcolor\": \"white\", \"linecolor\": \"white\", \"ticks\": \"\"}, \"bgcolor\": \"#E5ECF6\", \"radialaxis\": {\"gridcolor\": \"white\", \"linecolor\": \"white\", \"ticks\": \"\"}}, \"scene\": {\"xaxis\": {\"backgroundcolor\": \"#E5ECF6\", \"gridcolor\": \"white\", \"gridwidth\": 2, \"linecolor\": \"white\", \"showbackground\": true, \"ticks\": \"\", \"zerolinecolor\": \"white\"}, \"yaxis\": {\"backgroundcolor\": \"#E5ECF6\", \"gridcolor\": \"white\", \"gridwidth\": 2, \"linecolor\": \"white\", \"showbackground\": true, \"ticks\": \"\", \"zerolinecolor\": \"white\"}, \"zaxis\": {\"backgroundcolor\": \"#E5ECF6\", \"gridcolor\": \"white\", \"gridwidth\": 2, \"linecolor\": \"white\", \"showbackground\": true, \"ticks\": \"\", \"zerolinecolor\": \"white\"}}, \"shapedefaults\": {\"line\": {\"color\": \"#2a3f5f\"}}, \"ternary\": {\"aaxis\": {\"gridcolor\": \"white\", \"linecolor\": \"white\", \"ticks\": \"\"}, \"baxis\": {\"gridcolor\": \"white\", \"linecolor\": \"white\", \"ticks\": \"\"}, \"bgcolor\": \"#E5ECF6\", \"caxis\": {\"gridcolor\": \"white\", \"linecolor\": \"white\", \"ticks\": \"\"}}, \"title\": {\"x\": 0.05}, \"xaxis\": {\"automargin\": true, \"gridcolor\": \"white\", \"linecolor\": \"white\", \"ticks\": \"\", \"title\": {\"standoff\": 15}, \"zerolinecolor\": \"white\", \"zerolinewidth\": 2}, \"yaxis\": {\"automargin\": true, \"gridcolor\": \"white\", \"linecolor\": \"white\", \"ticks\": \"\", \"title\": {\"standoff\": 15}, \"zerolinecolor\": \"white\", \"zerolinewidth\": 2}}}, \"title\": {\"text\": \"rank according  to social support\"}, \"xaxis\": {\"anchor\": \"y\", \"domain\": [0.0, 1.0], \"title\": {\"text\": \"Country name\"}}, \"yaxis\": {\"anchor\": \"x\", \"domain\": [0.0, 1.0], \"title\": {\"text\": \"Social support\"}}},\n",
              "                        {\"responsive\": true}\n",
              "                    ).then(function(){\n",
              "                            \n",
              "var gd = document.getElementById('aebef6d8-8a4f-4f4d-9c6f-7c84cc7b6afb');\n",
              "var x = new MutationObserver(function (mutations, observer) {{\n",
              "        var display = window.getComputedStyle(gd).display;\n",
              "        if (!display || display === 'none') {{\n",
              "            console.log([gd, 'removed!']);\n",
              "            Plotly.purge(gd);\n",
              "            observer.disconnect();\n",
              "        }}\n",
              "}});\n",
              "\n",
              "// Listen for the removal of the full notebook cells\n",
              "var notebookContainer = gd.closest('#notebook-container');\n",
              "if (notebookContainer) {{\n",
              "    x.observe(notebookContainer, {childList: true});\n",
              "}}\n",
              "\n",
              "// Listen for the clearing of the current output cell\n",
              "var outputEl = gd.closest('.output');\n",
              "if (outputEl) {{\n",
              "    x.observe(outputEl, {childList: true});\n",
              "}}\n",
              "\n",
              "                        })\n",
              "                };\n",
              "                \n",
              "            </script>\n",
              "        </div>\n",
              "</body>\n",
              "</html>"
            ]
          },
          "metadata": {
            "tags": []
          }
        }
      ]
    },
    {
      "cell_type": "markdown",
      "metadata": {
        "id": "v-DhJhsf1dUq"
      },
      "source": [
        "![Screenshot (82).png](data:image/png;base64,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)"
      ]
    },
    {
      "cell_type": "markdown",
      "metadata": {
        "id": "Q_8gAwZX1rKk"
      },
      "source": [
        "From the point of view of social support.Nepal rank is 105 and Turkmenistan is top country.In south asias Maldives is the top  country and afphanistan is lowest county in south asia"
      ]
    },
    {
      "cell_type": "code",
      "metadata": {
        "id": "7qWeaVLJJz50"
      },
      "source": [
        ""
      ],
      "execution_count": null,
      "outputs": []
    },
    {
      "cell_type": "code",
      "metadata": {
        "id": "Atupnb3hJz8q"
      },
      "source": [
        ""
      ],
      "execution_count": null,
      "outputs": []
    },
    {
      "cell_type": "code",
      "metadata": {
        "id": "8bLhceHSJz_C"
      },
      "source": [
        "\n",
        " "
      ],
      "execution_count": null,
      "outputs": []
    }
  ]
}