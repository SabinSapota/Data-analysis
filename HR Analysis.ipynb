{
 "cells": [
  {
   "cell_type": "code",
   "execution_count": 1,
   "id": "c09f87b5",
   "metadata": {},
   "outputs": [],
   "source": [
    "import numpy as np \n",
    "import pandas as pd \n",
    "\n",
    "import matplotlib.pyplot as plt\n",
    "import seaborn as sns"
   ]
  },
  {
   "cell_type": "code",
   "execution_count": 2,
   "id": "d4131d2a",
   "metadata": {},
   "outputs": [
    {
     "data": {
      "text/html": [
       "<div>\n",
       "<style scoped>\n",
       "    .dataframe tbody tr th:only-of-type {\n",
       "        vertical-align: middle;\n",
       "    }\n",
       "\n",
       "    .dataframe tbody tr th {\n",
       "        vertical-align: top;\n",
       "    }\n",
       "\n",
       "    .dataframe thead th {\n",
       "        text-align: right;\n",
       "    }\n",
       "</style>\n",
       "<table border=\"1\" class=\"dataframe\">\n",
       "  <thead>\n",
       "    <tr style=\"text-align: right;\">\n",
       "      <th></th>\n",
       "      <th>enrollee_id</th>\n",
       "      <th>city</th>\n",
       "      <th>city_development_index</th>\n",
       "      <th>gender</th>\n",
       "      <th>relevent_experience</th>\n",
       "      <th>enrolled_university</th>\n",
       "      <th>education_level</th>\n",
       "      <th>major_discipline</th>\n",
       "      <th>experience</th>\n",
       "      <th>company_size</th>\n",
       "      <th>company_type</th>\n",
       "      <th>last_new_job</th>\n",
       "      <th>training_hours</th>\n",
       "      <th>target</th>\n",
       "    </tr>\n",
       "  </thead>\n",
       "  <tbody>\n",
       "    <tr>\n",
       "      <th>0</th>\n",
       "      <td>8949</td>\n",
       "      <td>city_103</td>\n",
       "      <td>0.920</td>\n",
       "      <td>Male</td>\n",
       "      <td>Has relevent experience</td>\n",
       "      <td>no_enrollment</td>\n",
       "      <td>Graduate</td>\n",
       "      <td>STEM</td>\n",
       "      <td>&gt;20</td>\n",
       "      <td>NaN</td>\n",
       "      <td>NaN</td>\n",
       "      <td>1</td>\n",
       "      <td>36</td>\n",
       "      <td>1.0</td>\n",
       "    </tr>\n",
       "    <tr>\n",
       "      <th>1</th>\n",
       "      <td>29725</td>\n",
       "      <td>city_40</td>\n",
       "      <td>0.776</td>\n",
       "      <td>Male</td>\n",
       "      <td>No relevent experience</td>\n",
       "      <td>no_enrollment</td>\n",
       "      <td>Graduate</td>\n",
       "      <td>STEM</td>\n",
       "      <td>15</td>\n",
       "      <td>50-99</td>\n",
       "      <td>Pvt Ltd</td>\n",
       "      <td>&gt;4</td>\n",
       "      <td>47</td>\n",
       "      <td>0.0</td>\n",
       "    </tr>\n",
       "    <tr>\n",
       "      <th>2</th>\n",
       "      <td>11561</td>\n",
       "      <td>city_21</td>\n",
       "      <td>0.624</td>\n",
       "      <td>NaN</td>\n",
       "      <td>No relevent experience</td>\n",
       "      <td>Full time course</td>\n",
       "      <td>Graduate</td>\n",
       "      <td>STEM</td>\n",
       "      <td>5</td>\n",
       "      <td>NaN</td>\n",
       "      <td>NaN</td>\n",
       "      <td>never</td>\n",
       "      <td>83</td>\n",
       "      <td>0.0</td>\n",
       "    </tr>\n",
       "    <tr>\n",
       "      <th>3</th>\n",
       "      <td>33241</td>\n",
       "      <td>city_115</td>\n",
       "      <td>0.789</td>\n",
       "      <td>NaN</td>\n",
       "      <td>No relevent experience</td>\n",
       "      <td>NaN</td>\n",
       "      <td>Graduate</td>\n",
       "      <td>Business Degree</td>\n",
       "      <td>&lt;1</td>\n",
       "      <td>NaN</td>\n",
       "      <td>Pvt Ltd</td>\n",
       "      <td>never</td>\n",
       "      <td>52</td>\n",
       "      <td>1.0</td>\n",
       "    </tr>\n",
       "    <tr>\n",
       "      <th>4</th>\n",
       "      <td>666</td>\n",
       "      <td>city_162</td>\n",
       "      <td>0.767</td>\n",
       "      <td>Male</td>\n",
       "      <td>Has relevent experience</td>\n",
       "      <td>no_enrollment</td>\n",
       "      <td>Masters</td>\n",
       "      <td>STEM</td>\n",
       "      <td>&gt;20</td>\n",
       "      <td>50-99</td>\n",
       "      <td>Funded Startup</td>\n",
       "      <td>4</td>\n",
       "      <td>8</td>\n",
       "      <td>0.0</td>\n",
       "    </tr>\n",
       "  </tbody>\n",
       "</table>\n",
       "</div>"
      ],
      "text/plain": [
       "   enrollee_id      city  city_development_index gender  \\\n",
       "0         8949  city_103                   0.920   Male   \n",
       "1        29725   city_40                   0.776   Male   \n",
       "2        11561   city_21                   0.624    NaN   \n",
       "3        33241  city_115                   0.789    NaN   \n",
       "4          666  city_162                   0.767   Male   \n",
       "\n",
       "       relevent_experience enrolled_university education_level  \\\n",
       "0  Has relevent experience       no_enrollment        Graduate   \n",
       "1   No relevent experience       no_enrollment        Graduate   \n",
       "2   No relevent experience    Full time course        Graduate   \n",
       "3   No relevent experience                 NaN        Graduate   \n",
       "4  Has relevent experience       no_enrollment         Masters   \n",
       "\n",
       "  major_discipline experience company_size    company_type last_new_job  \\\n",
       "0             STEM        >20          NaN             NaN            1   \n",
       "1             STEM         15        50-99         Pvt Ltd           >4   \n",
       "2             STEM          5          NaN             NaN        never   \n",
       "3  Business Degree         <1          NaN         Pvt Ltd        never   \n",
       "4             STEM        >20        50-99  Funded Startup            4   \n",
       "\n",
       "   training_hours  target  \n",
       "0              36     1.0  \n",
       "1              47     0.0  \n",
       "2              83     0.0  \n",
       "3              52     1.0  \n",
       "4               8     0.0  "
      ]
     },
     "execution_count": 2,
     "metadata": {},
     "output_type": "execute_result"
    }
   ],
   "source": [
    "#loading dataset\n",
    "df=pd.read_csv('aug_train.csv')\n",
    "df.head()"
   ]
  },
  {
   "cell_type": "code",
   "execution_count": 5,
   "id": "135a2b95",
   "metadata": {},
   "outputs": [
    {
     "data": {
      "text/plain": [
       "['gender',\n",
       " 'enrolled_university',\n",
       " 'education_level',\n",
       " 'major_discipline',\n",
       " 'experience',\n",
       " 'company_size',\n",
       " 'company_type',\n",
       " 'last_new_job']"
      ]
     },
     "execution_count": 5,
     "metadata": {},
     "output_type": "execute_result"
    }
   ],
   "source": [
    "#columns with missing value\n",
    "[col for col in df.columns if df[col].isna().any()]"
   ]
  },
  {
   "cell_type": "code",
   "execution_count": 7,
   "id": "9462e55e",
   "metadata": {},
   "outputs": [
    {
     "data": {
      "text/plain": [
       "(19158, 14)"
      ]
     },
     "execution_count": 7,
     "metadata": {},
     "output_type": "execute_result"
    }
   ],
   "source": [
    "df.shape"
   ]
  },
  {
   "cell_type": "code",
   "execution_count": 9,
   "id": "88ef9b16",
   "metadata": {},
   "outputs": [
    {
     "data": {
      "text/plain": [
       "enrollee_id                 int64\n",
       "city                       object\n",
       "city_development_index    float64\n",
       "gender                     object\n",
       "relevent_experience        object\n",
       "enrolled_university        object\n",
       "education_level            object\n",
       "major_discipline           object\n",
       "experience                 object\n",
       "company_size               object\n",
       "company_type               object\n",
       "last_new_job               object\n",
       "training_hours              int64\n",
       "target                    float64\n",
       "dtype: object"
      ]
     },
     "execution_count": 9,
     "metadata": {},
     "output_type": "execute_result"
    }
   ],
   "source": [
    "df.dtypes"
   ]
  },
  {
   "cell_type": "code",
   "execution_count": 11,
   "id": "ee190c93",
   "metadata": {},
   "outputs": [
    {
     "data": {
      "text/plain": [
       "enrollee_id                  0\n",
       "city                         0\n",
       "city_development_index       0\n",
       "gender                    4508\n",
       "relevent_experience          0\n",
       "enrolled_university        386\n",
       "education_level            460\n",
       "major_discipline          2813\n",
       "experience                  65\n",
       "company_size              5938\n",
       "company_type              6140\n",
       "last_new_job               423\n",
       "training_hours               0\n",
       "target                       0\n",
       "dtype: int64"
      ]
     },
     "execution_count": 11,
     "metadata": {},
     "output_type": "execute_result"
    }
   ],
   "source": [
    "#missing columns with value\n",
    "df.isna().sum()"
   ]
  },
  {
   "cell_type": "code",
   "execution_count": 13,
   "id": "097956a2",
   "metadata": {},
   "outputs": [
    {
     "data": {
      "text/plain": [
       "enrollee_id               19158\n",
       "city                        123\n",
       "city_development_index       93\n",
       "gender                        4\n",
       "relevent_experience           2\n",
       "enrolled_university           4\n",
       "education_level               6\n",
       "major_discipline              7\n",
       "experience                   23\n",
       "company_size                  9\n",
       "company_type                  7\n",
       "last_new_job                  7\n",
       "training_hours              241\n",
       "target                        2\n",
       "dtype: int64"
      ]
     },
     "execution_count": 13,
     "metadata": {},
     "output_type": "execute_result"
    }
   ],
   "source": [
    "#unique elements in each columns\n",
    "df.apply(lambda x:len(x.unique()))"
   ]
  },
  {
   "cell_type": "code",
   "execution_count": 15,
   "id": "1a0f9f3e",
   "metadata": {},
   "outputs": [
    {
     "data": {
      "text/plain": [
       "0"
      ]
     },
     "execution_count": 15,
     "metadata": {},
     "output_type": "execute_result"
    }
   ],
   "source": [
    "#cheack for duplicates\n",
    "df.duplicated().sum()"
   ]
  },
  {
   "cell_type": "code",
   "execution_count": 16,
   "id": "d943890e",
   "metadata": {},
   "outputs": [
    {
     "data": {
      "text/plain": [
       "enrollee_id                0.000000\n",
       "city                       0.000000\n",
       "city_development_index     0.000000\n",
       "gender                    23.530640\n",
       "relevent_experience        0.000000\n",
       "enrolled_university        2.014824\n",
       "education_level            2.401086\n",
       "major_discipline          14.683161\n",
       "experience                 0.339284\n",
       "company_size              30.994885\n",
       "company_type              32.049274\n",
       "last_new_job               2.207955\n",
       "training_hours             0.000000\n",
       "target                     0.000000\n",
       "dtype: float64"
      ]
     },
     "execution_count": 16,
     "metadata": {},
     "output_type": "execute_result"
    }
   ],
   "source": [
    "#calculating the percentage of the missing value\n",
    "missing_value = 100 * df.isnull().sum()/len(df)\n",
    "missing_value"
   ]
  },
  {
   "cell_type": "code",
   "execution_count": 17,
   "id": "5adcea95",
   "metadata": {},
   "outputs": [],
   "source": [
    "missing_value = missing_value.reset_index()\n",
    "missing_value.columns = ['variables','missing values in percentage']"
   ]
  },
  {
   "cell_type": "code",
   "execution_count": 18,
   "id": "58b45bb2",
   "metadata": {},
   "outputs": [
    {
     "data": {
      "text/html": [
       "<div>\n",
       "<style scoped>\n",
       "    .dataframe tbody tr th:only-of-type {\n",
       "        vertical-align: middle;\n",
       "    }\n",
       "\n",
       "    .dataframe tbody tr th {\n",
       "        vertical-align: top;\n",
       "    }\n",
       "\n",
       "    .dataframe thead th {\n",
       "        text-align: right;\n",
       "    }\n",
       "</style>\n",
       "<table border=\"1\" class=\"dataframe\">\n",
       "  <thead>\n",
       "    <tr style=\"text-align: right;\">\n",
       "      <th></th>\n",
       "      <th>variables</th>\n",
       "      <th>missing values in percentage</th>\n",
       "    </tr>\n",
       "  </thead>\n",
       "  <tbody>\n",
       "    <tr>\n",
       "      <th>0</th>\n",
       "      <td>enrollee_id</td>\n",
       "      <td>0.000000</td>\n",
       "    </tr>\n",
       "    <tr>\n",
       "      <th>1</th>\n",
       "      <td>city</td>\n",
       "      <td>0.000000</td>\n",
       "    </tr>\n",
       "    <tr>\n",
       "      <th>2</th>\n",
       "      <td>city_development_index</td>\n",
       "      <td>0.000000</td>\n",
       "    </tr>\n",
       "    <tr>\n",
       "      <th>3</th>\n",
       "      <td>gender</td>\n",
       "      <td>23.530640</td>\n",
       "    </tr>\n",
       "    <tr>\n",
       "      <th>4</th>\n",
       "      <td>relevent_experience</td>\n",
       "      <td>0.000000</td>\n",
       "    </tr>\n",
       "    <tr>\n",
       "      <th>5</th>\n",
       "      <td>enrolled_university</td>\n",
       "      <td>2.014824</td>\n",
       "    </tr>\n",
       "    <tr>\n",
       "      <th>6</th>\n",
       "      <td>education_level</td>\n",
       "      <td>2.401086</td>\n",
       "    </tr>\n",
       "    <tr>\n",
       "      <th>7</th>\n",
       "      <td>major_discipline</td>\n",
       "      <td>14.683161</td>\n",
       "    </tr>\n",
       "    <tr>\n",
       "      <th>8</th>\n",
       "      <td>experience</td>\n",
       "      <td>0.339284</td>\n",
       "    </tr>\n",
       "    <tr>\n",
       "      <th>9</th>\n",
       "      <td>company_size</td>\n",
       "      <td>30.994885</td>\n",
       "    </tr>\n",
       "    <tr>\n",
       "      <th>10</th>\n",
       "      <td>company_type</td>\n",
       "      <td>32.049274</td>\n",
       "    </tr>\n",
       "    <tr>\n",
       "      <th>11</th>\n",
       "      <td>last_new_job</td>\n",
       "      <td>2.207955</td>\n",
       "    </tr>\n",
       "    <tr>\n",
       "      <th>12</th>\n",
       "      <td>training_hours</td>\n",
       "      <td>0.000000</td>\n",
       "    </tr>\n",
       "    <tr>\n",
       "      <th>13</th>\n",
       "      <td>target</td>\n",
       "      <td>0.000000</td>\n",
       "    </tr>\n",
       "  </tbody>\n",
       "</table>\n",
       "</div>"
      ],
      "text/plain": [
       "                 variables  missing values in percentage\n",
       "0              enrollee_id                      0.000000\n",
       "1                     city                      0.000000\n",
       "2   city_development_index                      0.000000\n",
       "3                   gender                     23.530640\n",
       "4      relevent_experience                      0.000000\n",
       "5      enrolled_university                      2.014824\n",
       "6          education_level                      2.401086\n",
       "7         major_discipline                     14.683161\n",
       "8               experience                      0.339284\n",
       "9             company_size                     30.994885\n",
       "10            company_type                     32.049274\n",
       "11            last_new_job                      2.207955\n",
       "12          training_hours                      0.000000\n",
       "13                  target                      0.000000"
      ]
     },
     "execution_count": 18,
     "metadata": {},
     "output_type": "execute_result"
    }
   ],
   "source": [
    "missing_value"
   ]
  },
  {
   "cell_type": "code",
   "execution_count": 26,
   "id": "0c09d736",
   "metadata": {},
   "outputs": [
    {
     "data": {
      "image/png": "[encoded data removed]",
      "text/plain": [
       "<Figure size 720x504 with 1 Axes>"
      ]
     },
     "metadata": {
      "needs_background": "light"
     },
     "output_type": "display_data"
    }
   ],
   "source": [
    "xs=missing_value['variables']\n",
    "ys=missing_value['missing values in percentage']\n",
    "plt.figure(figsize = (10,7))\n",
    "plt.bar(xs,ys,color='maroon',alpha=.6,edgecolor='black')\n",
    "\n",
    "# zip joins x and y coordinates in pairs\n",
    "for x,y in zip(xs,ys):\n",
    "\n",
    "    label = \"{:.2f}\".format(y)\n",
    "\n",
    "    plt.annotate(label, # this is the text\n",
    "                 (x,y), # these are the coordinates to position the label\n",
    "                 textcoords=\"offset points\", # how to position the text\n",
    "                 xytext=(0,2), # distance from text to points (x,y)\n",
    "                 ha='center', # horizontal alignment can be left, right or center\n",
    "                 fontweight='bold')\n",
    "plt.title('Percentage of missing value')\n",
    "plt.xticks(rotation='vertical');"
   ]
  },
  {
   "cell_type": "markdown",
   "id": "f89084f0",
   "metadata": {},
   "source": [
    "# Top 10 city where people are leaving most"
   ]
  },
  {
   "cell_type": "code",
   "execution_count": 27,
   "id": "dfc75ba8",
   "metadata": {},
   "outputs": [
    {
     "data": {
      "text/plain": [
       "Index(['enrollee_id', 'city', 'city_development_index', 'gender',\n",
       "       'relevent_experience', 'enrolled_university', 'education_level',\n",
       "       'major_discipline', 'experience', 'company_size', 'company_type',\n",
       "       'last_new_job', 'training_hours', 'target'],\n",
       "      dtype='object')"
      ]
     },
     "execution_count": 27,
     "metadata": {},
     "output_type": "execute_result"
    }
   ],
   "source": [
    "df.columns"
   ]
  },
  {
   "cell_type": "code",
   "execution_count": 28,
   "id": "ea895447",
   "metadata": {},
   "outputs": [
    {
     "data": {
      "text/plain": [
       "0        1.0\n",
       "1        0.0\n",
       "2        0.0\n",
       "3        1.0\n",
       "4        0.0\n",
       "        ... \n",
       "19153    1.0\n",
       "19154    1.0\n",
       "19155    0.0\n",
       "19156    0.0\n",
       "19157    0.0\n",
       "Name: target, Length: 19158, dtype: float64"
      ]
     },
     "execution_count": 28,
     "metadata": {},
     "output_type": "execute_result"
    }
   ],
   "source": [
    "df.target"
   ]
  },
  {
   "cell_type": "code",
   "execution_count": 65,
   "id": "00a396dc",
   "metadata": {},
   "outputs": [
    {
     "data": {
      "text/plain": [
       "target  city    \n",
       "0.0     city_1       23\n",
       "        city_10      77\n",
       "        city_100    210\n",
       "        city_101     32\n",
       "        city_102    252\n",
       "                   ... \n",
       "1.0     city_93       5\n",
       "        city_94      10\n",
       "        city_97       8\n",
       "        city_98       8\n",
       "        city_99      15\n",
       "Name: target, Length: 237, dtype: int64"
      ]
     },
     "execution_count": 65,
     "metadata": {},
     "output_type": "execute_result"
    }
   ],
   "source": [
    "df1=df.groupby(['target','city'])['target'].agg('count')\n",
    "df1"
   ]
  },
  {
   "cell_type": "code",
   "execution_count": 66,
   "id": "1b47eb6c",
   "metadata": {},
   "outputs": [],
   "source": [
    "df1=df1.loc[1].reset_index()\n"
   ]
  },
  {
   "cell_type": "code",
   "execution_count": 73,
   "id": "efe2f0a6",
   "metadata": {},
   "outputs": [
    {
     "data": {
      "text/html": [
       "<div>\n",
       "<style scoped>\n",
       "    .dataframe tbody tr th:only-of-type {\n",
       "        vertical-align: middle;\n",
       "    }\n",
       "\n",
       "    .dataframe tbody tr th {\n",
       "        vertical-align: top;\n",
       "    }\n",
       "\n",
       "    .dataframe thead th {\n",
       "        text-align: right;\n",
       "    }\n",
       "</style>\n",
       "<table border=\"1\" class=\"dataframe\">\n",
       "  <thead>\n",
       "    <tr style=\"text-align: right;\">\n",
       "      <th></th>\n",
       "      <th>City</th>\n",
       "      <th>No of employee leaving</th>\n",
       "    </tr>\n",
       "  </thead>\n",
       "  <tbody>\n",
       "    <tr>\n",
       "      <th>60</th>\n",
       "      <td>city_21</td>\n",
       "      <td>1597</td>\n",
       "    </tr>\n",
       "    <tr>\n",
       "      <th>5</th>\n",
       "      <td>city_103</td>\n",
       "      <td>928</td>\n",
       "    </tr>\n",
       "    <tr>\n",
       "      <th>46</th>\n",
       "      <td>city_160</td>\n",
       "      <td>199</td>\n",
       "    </tr>\n",
       "    <tr>\n",
       "      <th>45</th>\n",
       "      <td>city_16</td>\n",
       "      <td>179</td>\n",
       "    </tr>\n",
       "    <tr>\n",
       "      <th>11</th>\n",
       "      <td>city_11</td>\n",
       "      <td>147</td>\n",
       "    </tr>\n",
       "    <tr>\n",
       "      <th>12</th>\n",
       "      <td>city_114</td>\n",
       "      <td>133</td>\n",
       "    </tr>\n",
       "    <tr>\n",
       "      <th>95</th>\n",
       "      <td>city_73</td>\n",
       "      <td>74</td>\n",
       "    </tr>\n",
       "    <tr>\n",
       "      <th>2</th>\n",
       "      <td>city_100</td>\n",
       "      <td>65</td>\n",
       "    </tr>\n",
       "    <tr>\n",
       "      <th>108</th>\n",
       "      <td>city_90</td>\n",
       "      <td>62</td>\n",
       "    </tr>\n",
       "    <tr>\n",
       "      <th>28</th>\n",
       "      <td>city_136</td>\n",
       "      <td>61</td>\n",
       "    </tr>\n",
       "  </tbody>\n",
       "</table>\n",
       "</div>"
      ],
      "text/plain": [
       "         City  No of employee leaving\n",
       "60    city_21                    1597\n",
       "5    city_103                     928\n",
       "46   city_160                     199\n",
       "45    city_16                     179\n",
       "11    city_11                     147\n",
       "12   city_114                     133\n",
       "95    city_73                      74\n",
       "2    city_100                      65\n",
       "108   city_90                      62\n",
       "28   city_136                      61"
      ]
     },
     "execution_count": 73,
     "metadata": {},
     "output_type": "execute_result"
    }
   ],
   "source": [
    "df1.columns=['City','No of employee leaving']\n",
    "df1=df1.sort_values(by='No of employee leaving',ascending=False).head(10)\n",
    "df1"
   ]
  },
  {
   "cell_type": "code",
   "execution_count": 76,
   "id": "aab41ed0",
   "metadata": {},
   "outputs": [
    {
     "data": {
      "image/png": "[encoded data removed]",
      "text/plain": [
       "<Figure size 720x504 with 1 Axes>"
      ]
     },
     "metadata": {
      "needs_background": "light"
     },
     "output_type": "display_data"
    }
   ],
   "source": [
    "xs=df1['City']\n",
    "ys=df1['No of employee leaving']\n",
    "plt.figure(figsize = (10,7))\n",
    "plt.bar(xs,ys,color='maroon',alpha=.6,edgecolor='black')\n",
    "\n",
    "# zip joins x and y coordinates in pairs\n",
    "for x,y in zip(xs,ys):\n",
    "\n",
    "    label = \"{:.2f}\".format(y)\n",
    "\n",
    "    plt.annotate(label, # this is the text\n",
    "                 (x,y), # these are the coordinates to position the label\n",
    "                 textcoords=\"offset points\", # how to position the text\n",
    "                 xytext=(0,2), # distance from text to points (x,y)\n",
    "                 ha='center', # horizontal alignment can be left, right or center\n",
    "                 fontweight='bold')\n",
    "plt.title('Top 10 city where people are leaving most')\n",
    "plt.xticks(rotation='vertical')\n",
    "plt.xlabel('City')\n",
    "plt.ylabel('No of person leaving');"
   ]
  },
  {
   "cell_type": "code",
   "execution_count": null,
   "id": "01515f4d",
   "metadata": {},
   "outputs": [],
   "source": [
    "so ,from  city city_21 people are leaving most"
   ]
  },
  {
   "cell_type": "markdown",
   "id": "b1c70d30",
   "metadata": {},
   "source": [
    "# People leaving on the basis of the university enrollment"
   ]
  },
  {
   "cell_type": "code",
   "execution_count": 79,
   "id": "05e5652c",
   "metadata": {},
   "outputs": [
    {
     "data": {
      "text/plain": [
       "no_enrollment       13817\n",
       "Full time course     3757\n",
       "Part time course     1198\n",
       "NaN                   386\n",
       "Name: enrolled_university, dtype: int64"
      ]
     },
     "execution_count": 79,
     "metadata": {},
     "output_type": "execute_result"
    }
   ],
   "source": [
    "df.enrolled_university.value_counts(dropna=False)"
   ]
  },
  {
   "cell_type": "code",
   "execution_count": 84,
   "id": "ec691be9",
   "metadata": {},
   "outputs": [],
   "source": [
    "df.enrolled_university.fillna('no_enrollment',inplace=True)"
   ]
  },
  {
   "cell_type": "code",
   "execution_count": 85,
   "id": "c1a0b003",
   "metadata": {},
   "outputs": [
    {
     "data": {
      "text/plain": [
       "no_enrollment       14203\n",
       "Full time course     3757\n",
       "Part time course     1198\n",
       "Name: enrolled_university, dtype: int64"
      ]
     },
     "execution_count": 85,
     "metadata": {},
     "output_type": "execute_result"
    }
   ],
   "source": [
    "df.enrolled_university.value_counts(dropna=False)"
   ]
  },
  {
   "cell_type": "code",
   "execution_count": 22,
   "id": "ba49ab7f",
   "metadata": {},
   "outputs": [
    {
     "data": {
      "text/plain": [
       "target  enrolled_university\n",
       "0.0     Full time course        2326\n",
       "        Part time course         896\n",
       "        no_enrollment          10896\n",
       "1.0     Full time course        1431\n",
       "        Part time course         302\n",
       "        no_enrollment           2921\n",
       "Name: target, dtype: int64"
      ]
     },
     "execution_count": 22,
     "metadata": {},
     "output_type": "execute_result"
    }
   ],
   "source": [
    "df2=df.groupby(['target','enrolled_university'])['target'].agg('count')\n",
    "df2"
   ]
  },
  {
   "cell_type": "code",
   "execution_count": 23,
   "id": "56fd68c3",
   "metadata": {},
   "outputs": [
    {
     "data": {
      "text/plain": [
       "enrolled_university\n",
       "Full time course    1431\n",
       "Part time course     302\n",
       "no_enrollment       2921\n",
       "Name: target, dtype: int64"
      ]
     },
     "execution_count": 23,
     "metadata": {},
     "output_type": "execute_result"
    }
   ],
   "source": [
    "#choosing index with target equal to 1\n",
    "#target=0,means people are not leaving\n",
    "#target=1,means people are  leaving\n",
    "df2.loc[1]"
   ]
  },
  {
   "cell_type": "code",
   "execution_count": 24,
   "id": "f984c2cf",
   "metadata": {},
   "outputs": [
    {
     "data": {
      "image/png": "[encoded data removed]",
      "text/plain": [
       "<Figure size 432x288 with 1 Axes>"
      ]
     },
     "metadata": {},
     "output_type": "display_data"
    }
   ],
   "source": [
    "\n",
    "# create data\n",
    "names =df2.loc[1].index\n",
    "size =df2.loc[1]\n",
    " \n",
    "# Create a circle at the center of the plot\n",
    "my_circle = plt.Circle( (0,0), 0.5, color='white')\n",
    "\n",
    "# Give color names\n",
    "plt.pie(size,wedgeprops = { 'linewidth' : 3, 'edgecolor' : 'white' },autopct='%1.1f%%')\n",
    "p = plt.gcf()\n",
    "p.gca().add_artist(my_circle)\n",
    "plt.title('People leaving on the basis of the university enrollment',fontweight='bold',fontsize=15)\n",
    "plt.legend(names,\n",
    "          title=\"University enrollment\",\n",
    "          loc=\"center left\",\n",
    "         \n",
    "          bbox_to_anchor=(1, 0, 0.5, 1));\n"
   ]
  },
  {
   "cell_type": "code",
   "execution_count": null,
   "id": "1313e7e5",
   "metadata": {},
   "outputs": [],
   "source": [
    "So,people who are not enrolled in university are leaving"
   ]
  },
  {
   "cell_type": "markdown",
   "id": "f1e26d0d",
   "metadata": {},
   "source": [
    "# People leaving on the basis of the education level"
   ]
  },
  {
   "cell_type": "code",
   "execution_count": 102,
   "id": "b6065f24",
   "metadata": {},
   "outputs": [
    {
     "data": {
      "text/plain": [
       "Graduate          11598\n",
       "Masters            4361\n",
       "High School        2017\n",
       "NaN                 460\n",
       "Phd                 414\n",
       "Primary School      308\n",
       "Name: education_level, dtype: int64"
      ]
     },
     "execution_count": 102,
     "metadata": {},
     "output_type": "execute_result"
    }
   ],
   "source": [
    "df.education_level.value_counts(dropna=False)"
   ]
  },
  {
   "cell_type": "code",
   "execution_count": 3,
   "id": "5911526e",
   "metadata": {},
   "outputs": [
    {
     "data": {
      "text/plain": [
       "target  education_level\n",
       "0.0     Graduate           8353\n",
       "        High School        1623\n",
       "        Masters            3426\n",
       "        Phd                 356\n",
       "        Primary School      267\n",
       "1.0     Graduate           3245\n",
       "        High School         394\n",
       "        Masters             935\n",
       "        Phd                  58\n",
       "        Primary School       41\n",
       "Name: target, dtype: int64"
      ]
     },
     "execution_count": 3,
     "metadata": {},
     "output_type": "execute_result"
    }
   ],
   "source": [
    "df2=df.groupby(['target','education_level'])['target'].agg('count')\n",
    "df2"
   ]
  },
  {
   "cell_type": "code",
   "execution_count": 4,
   "id": "9a6c0dc1",
   "metadata": {},
   "outputs": [
    {
     "data": {
      "text/plain": [
       "education_level\n",
       "Graduate          3245\n",
       "High School        394\n",
       "Masters            935\n",
       "Phd                 58\n",
       "Primary School      41\n",
       "Name: target, dtype: int64"
      ]
     },
     "execution_count": 4,
     "metadata": {},
     "output_type": "execute_result"
    }
   ],
   "source": [
    "df2.loc[1]"
   ]
  },
  {
   "cell_type": "code",
   "execution_count": 5,
   "id": "384fdfce",
   "metadata": {},
   "outputs": [
    {
     "data": {
      "image/png": "[encoded data removed]",
      "text/plain": [
       "<Figure size 432x288 with 1 Axes>"
      ]
     },
     "metadata": {},
     "output_type": "display_data"
    }
   ],
   "source": [
    "# create data\n",
    "names =df2.loc[1].index\n",
    "size =df2.loc[1]\n",
    " \n",
    "# Create a circle at the center of the plot\n",
    "my_circle = plt.Circle( (0,0), 0.5, color='white')\n",
    "\n",
    "# Give color names\n",
    "plt.pie(size,wedgeprops = { 'linewidth' : 3, 'edgecolor' : 'white' },autopct='%1.1f%%')\n",
    "p = plt.gcf()\n",
    "p.gca().add_artist(my_circle)\n",
    "plt.title('People leaving on the basis of the education level',fontweight='bold',fontsize=15)\n",
    "plt.legend(names,\n",
    "          title=\"Education level\",\n",
    "          loc=\"center left\",\n",
    "         \n",
    "          bbox_to_anchor=(1, 0, 0.5, 1));"
   ]
  },
  {
   "cell_type": "code",
   "execution_count": null,
   "id": "01825c5d",
   "metadata": {},
   "outputs": [],
   "source": [
    "So,graduate people are leaving most"
   ]
  },
  {
   "cell_type": "markdown",
   "id": "381655d8",
   "metadata": {},
   "source": [
    "# People leaving on the basis of the major discipline"
   ]
  },
  {
   "cell_type": "code",
   "execution_count": 6,
   "id": "43138e33",
   "metadata": {},
   "outputs": [],
   "source": [
    "df['major_discipline']=df['major_discipline'].fillna('Not Mentioned')"
   ]
  },
  {
   "cell_type": "code",
   "execution_count": 7,
   "id": "a76721e9",
   "metadata": {},
   "outputs": [
    {
     "data": {
      "text/plain": [
       "target  major_discipline\n",
       "0.0     Arts                  200\n",
       "        Business Degree       241\n",
       "        Humanities            528\n",
       "        No Major              168\n",
       "        Not Mentioned        2264\n",
       "        Other                 279\n",
       "        STEM                10701\n",
       "1.0     Arts                   53\n",
       "        Business Degree        86\n",
       "        Humanities            141\n",
       "        No Major               55\n",
       "        Not Mentioned         549\n",
       "        Other                 102\n",
       "        STEM                 3791\n",
       "Name: target, dtype: int64"
      ]
     },
     "execution_count": 7,
     "metadata": {},
     "output_type": "execute_result"
    }
   ],
   "source": [
    "df2=df.groupby(['target','major_discipline'])['target'].agg('count')\n",
    "df2"
   ]
  },
  {
   "cell_type": "code",
   "execution_count": 8,
   "id": "0070726c",
   "metadata": {},
   "outputs": [
    {
     "data": {
      "text/plain": [
       "major_discipline\n",
       "Arts                 53\n",
       "Business Degree      86\n",
       "Humanities          141\n",
       "No Major             55\n",
       "Not Mentioned       549\n",
       "Other               102\n",
       "STEM               3791\n",
       "Name: target, dtype: int64"
      ]
     },
     "execution_count": 8,
     "metadata": {},
     "output_type": "execute_result"
    }
   ],
   "source": [
    "df2.loc[1]"
   ]
  },
  {
   "cell_type": "code",
   "execution_count": 9,
   "id": "39d90101",
   "metadata": {},
   "outputs": [
    {
     "data": {
      "image/png": "[encoded data removed]",
      "text/plain": [
       "<Figure size 720x1080 with 1 Axes>"
      ]
     },
     "metadata": {},
     "output_type": "display_data"
    }
   ],
   "source": [
    "names =df2.loc[1].index\n",
    "size =df2.loc[1]\n",
    "plt.figure(figsize=(10,15)) \n",
    "# Create a circle at the center of the plot\n",
    "my_circle = plt.Circle( (0,0), 0.5, color='white')\n",
    "\n",
    "# Give color names\n",
    "plt.pie(size,wedgeprops = { 'linewidth' : 3, 'edgecolor' : 'white' },autopct='%1.1f%%')\n",
    "p = plt.gcf()\n",
    "p.gca().add_artist(my_circle)\n",
    "plt.title('People leaving on the basis of the major discipline',fontweight='bold',fontsize=15)\n",
    "plt.legend(names,\n",
    "          title=\"Major discipline\",\n",
    "          loc=\"center left\",\n",
    "         \n",
    "          bbox_to_anchor=(1, 0, 0.5, 1));"
   ]
  },
  {
   "cell_type": "code",
   "execution_count": null,
   "id": "d5870bf9",
   "metadata": {},
   "outputs": [],
   "source": [
    "So,people are leaving maximum from stem faculty"
   ]
  },
  {
   "cell_type": "markdown",
   "id": "82651524",
   "metadata": {},
   "source": [
    "# People leaving on the basis of the Gender"
   ]
  },
  {
   "cell_type": "code",
   "execution_count": 10,
   "id": "bcbedd3e",
   "metadata": {},
   "outputs": [
    {
     "data": {
      "text/plain": [
       "target  gender\n",
       "0.0     Female      912\n",
       "        Male      10209\n",
       "        Other      3260\n",
       "1.0     Female      326\n",
       "        Male       3012\n",
       "        Other      1439\n",
       "Name: target, dtype: int64"
      ]
     },
     "execution_count": 10,
     "metadata": {},
     "output_type": "execute_result"
    }
   ],
   "source": [
    "df.gender=df.gender.fillna('Other')\n",
    "df2=df.groupby(['target','gender'])['target'].agg('count')\n",
    "df2"
   ]
  },
  {
   "cell_type": "code",
   "execution_count": 11,
   "id": "e666101b",
   "metadata": {},
   "outputs": [
    {
     "data": {
      "text/plain": [
       "gender\n",
       "Female     326\n",
       "Male      3012\n",
       "Other     1439\n",
       "Name: target, dtype: int64"
      ]
     },
     "execution_count": 11,
     "metadata": {},
     "output_type": "execute_result"
    }
   ],
   "source": [
    "df2.loc[1]"
   ]
  },
  {
   "cell_type": "code",
   "execution_count": 12,
   "id": "206d5bf8",
   "metadata": {},
   "outputs": [
    {
     "data": {
      "image/png": "[encoded data removed]",
      "text/plain": [
       "<Figure size 432x288 with 1 Axes>"
      ]
     },
     "metadata": {},
     "output_type": "display_data"
    }
   ],
   "source": [
    "names =df2.loc[1].index\n",
    "size =df2.loc[1]\n",
    "#plt.figure(figsize=(10,15)) \n",
    "# Create a circle at the center of the plot\n",
    "my_circle = plt.Circle( (0,0), 0.5, color='white')\n",
    "\n",
    "# Give color names\n",
    "plt.pie(size,wedgeprops = { 'linewidth' : 3, 'edgecolor' : 'white' },autopct='%1.1f%%')\n",
    "p = plt.gcf()\n",
    "p.gca().add_artist(my_circle)\n",
    "plt.title('People leaving on the basis of the Gender',fontweight='bold',fontsize=15)\n",
    "plt.legend(names,\n",
    "          title=\"Gender\",\n",
    "          loc=\"center left\",\n",
    "         \n",
    "          bbox_to_anchor=(1, 0, 0.5, 1));"
   ]
  },
  {
   "cell_type": "code",
   "execution_count": null,
   "id": "a70c8da8",
   "metadata": {},
   "outputs": [],
   "source": [
    "so,male are leaving most.I will prove this point by hypothesis testing"
   ]
  },
  {
   "cell_type": "code",
   "execution_count": 13,
   "id": "4c82bc3f",
   "metadata": {},
   "outputs": [
    {
     "data": {
      "text/plain": [
       "enrollee_id               0.049475\n",
       "city_development_index   -0.341665\n",
       "training_hours           -0.021577\n",
       "target                    1.000000\n",
       "Name: target, dtype: float64"
      ]
     },
     "execution_count": 13,
     "metadata": {},
     "output_type": "execute_result"
    }
   ],
   "source": [
    "#checking correlation with target\n",
    "df.corr()['target']"
   ]
  },
  {
   "cell_type": "markdown",
   "id": "a302252a",
   "metadata": {},
   "source": [
    "# Hypothesis testing"
   ]
  },
  {
   "cell_type": "markdown",
   "id": "c7cf8786",
   "metadata": {},
   "source": [
    "H0:there is equal chance of leaving the company by both male and female(independent)\n",
    "H1:there is not equal chance(dependent)\n",
    "Since,both columns are categorical so we use Chi-Squared Test"
   ]
  },
  {
   "cell_type": "code",
   "execution_count": 147,
   "id": "8125b360",
   "metadata": {},
   "outputs": [
    {
     "data": {
      "text/plain": [
       "array([[  912,   326],\n",
       "       [10209,  3012],\n",
       "       [ 3260,  1439]], dtype=int64)"
      ]
     },
     "execution_count": 147,
     "metadata": {},
     "output_type": "execute_result"
    }
   ],
   "source": [
    "table=pd.crosstab(df.gender,df.target).values\n",
    "table"
   ]
  },
  {
   "cell_type": "code",
   "execution_count": 149,
   "id": "ed155fd7",
   "metadata": {},
   "outputs": [
    {
     "name": "stdout",
     "output_type": "stream",
     "text": [
      "stat=115.275, p=0.000\n",
      "Probably dependent\n"
     ]
    }
   ],
   "source": [
    "from scipy.stats import chi2_contingency\n",
    "\n",
    "stat, p, dof, expected = chi2_contingency(table)\n",
    "print('stat=%.3f, p=%.3f' % (stat, p))\n",
    "if p > 0.05:\n",
    "    print('Probably independent')\n",
    "else:\n",
    "    print('Probably dependent')"
   ]
  },
  {
   "cell_type": "markdown",
   "id": "41dbdce9",
   "metadata": {},
   "source": [
    "So,Gender has influence on target  hence it has to do something with leaving business?"
   ]
  },
  {
   "cell_type": "markdown",
   "id": "9669395c",
   "metadata": {},
   "source": [
    "# People leaving on the basis of the prior experience"
   ]
  },
  {
   "cell_type": "code",
   "execution_count": 14,
   "id": "ce01b262",
   "metadata": {},
   "outputs": [
    {
     "data": {
      "text/plain": [
       "Has relevent experience    13792\n",
       "No relevent experience      5366\n",
       "Name: relevent_experience, dtype: int64"
      ]
     },
     "execution_count": 14,
     "metadata": {},
     "output_type": "execute_result"
    }
   ],
   "source": [
    "df['relevent_experience'].value_counts(dropna=False)"
   ]
  },
  {
   "cell_type": "code",
   "execution_count": 15,
   "id": "f754bfc2",
   "metadata": {},
   "outputs": [
    {
     "data": {
      "text/plain": [
       "target  relevent_experience    \n",
       "0.0     Has relevent experience    10831\n",
       "        No relevent experience      3550\n",
       "1.0     Has relevent experience     2961\n",
       "        No relevent experience      1816\n",
       "Name: target, dtype: int64"
      ]
     },
     "execution_count": 15,
     "metadata": {},
     "output_type": "execute_result"
    }
   ],
   "source": [
    "df2=df.groupby(['target','relevent_experience'])['target'].agg('count')\n",
    "df2"
   ]
  },
  {
   "cell_type": "code",
   "execution_count": 16,
   "id": "50e5d2d7",
   "metadata": {},
   "outputs": [
    {
     "data": {
      "text/plain": [
       "relevent_experience\n",
       "Has relevent experience    2961\n",
       "No relevent experience     1816\n",
       "Name: target, dtype: int64"
      ]
     },
     "execution_count": 16,
     "metadata": {},
     "output_type": "execute_result"
    }
   ],
   "source": [
    "df2.loc[1]"
   ]
  },
  {
   "cell_type": "code",
   "execution_count": 17,
   "id": "2f9d9742",
   "metadata": {},
   "outputs": [
    {
     "data": {
      "image/png": "[encoded data removed]",
      "text/plain": [
       "<Figure size 432x288 with 1 Axes>"
      ]
     },
     "metadata": {},
     "output_type": "display_data"
    }
   ],
   "source": [
    "names =df2.loc[1].index\n",
    "size =df2.loc[1]\n",
    "#plt.figure(figsize=(10,15)) \n",
    "# Create a circle at the center of the plot\n",
    "my_circle = plt.Circle( (0,0), 0.5, color='white')\n",
    "\n",
    "# Give color names\n",
    "plt.pie(size,wedgeprops = { 'linewidth' : 3, 'edgecolor' : 'white' },autopct='%1.1f%%')\n",
    "p = plt.gcf()\n",
    "p.gca().add_artist(my_circle)\n",
    "plt.title('People leaving on the basis of the prior experience',fontweight='bold',fontsize=15)\n",
    "plt.legend(names,\n",
    "          title=\"Prior Experience\",\n",
    "          loc=\"center left\",\n",
    "         \n",
    "          bbox_to_anchor=(1, 0, 0.5, 1));"
   ]
  },
  {
   "cell_type": "code",
   "execution_count": null,
   "id": "3bef3314",
   "metadata": {},
   "outputs": [],
   "source": [
    "So, which has experience are leaving most"
   ]
  },
  {
   "cell_type": "markdown",
   "id": "d010709f",
   "metadata": {},
   "source": [
    "# People leaving on the basis of the company type"
   ]
  },
  {
   "cell_type": "code",
   "execution_count": 18,
   "id": "07e27352",
   "metadata": {},
   "outputs": [],
   "source": [
    "df.company_type.value_counts(dropna=False)\n",
    "df.company_type=df.company_type.fillna('Other')"
   ]
  },
  {
   "cell_type": "code",
   "execution_count": 19,
   "id": "37b08ca4",
   "metadata": {},
   "outputs": [
    {
     "data": {
      "text/plain": [
       "target  company_type       \n",
       "0.0     Early Stage Startup     461\n",
       "        Funded Startup          861\n",
       "        NGO                     424\n",
       "        Other                  3848\n",
       "        Public Sector           745\n",
       "        Pvt Ltd                8042\n",
       "1.0     Early Stage Startup     142\n",
       "        Funded Startup          140\n",
       "        NGO                      97\n",
       "        Other                  2413\n",
       "        Public Sector           210\n",
       "        Pvt Ltd                1775\n",
       "Name: target, dtype: int64"
      ]
     },
     "execution_count": 19,
     "metadata": {},
     "output_type": "execute_result"
    }
   ],
   "source": [
    "df2=df.groupby(['target','company_type'])['target'].agg('count')\n",
    "df2"
   ]
  },
  {
   "cell_type": "code",
   "execution_count": 20,
   "id": "685f7bb2",
   "metadata": {},
   "outputs": [
    {
     "data": {
      "text/plain": [
       "company_type\n",
       "Early Stage Startup     142\n",
       "Funded Startup          140\n",
       "NGO                      97\n",
       "Other                  2413\n",
       "Public Sector           210\n",
       "Pvt Ltd                1775\n",
       "Name: target, dtype: int64"
      ]
     },
     "execution_count": 20,
     "metadata": {},
     "output_type": "execute_result"
    }
   ],
   "source": [
    "df2.loc[1]"
   ]
  },
  {
   "cell_type": "code",
   "execution_count": 21,
   "id": "2d4eb4ed",
   "metadata": {},
   "outputs": [
    {
     "data": {
      "image/png": "[encoded data removed]",
      "text/plain": [
       "<Figure size 720x1080 with 1 Axes>"
      ]
     },
     "metadata": {},
     "output_type": "display_data"
    }
   ],
   "source": [
    "names =df2.loc[1].index\n",
    "size =df2.loc[1]\n",
    "plt.figure(figsize=(10,15)) \n",
    "# Create a circle at the center of the plot\n",
    "my_circle = plt.Circle( (0,0), 0.5, color='white')\n",
    "\n",
    "# Give color names\n",
    "plt.pie(size,wedgeprops = { 'linewidth' : 3, 'edgecolor' : 'white' },autopct='%1.1f%%')\n",
    "p = plt.gcf()\n",
    "p.gca().add_artist(my_circle)\n",
    "plt.title('People leaving on the basis of the company type',fontweight='bold',fontsize=15)\n",
    "plt.legend(names,\n",
    "          title=\"Company Type\",\n",
    "          loc=\"center left\",\n",
    "         \n",
    "          bbox_to_anchor=(1, 0, 0.5, 1));"
   ]
  },
  {
   "cell_type": "markdown",
   "id": "645ab8b6",
   "metadata": {},
   "source": [
    "# People leaving on  the basis of experience"
   ]
  },
  {
   "cell_type": "code",
   "execution_count": 187,
   "id": "28c8b50f",
   "metadata": {},
   "outputs": [
    {
     "data": {
      "text/plain": [
       ">20    3286\n",
       "5      1430\n",
       "4      1403\n",
       "3      1354\n",
       "6      1216\n",
       "2      1127\n",
       "7      1028\n",
       "10      985\n",
       "9       980\n",
       "8       802\n",
       "15      686\n",
       "11      664\n",
       "14      586\n",
       "1       549\n",
       "<1      522\n",
       "16      508\n",
       "12      494\n",
       "13      399\n",
       "17      342\n",
       "19      304\n",
       "18      280\n",
       "20      148\n",
       "Name: experience, dtype: int64"
      ]
     },
     "execution_count": 187,
     "metadata": {},
     "output_type": "execute_result"
    }
   ],
   "source": [
    "df.experience.value_counts()"
   ]
  },
  {
   "cell_type": "code",
   "execution_count": 202,
   "id": "08e5e370",
   "metadata": {},
   "outputs": [
    {
     "data": {
      "text/html": [
       "<div>\n",
       "<style scoped>\n",
       "    .dataframe tbody tr th:only-of-type {\n",
       "        vertical-align: middle;\n",
       "    }\n",
       "\n",
       "    .dataframe tbody tr th {\n",
       "        vertical-align: top;\n",
       "    }\n",
       "\n",
       "    .dataframe thead th {\n",
       "        text-align: right;\n",
       "    }\n",
       "</style>\n",
       "<table border=\"1\" class=\"dataframe\">\n",
       "  <thead>\n",
       "    <tr style=\"text-align: right;\">\n",
       "      <th></th>\n",
       "      <th>experience level</th>\n",
       "      <th>total_count</th>\n",
       "    </tr>\n",
       "  </thead>\n",
       "  <tbody>\n",
       "    <tr>\n",
       "      <th>21</th>\n",
       "      <td>&gt;20</td>\n",
       "      <td>503</td>\n",
       "    </tr>\n",
       "    <tr>\n",
       "      <th>13</th>\n",
       "      <td>3</td>\n",
       "      <td>478</td>\n",
       "    </tr>\n",
       "    <tr>\n",
       "      <th>14</th>\n",
       "      <td>4</td>\n",
       "      <td>457</td>\n",
       "    </tr>\n",
       "    <tr>\n",
       "      <th>15</th>\n",
       "      <td>5</td>\n",
       "      <td>412</td>\n",
       "    </tr>\n",
       "    <tr>\n",
       "      <th>11</th>\n",
       "      <td>2</td>\n",
       "      <td>374</td>\n",
       "    </tr>\n",
       "    <tr>\n",
       "      <th>16</th>\n",
       "      <td>6</td>\n",
       "      <td>343</td>\n",
       "    </tr>\n",
       "    <tr>\n",
       "      <th>17</th>\n",
       "      <td>7</td>\n",
       "      <td>303</td>\n",
       "    </tr>\n",
       "    <tr>\n",
       "      <th>20</th>\n",
       "      <td>&lt;1</td>\n",
       "      <td>237</td>\n",
       "    </tr>\n",
       "    <tr>\n",
       "      <th>0</th>\n",
       "      <td>1</td>\n",
       "      <td>233</td>\n",
       "    </tr>\n",
       "    <tr>\n",
       "      <th>19</th>\n",
       "      <td>9</td>\n",
       "      <td>213</td>\n",
       "    </tr>\n",
       "    <tr>\n",
       "      <th>1</th>\n",
       "      <td>10</td>\n",
       "      <td>207</td>\n",
       "    </tr>\n",
       "    <tr>\n",
       "      <th>18</th>\n",
       "      <td>8</td>\n",
       "      <td>195</td>\n",
       "    </tr>\n",
       "    <tr>\n",
       "      <th>2</th>\n",
       "      <td>11</td>\n",
       "      <td>151</td>\n",
       "    </tr>\n",
       "    <tr>\n",
       "      <th>6</th>\n",
       "      <td>15</td>\n",
       "      <td>114</td>\n",
       "    </tr>\n",
       "    <tr>\n",
       "      <th>5</th>\n",
       "      <td>14</td>\n",
       "      <td>107</td>\n",
       "    </tr>\n",
       "    <tr>\n",
       "      <th>3</th>\n",
       "      <td>12</td>\n",
       "      <td>92</td>\n",
       "    </tr>\n",
       "    <tr>\n",
       "      <th>4</th>\n",
       "      <td>13</td>\n",
       "      <td>77</td>\n",
       "    </tr>\n",
       "    <tr>\n",
       "      <th>7</th>\n",
       "      <td>16</td>\n",
       "      <td>72</td>\n",
       "    </tr>\n",
       "    <tr>\n",
       "      <th>8</th>\n",
       "      <td>17</td>\n",
       "      <td>57</td>\n",
       "    </tr>\n",
       "    <tr>\n",
       "      <th>10</th>\n",
       "      <td>19</td>\n",
       "      <td>53</td>\n",
       "    </tr>\n",
       "    <tr>\n",
       "      <th>9</th>\n",
       "      <td>18</td>\n",
       "      <td>43</td>\n",
       "    </tr>\n",
       "    <tr>\n",
       "      <th>12</th>\n",
       "      <td>20</td>\n",
       "      <td>33</td>\n",
       "    </tr>\n",
       "  </tbody>\n",
       "</table>\n",
       "</div>"
      ],
      "text/plain": [
       "   experience level  total_count\n",
       "21              >20          503\n",
       "13                3          478\n",
       "14                4          457\n",
       "15                5          412\n",
       "11                2          374\n",
       "16                6          343\n",
       "17                7          303\n",
       "20               <1          237\n",
       "0                 1          233\n",
       "19                9          213\n",
       "1                10          207\n",
       "18                8          195\n",
       "2                11          151\n",
       "6                15          114\n",
       "5                14          107\n",
       "3                12           92\n",
       "4                13           77\n",
       "7                16           72\n",
       "8                17           57\n",
       "10               19           53\n",
       "9                18           43\n",
       "12               20           33"
      ]
     },
     "execution_count": 202,
     "metadata": {},
     "output_type": "execute_result"
    }
   ],
   "source": [
    "df2=df.groupby(['target','experience'])['target'].agg('count')\n",
    "df2=df2.loc[1]\n",
    "df2=df2.reset_index()\n",
    "df2.columns=['experience level','total_count']\n",
    "df2=df2.sort_values(by='total_count',ascending=False)\n",
    "df2"
   ]
  },
  {
   "cell_type": "code",
   "execution_count": 205,
   "id": "4a70b607",
   "metadata": {},
   "outputs": [
    {
     "data": {
      "image/png": "[encoded data removed]",
      "text/plain": [
       "<Figure size 720x504 with 1 Axes>"
      ]
     },
     "metadata": {
      "needs_background": "light"
     },
     "output_type": "display_data"
    }
   ],
   "source": [
    "xs=df2['experience level']\n",
    "ys=df2.total_count\n",
    "plt.figure(figsize = (10,7))\n",
    "plt.bar(xs,ys,color='maroon',alpha=.6,edgecolor='black')\n",
    "\n",
    "# zip joins x and y coordinates in pairs\n",
    "for x,y in zip(xs,ys):\n",
    "\n",
    "    label = \"{}\".format(y)\n",
    "\n",
    "    plt.annotate(label, # this is the text\n",
    "                 (x,y), # these are the coordinates to position the label\n",
    "                 textcoords=\"offset points\", # how to position the text\n",
    "                 xytext=(0,2), # distance from text to points (x,y)\n",
    "                 ha='center', # horizontal alignment can be left, right or center\n",
    "                 fontweight='bold')\n",
    "plt.title('People leaving on  the basis of experience',fontweight='bold')\n",
    "plt.xticks(rotation='vertical')\n",
    "plt.xlabel('Experience level')\n",
    "plt.ylabel('Total count');"
   ]
  },
  {
   "cell_type": "code",
   "execution_count": null,
   "id": "16986c40",
   "metadata": {},
   "outputs": [],
   "source": [
    "So,its strange but most experienced people are leaving"
   ]
  }
 ],
 "metadata": {
  "kernelspec": {
   "display_name": "Python 3",
   "language": "python",
   "name": "python3"
  },
  "language_info": {
   "codemirror_mode": {
    "name": "ipython",
    "version": 3
   },
   "file_extension": ".py",
   "mimetype": "text/x-python",
   "name": "python",
   "nbconvert_exporter": "python",
   "pygments_lexer": "ipython3",
   "version": "3.8.8"
  }
 },
 "nbformat": 4,
 "nbformat_minor": 5
}
