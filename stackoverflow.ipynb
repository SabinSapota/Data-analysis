{
 "cells": [
  {
   "cell_type": "markdown",
   "id": "ba3c8538",
   "metadata": {},
   "source": [
    "# Stackoverflow Survey 2020"
   ]
  },
  {
   "cell_type": "code",
   "execution_count": null,
   "id": "39824eba",
   "metadata": {},
   "outputs": [],
   "source": [
    "I am pythonist,so I have analysed stackoverflow survey on the basis of python.\n",
    "The most import thing I am always interested on stackoverflow survey is the programming languages that\n",
    "each respondent know.I mean to say most popular languages."
   ]
  },
  {
   "cell_type": "code",
   "execution_count": 1,
   "id": "c7b3aff3",
   "metadata": {},
   "outputs": [],
   "source": [
    "import pandas as pd\n",
    "import plotly.express as px\n",
    "import numpy as np\n",
    "import matplotlib.pyplot as plt\n",
    "%matplotlib inline\n",
    "from simple_colors import*\n",
    "import warnings\n",
    "warnings.filterwarnings('ignore')"
   ]
  },
  {
   "cell_type": "code",
   "execution_count": 2,
   "id": "b6a92b73",
   "metadata": {},
   "outputs": [
    {
     "data": {
      "text/html": [
       "<div>\n",
       "<style scoped>\n",
       "    .dataframe tbody tr th:only-of-type {\n",
       "        vertical-align: middle;\n",
       "    }\n",
       "\n",
       "    .dataframe tbody tr th {\n",
       "        vertical-align: top;\n",
       "    }\n",
       "\n",
       "    .dataframe thead th {\n",
       "        text-align: right;\n",
       "    }\n",
       "</style>\n",
       "<table border=\"1\" class=\"dataframe\">\n",
       "  <thead>\n",
       "    <tr style=\"text-align: right;\">\n",
       "      <th></th>\n",
       "      <th>Respondent</th>\n",
       "      <th>MainBranch</th>\n",
       "      <th>Hobbyist</th>\n",
       "      <th>Age</th>\n",
       "      <th>Age1stCode</th>\n",
       "      <th>CompFreq</th>\n",
       "      <th>CompTotal</th>\n",
       "      <th>ConvertedComp</th>\n",
       "      <th>Country</th>\n",
       "      <th>CurrencyDesc</th>\n",
       "      <th>...</th>\n",
       "      <th>SurveyEase</th>\n",
       "      <th>SurveyLength</th>\n",
       "      <th>Trans</th>\n",
       "      <th>UndergradMajor</th>\n",
       "      <th>WebframeDesireNextYear</th>\n",
       "      <th>WebframeWorkedWith</th>\n",
       "      <th>WelcomeChange</th>\n",
       "      <th>WorkWeekHrs</th>\n",
       "      <th>YearsCode</th>\n",
       "      <th>YearsCodePro</th>\n",
       "    </tr>\n",
       "  </thead>\n",
       "  <tbody>\n",
       "    <tr>\n",
       "      <th>0</th>\n",
       "      <td>1</td>\n",
       "      <td>I am a developer by profession</td>\n",
       "      <td>Yes</td>\n",
       "      <td>NaN</td>\n",
       "      <td>13</td>\n",
       "      <td>Monthly</td>\n",
       "      <td>NaN</td>\n",
       "      <td>NaN</td>\n",
       "      <td>Germany</td>\n",
       "      <td>European Euro</td>\n",
       "      <td>...</td>\n",
       "      <td>Neither easy nor difficult</td>\n",
       "      <td>Appropriate in length</td>\n",
       "      <td>No</td>\n",
       "      <td>Computer science, computer engineering, or sof...</td>\n",
       "      <td>ASP.NET Core</td>\n",
       "      <td>ASP.NET;ASP.NET Core</td>\n",
       "      <td>Just as welcome now as I felt last year</td>\n",
       "      <td>50.0</td>\n",
       "      <td>36</td>\n",
       "      <td>27</td>\n",
       "    </tr>\n",
       "    <tr>\n",
       "      <th>1</th>\n",
       "      <td>2</td>\n",
       "      <td>I am a developer by profession</td>\n",
       "      <td>No</td>\n",
       "      <td>NaN</td>\n",
       "      <td>19</td>\n",
       "      <td>NaN</td>\n",
       "      <td>NaN</td>\n",
       "      <td>NaN</td>\n",
       "      <td>United Kingdom</td>\n",
       "      <td>Pound sterling</td>\n",
       "      <td>...</td>\n",
       "      <td>NaN</td>\n",
       "      <td>NaN</td>\n",
       "      <td>NaN</td>\n",
       "      <td>Computer science, computer engineering, or sof...</td>\n",
       "      <td>NaN</td>\n",
       "      <td>NaN</td>\n",
       "      <td>Somewhat more welcome now than last year</td>\n",
       "      <td>NaN</td>\n",
       "      <td>7</td>\n",
       "      <td>4</td>\n",
       "    </tr>\n",
       "  </tbody>\n",
       "</table>\n",
       "<p>2 rows × 61 columns</p>\n",
       "</div>"
      ],
      "text/plain": [
       "   Respondent                      MainBranch Hobbyist  Age Age1stCode  \\\n",
       "0           1  I am a developer by profession      Yes  NaN         13   \n",
       "1           2  I am a developer by profession       No  NaN         19   \n",
       "\n",
       "  CompFreq  CompTotal  ConvertedComp         Country    CurrencyDesc  ...  \\\n",
       "0  Monthly        NaN            NaN         Germany   European Euro  ...   \n",
       "1      NaN        NaN            NaN  United Kingdom  Pound sterling  ...   \n",
       "\n",
       "                   SurveyEase           SurveyLength Trans  \\\n",
       "0  Neither easy nor difficult  Appropriate in length    No   \n",
       "1                         NaN                    NaN   NaN   \n",
       "\n",
       "                                      UndergradMajor WebframeDesireNextYear  \\\n",
       "0  Computer science, computer engineering, or sof...           ASP.NET Core   \n",
       "1  Computer science, computer engineering, or sof...                    NaN   \n",
       "\n",
       "     WebframeWorkedWith                             WelcomeChange WorkWeekHrs  \\\n",
       "0  ASP.NET;ASP.NET Core   Just as welcome now as I felt last year        50.0   \n",
       "1                   NaN  Somewhat more welcome now than last year         NaN   \n",
       "\n",
       "  YearsCode YearsCodePro  \n",
       "0        36           27  \n",
       "1         7            4  \n",
       "\n",
       "[2 rows x 61 columns]"
      ]
     },
     "execution_count": 2,
     "metadata": {},
     "output_type": "execute_result"
    }
   ],
   "source": [
    "#load dataset\n",
    "df=pd.read_csv('survey_results_public.csv')\n",
    "df.head(2)"
   ]
  },
  {
   "cell_type": "code",
   "execution_count": 3,
   "id": "13c36064",
   "metadata": {},
   "outputs": [
    {
     "data": {
      "text/plain": [
       "(64461, 61)"
      ]
     },
     "execution_count": 3,
     "metadata": {},
     "output_type": "execute_result"
    }
   ],
   "source": [
    "#shape of data\n",
    "df.shape"
   ]
  },
  {
   "cell_type": "code",
   "execution_count": 4,
   "id": "f87c6750",
   "metadata": {},
   "outputs": [
    {
     "data": {
      "text/plain": [
       "Respondent                0\n",
       "MainBranch              299\n",
       "Hobbyist                 45\n",
       "Age                   19015\n",
       "Age1stCode             6561\n",
       "                      ...  \n",
       "WebframeWorkedWith    22182\n",
       "WelcomeChange         11778\n",
       "WorkWeekHrs           23310\n",
       "YearsCode              6777\n",
       "YearsCodePro          18112\n",
       "Length: 61, dtype: int64"
      ]
     },
     "execution_count": 4,
     "metadata": {},
     "output_type": "execute_result"
    }
   ],
   "source": [
    "#na value check\n",
    "df.isnull().sum()"
   ]
  },
  {
   "cell_type": "code",
   "execution_count": 5,
   "id": "3a201a37",
   "metadata": {},
   "outputs": [
    {
     "data": {
      "text/plain": [
       "Respondent            64461\n",
       "MainBranch                6\n",
       "Hobbyist                  3\n",
       "Age                     111\n",
       "Age1stCode               64\n",
       "                      ...  \n",
       "WebframeWorkedWith     3790\n",
       "WelcomeChange             7\n",
       "WorkWeekHrs             158\n",
       "YearsCode                53\n",
       "YearsCodePro             53\n",
       "Length: 61, dtype: int64"
      ]
     },
     "execution_count": 5,
     "metadata": {},
     "output_type": "execute_result"
    }
   ],
   "source": [
    "#check for unique value in each column\n",
    "df.apply(lambda x:len(x.unique()))"
   ]
  },
  {
   "cell_type": "code",
   "execution_count": 6,
   "id": "2cd6be43",
   "metadata": {},
   "outputs": [
    {
     "name": "stdout",
     "output_type": "stream",
     "text": [
      "\u001b[1;31m 60 columns has na values\u001b[0m\n"
     ]
    },
    {
     "data": {
      "text/plain": [
       "['MainBranch',\n",
       " 'Hobbyist',\n",
       " 'Age',\n",
       " 'Age1stCode',\n",
       " 'CompFreq',\n",
       " 'CompTotal',\n",
       " 'ConvertedComp',\n",
       " 'Country',\n",
       " 'CurrencyDesc',\n",
       " 'CurrencySymbol',\n",
       " 'DatabaseDesireNextYear',\n",
       " 'DatabaseWorkedWith',\n",
       " 'DevType',\n",
       " 'EdLevel',\n",
       " 'Employment',\n",
       " 'Ethnicity',\n",
       " 'Gender',\n",
       " 'JobFactors',\n",
       " 'JobSat',\n",
       " 'JobSeek',\n",
       " 'LanguageDesireNextYear',\n",
       " 'LanguageWorkedWith',\n",
       " 'MiscTechDesireNextYear',\n",
       " 'MiscTechWorkedWith',\n",
       " 'NEWCollabToolsDesireNextYear',\n",
       " 'NEWCollabToolsWorkedWith',\n",
       " 'NEWDevOps',\n",
       " 'NEWDevOpsImpt',\n",
       " 'NEWEdImpt',\n",
       " 'NEWJobHunt',\n",
       " 'NEWJobHuntResearch',\n",
       " 'NEWLearn',\n",
       " 'NEWOffTopic',\n",
       " 'NEWOnboardGood',\n",
       " 'NEWOtherComms',\n",
       " 'NEWOvertime',\n",
       " 'NEWPurchaseResearch',\n",
       " 'NEWPurpleLink',\n",
       " 'NEWSOSites',\n",
       " 'NEWStuck',\n",
       " 'OpSys',\n",
       " 'OrgSize',\n",
       " 'PlatformDesireNextYear',\n",
       " 'PlatformWorkedWith',\n",
       " 'PurchaseWhat',\n",
       " 'Sexuality',\n",
       " 'SOAccount',\n",
       " 'SOComm',\n",
       " 'SOPartFreq',\n",
       " 'SOVisitFreq',\n",
       " 'SurveyEase',\n",
       " 'SurveyLength',\n",
       " 'Trans',\n",
       " 'UndergradMajor',\n",
       " 'WebframeDesireNextYear',\n",
       " 'WebframeWorkedWith',\n",
       " 'WelcomeChange',\n",
       " 'WorkWeekHrs',\n",
       " 'YearsCode',\n",
       " 'YearsCodePro']"
      ]
     },
     "execution_count": 6,
     "metadata": {},
     "output_type": "execute_result"
    }
   ],
   "source": [
    "# these are the columns which have na value\n",
    "print(red(f' {len([col for col in df.columns if df[col].isna().any()])} columns has na values','bold'))\n",
    "[col for col in df.columns if df[col].isna().any()]"
   ]
  },
  {
   "cell_type": "code",
   "execution_count": 7,
   "id": "eb466746",
   "metadata": {},
   "outputs": [
    {
     "name": "stdout",
     "output_type": "stream",
     "text": [
      "\u001b[1;34mPercentage of respondent who know python 39.23\u001b[0m\n"
     ]
    }
   ],
   "source": [
    "# percentage of respondent who know python\n",
    "data=df.LanguageWorkedWith.str.contains('Python').sum()/df.shape[0]\n",
    "print(blue(f'Percentage of respondent who know python {round(data*100,2)}','bold'))"
   ]
  },
  {
   "cell_type": "markdown",
   "id": "05bca0ce",
   "metadata": {},
   "source": [
    "# Genderwise who know python"
   ]
  },
  {
   "cell_type": "code",
   "execution_count": 8,
   "id": "2bc2c7b5",
   "metadata": {},
   "outputs": [
    {
     "data": {
      "text/plain": [
       "Man                                                            20227\n",
       "Woman                                                           1581\n",
       "Non-binary, genderqueer, or gender non-conforming                213\n",
       "Man;Non-binary, genderqueer, or gender non-conforming             67\n",
       "Woman;Non-binary, genderqueer, or gender non-conforming           52\n",
       "Woman;Man                                                         25\n",
       "Woman;Man;Non-binary, genderqueer, or gender non-conforming       13\n",
       "Name: Gender, dtype: int64"
      ]
     },
     "execution_count": 8,
     "metadata": {},
     "output_type": "execute_result"
    }
   ],
   "source": [
    "#filter\n",
    "mask=df.LanguageWorkedWith.notnull()\n",
    "df=df[mask]\n",
    "#putting python in the filter\n",
    "mask1=df.LanguageWorkedWith.str.contains('Python')\n",
    "df1=df.loc[mask1,:]\n",
    "df2=df1.Gender.value_counts()\n",
    "df2"
   ]
  },
  {
   "cell_type": "code",
   "execution_count": 9,
   "id": "c3a4fe6b",
   "metadata": {},
   "outputs": [
    {
     "data": {
      "image/png": "[encoded data removed]",
      "text/plain": [
       "<Figure size 720x504 with 1 Axes>"
      ]
     },
     "metadata": {},
     "output_type": "display_data"
    }
   ],
   "source": [
    "# create data\n",
    "names =df2.index\n",
    "size =df2\n",
    "plt.figure(figsize=(10,7))\n",
    " \n",
    "# Create a circle at the center of the plot\n",
    "my_circle = plt.Circle( (0,0), 0.5, color='white')\n",
    "\n",
    "# Give color names\n",
    "plt.pie(size,wedgeprops = { 'linewidth' : 3, 'edgecolor' : 'white' },autopct='%1.1f%%')\n",
    "p = plt.gcf()\n",
    "p.gca().add_artist(my_circle)\n",
    "plt.title('Knowing python gernder wise',fontweight='bold',fontsize=15)\n",
    "plt.legend(names,\n",
    "          title=\"Gender\",\n",
    "          loc=\"center left\",\n",
    "         \n",
    "          bbox_to_anchor=(1, 0, 0.5, 1));"
   ]
  },
  {
   "cell_type": "markdown",
   "id": "b290fcc1",
   "metadata": {},
   "source": [
    "# Top 15 respondents in stackoverflow survey 2020"
   ]
  },
  {
   "cell_type": "code",
   "execution_count": 14,
   "id": "d7c42d57",
   "metadata": {},
   "outputs": [
    {
     "data": {
      "text/html": [
       "<div>\n",
       "<style scoped>\n",
       "    .dataframe tbody tr th:only-of-type {\n",
       "        vertical-align: middle;\n",
       "    }\n",
       "\n",
       "    .dataframe tbody tr th {\n",
       "        vertical-align: top;\n",
       "    }\n",
       "\n",
       "    .dataframe thead th {\n",
       "        text-align: right;\n",
       "    }\n",
       "</style>\n",
       "<table border=\"1\" class=\"dataframe\">\n",
       "  <thead>\n",
       "    <tr style=\"text-align: right;\">\n",
       "      <th></th>\n",
       "      <th>country</th>\n",
       "      <th>Total Respondents</th>\n",
       "    </tr>\n",
       "  </thead>\n",
       "  <tbody>\n",
       "    <tr>\n",
       "      <th>0</th>\n",
       "      <td>United States</td>\n",
       "      <td>11633</td>\n",
       "    </tr>\n",
       "    <tr>\n",
       "      <th>1</th>\n",
       "      <td>India</td>\n",
       "      <td>6884</td>\n",
       "    </tr>\n",
       "    <tr>\n",
       "      <th>2</th>\n",
       "      <td>Germany</td>\n",
       "      <td>3633</td>\n",
       "    </tr>\n",
       "    <tr>\n",
       "      <th>3</th>\n",
       "      <td>United Kingdom</td>\n",
       "      <td>3616</td>\n",
       "    </tr>\n",
       "    <tr>\n",
       "      <th>4</th>\n",
       "      <td>Canada</td>\n",
       "      <td>2038</td>\n",
       "    </tr>\n",
       "    <tr>\n",
       "      <th>5</th>\n",
       "      <td>France</td>\n",
       "      <td>1724</td>\n",
       "    </tr>\n",
       "    <tr>\n",
       "      <th>6</th>\n",
       "      <td>Brazil</td>\n",
       "      <td>1611</td>\n",
       "    </tr>\n",
       "    <tr>\n",
       "      <th>7</th>\n",
       "      <td>Netherlands</td>\n",
       "      <td>1261</td>\n",
       "    </tr>\n",
       "    <tr>\n",
       "      <th>8</th>\n",
       "      <td>Poland</td>\n",
       "      <td>1163</td>\n",
       "    </tr>\n",
       "    <tr>\n",
       "      <th>9</th>\n",
       "      <td>Australia</td>\n",
       "      <td>1123</td>\n",
       "    </tr>\n",
       "    <tr>\n",
       "      <th>10</th>\n",
       "      <td>Spain</td>\n",
       "      <td>1056</td>\n",
       "    </tr>\n",
       "    <tr>\n",
       "      <th>11</th>\n",
       "      <td>Italy</td>\n",
       "      <td>1034</td>\n",
       "    </tr>\n",
       "    <tr>\n",
       "      <th>12</th>\n",
       "      <td>Russian Federation</td>\n",
       "      <td>981</td>\n",
       "    </tr>\n",
       "    <tr>\n",
       "      <th>13</th>\n",
       "      <td>Sweden</td>\n",
       "      <td>829</td>\n",
       "    </tr>\n",
       "    <tr>\n",
       "      <th>14</th>\n",
       "      <td>Pakistan</td>\n",
       "      <td>694</td>\n",
       "    </tr>\n",
       "  </tbody>\n",
       "</table>\n",
       "</div>"
      ],
      "text/plain": [
       "               country  Total Respondents\n",
       "0        United States              11633\n",
       "1                India               6884\n",
       "2              Germany               3633\n",
       "3       United Kingdom               3616\n",
       "4               Canada               2038\n",
       "5               France               1724\n",
       "6               Brazil               1611\n",
       "7          Netherlands               1261\n",
       "8               Poland               1163\n",
       "9            Australia               1123\n",
       "10               Spain               1056\n",
       "11               Italy               1034\n",
       "12  Russian Federation                981\n",
       "13              Sweden                829\n",
       "14            Pakistan                694"
      ]
     },
     "execution_count": 14,
     "metadata": {},
     "output_type": "execute_result"
    }
   ],
   "source": [
    "df.groupby('Country')['Country'].agg('count')\n",
    "df1=df.Country.value_counts().head(15)\n",
    "df1=df1.reset_index()\n",
    "df1.columns=['country','Total Respondents']\n",
    "df1=df1.sort_values(by='Total Respondents',ascending=False)\n",
    "df1"
   ]
  },
  {
   "cell_type": "code",
   "execution_count": 15,
   "id": "a9e02e72",
   "metadata": {},
   "outputs": [
    {
     "data": {
      "image/png": "[encoded data removed]",
      "text/plain": [
       "<Figure size 1080x504 with 1 Axes>"
      ]
     },
     "metadata": {
      "needs_background": "light"
     },
     "output_type": "display_data"
    }
   ],
   "source": [
    "plt.figure(figsize=(15,7))\n",
    "plt.bar(x=df1['country'],height=df1['Total Respondents'],color='maroon')\n",
    "ys=df1['Total Respondents']\n",
    "xs=df1['country']\n",
    "for xs,ys in zip(xs,ys):\n",
    "    label = \"{}\".format(ys)\n",
    "\n",
    "    plt.annotate(label, # this is the text\n",
    "                 (xs,ys), # these are the coordinates to position the label\n",
    "                 textcoords=\"offset points\", # how to position the text\n",
    "                 xytext=(0,5), # distance from text to points (x,y)\n",
    "                 ha='center', # horizontal alignment can be left, right or center\n",
    "                 fontweight='bold') \n",
    "plt.xticks(rotation='vertical',fontweight='bold',color='purple')\n",
    "plt.title('Top 15 respondents by country',fontweight='bold',fontsize=15)\n",
    "plt.xlabel('Country',fontweight='bold')\n",
    "plt.ylabel('Total Count',fontweight='bold');"
   ]
  },
  {
   "cell_type": "markdown",
   "id": "139c4989",
   "metadata": {},
   "source": [
    "# most popular languages among respondents"
   ]
  },
  {
   "cell_type": "code",
   "execution_count": 17,
   "id": "07215d45",
   "metadata": {},
   "outputs": [
    {
     "data": {
      "text/plain": [
       "0                                   C#;HTML/CSS;JavaScript\n",
       "1                                         JavaScript;Swift\n",
       "2                                 Objective-C;Python;Swift\n",
       "4                                        HTML/CSS;Ruby;SQL\n",
       "5                                 HTML/CSS;Java;JavaScript\n",
       "                               ...                        \n",
       "64447                    C#;HTML/CSS;Java;JavaScript;Swift\n",
       "64453                                         C++;HTML/CSS\n",
       "64457    Assembly;Bash/Shell/PowerShell;C;C#;C++;Dart;G...\n",
       "64459                                             HTML/CSS\n",
       "64460                      C#;HTML/CSS;Java;JavaScript;SQL\n",
       "Name: LanguageWorkedWith, Length: 57378, dtype: object"
      ]
     },
     "execution_count": 17,
     "metadata": {},
     "output_type": "execute_result"
    }
   ],
   "source": [
    "#lets see language worked with columns\n",
    "#I will split this column by ; so that i can extract each language individually,which i will add\n",
    "df.LanguageWorkedWith"
   ]
  },
  {
   "cell_type": "code",
   "execution_count": 47,
   "id": "35b03e9f",
   "metadata": {},
   "outputs": [
    {
     "data": {
      "text/plain": [
       "{'C#': 18041,\n",
       " 'HTML/CSS': 36181,\n",
       " 'JavaScript': 38822,\n",
       " 'Swift': 3397,\n",
       " 'Objective-C': 2340,\n",
       " 'Python': 25287,\n",
       " 'Ruby': 4046,\n",
       " 'SQL': 31413,\n",
       " 'Java': 23074,\n",
       " 'PHP': 15007,\n",
       " 'C': 12487,\n",
       " 'TypeScript': 14578,\n",
       " 'Bash/Shell/PowerShell': 18980,\n",
       " 'Kotlin': 4468,\n",
       " 'R': 3288,\n",
       " 'VBA': 3499,\n",
       " 'Perl': 1796,\n",
       " 'Scala': 2052,\n",
       " 'C++': 13707,\n",
       " 'Go': 5038,\n",
       " 'Haskell': 1222,\n",
       " 'Rust': 2929,\n",
       " 'Dart': 2280,\n",
       " 'Julia': 519,\n",
       " 'Assembly': 3553}"
      ]
     },
     "execution_count": 47,
     "metadata": {},
     "output_type": "execute_result"
    }
   ],
   "source": [
    "#filter\n",
    "mask=df.LanguageWorkedWith.notnull()\n",
    "#initialising empty dictionary\n",
    "d=dict()\n",
    "#splitting  string by (;)\n",
    "for item in df.loc[mask,'LanguageWorkedWith'].str.split(';'):\n",
    "    for each_item in item:\n",
    "        if each_item in d:\n",
    "            d[each_item]+=1\n",
    "        else:\n",
    "            d[each_item]=1\n",
    "d\n",
    "   "
   ]
  },
  {
   "cell_type": "code",
   "execution_count": 59,
   "id": "8adc03a9",
   "metadata": {},
   "outputs": [
    {
     "data": {
      "text/plain": [
       "{'JavaScript': 60.23,\n",
       " 'HTML/CSS': 56.13,\n",
       " 'SQL': 48.73,\n",
       " 'Python': 39.23,\n",
       " 'Java': 35.8,\n",
       " 'Bash/Shell/PowerShell': 29.44,\n",
       " 'C#': 27.99,\n",
       " 'PHP': 23.28,\n",
       " 'TypeScript': 22.62,\n",
       " 'C++': 21.26,\n",
       " 'C': 19.37,\n",
       " 'Go': 7.82,\n",
       " 'Kotlin': 6.93,\n",
       " 'Ruby': 6.28,\n",
       " 'Assembly': 5.51,\n",
       " 'VBA': 5.43,\n",
       " 'Swift': 5.27,\n",
       " 'R': 5.1,\n",
       " 'Rust': 4.54,\n",
       " 'Objective-C': 3.63,\n",
       " 'Dart': 3.54,\n",
       " 'Scala': 3.18,\n",
       " 'Perl': 2.79,\n",
       " 'Haskell': 1.9,\n",
       " 'Julia': 0.81}"
      ]
     },
     "execution_count": 59,
     "metadata": {},
     "output_type": "execute_result"
    }
   ],
   "source": [
    "#changig above dictionary into percentage( in descending order) \n",
    "final={k:round((v/df.shape[0])*100,2) for k, v in sorted(d.items(), key=lambda item: item[1],reverse=True)}\n",
    "final"
   ]
  },
  {
   "cell_type": "code",
   "execution_count": 68,
   "id": "75555f57",
   "metadata": {},
   "outputs": [
    {
     "data": {
      "text/html": [
       "<div>\n",
       "<style scoped>\n",
       "    .dataframe tbody tr th:only-of-type {\n",
       "        vertical-align: middle;\n",
       "    }\n",
       "\n",
       "    .dataframe tbody tr th {\n",
       "        vertical-align: top;\n",
       "    }\n",
       "\n",
       "    .dataframe thead th {\n",
       "        text-align: right;\n",
       "    }\n",
       "</style>\n",
       "<table border=\"1\" class=\"dataframe\">\n",
       "  <thead>\n",
       "    <tr style=\"text-align: right;\">\n",
       "      <th></th>\n",
       "      <th>Language</th>\n",
       "      <th>% People</th>\n",
       "    </tr>\n",
       "  </thead>\n",
       "  <tbody>\n",
       "    <tr>\n",
       "      <th>0</th>\n",
       "      <td>Julia</td>\n",
       "      <td>0.81</td>\n",
       "    </tr>\n",
       "    <tr>\n",
       "      <th>1</th>\n",
       "      <td>Haskell</td>\n",
       "      <td>1.90</td>\n",
       "    </tr>\n",
       "    <tr>\n",
       "      <th>2</th>\n",
       "      <td>Perl</td>\n",
       "      <td>2.79</td>\n",
       "    </tr>\n",
       "    <tr>\n",
       "      <th>3</th>\n",
       "      <td>Scala</td>\n",
       "      <td>3.18</td>\n",
       "    </tr>\n",
       "    <tr>\n",
       "      <th>4</th>\n",
       "      <td>Dart</td>\n",
       "      <td>3.54</td>\n",
       "    </tr>\n",
       "    <tr>\n",
       "      <th>5</th>\n",
       "      <td>Objective-C</td>\n",
       "      <td>3.63</td>\n",
       "    </tr>\n",
       "    <tr>\n",
       "      <th>6</th>\n",
       "      <td>Rust</td>\n",
       "      <td>4.54</td>\n",
       "    </tr>\n",
       "    <tr>\n",
       "      <th>7</th>\n",
       "      <td>R</td>\n",
       "      <td>5.10</td>\n",
       "    </tr>\n",
       "    <tr>\n",
       "      <th>8</th>\n",
       "      <td>Swift</td>\n",
       "      <td>5.27</td>\n",
       "    </tr>\n",
       "    <tr>\n",
       "      <th>9</th>\n",
       "      <td>VBA</td>\n",
       "      <td>5.43</td>\n",
       "    </tr>\n",
       "    <tr>\n",
       "      <th>10</th>\n",
       "      <td>Assembly</td>\n",
       "      <td>5.51</td>\n",
       "    </tr>\n",
       "    <tr>\n",
       "      <th>11</th>\n",
       "      <td>Ruby</td>\n",
       "      <td>6.28</td>\n",
       "    </tr>\n",
       "    <tr>\n",
       "      <th>12</th>\n",
       "      <td>Kotlin</td>\n",
       "      <td>6.93</td>\n",
       "    </tr>\n",
       "    <tr>\n",
       "      <th>13</th>\n",
       "      <td>Go</td>\n",
       "      <td>7.82</td>\n",
       "    </tr>\n",
       "    <tr>\n",
       "      <th>14</th>\n",
       "      <td>C</td>\n",
       "      <td>19.37</td>\n",
       "    </tr>\n",
       "    <tr>\n",
       "      <th>15</th>\n",
       "      <td>C++</td>\n",
       "      <td>21.26</td>\n",
       "    </tr>\n",
       "    <tr>\n",
       "      <th>16</th>\n",
       "      <td>TypeScript</td>\n",
       "      <td>22.62</td>\n",
       "    </tr>\n",
       "    <tr>\n",
       "      <th>17</th>\n",
       "      <td>PHP</td>\n",
       "      <td>23.28</td>\n",
       "    </tr>\n",
       "    <tr>\n",
       "      <th>18</th>\n",
       "      <td>C#</td>\n",
       "      <td>27.99</td>\n",
       "    </tr>\n",
       "    <tr>\n",
       "      <th>19</th>\n",
       "      <td>Bash/Shell/PowerShell</td>\n",
       "      <td>29.44</td>\n",
       "    </tr>\n",
       "    <tr>\n",
       "      <th>20</th>\n",
       "      <td>Java</td>\n",
       "      <td>35.80</td>\n",
       "    </tr>\n",
       "    <tr>\n",
       "      <th>21</th>\n",
       "      <td>Python</td>\n",
       "      <td>39.23</td>\n",
       "    </tr>\n",
       "    <tr>\n",
       "      <th>22</th>\n",
       "      <td>SQL</td>\n",
       "      <td>48.73</td>\n",
       "    </tr>\n",
       "    <tr>\n",
       "      <th>23</th>\n",
       "      <td>HTML/CSS</td>\n",
       "      <td>56.13</td>\n",
       "    </tr>\n",
       "    <tr>\n",
       "      <th>24</th>\n",
       "      <td>JavaScript</td>\n",
       "      <td>60.23</td>\n",
       "    </tr>\n",
       "  </tbody>\n",
       "</table>\n",
       "</div>"
      ],
      "text/plain": [
       "                 Language  % People\n",
       "0                   Julia      0.81\n",
       "1                 Haskell      1.90\n",
       "2                    Perl      2.79\n",
       "3                   Scala      3.18\n",
       "4                    Dart      3.54\n",
       "5             Objective-C      3.63\n",
       "6                    Rust      4.54\n",
       "7                       R      5.10\n",
       "8                   Swift      5.27\n",
       "9                     VBA      5.43\n",
       "10               Assembly      5.51\n",
       "11                   Ruby      6.28\n",
       "12                 Kotlin      6.93\n",
       "13                     Go      7.82\n",
       "14                      C     19.37\n",
       "15                    C++     21.26\n",
       "16             TypeScript     22.62\n",
       "17                    PHP     23.28\n",
       "18                     C#     27.99\n",
       "19  Bash/Shell/PowerShell     29.44\n",
       "20                   Java     35.80\n",
       "21                 Python     39.23\n",
       "22                    SQL     48.73\n",
       "23               HTML/CSS     56.13\n",
       "24             JavaScript     60.23"
      ]
     },
     "execution_count": 68,
     "metadata": {},
     "output_type": "execute_result"
    }
   ],
   "source": [
    "#changing dictionary to dataframe\n",
    "df=pd.DataFrame(list(final.items()))\n",
    "df.columns=['Language','% People']\n",
    "df=df.sort_values(by='% People',ignore_index=True)\n",
    "df\n"
   ]
  },
  {
   "cell_type": "code",
   "execution_count": 69,
   "id": "ba45007a",
   "metadata": {},
   "outputs": [
    {
     "data": {
      "image/png": "[encoded data removed]",
      "text/plain": [
       "<Figure size 1080x720 with 1 Axes>"
      ]
     },
     "metadata": {
      "needs_background": "light"
     },
     "output_type": "display_data"
    }
   ],
   "source": [
    "plt.figure(figsize=(15,10))\n",
    "x=df['% People']\n",
    "y=df['Language']\n",
    "for i in range(len(y)):\n",
    "        plt.text(x[i]//2, y[i],x[i], ha = 'center',fontweight='bold',color='white')\n",
    "plt.barh(y,x, color = 'purple',alpha=0.7)\n",
    "plt.title('% of language know according to respondent,Stack overflow survey 2020',fontweight='bold',fontsize=15)\n",
    "plt.ylabel('Languages',fontweight='bold')\n",
    "plt.xlabel('Percentage(%) of languages know',fontweight='bold')\n",
    "plt.yticks(fontweight='bold',color='maroon');\n",
    "    "
   ]
  },
  {
   "cell_type": "markdown",
   "id": "3ac0d00a",
   "metadata": {},
   "source": [
    "# Handling Nan value in numeric columns"
   ]
  },
  {
   "cell_type": "code",
   "execution_count": 9,
   "id": "02241074",
   "metadata": {},
   "outputs": [
    {
     "data": {
      "image/png": "[encoded data removed]",
      "text/plain": [
       "<Figure size 432x288 with 1 Axes>"
      ]
     },
     "metadata": {
      "needs_background": "light"
     },
     "output_type": "display_data"
    }
   ],
   "source": [
    "# distribution plot which is right skewed\n",
    "import seaborn as sns\n",
    "sns.distplot(df.Age);"
   ]
  },
  {
   "cell_type": "code",
   "execution_count": 158,
   "id": "11853f2d",
   "metadata": {},
   "outputs": [
    {
     "data": {
      "text/plain": [
       "1.6271347447357685"
      ]
     },
     "execution_count": 158,
     "metadata": {},
     "output_type": "execute_result"
    }
   ],
   "source": [
    "#positive skew\n",
    "df.Age.skew()"
   ]
  },
  {
   "cell_type": "code",
   "execution_count": 136,
   "id": "a161b074",
   "metadata": {},
   "outputs": [],
   "source": [
    "#making filter\n",
    "mask1=df.Age>60\n"
   ]
  },
  {
   "cell_type": "code",
   "execution_count": 142,
   "id": "86e7a071",
   "metadata": {},
   "outputs": [
    {
     "data": {
      "text/plain": [
       "19015"
      ]
     },
     "execution_count": 142,
     "metadata": {},
     "output_type": "execute_result"
    }
   ],
   "source": [
    "#checking for Nan value in Age columns\n",
    "df.Age.isna().sum()"
   ]
  },
  {
   "cell_type": "code",
   "execution_count": 147,
   "id": "368adfd5",
   "metadata": {},
   "outputs": [
    {
     "data": {
      "text/plain": [
       "518"
      ]
     },
     "execution_count": 147,
     "metadata": {},
     "output_type": "execute_result"
    }
   ],
   "source": [
    "#numnber of the rows which has  age greater  than 60. \n",
    "(df.Age>60).sum()"
   ]
  },
  {
   "cell_type": "code",
   "execution_count": 268,
   "id": "8e0c46ab",
   "metadata": {},
   "outputs": [
    {
     "data": {
      "text/plain": [
       "219"
      ]
     },
     "execution_count": 268,
     "metadata": {},
     "output_type": "execute_result"
    }
   ],
   "source": [
    "\n",
    "#number of the rows which has  age less  than 15. \n",
    "(df.Age<15).sum()"
   ]
  },
  {
   "cell_type": "code",
   "execution_count": null,
   "id": "0495c1a5",
   "metadata": {},
   "outputs": [],
   "source": [
    "For this analysis,I will remove any age greater than 60 and less than 15."
   ]
  },
  {
   "cell_type": "code",
   "execution_count": 256,
   "id": "e6e89136",
   "metadata": {},
   "outputs": [
    {
     "data": {
      "text/plain": [
       "(25, 30]    30785\n",
       "(20, 25]    10700\n",
       "(30, 35]     7887\n",
       "(35, 40]     5054\n",
       "(40, 50]     4192\n",
       "(15, 20]     3415\n",
       "(50, 60]     1460\n",
       "Name: Age, dtype: int64"
      ]
     },
     "execution_count": 256,
     "metadata": {},
     "output_type": "execute_result"
    }
   ],
   "source": [
    "#filter\n",
    "mask=(df.Age>60) | (df.Age<15) #filter\n",
    "df1=df.loc[~mask,'Age'] #negate filter\n",
    "#filling nan value with median as it is least affected\n",
    "df1=df1.fillna(df1.median())\n",
    "#making bins of age range\n",
    "df1['bins']=pd.cut(df1,bins=[15,20,25,30,35,40,50,60],right=True)\n",
    "df1=df1.bins.value_counts()\n",
    "df1"
   ]
  },
  {
   "cell_type": "code",
   "execution_count": 257,
   "id": "2e90d36a",
   "metadata": {},
   "outputs": [
    {
     "data": {
      "text/html": [
       "<div>\n",
       "<style scoped>\n",
       "    .dataframe tbody tr th:only-of-type {\n",
       "        vertical-align: middle;\n",
       "    }\n",
       "\n",
       "    .dataframe tbody tr th {\n",
       "        vertical-align: top;\n",
       "    }\n",
       "\n",
       "    .dataframe thead th {\n",
       "        text-align: right;\n",
       "    }\n",
       "</style>\n",
       "<table border=\"1\" class=\"dataframe\">\n",
       "  <thead>\n",
       "    <tr style=\"text-align: right;\">\n",
       "      <th></th>\n",
       "      <th>Age_range</th>\n",
       "      <th>Count</th>\n",
       "    </tr>\n",
       "  </thead>\n",
       "  <tbody>\n",
       "    <tr>\n",
       "      <th>0</th>\n",
       "      <td>(25, 30]</td>\n",
       "      <td>30785</td>\n",
       "    </tr>\n",
       "    <tr>\n",
       "      <th>1</th>\n",
       "      <td>(20, 25]</td>\n",
       "      <td>10700</td>\n",
       "    </tr>\n",
       "    <tr>\n",
       "      <th>2</th>\n",
       "      <td>(30, 35]</td>\n",
       "      <td>7887</td>\n",
       "    </tr>\n",
       "    <tr>\n",
       "      <th>3</th>\n",
       "      <td>(35, 40]</td>\n",
       "      <td>5054</td>\n",
       "    </tr>\n",
       "    <tr>\n",
       "      <th>4</th>\n",
       "      <td>(40, 50]</td>\n",
       "      <td>4192</td>\n",
       "    </tr>\n",
       "    <tr>\n",
       "      <th>5</th>\n",
       "      <td>(15, 20]</td>\n",
       "      <td>3415</td>\n",
       "    </tr>\n",
       "    <tr>\n",
       "      <th>6</th>\n",
       "      <td>(50, 60]</td>\n",
       "      <td>1460</td>\n",
       "    </tr>\n",
       "  </tbody>\n",
       "</table>\n",
       "</div>"
      ],
      "text/plain": [
       "  Age_range  Count\n",
       "0  (25, 30]  30785\n",
       "1  (20, 25]  10700\n",
       "2  (30, 35]   7887\n",
       "3  (35, 40]   5054\n",
       "4  (40, 50]   4192\n",
       "5  (15, 20]   3415\n",
       "6  (50, 60]   1460"
      ]
     },
     "execution_count": 257,
     "metadata": {},
     "output_type": "execute_result"
    }
   ],
   "source": [
    "df1=df1.reset_index()\n",
    "df1.columns=['Age_range','Count']\n",
    "df1"
   ]
  },
  {
   "cell_type": "code",
   "execution_count": 265,
   "id": "4e986c1f",
   "metadata": {},
   "outputs": [
    {
     "data": {
      "image/png": "[encoded data removed]",
      "text/plain": [
       "<Figure size 720x360 with 1 Axes>"
      ]
     },
     "metadata": {
      "needs_background": "light"
     },
     "output_type": "display_data"
    }
   ],
   "source": [
    "ax=df1.plot(x='Age_range',kind='bar',alpha=0.5,figsize=(10,5),color='maroon')\n",
    "plt.xlabel(' Age Range',fontweight='bold')\n",
    "plt.title(' varation of age in bins\\n who take part in survey 2020',fontweight='bold',fontsize=15)\n",
    "for p in ax.patches:\n",
    "    ax.annotate(str(p.get_height()), (p.get_x()+.05 * 1.005, p.get_height()* 1.005),fontweight='bold')\n",
    "\n",
    "plt.xticks(color='purple',fontweight='bold')\n",
    "plt.ylabel(' Count',fontweight='bold');"
   ]
  },
  {
   "cell_type": "code",
   "execution_count": null,
   "id": "b81bbd1b",
   "metadata": {},
   "outputs": [],
   "source": [
    "So,most of the respondents where age between 25-30 in survey"
   ]
  },
  {
   "cell_type": "markdown",
   "id": "b4367ddc",
   "metadata": {},
   "source": [
    "# Education level,who know python"
   ]
  },
  {
   "cell_type": "code",
   "execution_count": 282,
   "id": "ba0ff163",
   "metadata": {},
   "outputs": [
    {
     "data": {
      "text/html": [
       "<div>\n",
       "<style scoped>\n",
       "    .dataframe tbody tr th:only-of-type {\n",
       "        vertical-align: middle;\n",
       "    }\n",
       "\n",
       "    .dataframe tbody tr th {\n",
       "        vertical-align: top;\n",
       "    }\n",
       "\n",
       "    .dataframe thead th {\n",
       "        text-align: right;\n",
       "    }\n",
       "</style>\n",
       "<table border=\"1\" class=\"dataframe\">\n",
       "  <thead>\n",
       "    <tr style=\"text-align: right;\">\n",
       "      <th></th>\n",
       "      <th>Education level</th>\n",
       "      <th>Total_count</th>\n",
       "    </tr>\n",
       "  </thead>\n",
       "  <tbody>\n",
       "    <tr>\n",
       "      <th>0</th>\n",
       "      <td>Bachelor’s degree (B.A., B.S., B.Eng., etc.)</td>\n",
       "      <td>10318</td>\n",
       "    </tr>\n",
       "    <tr>\n",
       "      <th>1</th>\n",
       "      <td>Master’s degree (M.A., M.S., M.Eng., MBA, etc.)</td>\n",
       "      <td>5705</td>\n",
       "    </tr>\n",
       "    <tr>\n",
       "      <th>2</th>\n",
       "      <td>Some college/university study without earning ...</td>\n",
       "      <td>2898</td>\n",
       "    </tr>\n",
       "    <tr>\n",
       "      <th>3</th>\n",
       "      <td>Secondary school (e.g. American high school, G...</td>\n",
       "      <td>2271</td>\n",
       "    </tr>\n",
       "    <tr>\n",
       "      <th>4</th>\n",
       "      <td>Other doctoral degree (Ph.D., Ed.D., etc.)</td>\n",
       "      <td>1049</td>\n",
       "    </tr>\n",
       "    <tr>\n",
       "      <th>5</th>\n",
       "      <td>Associate degree (A.A., A.S., etc.)</td>\n",
       "      <td>615</td>\n",
       "    </tr>\n",
       "    <tr>\n",
       "      <th>6</th>\n",
       "      <td>Primary/elementary school</td>\n",
       "      <td>484</td>\n",
       "    </tr>\n",
       "    <tr>\n",
       "      <th>7</th>\n",
       "      <td>Professional degree (JD, MD, etc.)</td>\n",
       "      <td>254</td>\n",
       "    </tr>\n",
       "    <tr>\n",
       "      <th>8</th>\n",
       "      <td>I never completed any formal education</td>\n",
       "      <td>144</td>\n",
       "    </tr>\n",
       "  </tbody>\n",
       "</table>\n",
       "</div>"
      ],
      "text/plain": [
       "                                     Education level  Total_count\n",
       "0       Bachelor’s degree (B.A., B.S., B.Eng., etc.)        10318\n",
       "1    Master’s degree (M.A., M.S., M.Eng., MBA, etc.)         5705\n",
       "2  Some college/university study without earning ...         2898\n",
       "3  Secondary school (e.g. American high school, G...         2271\n",
       "4         Other doctoral degree (Ph.D., Ed.D., etc.)         1049\n",
       "5                Associate degree (A.A., A.S., etc.)          615\n",
       "6                          Primary/elementary school          484\n",
       "7                 Professional degree (JD, MD, etc.)          254\n",
       "8             I never completed any formal education          144"
      ]
     },
     "execution_count": 282,
     "metadata": {},
     "output_type": "execute_result"
    }
   ],
   "source": [
    "mask=df.EdLevel.notnull()\n",
    "df=df[mask]\n",
    "mask1=df.LanguageWorkedWith.str.contains('Python')\n",
    "df1=df.loc[mask1,'EdLevel']\n",
    "df1=df1.value_counts()\n",
    "df1=df1.reset_index()\n",
    "df1.columns=['Education level','Total_count']\n",
    "df1"
   ]
  },
  {
   "cell_type": "code",
   "execution_count": 295,
   "id": "63958b28",
   "metadata": {},
   "outputs": [
    {
     "data": {
      "image/png": "[encoded data removed]",
      "text/plain": [
       "<Figure size 1080x504 with 1 Axes>"
      ]
     },
     "metadata": {
      "needs_background": "light"
     },
     "output_type": "display_data"
    }
   ],
   "source": [
    "plt.figure(figsize=(15,7))\n",
    "\n",
    "# using some dummy data for this example\n",
    "xs=df1['Education level']\n",
    "ys=df1.Total_count\n",
    "\n",
    "plt.bar(xs,ys,color='maroon',alpha=.6,edgecolor='black')\n",
    "\n",
    "# zip joins x and y coordinates in pairs\n",
    "for x,y in zip(xs,ys):\n",
    "\n",
    "    label = \"{:.2f}\".format(y)\n",
    "\n",
    "    plt.annotate(label, # this is the text\n",
    "                 (x,y), # these are the coordinates to position the label\n",
    "                 textcoords=\"offset points\", # how to position the text\n",
    "                 xytext=(0,5), # distance from text to points (x,y)\n",
    "                 ha='center', # horizontal alignment can be left, right or center\n",
    "                 fontweight='bold') \n",
    "plt.xticks(rotation='vertical',fontweight='bold')\n",
    "plt.xlabel('Education level',fontweight='bold',fontsize=14)\n",
    "plt.title('Education level of respondent who know python',fontsize=15,fontweight='bold')\n",
    "plt.ylabel('Count',fontweight='bold');"
   ]
  },
  {
   "cell_type": "code",
   "execution_count": null,
   "id": "e1bbaf8b",
   "metadata": {},
   "outputs": [],
   "source": [
    "So,most of the respondent were bachlore pass"
   ]
  }
 ],
 "metadata": {
  "kernelspec": {
   "display_name": "Python 3",
   "language": "python",
   "name": "python3"
  },
  "language_info": {
   "codemirror_mode": {
    "name": "ipython",
    "version": 3
   },
   "file_extension": ".py",
   "mimetype": "text/x-python",
   "name": "python",
   "nbconvert_exporter": "python",
   "pygments_lexer": "ipython3",
   "version": "3.8.8"
  }
 },
 "nbformat": 4,
 "nbformat_minor": 5
}
